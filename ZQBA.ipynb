{
  "cells": [
    {
      "cell_type": "markdown",
      "source": [
        "# Clone UAP"
      ],
      "metadata": {
        "id": "d60p-uUpM4zw"
      }
    },
    {
      "cell_type": "code",
      "execution_count": null,
      "metadata": {
        "colab": {
          "base_uri": "https://localhost:8080/"
        },
        "id": "OACneYuzQtqk",
        "outputId": "227498c9-936a-44e3-e462-13ac5e9d0425"
      },
      "outputs": [
        {
          "output_type": "stream",
          "name": "stdout",
          "text": [
            "Cloning into 'UAP_retrieval'...\n",
            "remote: Enumerating objects: 72, done.\u001b[K\n",
            "remote: Counting objects: 100% (3/3), done.\u001b[K\n",
            "remote: Compressing objects: 100% (3/3), done.\u001b[K\n",
            "remote: Total 72 (delta 0), reused 0 (delta 0), pack-reused 69\u001b[K\n",
            "Unpacking objects: 100% (72/72), done.\n"
          ]
        }
      ],
      "source": [
        "!git clone https://github.com/theFool32/UAP_retrieval.git"
      ]
    },
    {
      "cell_type": "code",
      "execution_count": null,
      "metadata": {
        "colab": {
          "base_uri": "https://localhost:8080/"
        },
        "id": "WrbvjSYYQ5PC",
        "outputId": "f570500d-d825-4bf4-a8f1-d9863ae5a8b8"
      },
      "outputs": [
        {
          "output_type": "stream",
          "name": "stdout",
          "text": [
            "/content/UAP_retrieval\n"
          ]
        }
      ],
      "source": [
        "%cd /content/UAP_retrieval"
      ]
    },
    {
      "cell_type": "markdown",
      "source": [
        "# Download Oxford5k or Paris6k Images"
      ],
      "metadata": {
        "id": "eNNj_akhMzVP"
      }
    },
    {
      "cell_type": "code",
      "execution_count": null,
      "metadata": {
        "colab": {
          "base_uri": "https://localhost:8080/"
        },
        "id": "DlSI049iQ8po",
        "outputId": "894e524f-faac-42c6-da64-4b3a7b4d473a"
      },
      "outputs": [
        {
          "output_type": "stream",
          "name": "stdout",
          "text": [
            "/content\n",
            "--2022-07-29 23:33:56--  https://www.robots.ox.ac.uk/~vgg/data/oxbuildings/oxbuild_images-v1.tgz\n",
            "Resolving www.robots.ox.ac.uk (www.robots.ox.ac.uk)... 129.67.94.2\n",
            "Connecting to www.robots.ox.ac.uk (www.robots.ox.ac.uk)|129.67.94.2|:443... connected.\n",
            "HTTP request sent, awaiting response... 200 OK\n",
            "Length: 1938238004 (1.8G) [application/x-gzip]\n",
            "Saving to: ‘oxbuild_images-v1.tgz’\n",
            "\n",
            "oxbuild_images-v1.t 100%[===================>]   1.80G  20.8MB/s    in 87s     \n",
            "\n",
            "2022-07-29 23:35:23 (21.2 MB/s) - ‘oxbuild_images-v1.tgz’ saved [1938238004/1938238004]\n",
            "\n"
          ]
        }
      ],
      "source": [
        "%cd /content\n",
        "!wget https://www.robots.ox.ac.uk/~vgg/data/oxbuildings/oxbuild_images-v1.tgz\n",
        "# !wget https://www.robots.ox.ac.uk/~vgg/data/parisbuildings/paris_1-v1.tgz\n",
        "# !wget https://www.robots.ox.ac.uk/~vgg/data/parisbuildings/paris_2-v1.tgz"
      ]
    },
    {
      "cell_type": "code",
      "execution_count": null,
      "metadata": {
        "id": "vq52WeQcRBSz"
      },
      "outputs": [],
      "source": [
        "!mkdir /content/UAP_retrieval/cirtorch/data"
      ]
    },
    {
      "cell_type": "code",
      "execution_count": null,
      "metadata": {
        "colab": {
          "base_uri": "https://localhost:8080/"
        },
        "id": "i1rkz2ZJRWSk",
        "outputId": "0228818d-1d39-481d-bc27-52ed02dc0066"
      },
      "outputs": [
        {
          "output_type": "stream",
          "name": "stdout",
          "text": [
            "/content/UAP_retrieval\n"
          ]
        }
      ],
      "source": [
        "%cd UAP_retrieval/"
      ]
    },
    {
      "cell_type": "markdown",
      "source": [
        "# Mount Google Drive\n"
      ],
      "metadata": {
        "id": "l9ZmzeDiM-d8"
      }
    },
    {
      "cell_type": "code",
      "execution_count": null,
      "metadata": {
        "colab": {
          "base_uri": "https://localhost:8080/"
        },
        "id": "3K0WwqwdRYv7",
        "outputId": "4d8ac583-f8e7-4e37-c91d-0b27ab5c80c8"
      },
      "outputs": [
        {
          "output_type": "stream",
          "name": "stdout",
          "text": [
            "Mounted at /content/drive\n"
          ]
        }
      ],
      "source": [
        "from google.colab import drive\n",
        "drive.mount('/content/drive')"
      ]
    },
    {
      "cell_type": "code",
      "execution_count": null,
      "metadata": {
        "colab": {
          "base_uri": "https://localhost:8080/"
        },
        "id": "80GL5ZP_RbC2",
        "outputId": "083deeaa-43b5-4014-cb4b-4edb4c5fa86d"
      },
      "outputs": [
        {
          "output_type": "stream",
          "name": "stdout",
          "text": [
            "Archive:  /content/models.zip\n",
            "  inflating: models/retrievalSfM120k-alexnet-gem.pth  \n",
            "  inflating: models/retrievalSfM120k-alexnet-mac.pth  \n",
            "  inflating: models/retrievalSfM120k-resnet101-gem.pth  \n",
            "  inflating: models/retrievalSfM120k-resnet101-mac.pth  \n",
            "  inflating: models/retrievalSfM120k-vgg16-gem.pth  \n",
            "  inflating: models/retrievalSfM120k-vgg16-mac.pth  \n"
          ]
        }
      ],
      "source": [
        "!cp /content/drive/MyDrive/models.zip /content/models.zip\n",
        "!unzip /content/models.zip"
      ]
    },
    {
      "cell_type": "markdown",
      "source": [
        "# Download Ground Truth Files"
      ],
      "metadata": {
        "id": "ms6-RODxNC3t"
      }
    },
    {
      "cell_type": "code",
      "execution_count": null,
      "metadata": {
        "colab": {
          "base_uri": "https://localhost:8080/"
        },
        "id": "_BYNRDcIRdSz",
        "outputId": "74bd97b6-dabe-4a41-9560-c763c7626963"
      },
      "outputs": [
        {
          "output_type": "stream",
          "name": "stdout",
          "text": [
            "/content/UAP_retrieval\n",
            "--2022-07-29 23:36:21--  http://cmp.felk.cvut.cz/cnnimageretrieval/data/test/oxford5k/gnd_oxford5k.pkl\n",
            "Resolving cmp.felk.cvut.cz (cmp.felk.cvut.cz)... 147.32.84.2\n",
            "Connecting to cmp.felk.cvut.cz (cmp.felk.cvut.cz)|147.32.84.2|:80... connected.\n",
            "HTTP request sent, awaiting response... 200 OK\n",
            "Length: 141140 (138K)\n",
            "Saving to: ‘gnd_oxford5k.pkl’\n",
            "\n",
            "gnd_oxford5k.pkl    100%[===================>] 137.83K   305KB/s    in 0.5s    \n",
            "\n",
            "2022-07-29 23:36:22 (305 KB/s) - ‘gnd_oxford5k.pkl’ saved [141140/141140]\n",
            "\n"
          ]
        }
      ],
      "source": [
        "%cd /content/UAP_retrieval/\n",
        "!wget http://cmp.felk.cvut.cz/cnnimageretrieval/data/test/oxford5k/gnd_oxford5k.pkl \n",
        "# !wget http://cmp.felk.cvut.cz/cnnimageretrieval/data/test/paris6k/gnd_paris6k.pkl "
      ]
    },
    {
      "cell_type": "markdown",
      "source": [
        "# Some Set-Up for Images"
      ],
      "metadata": {
        "id": "5vHmSXv2NHln"
      }
    },
    {
      "cell_type": "code",
      "execution_count": null,
      "metadata": {
        "id": "rggHw66tR-rd"
      },
      "outputs": [],
      "source": [
        "!mkdir /content/UAP_retrieval/data\n",
        "!mkdir /content/UAP_retrieval/data/test/\n",
        "!mkdir /content/UAP_retrieval/data/test/oxford5k/\n",
        "# !mkdir /content/UAP_retrieval/data/test/paris6k/\n",
        "!cp /content/UAP_retrieval/gnd_oxford5k.pkl /content/UAP_retrieval/data/test/oxford5k/gnd_oxford5k.pkl\n",
        "# !cp /content/UAP_retrieval/gnd_paris6k.pkl /content/UAP_retrieval/data/test/oxford5k/gnd_paris6k.pkl"
      ]
    },
    {
      "cell_type": "code",
      "execution_count": null,
      "metadata": {
        "id": "IE8JA9NBSBYe"
      },
      "outputs": [],
      "source": [
        "!mkdir /content/UAP_retrieval/data/test/oxford5k/jpg\n",
        "# !mkdir /content/UAP_retrieval/data/test/paris6k/jpg"
      ]
    },
    {
      "cell_type": "code",
      "execution_count": null,
      "metadata": {
        "colab": {
          "base_uri": "https://localhost:8080/"
        },
        "id": "O99l1O0YSECh",
        "outputId": "f38040fe-82ed-4bef-be15-92a49596800c"
      },
      "outputs": [
        {
          "output_type": "stream",
          "name": "stdout",
          "text": [
            "/content/UAP_retrieval/data/test/oxford5k/jpg\n"
          ]
        }
      ],
      "source": [
        "%cd /content/UAP_retrieval/data/test/oxford5k/jpg\n",
        "# %cd /content/UAP_retrieval/data/test/paris6k/jpg"
      ]
    },
    {
      "cell_type": "code",
      "execution_count": null,
      "metadata": {
        "id": "hIV3KkRSSGok"
      },
      "outputs": [],
      "source": [
        "!tar -xf /content/oxbuild_images-v1.tgz\n",
        "# !tar -xf /content/paris_1-v1.tgz\n",
        "# !tar -xf /content/paris_2-v1.tgz"
      ]
    },
    {
      "cell_type": "code",
      "execution_count": null,
      "metadata": {
        "colab": {
          "base_uri": "https://localhost:8080/"
        },
        "id": "S0nw8B0xSMw6",
        "outputId": "83d61034-502e-496e-cf8c-634d7c2f790f"
      },
      "outputs": [
        {
          "output_type": "stream",
          "name": "stdout",
          "text": [
            "/content/UAP_retrieval\n"
          ]
        }
      ],
      "source": [
        "%cd /content/UAP_retrieval/"
      ]
    },
    {
      "cell_type": "markdown",
      "source": [
        "# For Computing mAP and Success Rate"
      ],
      "metadata": {
        "id": "FEASnOMKNMRC"
      }
    },
    {
      "cell_type": "code",
      "execution_count": null,
      "metadata": {
        "id": "aAjJY5QjRgkq"
      },
      "outputs": [],
      "source": [
        "def compute_ap(ranks, nres):\n",
        "    \"\"\"\n",
        "    Computes average precision for given ranked indexes.\n",
        "    \n",
        "    Arguments\n",
        "    ---------\n",
        "    ranks : zerro-based ranks of positive images\n",
        "    nres  : number of positive images\n",
        "    \n",
        "    Returns\n",
        "    -------\n",
        "    ap    : average precision\n",
        "    \"\"\"\n",
        "\n",
        "    # number of images ranked by the system\n",
        "    nimgranks = len(ranks)\n",
        "\n",
        "    # accumulate trapezoids in PR-plot\n",
        "    ap = 0\n",
        "\n",
        "    recall_step = 1. / nres\n",
        "\n",
        "    for j in np.arange(nimgranks):\n",
        "        rank = ranks[j]\n",
        "\n",
        "        if rank == 0:\n",
        "            precision_0 = 1.\n",
        "        else:\n",
        "            precision_0 = float(j) / rank\n",
        "\n",
        "        precision_1 = float(j + 1) / (rank + 1)\n",
        "\n",
        "        ap += (precision_0 + precision_1) * recall_step / 2.\n",
        "\n",
        "    return ap\n",
        "\n",
        "def compute_map(ranks, gnd, kappas=[]):\n",
        "    \"\"\"\n",
        "    Computes the mAP for a given set of returned results.\n",
        "\n",
        "         Usage: \n",
        "           map = compute_map (ranks, gnd) \n",
        "                 computes mean average precsion (map) only\n",
        "        \n",
        "           map, aps, pr, prs = compute_map (ranks, gnd, kappas) \n",
        "                 computes mean average precision (map), average precision (aps) for each query\n",
        "                 computes mean precision at kappas (pr), precision at kappas (prs) for each query\n",
        "        \n",
        "         Notes:\n",
        "         1) ranks starts from 0, ranks.shape = db_size X #queries\n",
        "         2) The junk results (e.g., the query itself) should be declared in the gnd stuct array\n",
        "         3) If there are no positive images for some query, that query is excluded from the evaluation\n",
        "    \"\"\"\n",
        "\n",
        "    map = 0.\n",
        "    nq = len(gnd) # number of queries\n",
        "    aps = np.zeros(nq)\n",
        "    pr = np.zeros(len(kappas))\n",
        "    prs = np.zeros((nq, len(kappas)))\n",
        "    nempty = 0\n",
        "\n",
        "    for i in np.arange(nq):\n",
        "        qgnd = np.array(gnd[i]['ok'])\n",
        "\n",
        "        # no positive images, skip from the average\n",
        "        if qgnd.shape[0] == 0:\n",
        "            aps[i] = float('nan')\n",
        "            prs[i, :] = float('nan')\n",
        "            nempty += 1\n",
        "            continue\n",
        "\n",
        "        try:\n",
        "            qgndj = np.array(gnd[i]['junk'])\n",
        "        except:\n",
        "            qgndj = np.empty(0)\n",
        "\n",
        "        # sorted positions of positive and junk images (0 based)\n",
        "        pos  = np.arange(ranks.shape[0])[np.in1d(ranks[:,i], qgnd)]\n",
        "        junk = np.arange(ranks.shape[0])[np.in1d(ranks[:,i], qgndj)]\n",
        "\n",
        "        k = 0;\n",
        "        ij = 0;\n",
        "        if len(junk):\n",
        "            # decrease positions of positives based on the number of\n",
        "            # junk images appearing before them\n",
        "            ip = 0\n",
        "            while (ip < len(pos)):\n",
        "                while (ij < len(junk) and pos[ip] > junk[ij]):\n",
        "                    k += 1\n",
        "                    ij += 1\n",
        "                pos[ip] = pos[ip] - k\n",
        "                ip += 1\n",
        "\n",
        "        # compute ap\n",
        "        ap = compute_ap(pos, len(qgnd))\n",
        "        map = map + ap\n",
        "        aps[i] = ap\n",
        "\n",
        "        # compute precision @ k\n",
        "        pos += 1 # get it to 1-based\n",
        "        for j in np.arange(len(kappas)):\n",
        "            kq = min(max(pos), kappas[j]); \n",
        "            prs[i, j] = (pos <= kq).sum() / kq\n",
        "        pr = pr + prs[i, :]\n",
        "\n",
        "    map = map / (nq - nempty)\n",
        "    pr = pr / (nq - nempty)\n",
        "\n",
        "    return map, aps, pr, prs\n",
        "\n",
        "\n",
        "def compute_map_and_print(dataset, ranks, gnd, kappas=[1, 5, 10]):\n",
        "  \n",
        "    # old evaluation protocol\n",
        "    if dataset.startswith('oxford5k') or dataset.startswith('paris6k'):\n",
        "        map, aps, _, _ = compute_map(ranks, gnd)\n",
        "        print('>> {}: mAP {:.2f}'.format(dataset, np.around(map*100, decimals=2)))\n",
        "        return [np.around(map*100, decimals=2)]\n",
        "\n",
        "    # new evaluation protocol\n",
        "    elif dataset.startswith('roxford5k') or dataset.startswith('rparis6k'):\n",
        "        \n",
        "        gnd_t = []\n",
        "        for i in range(len(gnd)):\n",
        "            g = {}\n",
        "            g['ok'] = np.concatenate([gnd[i]['easy']])\n",
        "            g['junk'] = np.concatenate([gnd[i]['junk'], gnd[i]['hard']])\n",
        "            gnd_t.append(g)\n",
        "        mapE, apsE, mprE, prsE = compute_map(ranks, gnd_t, kappas)\n",
        "\n",
        "        gnd_t = []\n",
        "        for i in range(len(gnd)):\n",
        "            g = {}\n",
        "            g['ok'] = np.concatenate([gnd[i]['easy'], gnd[i]['hard']])\n",
        "            g['junk'] = np.concatenate([gnd[i]['junk']])\n",
        "            gnd_t.append(g)\n",
        "        mapM, apsM, mprM, prsM = compute_map(ranks, gnd_t, kappas)\n",
        "\n",
        "        gnd_t = []\n",
        "        for i in range(len(gnd)):\n",
        "            g = {}\n",
        "            g['ok'] = np.concatenate([gnd[i]['hard']])\n",
        "            g['junk'] = np.concatenate([gnd[i]['junk'], gnd[i]['easy']])\n",
        "            gnd_t.append(g)\n",
        "        mapH, apsH, mprH, prsH = compute_map(ranks, gnd_t, kappas)\n",
        "\n",
        "        print('>> {}: mAP E: {}, M: {}, H: {}'.format(dataset, np.around(mapE*100, decimals=2), np.around(mapM*100, decimals=2), np.around(mapH*100, decimals=2)))\n",
        "        print('>> {}: mP@k{} E: {}, M: {}, H: {}'.format(dataset, kappas, np.around(mprE*100, decimals=2), np.around(mprM*100, decimals=2), np.around(mprH*100, decimals=2)))\n",
        "        return [np.around(v*100, decimals=2) for v in [mapE, mapM, mapH, mprE[-1], mprM[-1], mprH[-1]]]\n",
        "\n",
        "def compute_attack_success_rate(clean_ranks, noisy_ranks):\n",
        "  print(clean_ranks.shape)\n",
        "  print(noisy_ranks.shape)\n",
        "  # print(clean_ranks)\n",
        "  num_successful = 0\n",
        "  total_querys = 0\n",
        "  for query in range(clean_ranks.shape[1]):\n",
        "    clean_rank = clean_ranks[:10, query]\n",
        "    noisy_rank = noisy_ranks[:10, query]\n",
        "\n",
        "    print(\"Clean: \" , clean_rank)\n",
        "    print(\"Noisy: \" , noisy_rank)\n",
        "    intersect = np.intersect1d(clean_rank, noisy_rank)\n",
        "    print(intersect.size)\n",
        "    if (intersect.size == 0):\n",
        "      num_successful += 1\n",
        "    \n",
        "    total_querys += 1\n",
        "  print(\"Attack Success Rate\" , num_successful / total_querys * 100)\n",
        "\n",
        "  #   print(\"Clean Size: \", clean_rank.size())\n",
        "  #   print(\"Noisy Size: \", noisy_rank.size())\n",
        "\n"
      ]
    },
    {
      "cell_type": "markdown",
      "source": [
        "# Code for Extracting Vectors from Images using Feature Extractor"
      ],
      "metadata": {
        "id": "algemRqkNSmO"
      }
    },
    {
      "cell_type": "code",
      "execution_count": null,
      "metadata": {
        "id": "NAA_QHI2SUf1"
      },
      "outputs": [],
      "source": [
        "def extract_vectors(net, images, image_size, transform, bbxs=None, ms=[1], msp=1, print_freq=10):\n",
        "    # moving network to gpu and eval mode\n",
        "    net.cuda()\n",
        "    net.eval()\n",
        "\n",
        "    # creating dataset loader\n",
        "    loader = torch.utils.data.DataLoader(\n",
        "        ImagesFromList(root='', images=images, imsize=image_size, bbxs=bbxs, transform=transform),\n",
        "        batch_size=1, shuffle=False, num_workers=4, pin_memory=True\n",
        "    )\n",
        "    # extracting vectors\n",
        "    vecs = torch.zeros(net.meta['outputdim'], len(images))\n",
        "    for i, input in enumerate(loader):\n",
        "        input_var = Variable(input.cuda())\n",
        "        if len(ms) == 1:\n",
        "            vecs[:, i] = extract_ss(net, input_var)\n",
        "        else:\n",
        "            vecs[:, i] = extract_ms(net, input_var, ms, msp)\n",
        "\n",
        "        if (i+1) % print_freq == 0 or (i+1) == len(images):\n",
        "            print('\\r>>>> {}/{} done...'.format((i+1), len(images)), end='')\n",
        "    print('')\n",
        "    return vecs\n",
        "\n",
        "\n",
        "def extract_ss(net, input_var):\n",
        "    return net(input_var).cpu().data.squeeze()\n",
        "\n",
        "\n",
        "def extract_ms(net, input_var, ms, msp):\n",
        "    \n",
        "    print()\n",
        "    v = torch.zeros(net.meta['outputdim'])\n",
        "    \n",
        "    for s in ms: \n",
        "        if s == 1:\n",
        "            input_var_t = input_var.clone()\n",
        "        else:    \n",
        "            size = (int(input_var.size(-2) * s), int(input_var.size(-1) * s))\n",
        "            input_var_t = nn.functional.upsample(input_var, size=size, mode='bilinear')\n",
        "        v += net(input_var_t).pow(msp).cpu().data.squeeze()\n",
        "        \n",
        "    v /= len(ms)\n",
        "    v = v.pow(1./msp)\n",
        "    v /= v.norm()\n",
        "\n",
        "    return v"
      ]
    },
    {
      "cell_type": "markdown",
      "source": [
        "# Dataset that returns image - 10 image pairs according to descriptor similarity"
      ],
      "metadata": {
        "id": "_6aO-ZF7NYdD"
      }
    },
    {
      "cell_type": "code",
      "execution_count": null,
      "metadata": {
        "id": "9boP0fh6Sc5t"
      },
      "outputs": [],
      "source": [
        "import argparse\n",
        "import math\n",
        "import os\n",
        "import pdb\n",
        "import pickle\n",
        "import random\n",
        "import shutil\n",
        "import time\n",
        "from pprint import pprint\n",
        "\n",
        "import numpy as np\n",
        "import torch\n",
        "import torch.nn as nn\n",
        "import torch.nn.functional as F\n",
        "import torch.optim as optim\n",
        "import torch.utils.data as data\n",
        "import torchvision\n",
        "import torchvision.models as models\n",
        "import torchvision.transforms as transforms\n",
        "\n",
        "from cirtorch.datasets.datahelpers import cid2filename, collate_tuples\n",
        "from cirtorch.datasets.testdataset import configdataset\n",
        "from cirtorch.datasets.traindataset import TuplesDataset\n",
        "from cirtorch.datasets.genericdataset import ImagesFromList\n",
        "from cirtorch.examples.attack.myutil.baseline import result as baseline_result\n",
        "from cirtorch.examples.attack.myutil.mi_sgd import (MI_SGD, SIGN_AdaBound,\n",
        "                                                    SIGN_Adam)\n",
        "from cirtorch.examples.attack.myutil.sfm_dataset import SfMDataset\n",
        "from cirtorch.examples.attack.myutil.triplet_dataset import MyTripletDataset\n",
        "from cirtorch.examples.attack.myutil.utils import (MultiLoss, bcolors,\n",
        "                                                   do_whiten, idcg, inv_gfr,\n",
        "                                                   one_hot, rescale_check)\n",
        "from cirtorch.layers.loss import ContrastiveLoss\n",
        "from cirtorch.networks.imageretrievalnet import extract_vectors, init_network\n",
        "from cirtorch.utils.download import download_test, download_train\n",
        "# from cirtorch.utils.evaluate import compute_map_and_print\n",
        "from torch.autograd import Variable\n",
        "from cirtorch.utils.general import get_data_root, htime\n",
        "from cirtorch.utils.whiten import whitenapply, whitenlearn\n",
        "\n",
        "\n",
        "\n",
        "class BlackBoxAttackDataset(data.Dataset):\n",
        "  def __init__(self, model, imsize=None,\n",
        "        numreturnedimgs=10,\n",
        "        datasetname=\"oxford5k\", vecs_lw=None, qvecs_lw=None, transforms2=None):\n",
        "    \n",
        "    self.img_size = imsize\n",
        "    self.cfg = configdataset(datasetname, os.path.join(get_data_root(), \"test\"))\n",
        "    self.dbimages = [self.cfg[\"im_fname\"](self.cfg, i) for i in range(self.cfg[\"n\"])]\n",
        "    self.qimages = [self.cfg[\"qim_fname\"](self.cfg, i) for i in range(self.cfg[\"nq\"])]\n",
        "    self.bbxs = [tuple(self.cfg[\"gnd\"][i][\"bbx\"]) for i in range(self.cfg[\"nq\"])]\n",
        "    # load retrieval model\n",
        "    \n",
        "    self.model = model\n",
        "    \n",
        "    self.model.eval()\n",
        "    normalize = transforms.Normalize(mean=self.model.meta[\"mean\"], std=self.model.meta[\"std\"])\n",
        "\n",
        "    self.transform = transforms.Compose([transforms.ToTensor(), normalize])\n",
        "    self.numreturnedimgs = numreturnedimgs\n",
        "\n",
        "\n",
        "    if \"Lw\" in self.model.meta:\n",
        "      Lw = self.model.meta[\"Lw\"][\"retrieval-SfM-120k\"][\"ss\"]\n",
        "    else:\n",
        "      Lw = None\n",
        "    self.qvecs = extract_vectors(self.model, self.qimages, self.img_size, self.transform, self.bbxs)\n",
        "\n",
        "    self.qvecs = self.qvecs.numpy()\n",
        "\n",
        "    self.vecs_lw = vecs_lw\n",
        "    self.qvecs_lw = whitenapply(self.qvecs, Lw[\"m\"], Lw[\"P\"])\n",
        "\n",
        "  def __len__(self):\n",
        "    return len(self.qimages)\n",
        "\n",
        "  def __getitem__(self, idx):\n",
        "    queryimgs, retrievedresults = self.retrieve_relevant_images_from_lists(idx, self.model, self.vecs_lw, self.qvecs_lw[:, idx], [self.qimages[idx]], self.dbimages, self.img_size, self.numreturnedimgs, self.transform)\n",
        "    return queryimgs, retrievedresults\n",
        "\n",
        "  def retrieve_relevant_images_from_lists(self, idx, net, vecs_lw, qvecs_lw, qimages, images, image_size, num_returned_images, transform, bbxs=None, ms=[1], msp=1, print_freq=10):\n",
        "\n",
        "\n",
        "    # Take the Dot Product of the Query Features and Database Features to get a Num_Features x Num_Queries Matrix of Similarities\n",
        "    scores = np.dot(vecs_lw.T, qvecs_lw)\n",
        "\n",
        "    # Sort the Scores From Largest to Smallest as Higher Score Means More Similarity\n",
        "    ranks = np.expand_dims(np.argsort(-scores, axis=0), axis=1)\n",
        "\n",
        "\n",
        "    # Take the Top N Ranked Images\n",
        "\n",
        "    ranks = ranks[:num_returned_images, :]\n",
        "\n",
        "\n",
        "    final_img_list = []\n",
        "    query_images = []\n",
        "\n",
        "    # Go Through Each Query\n",
        "    for query in range(len(qimages)):\n",
        "      # Get The Actual Image\n",
        "      query_image = ImagesFromList(root='', images=[qimages[query]], \n",
        "                              imsize=image_size, \n",
        "                              bbxs=[self.bbxs[idx]], transform=transforms.ToTensor())[0]\n",
        "      # Add it to the list of Query Images\n",
        "      query_images.append(query_image)    \n",
        "      # Get The Column of Similarity Scores Corresponding to the Current Query\n",
        "      returned_img_idxs = ranks[:, query]\n",
        "      retrieved_imgs_concat_list = []\n",
        "      for idx in returned_img_idxs:\n",
        "        # Use the Index of the Images to get the The Filename of the images\n",
        "        img = images[idx]\n",
        "        retrieved_imgs_concat_list.append(img)\n",
        "      # Convert a List of Filenames into a List of Retrieved Images\n",
        "\n",
        "      retrieved_imgs_concat_list = ImagesFromList(root='', images=retrieved_imgs_concat_list, \n",
        "                              imsize=image_size, \n",
        "                              bbxs=None, transform=transforms.ToTensor())\n",
        "      # Add the List of Images\n",
        "      final_img_list.append([retrieved_imgs_concat_list[x].squeeze(0) for x in range(len(retrieved_imgs_concat_list))])\n",
        "\n",
        "    # To \"squeeze\"\n",
        "    query_images = query_images[0]\n",
        "\n",
        "    return query_images, final_img_list\n",
        "\n",
        "\n",
        "\n",
        "\n",
        "\n",
        "\n",
        "\n",
        "\n",
        "\n",
        "\n",
        "\n",
        "\n",
        "\n",
        "\n",
        "\n",
        "\n",
        "  \n",
        "\n",
        "  \n",
        "\n",
        "\n",
        "    \n",
        "\n"
      ]
    },
    {
      "cell_type": "markdown",
      "source": [
        "# Main Image Retrieval Engine Struct which returns a set of N images for a query image"
      ],
      "metadata": {
        "id": "EBuG3eonNhIA"
      }
    },
    {
      "cell_type": "code",
      "execution_count": null,
      "metadata": {
        "id": "n-86wk4ESiMs"
      },
      "outputs": [],
      "source": [
        "import matplotlib.pyplot as plt\n",
        "\n",
        "\n",
        "class ImageRetrievalSystem():\n",
        "  def __init__(self, feature_extractor, dbimages, img_size, vecs_lw=None):\n",
        "    self.model = feature_extractor\n",
        "    self.normalize = transforms.Normalize(mean=self.model.meta[\"mean\"], std=self.model.meta[\"std\"])\n",
        "    self.transform = transforms.Compose([transforms.ToTensor(), self.normalize])\n",
        "    \n",
        "\n",
        "    if \"Lw\" in self.model.meta:\n",
        "      self.Lw = self.model.meta[\"Lw\"][\"retrieval-SfM-120k\"][\"ss\"]\n",
        "    else:\n",
        "      self.Lw = None\n",
        "    self.dbimages = dbimages\n",
        "    self.img_size = img_size\n",
        "\n",
        "\n",
        "    if (vecs_lw is None):\n",
        "      vecs = extract_vectors(self.model, self.dbimages, self.img_size, self.transform)\n",
        "      vecs = vecs.numpy()\n",
        "      self.vecs_lw = whitenapply(vecs, self.Lw[\"m\"], self.Lw[\"P\"])\n",
        "    else:\n",
        "      self.vecs_lw = vecs_lw\n",
        "\n",
        "\n",
        "  def retrieve_images(self, qimage, numreturnedimgs):\n",
        "    self.model.cuda()\n",
        "    self.model.eval()\n",
        "    qvec = extract_ss(self.model, self.normalize(qimage.cuda()).unsqueeze(0)).cuda()\n",
        "\n",
        "   \n",
        "    qvec = np.expand_dims(qvec.cpu().detach().numpy(), 1)\n",
        " \n",
        "\n",
        "    self.qvec_lw = whitenapply(qvec, self.Lw[\"m\"], self.Lw[\"P\"])\n",
        "    # # Take the Dot Product of the Query Features and Database Features to get a Num_Features x Num_Queries Matrix of Similarities\n",
        "    scores = np.dot(self.vecs_lw.T, self.qvec_lw)\n",
        "\n",
        "    # # Sort the Scores From Largest to Smallest as Higher Score Means More Similarity\n",
        "    full_ranks = np.expand_dims(np.argsort(-scores, axis=0), axis=1)\n",
        "\n",
        "\n",
        "    # # Take the Top N Ranked Images\n",
        "    ranks = full_ranks[:numreturnedimgs, :]\n",
        "\n",
        "\n",
        "    final_img_list = []\n",
        "  \n",
        "    # Get The Column of Similarity Scores Corresponding to the Current Query\n",
        "    returned_img_idxs = ranks[:, 0].squeeze()\n",
        "    retrieved_imgs_concat_list = []\n",
        "    for idx in returned_img_idxs:\n",
        "      # Use the Index of the Images to get the The Filename of the images\n",
        "      img = self.dbimages[idx]\n",
        "      retrieved_imgs_concat_list.append(img)\n",
        "\n",
        "    # Convert a List of Filenames into a List of Retrieved Images\n",
        "    retrieved_imgs_concat_list = ImagesFromList(root='', images=retrieved_imgs_concat_list, \n",
        "                            imsize=self.img_size, \n",
        "                            bbxs=None, transform=transforms.ToTensor())\n",
        "    # Add the List of Images\n",
        "    final_img_list.append([retrieved_imgs_concat_list[x].unsqueeze(0) for x in range(len(retrieved_imgs_concat_list))])\n",
        "\n",
        "    # self.visualize_IR_results(qimage, final_img_list)\n",
        "\n",
        "    return final_img_list, full_ranks,\n",
        "\n",
        "\n",
        "\n",
        "\n",
        "\n"
      ]
    },
    {
      "cell_type": "markdown",
      "source": [
        "# Set-Up Feature Extractor"
      ],
      "metadata": {
        "id": "1sr0AZSmNn0G"
      }
    },
    {
      "cell_type": "code",
      "execution_count": null,
      "metadata": {
        "id": "6IBpha_JSlwD"
      },
      "outputs": [],
      "source": [
        "model_to_pretrained_checkpoint = {\n",
        "    \"VGEM\" : \"/content/UAP_retrieval/models/retrievalSfM120k-vgg16-gem.pth\",\n",
        "    \"RGEM\" : \"/content/UAP_retrieval/models/retrievalSfM120k-resnet101-gem.pth\",\n",
        "    \"AGEM\" : \"/content/UAP_retrieval/models/retrievalSfM120k-alexnet-gem.pth\",\n",
        "    \"AMAC\" : \"/content/UAP_retrieval/models/retrievalSfM120k-alexnet-mac.pth\",\n",
        "    \"RMAC\" : \"/content/UAP_retrieval/models/retrievalSfM120k-resnet101-mac.pth\",\n",
        "    \"VMAC\" : \"/content/UAP_retrieval/models/retrievalSfM120k-vgg16-mac.pth\"\n",
        "}\n",
        "\n",
        "# Initialize Feature Extractor\n",
        "def create_feature_extractor(modelName=\"VGEM\"):\n",
        "    state = {}\n",
        "    # Load State Dict\n",
        "    if modelName in model_to_pretrained_checkpoint.keys():\n",
        "      state = torch.load(model_to_pretrained_checkpoint[modelName])\n",
        "      print(\"Initializing %s Image Retrieval Network...\" % (modelName))\n",
        "    else:\n",
        "      state = torch.load(model_to_pretrained_checkpoint[\"VGEM\"])\n",
        "      print(\"Initializing Default VGG-16 with GEM Whitening Image Retrieval Network...\")\n",
        "\n",
        "    # Initialize Network with Whitening and Pooling\n",
        "    model = init_network(model= state[\"meta\"][\"architecture\"],\n",
        "            pooling= state[\"meta\"][\"pooling\"],\n",
        "            whitening= state[\"meta\"][\"whitening\"],\n",
        "            mean= state[\"meta\"][\"mean\"],\n",
        "            std= state[\"meta\"][\"std\"],\n",
        "            pretrained=False,\n",
        "        )\n",
        "    model.load_state_dict(state[\"state_dict\"])\n",
        "    model.meta[\"Lw\"] = state[\"meta\"][\"Lw\"]\n",
        "\n",
        "    # CUDA GPU\n",
        "    model.cuda()\n",
        "    return model"
      ]
    },
    {
      "cell_type": "code",
      "execution_count": null,
      "metadata": {
        "colab": {
          "base_uri": "https://localhost:8080/"
        },
        "id": "Acq1wbstSrLJ",
        "outputId": "10f0fcf5-05c9-4f79-fbe8-714525fd1ca0"
      },
      "outputs": [
        {
          "output_type": "stream",
          "name": "stdout",
          "text": [
            "Initializing VGEM Image Retrieval Network...\n"
          ]
        },
        {
          "output_type": "stream",
          "name": "stderr",
          "text": [
            "/usr/local/lib/python3.7/dist-packages/torchvision/models/_utils.py:209: UserWarning: The parameter 'pretrained' is deprecated since 0.13 and will be removed in 0.15, please use 'weights' instead.\n",
            "  f\"The parameter '{pretrained_param}' is deprecated since 0.13 and will be removed in 0.15, \"\n",
            "/usr/local/lib/python3.7/dist-packages/torchvision/models/_utils.py:223: UserWarning: Arguments other than a weight enum or `None` for 'weights' are deprecated since 0.13 and will be removed in 0.15. The current behavior is equivalent to passing `weights=None`.\n",
            "  warnings.warn(msg)\n"
          ]
        },
        {
          "output_type": "stream",
          "name": "stdout",
          "text": [
            "Initializing VMAC Image Retrieval Network...\n",
            "Initializing AGEM Image Retrieval Network...\n",
            "Initializing AMAC Image Retrieval Network...\n",
            "Initializing RGEM Image Retrieval Network...\n",
            "Initializing RMAC Image Retrieval Network...\n"
          ]
        }
      ],
      "source": [
        "# Create Feature Extractors\n",
        "vgem = create_feature_extractor(\"VGEM\")\n",
        "vmac = create_feature_extractor(\"VMAC\")\n",
        "agem = create_feature_extractor(\"AGEM\")\n",
        "amac = create_feature_extractor(\"AMAC\")\n",
        "rgem = create_feature_extractor(\"RGEM\")\n",
        "rmac = create_feature_extractor(\"RMAC\")"
      ]
    },
    {
      "cell_type": "markdown",
      "source": [
        "# Configure Dataset/Images"
      ],
      "metadata": {
        "id": "Y_b0mSpVNt8U"
      }
    },
    {
      "cell_type": "code",
      "execution_count": null,
      "metadata": {
        "colab": {
          "base_uri": "https://localhost:8080/"
        },
        "id": "jxk3IzEsSolb",
        "outputId": "0f291ae8-7781-41cd-8e99-23cf0599c666"
      },
      "outputs": [
        {
          "output_type": "stream",
          "name": "stdout",
          "text": [
            "['/content/UAP_retrieval/data/test/oxford5k/jpg/ashmolean_000283.jpg', '/content/UAP_retrieval/data/test/oxford5k/jpg/oxford_002124.jpg', '/content/UAP_retrieval/data/test/oxford5k/jpg/radcliffe_camera_000158.jpg', '/content/UAP_retrieval/data/test/oxford5k/jpg/oxford_002084.jpg', '/content/UAP_retrieval/data/test/oxford5k/jpg/oxford_003332.jpg', '/content/UAP_retrieval/data/test/oxford5k/jpg/jesus_000166.jpg', '/content/UAP_retrieval/data/test/oxford5k/jpg/oxford_002241.jpg', '/content/UAP_retrieval/data/test/oxford5k/jpg/radcliffe_camera_000342.jpg', '/content/UAP_retrieval/data/test/oxford5k/jpg/oxford_001431.jpg', '/content/UAP_retrieval/data/test/oxford5k/jpg/all_souls_000110.jpg', '/content/UAP_retrieval/data/test/oxford5k/jpg/oxford_002729.jpg', '/content/UAP_retrieval/data/test/oxford5k/jpg/oxford_002075.jpg', '/content/UAP_retrieval/data/test/oxford5k/jpg/new_001014.jpg', '/content/UAP_retrieval/data/test/oxford5k/jpg/oriel_000001.jpg', '/content/UAP_retrieval/data/test/oxford5k/jpg/oxford_001058.jpg', '/content/UAP_retrieval/data/test/oxford5k/jpg/pitt_rivers_000011.jpg', '/content/UAP_retrieval/data/test/oxford5k/jpg/christ_church_000406.jpg', '/content/UAP_retrieval/data/test/oxford5k/jpg/christ_church_001046.jpg', '/content/UAP_retrieval/data/test/oxford5k/jpg/trinity_000015.jpg', '/content/UAP_retrieval/data/test/oxford5k/jpg/keble_000005.jpg', '/content/UAP_retrieval/data/test/oxford5k/jpg/trinity_000205.jpg', '/content/UAP_retrieval/data/test/oxford5k/jpg/oxford_000607.jpg', '/content/UAP_retrieval/data/test/oxford5k/jpg/oxford_003393.jpg', '/content/UAP_retrieval/data/test/oxford5k/jpg/radcliffe_camera_000560.jpg', '/content/UAP_retrieval/data/test/oxford5k/jpg/magdalen_001011.jpg', '/content/UAP_retrieval/data/test/oxford5k/jpg/christ_church_000658.jpg', '/content/UAP_retrieval/data/test/oxford5k/jpg/new_000921.jpg', '/content/UAP_retrieval/data/test/oxford5k/jpg/christ_church_001032.jpg', '/content/UAP_retrieval/data/test/oxford5k/jpg/new_000459.jpg', '/content/UAP_retrieval/data/test/oxford5k/jpg/radcliffe_camera_000139.jpg', '/content/UAP_retrieval/data/test/oxford5k/jpg/all_souls_000153.jpg', '/content/UAP_retrieval/data/test/oxford5k/jpg/christ_church_000709.jpg', '/content/UAP_retrieval/data/test/oxford5k/jpg/bodleian_000416.jpg', '/content/UAP_retrieval/data/test/oxford5k/jpg/magdalen_000386.jpg', '/content/UAP_retrieval/data/test/oxford5k/jpg/oxford_001048.jpg', '/content/UAP_retrieval/data/test/oxford5k/jpg/oxford_002261.jpg', '/content/UAP_retrieval/data/test/oxford5k/jpg/new_000042.jpg', '/content/UAP_retrieval/data/test/oxford5k/jpg/magdalen_000643.jpg', '/content/UAP_retrieval/data/test/oxford5k/jpg/oxford_001355.jpg', '/content/UAP_retrieval/data/test/oxford5k/jpg/oxford_001115.jpg', '/content/UAP_retrieval/data/test/oxford5k/jpg/bodleian_000120.jpg', '/content/UAP_retrieval/data/test/oxford5k/jpg/oxford_003039.jpg', '/content/UAP_retrieval/data/test/oxford5k/jpg/christ_church_000380.jpg', '/content/UAP_retrieval/data/test/oxford5k/jpg/magdalen_000008.jpg', '/content/UAP_retrieval/data/test/oxford5k/jpg/oxford_000825.jpg', '/content/UAP_retrieval/data/test/oxford5k/jpg/all_souls_000061.jpg', '/content/UAP_retrieval/data/test/oxford5k/jpg/trinity_000287.jpg', '/content/UAP_retrieval/data/test/oxford5k/jpg/ashmolean_000217.jpg', '/content/UAP_retrieval/data/test/oxford5k/jpg/magdalen_000800.jpg', '/content/UAP_retrieval/data/test/oxford5k/jpg/christ_church_000895.jpg', '/content/UAP_retrieval/data/test/oxford5k/jpg/christ_church_000644.jpg', '/content/UAP_retrieval/data/test/oxford5k/jpg/oxford_002100.jpg', '/content/UAP_retrieval/data/test/oxford5k/jpg/magdalen_000541.jpg', '/content/UAP_retrieval/data/test/oxford5k/jpg/oxford_003055.jpg', '/content/UAP_retrieval/data/test/oxford5k/jpg/christ_church_000125.jpg', '/content/UAP_retrieval/data/test/oxford5k/jpg/oxford_000556.jpg', '/content/UAP_retrieval/data/test/oxford5k/jpg/oxford_001725.jpg', '/content/UAP_retrieval/data/test/oxford5k/jpg/trinity_000090.jpg', '/content/UAP_retrieval/data/test/oxford5k/jpg/oxford_001478.jpg', '/content/UAP_retrieval/data/test/oxford5k/jpg/cornmarket_000138.jpg', '/content/UAP_retrieval/data/test/oxford5k/jpg/magdalen_000551.jpg', '/content/UAP_retrieval/data/test/oxford5k/jpg/oxford_002888.jpg', '/content/UAP_retrieval/data/test/oxford5k/jpg/magdalen_000632.jpg', '/content/UAP_retrieval/data/test/oxford5k/jpg/worcester_000128.jpg', '/content/UAP_retrieval/data/test/oxford5k/jpg/oxford_001889.jpg', '/content/UAP_retrieval/data/test/oxford5k/jpg/oxford_000707.jpg', '/content/UAP_retrieval/data/test/oxford5k/jpg/jesus_000285.jpg', '/content/UAP_retrieval/data/test/oxford5k/jpg/new_001065.jpg', '/content/UAP_retrieval/data/test/oxford5k/jpg/radcliffe_camera_000116.jpg', '/content/UAP_retrieval/data/test/oxford5k/jpg/oxford_001898.jpg', '/content/UAP_retrieval/data/test/oxford5k/jpg/all_souls_000126.jpg', '/content/UAP_retrieval/data/test/oxford5k/jpg/trinity_000006.jpg', '/content/UAP_retrieval/data/test/oxford5k/jpg/radcliffe_camera_000130.jpg', '/content/UAP_retrieval/data/test/oxford5k/jpg/hertford_000015.jpg', '/content/UAP_retrieval/data/test/oxford5k/jpg/radcliffe_camera_000279.jpg', '/content/UAP_retrieval/data/test/oxford5k/jpg/christ_church_000711.jpg', '/content/UAP_retrieval/data/test/oxford5k/jpg/oxford_001504.jpg', '/content/UAP_retrieval/data/test/oxford5k/jpg/oxford_003180.jpg', '/content/UAP_retrieval/data/test/oxford5k/jpg/new_001020.jpg', '/content/UAP_retrieval/data/test/oxford5k/jpg/magdalen_000742.jpg', '/content/UAP_retrieval/data/test/oxford5k/jpg/new_000374.jpg', '/content/UAP_retrieval/data/test/oxford5k/jpg/all_souls_000007.jpg', '/content/UAP_retrieval/data/test/oxford5k/jpg/oxford_002236.jpg', '/content/UAP_retrieval/data/test/oxford5k/jpg/trinity_000045.jpg', '/content/UAP_retrieval/data/test/oxford5k/jpg/oxford_000107.jpg', '/content/UAP_retrieval/data/test/oxford5k/jpg/worcester_000194.jpg', '/content/UAP_retrieval/data/test/oxford5k/jpg/jesus_000296.jpg', '/content/UAP_retrieval/data/test/oxford5k/jpg/jesus_000308.jpg', '/content/UAP_retrieval/data/test/oxford5k/jpg/oxford_000167.jpg', '/content/UAP_retrieval/data/test/oxford5k/jpg/radcliffe_camera_000337.jpg', '/content/UAP_retrieval/data/test/oxford5k/jpg/hertford_000070.jpg', '/content/UAP_retrieval/data/test/oxford5k/jpg/radcliffe_camera_000430.jpg', '/content/UAP_retrieval/data/test/oxford5k/jpg/radcliffe_camera_000170.jpg', '/content/UAP_retrieval/data/test/oxford5k/jpg/christ_church_000239.jpg', '/content/UAP_retrieval/data/test/oxford5k/jpg/oxford_000587.jpg', '/content/UAP_retrieval/data/test/oxford5k/jpg/magdalen_000343.jpg', '/content/UAP_retrieval/data/test/oxford5k/jpg/magdalen_001088.jpg', '/content/UAP_retrieval/data/test/oxford5k/jpg/magdalen_000296.jpg', '/content/UAP_retrieval/data/test/oxford5k/jpg/magdalen_000576.jpg', '/content/UAP_retrieval/data/test/oxford5k/jpg/magdalen_000523.jpg', '/content/UAP_retrieval/data/test/oxford5k/jpg/hertford_000083.jpg', '/content/UAP_retrieval/data/test/oxford5k/jpg/magdalen_000149.jpg', '/content/UAP_retrieval/data/test/oxford5k/jpg/trinity_000193.jpg', '/content/UAP_retrieval/data/test/oxford5k/jpg/oxford_002815.jpg', '/content/UAP_retrieval/data/test/oxford5k/jpg/oxford_002308.jpg', '/content/UAP_retrieval/data/test/oxford5k/jpg/bodleian_000319.jpg', '/content/UAP_retrieval/data/test/oxford5k/jpg/new_000569.jpg', '/content/UAP_retrieval/data/test/oxford5k/jpg/oxford_003468.jpg', '/content/UAP_retrieval/data/test/oxford5k/jpg/ashmolean_000251.jpg', '/content/UAP_retrieval/data/test/oxford5k/jpg/new_000294.jpg', '/content/UAP_retrieval/data/test/oxford5k/jpg/oxford_001404.jpg', '/content/UAP_retrieval/data/test/oxford5k/jpg/oxford_000681.jpg', '/content/UAP_retrieval/data/test/oxford5k/jpg/christ_church_000535.jpg', '/content/UAP_retrieval/data/test/oxford5k/jpg/oxford_003505.jpg', '/content/UAP_retrieval/data/test/oxford5k/jpg/jesus_000120.jpg', '/content/UAP_retrieval/data/test/oxford5k/jpg/oxford_001722.jpg', '/content/UAP_retrieval/data/test/oxford5k/jpg/hertford_000106.jpg', '/content/UAP_retrieval/data/test/oxford5k/jpg/christ_church_000271.jpg', '/content/UAP_retrieval/data/test/oxford5k/jpg/oxford_000768.jpg', '/content/UAP_retrieval/data/test/oxford5k/jpg/oxford_001085.jpg', '/content/UAP_retrieval/data/test/oxford5k/jpg/cornmarket_000026.jpg', '/content/UAP_retrieval/data/test/oxford5k/jpg/new_000630.jpg', '/content/UAP_retrieval/data/test/oxford5k/jpg/oxford_000314.jpg', '/content/UAP_retrieval/data/test/oxford5k/jpg/oxford_001397.jpg', '/content/UAP_retrieval/data/test/oxford5k/jpg/oxford_000160.jpg', '/content/UAP_retrieval/data/test/oxford5k/jpg/oxford_002275.jpg', '/content/UAP_retrieval/data/test/oxford5k/jpg/bodleian_000135.jpg', '/content/UAP_retrieval/data/test/oxford5k/jpg/radcliffe_camera_000234.jpg', '/content/UAP_retrieval/data/test/oxford5k/jpg/pitt_rivers_000002.jpg', '/content/UAP_retrieval/data/test/oxford5k/jpg/trinity_000031.jpg', '/content/UAP_retrieval/data/test/oxford5k/jpg/oxford_003474.jpg', '/content/UAP_retrieval/data/test/oxford5k/jpg/radcliffe_camera_000473.jpg', '/content/UAP_retrieval/data/test/oxford5k/jpg/oxford_001119.jpg', '/content/UAP_retrieval/data/test/oxford5k/jpg/magdalen_000208.jpg', '/content/UAP_retrieval/data/test/oxford5k/jpg/oxford_000866.jpg', '/content/UAP_retrieval/data/test/oxford5k/jpg/oxford_002672.jpg', '/content/UAP_retrieval/data/test/oxford5k/jpg/magdalen_000297.jpg', '/content/UAP_retrieval/data/test/oxford5k/jpg/new_000949.jpg', '/content/UAP_retrieval/data/test/oxford5k/jpg/oxford_001882.jpg', '/content/UAP_retrieval/data/test/oxford5k/jpg/oriel_000083.jpg', '/content/UAP_retrieval/data/test/oxford5k/jpg/balliol_000169.jpg', '/content/UAP_retrieval/data/test/oxford5k/jpg/oxford_001527.jpg', '/content/UAP_retrieval/data/test/oxford5k/jpg/oxford_003542.jpg', '/content/UAP_retrieval/data/test/oxford5k/jpg/magdalen_000542.jpg', '/content/UAP_retrieval/data/test/oxford5k/jpg/new_000409.jpg', '/content/UAP_retrieval/data/test/oxford5k/jpg/oxford_001282.jpg', '/content/UAP_retrieval/data/test/oxford5k/jpg/jesus_000295.jpg', '/content/UAP_retrieval/data/test/oxford5k/jpg/cornmarket_000061.jpg', '/content/UAP_retrieval/data/test/oxford5k/jpg/oxford_000413.jpg', '/content/UAP_retrieval/data/test/oxford5k/jpg/ashmolean_000255.jpg', '/content/UAP_retrieval/data/test/oxford5k/jpg/oxford_000055.jpg', '/content/UAP_retrieval/data/test/oxford5k/jpg/radcliffe_camera_000305.jpg', '/content/UAP_retrieval/data/test/oxford5k/jpg/balliol_000110.jpg', '/content/UAP_retrieval/data/test/oxford5k/jpg/pitt_rivers_000143.jpg', '/content/UAP_retrieval/data/test/oxford5k/jpg/cornmarket_000039.jpg', '/content/UAP_retrieval/data/test/oxford5k/jpg/oxford_002819.jpg', '/content/UAP_retrieval/data/test/oxford5k/jpg/bodleian_000019.jpg', '/content/UAP_retrieval/data/test/oxford5k/jpg/magdalen_000312.jpg', '/content/UAP_retrieval/data/test/oxford5k/jpg/trinity_000364.jpg', '/content/UAP_retrieval/data/test/oxford5k/jpg/new_000642.jpg', '/content/UAP_retrieval/data/test/oxford5k/jpg/christ_church_000804.jpg', '/content/UAP_retrieval/data/test/oxford5k/jpg/magdalen_000864.jpg', '/content/UAP_retrieval/data/test/oxford5k/jpg/oxford_001270.jpg', '/content/UAP_retrieval/data/test/oxford5k/jpg/oriel_000113.jpg', '/content/UAP_retrieval/data/test/oxford5k/jpg/oriel_000091.jpg', '/content/UAP_retrieval/data/test/oxford5k/jpg/oxford_000620.jpg', '/content/UAP_retrieval/data/test/oxford5k/jpg/radcliffe_camera_000345.jpg', '/content/UAP_retrieval/data/test/oxford5k/jpg/oxford_000281.jpg', '/content/UAP_retrieval/data/test/oxford5k/jpg/ashmolean_000307.jpg', '/content/UAP_retrieval/data/test/oxford5k/jpg/keble_000168.jpg', '/content/UAP_retrieval/data/test/oxford5k/jpg/keble_000004.jpg', '/content/UAP_retrieval/data/test/oxford5k/jpg/keble_000241.jpg', '/content/UAP_retrieval/data/test/oxford5k/jpg/new_000453.jpg', '/content/UAP_retrieval/data/test/oxford5k/jpg/oxford_003025.jpg', '/content/UAP_retrieval/data/test/oxford5k/jpg/magdalen_000174.jpg', '/content/UAP_retrieval/data/test/oxford5k/jpg/magdalen_000180.jpg', '/content/UAP_retrieval/data/test/oxford5k/jpg/oxford_003263.jpg', '/content/UAP_retrieval/data/test/oxford5k/jpg/christ_church_000672.jpg', '/content/UAP_retrieval/data/test/oxford5k/jpg/all_souls_000018.jpg', '/content/UAP_retrieval/data/test/oxford5k/jpg/magdalen_000172.jpg', '/content/UAP_retrieval/data/test/oxford5k/jpg/new_000881.jpg', '/content/UAP_retrieval/data/test/oxford5k/jpg/balliol_000151.jpg', '/content/UAP_retrieval/data/test/oxford5k/jpg/oxford_000917.jpg', '/content/UAP_retrieval/data/test/oxford5k/jpg/oxford_003182.jpg', '/content/UAP_retrieval/data/test/oxford5k/jpg/magdalen_000538.jpg', '/content/UAP_retrieval/data/test/oxford5k/jpg/radcliffe_camera_000326.jpg', '/content/UAP_retrieval/data/test/oxford5k/jpg/oxford_001071.jpg', '/content/UAP_retrieval/data/test/oxford5k/jpg/all_souls_000062.jpg', '/content/UAP_retrieval/data/test/oxford5k/jpg/new_000739.jpg', '/content/UAP_retrieval/data/test/oxford5k/jpg/christ_church_000138.jpg', '/content/UAP_retrieval/data/test/oxford5k/jpg/oxford_001309.jpg', '/content/UAP_retrieval/data/test/oxford5k/jpg/jesus_000245.jpg', '/content/UAP_retrieval/data/test/oxford5k/jpg/christ_church_000307.jpg', '/content/UAP_retrieval/data/test/oxford5k/jpg/christ_church_000163.jpg', '/content/UAP_retrieval/data/test/oxford5k/jpg/jesus_000333.jpg', '/content/UAP_retrieval/data/test/oxford5k/jpg/magdalen_001157.jpg', '/content/UAP_retrieval/data/test/oxford5k/jpg/oxford_003597.jpg', '/content/UAP_retrieval/data/test/oxford5k/jpg/christ_church_000268.jpg', '/content/UAP_retrieval/data/test/oxford5k/jpg/magdalen_000534.jpg', '/content/UAP_retrieval/data/test/oxford5k/jpg/oxford_002580.jpg', '/content/UAP_retrieval/data/test/oxford5k/jpg/oxford_001654.jpg', '/content/UAP_retrieval/data/test/oxford5k/jpg/oxford_000056.jpg', '/content/UAP_retrieval/data/test/oxford5k/jpg/oxford_003279.jpg', '/content/UAP_retrieval/data/test/oxford5k/jpg/oxford_003137.jpg', '/content/UAP_retrieval/data/test/oxford5k/jpg/christ_church_000721.jpg', '/content/UAP_retrieval/data/test/oxford5k/jpg/oxford_001413.jpg', '/content/UAP_retrieval/data/test/oxford5k/jpg/oxford_002193.jpg', '/content/UAP_retrieval/data/test/oxford5k/jpg/christ_church_000371.jpg', '/content/UAP_retrieval/data/test/oxford5k/jpg/bodleian_000386.jpg', '/content/UAP_retrieval/data/test/oxford5k/jpg/keble_000027.jpg', '/content/UAP_retrieval/data/test/oxford5k/jpg/magdalen_000591.jpg', '/content/UAP_retrieval/data/test/oxford5k/jpg/magdalen_000550.jpg', '/content/UAP_retrieval/data/test/oxford5k/jpg/oxford_001879.jpg', '/content/UAP_retrieval/data/test/oxford5k/jpg/ashmolean_000196.jpg', '/content/UAP_retrieval/data/test/oxford5k/jpg/magdalen_000034.jpg', '/content/UAP_retrieval/data/test/oxford5k/jpg/pitt_rivers_000014.jpg', '/content/UAP_retrieval/data/test/oxford5k/jpg/magdalen_000449.jpg', '/content/UAP_retrieval/data/test/oxford5k/jpg/magdalen_000299.jpg', '/content/UAP_retrieval/data/test/oxford5k/jpg/oxford_002422.jpg', '/content/UAP_retrieval/data/test/oxford5k/jpg/magdalen_001001.jpg', '/content/UAP_retrieval/data/test/oxford5k/jpg/new_000391.jpg', '/content/UAP_retrieval/data/test/oxford5k/jpg/new_000088.jpg', '/content/UAP_retrieval/data/test/oxford5k/jpg/oxford_003006.jpg', '/content/UAP_retrieval/data/test/oxford5k/jpg/trinity_000173.jpg', '/content/UAP_retrieval/data/test/oxford5k/jpg/new_000008.jpg', '/content/UAP_retrieval/data/test/oxford5k/jpg/new_001090.jpg', '/content/UAP_retrieval/data/test/oxford5k/jpg/new_001082.jpg', '/content/UAP_retrieval/data/test/oxford5k/jpg/christ_church_000632.jpg', '/content/UAP_retrieval/data/test/oxford5k/jpg/magdalen_000751.jpg', '/content/UAP_retrieval/data/test/oxford5k/jpg/bodleian_000351.jpg', '/content/UAP_retrieval/data/test/oxford5k/jpg/oxford_001173.jpg', '/content/UAP_retrieval/data/test/oxford5k/jpg/oriel_000002.jpg', '/content/UAP_retrieval/data/test/oxford5k/jpg/magdalen_000713.jpg', '/content/UAP_retrieval/data/test/oxford5k/jpg/jesus_000025.jpg', '/content/UAP_retrieval/data/test/oxford5k/jpg/all_souls_000060.jpg', '/content/UAP_retrieval/data/test/oxford5k/jpg/bodleian_000294.jpg', '/content/UAP_retrieval/data/test/oxford5k/jpg/christ_church_000324.jpg', '/content/UAP_retrieval/data/test/oxford5k/jpg/christ_church_000602.jpg', '/content/UAP_retrieval/data/test/oxford5k/jpg/oriel_000007.jpg', '/content/UAP_retrieval/data/test/oxford5k/jpg/worcester_000121.jpg', '/content/UAP_retrieval/data/test/oxford5k/jpg/new_001057.jpg', '/content/UAP_retrieval/data/test/oxford5k/jpg/oxford_002482.jpg', '/content/UAP_retrieval/data/test/oxford5k/jpg/keble_000042.jpg', '/content/UAP_retrieval/data/test/oxford5k/jpg/oxford_002373.jpg', '/content/UAP_retrieval/data/test/oxford5k/jpg/oxford_002344.jpg', '/content/UAP_retrieval/data/test/oxford5k/jpg/magdalen_000451.jpg', '/content/UAP_retrieval/data/test/oxford5k/jpg/magdalen_001147.jpg', '/content/UAP_retrieval/data/test/oxford5k/jpg/trinity_000310.jpg', '/content/UAP_retrieval/data/test/oxford5k/jpg/magdalen_000308.jpg', '/content/UAP_retrieval/data/test/oxford5k/jpg/balliol_000035.jpg', '/content/UAP_retrieval/data/test/oxford5k/jpg/radcliffe_camera_000295.jpg', '/content/UAP_retrieval/data/test/oxford5k/jpg/oxford_002238.jpg', '/content/UAP_retrieval/data/test/oxford5k/jpg/new_000810.jpg', '/content/UAP_retrieval/data/test/oxford5k/jpg/bodleian_000207.jpg', '/content/UAP_retrieval/data/test/oxford5k/jpg/radcliffe_camera_000530.jpg', '/content/UAP_retrieval/data/test/oxford5k/jpg/oxford_000318.jpg', '/content/UAP_retrieval/data/test/oxford5k/jpg/oxford_001803.jpg', '/content/UAP_retrieval/data/test/oxford5k/jpg/new_000951.jpg', '/content/UAP_retrieval/data/test/oxford5k/jpg/radcliffe_camera_000258.jpg', '/content/UAP_retrieval/data/test/oxford5k/jpg/christ_church_000269.jpg', '/content/UAP_retrieval/data/test/oxford5k/jpg/radcliffe_camera_000426.jpg', '/content/UAP_retrieval/data/test/oxford5k/jpg/ashmolean_000090.jpg', '/content/UAP_retrieval/data/test/oxford5k/jpg/oxford_001750.jpg', '/content/UAP_retrieval/data/test/oxford5k/jpg/oxford_003506.jpg', '/content/UAP_retrieval/data/test/oxford5k/jpg/christ_church_001019.jpg', '/content/UAP_retrieval/data/test/oxford5k/jpg/christ_church_000989.jpg', '/content/UAP_retrieval/data/test/oxford5k/jpg/trinity_000058.jpg', '/content/UAP_retrieval/data/test/oxford5k/jpg/oxford_000259.jpg', '/content/UAP_retrieval/data/test/oxford5k/jpg/christ_church_000160.jpg', '/content/UAP_retrieval/data/test/oxford5k/jpg/oxford_003341.jpg', '/content/UAP_retrieval/data/test/oxford5k/jpg/keble_000032.jpg', '/content/UAP_retrieval/data/test/oxford5k/jpg/jesus_000294.jpg', '/content/UAP_retrieval/data/test/oxford5k/jpg/oriel_000074.jpg', '/content/UAP_retrieval/data/test/oxford5k/jpg/balliol_000136.jpg', '/content/UAP_retrieval/data/test/oxford5k/jpg/oxford_001833.jpg', '/content/UAP_retrieval/data/test/oxford5k/jpg/magdalen_000595.jpg', '/content/UAP_retrieval/data/test/oxford5k/jpg/magdalen_000875.jpg', '/content/UAP_retrieval/data/test/oxford5k/jpg/oxford_001567.jpg', '/content/UAP_retrieval/data/test/oxford5k/jpg/christ_church_000430.jpg', '/content/UAP_retrieval/data/test/oxford5k/jpg/oxford_000865.jpg', '/content/UAP_retrieval/data/test/oxford5k/jpg/bodleian_000000.jpg', '/content/UAP_retrieval/data/test/oxford5k/jpg/magdalen_000274.jpg', '/content/UAP_retrieval/data/test/oxford5k/jpg/radcliffe_camera_000113.jpg', '/content/UAP_retrieval/data/test/oxford5k/jpg/oxford_001122.jpg', '/content/UAP_retrieval/data/test/oxford5k/jpg/oxford_003248.jpg', '/content/UAP_retrieval/data/test/oxford5k/jpg/ashmolean_000213.jpg', '/content/UAP_retrieval/data/test/oxford5k/jpg/new_000905.jpg', '/content/UAP_retrieval/data/test/oxford5k/jpg/magdalen_000141.jpg', '/content/UAP_retrieval/data/test/oxford5k/jpg/ashmolean_000232.jpg', '/content/UAP_retrieval/data/test/oxford5k/jpg/new_001048.jpg', '/content/UAP_retrieval/data/test/oxford5k/jpg/oxford_001770.jpg', '/content/UAP_retrieval/data/test/oxford5k/jpg/oxford_000522.jpg', '/content/UAP_retrieval/data/test/oxford5k/jpg/christ_church_000339.jpg', '/content/UAP_retrieval/data/test/oxford5k/jpg/radcliffe_camera_000155.jpg', '/content/UAP_retrieval/data/test/oxford5k/jpg/ashmolean_000201.jpg', '/content/UAP_retrieval/data/test/oxford5k/jpg/oxford_001356.jpg', '/content/UAP_retrieval/data/test/oxford5k/jpg/worcester_000198.jpg', '/content/UAP_retrieval/data/test/oxford5k/jpg/oxford_002639.jpg', '/content/UAP_retrieval/data/test/oxford5k/jpg/all_souls_000055.jpg', '/content/UAP_retrieval/data/test/oxford5k/jpg/christ_church_000920.jpg', '/content/UAP_retrieval/data/test/oxford5k/jpg/keble_000188.jpg', '/content/UAP_retrieval/data/test/oxford5k/jpg/ashmolean_000273.jpg', '/content/UAP_retrieval/data/test/oxford5k/jpg/new_000979.jpg', '/content/UAP_retrieval/data/test/oxford5k/jpg/magdalen_000229.jpg', '/content/UAP_retrieval/data/test/oxford5k/jpg/ashmolean_000224.jpg', '/content/UAP_retrieval/data/test/oxford5k/jpg/new_000421.jpg', '/content/UAP_retrieval/data/test/oxford5k/jpg/oxford_002351.jpg', '/content/UAP_retrieval/data/test/oxford5k/jpg/christ_church_001022.jpg', '/content/UAP_retrieval/data/test/oxford5k/jpg/oxford_003060.jpg', '/content/UAP_retrieval/data/test/oxford5k/jpg/oxford_003453.jpg', '/content/UAP_retrieval/data/test/oxford5k/jpg/oxford_001360.jpg', '/content/UAP_retrieval/data/test/oxford5k/jpg/christ_church_000310.jpg', '/content/UAP_retrieval/data/test/oxford5k/jpg/christ_church_000144.jpg', '/content/UAP_retrieval/data/test/oxford5k/jpg/bodleian_000303.jpg', '/content/UAP_retrieval/data/test/oxford5k/jpg/trinity_000017.jpg', '/content/UAP_retrieval/data/test/oxford5k/jpg/oxford_002375.jpg', '/content/UAP_retrieval/data/test/oxford5k/jpg/bodleian_000085.jpg', '/content/UAP_retrieval/data/test/oxford5k/jpg/magdalen_000679.jpg', '/content/UAP_retrieval/data/test/oxford5k/jpg/christ_church_000844.jpg', '/content/UAP_retrieval/data/test/oxford5k/jpg/christ_church_000416.jpg', '/content/UAP_retrieval/data/test/oxford5k/jpg/oxford_002089.jpg', '/content/UAP_retrieval/data/test/oxford5k/jpg/keble_000207.jpg', '/content/UAP_retrieval/data/test/oxford5k/jpg/pitt_rivers_000137.jpg', '/content/UAP_retrieval/data/test/oxford5k/jpg/christ_church_000446.jpg', '/content/UAP_retrieval/data/test/oxford5k/jpg/oxford_002145.jpg', '/content/UAP_retrieval/data/test/oxford5k/jpg/christ_church_001094.jpg', '/content/UAP_retrieval/data/test/oxford5k/jpg/oxford_000130.jpg', '/content/UAP_retrieval/data/test/oxford5k/jpg/oxford_001508.jpg', '/content/UAP_retrieval/data/test/oxford5k/jpg/radcliffe_camera_000103.jpg', '/content/UAP_retrieval/data/test/oxford5k/jpg/oxford_001443.jpg', '/content/UAP_retrieval/data/test/oxford5k/jpg/trinity_000024.jpg', '/content/UAP_retrieval/data/test/oxford5k/jpg/new_001097.jpg', '/content/UAP_retrieval/data/test/oxford5k/jpg/oxford_002908.jpg', '/content/UAP_retrieval/data/test/oxford5k/jpg/worcester_000075.jpg', '/content/UAP_retrieval/data/test/oxford5k/jpg/oxford_002171.jpg', '/content/UAP_retrieval/data/test/oxford5k/jpg/oxford_002733.jpg', '/content/UAP_retrieval/data/test/oxford5k/jpg/trinity_000302.jpg', '/content/UAP_retrieval/data/test/oxford5k/jpg/ashmolean_000229.jpg', '/content/UAP_retrieval/data/test/oxford5k/jpg/oriel_000121.jpg', '/content/UAP_retrieval/data/test/oxford5k/jpg/jesus_000134.jpg', '/content/UAP_retrieval/data/test/oxford5k/jpg/magdalen_000943.jpg', '/content/UAP_retrieval/data/test/oxford5k/jpg/all_souls_000044.jpg', '/content/UAP_retrieval/data/test/oxford5k/jpg/pitt_rivers_000017.jpg', '/content/UAP_retrieval/data/test/oxford5k/jpg/new_000199.jpg', '/content/UAP_retrieval/data/test/oxford5k/jpg/radcliffe_camera_000410.jpg', '/content/UAP_retrieval/data/test/oxford5k/jpg/jesus_000292.jpg', '/content/UAP_retrieval/data/test/oxford5k/jpg/oxford_003569.jpg', '/content/UAP_retrieval/data/test/oxford5k/jpg/oxford_000091.jpg', '/content/UAP_retrieval/data/test/oxford5k/jpg/oxford_002500.jpg', '/content/UAP_retrieval/data/test/oxford5k/jpg/oxford_002357.jpg', '/content/UAP_retrieval/data/test/oxford5k/jpg/oxford_002539.jpg', '/content/UAP_retrieval/data/test/oxford5k/jpg/ashmolean_000125.jpg', '/content/UAP_retrieval/data/test/oxford5k/jpg/radcliffe_camera_000283.jpg', '/content/UAP_retrieval/data/test/oxford5k/jpg/keble_000047.jpg', '/content/UAP_retrieval/data/test/oxford5k/jpg/radcliffe_camera_000439.jpg', '/content/UAP_retrieval/data/test/oxford5k/jpg/new_000325.jpg', '/content/UAP_retrieval/data/test/oxford5k/jpg/magdalen_000178.jpg', '/content/UAP_retrieval/data/test/oxford5k/jpg/all_souls_000186.jpg', '/content/UAP_retrieval/data/test/oxford5k/jpg/keble_000023.jpg', '/content/UAP_retrieval/data/test/oxford5k/jpg/trinity_000371.jpg', '/content/UAP_retrieval/data/test/oxford5k/jpg/oxford_002307.jpg', '/content/UAP_retrieval/data/test/oxford5k/jpg/oxford_003343.jpg', '/content/UAP_retrieval/data/test/oxford5k/jpg/balliol_000057.jpg', '/content/UAP_retrieval/data/test/oxford5k/jpg/oxford_000869.jpg', '/content/UAP_retrieval/data/test/oxford5k/jpg/oxford_000414.jpg', '/content/UAP_retrieval/data/test/oxford5k/jpg/jesus_000038.jpg', '/content/UAP_retrieval/data/test/oxford5k/jpg/oxford_001193.jpg', '/content/UAP_retrieval/data/test/oxford5k/jpg/magdalen_000073.jpg', '/content/UAP_retrieval/data/test/oxford5k/jpg/magdalen_000072.jpg', '/content/UAP_retrieval/data/test/oxford5k/jpg/worcester_000122.jpg', '/content/UAP_retrieval/data/test/oxford5k/jpg/ashmolean_000150.jpg', '/content/UAP_retrieval/data/test/oxford5k/jpg/magdalen_000545.jpg', '/content/UAP_retrieval/data/test/oxford5k/jpg/magdalen_000495.jpg', '/content/UAP_retrieval/data/test/oxford5k/jpg/bodleian_000187.jpg', '/content/UAP_retrieval/data/test/oxford5k/jpg/oxford_001829.jpg', '/content/UAP_retrieval/data/test/oxford5k/jpg/oxford_003407.jpg', '/content/UAP_retrieval/data/test/oxford5k/jpg/oxford_002007.jpg', '/content/UAP_retrieval/data/test/oxford5k/jpg/christ_church_000049.jpg', '/content/UAP_retrieval/data/test/oxford5k/jpg/ashmolean_000209.jpg', '/content/UAP_retrieval/data/test/oxford5k/jpg/oxford_002517.jpg', '/content/UAP_retrieval/data/test/oxford5k/jpg/new_000904.jpg', '/content/UAP_retrieval/data/test/oxford5k/jpg/new_000136.jpg', '/content/UAP_retrieval/data/test/oxford5k/jpg/trinity_000225.jpg', '/content/UAP_retrieval/data/test/oxford5k/jpg/all_souls_000142.jpg', '/content/UAP_retrieval/data/test/oxford5k/jpg/magdalen_000002.jpg', '/content/UAP_retrieval/data/test/oxford5k/jpg/oxford_003478.jpg', '/content/UAP_retrieval/data/test/oxford5k/jpg/oxford_000457.jpg', '/content/UAP_retrieval/data/test/oxford5k/jpg/bodleian_000320.jpg', '/content/UAP_retrieval/data/test/oxford5k/jpg/oxford_001480.jpg', '/content/UAP_retrieval/data/test/oxford5k/jpg/oxford_001167.jpg', '/content/UAP_retrieval/data/test/oxford5k/jpg/oxford_002977.jpg', '/content/UAP_retrieval/data/test/oxford5k/jpg/oxford_003009.jpg', '/content/UAP_retrieval/data/test/oxford5k/jpg/christ_church_000956.jpg', '/content/UAP_retrieval/data/test/oxford5k/jpg/keble_000021.jpg', '/content/UAP_retrieval/data/test/oxford5k/jpg/christ_church_000408.jpg', '/content/UAP_retrieval/data/test/oxford5k/jpg/oxford_000188.jpg', '/content/UAP_retrieval/data/test/oxford5k/jpg/christ_church_000836.jpg', '/content/UAP_retrieval/data/test/oxford5k/jpg/oxford_002243.jpg', '/content/UAP_retrieval/data/test/oxford5k/jpg/oxford_003328.jpg', '/content/UAP_retrieval/data/test/oxford5k/jpg/oxford_002355.jpg', '/content/UAP_retrieval/data/test/oxford5k/jpg/new_000004.jpg', '/content/UAP_retrieval/data/test/oxford5k/jpg/magdalen_000144.jpg', '/content/UAP_retrieval/data/test/oxford5k/jpg/christ_church_000374.jpg', '/content/UAP_retrieval/data/test/oxford5k/jpg/oxford_001922.jpg', '/content/UAP_retrieval/data/test/oxford5k/jpg/new_000746.jpg', '/content/UAP_retrieval/data/test/oxford5k/jpg/all_souls_000028.jpg', '/content/UAP_retrieval/data/test/oxford5k/jpg/magdalen_000942.jpg', '/content/UAP_retrieval/data/test/oxford5k/jpg/oxford_001789.jpg', '/content/UAP_retrieval/data/test/oxford5k/jpg/magdalen_000365.jpg', '/content/UAP_retrieval/data/test/oxford5k/jpg/oxford_002860.jpg', '/content/UAP_retrieval/data/test/oxford5k/jpg/oxford_001427.jpg', '/content/UAP_retrieval/data/test/oxford5k/jpg/hertford_000073.jpg', '/content/UAP_retrieval/data/test/oxford5k/jpg/new_000370.jpg', '/content/UAP_retrieval/data/test/oxford5k/jpg/new_000026.jpg', '/content/UAP_retrieval/data/test/oxford5k/jpg/balliol_000213.jpg', '/content/UAP_retrieval/data/test/oxford5k/jpg/oxford_001636.jpg', '/content/UAP_retrieval/data/test/oxford5k/jpg/magdalen_001032.jpg', '/content/UAP_retrieval/data/test/oxford5k/jpg/oxford_003513.jpg', '/content/UAP_retrieval/data/test/oxford5k/jpg/bodleian_000238.jpg', '/content/UAP_retrieval/data/test/oxford5k/jpg/keble_000070.jpg', '/content/UAP_retrieval/data/test/oxford5k/jpg/magdalen_000747.jpg', '/content/UAP_retrieval/data/test/oxford5k/jpg/oriel_000022.jpg', '/content/UAP_retrieval/data/test/oxford5k/jpg/oxford_001751.jpg', '/content/UAP_retrieval/data/test/oxford5k/jpg/magdalen_001014.jpg', '/content/UAP_retrieval/data/test/oxford5k/jpg/oxford_003657.jpg', '/content/UAP_retrieval/data/test/oxford5k/jpg/ashmolean_000148.jpg', '/content/UAP_retrieval/data/test/oxford5k/jpg/trinity_000001.jpg', '/content/UAP_retrieval/data/test/oxford5k/jpg/oxford_000377.jpg', '/content/UAP_retrieval/data/test/oxford5k/jpg/balliol_000097.jpg', '/content/UAP_retrieval/data/test/oxford5k/jpg/bodleian_000070.jpg', '/content/UAP_retrieval/data/test/oxford5k/jpg/christ_church_000762.jpg', '/content/UAP_retrieval/data/test/oxford5k/jpg/radcliffe_camera_000172.jpg', '/content/UAP_retrieval/data/test/oxford5k/jpg/oxford_002518.jpg', '/content/UAP_retrieval/data/test/oxford5k/jpg/oxford_002470.jpg', '/content/UAP_retrieval/data/test/oxford5k/jpg/oxford_000753.jpg', '/content/UAP_retrieval/data/test/oxford5k/jpg/ashmolean_000220.jpg', '/content/UAP_retrieval/data/test/oxford5k/jpg/jesus_000099.jpg', '/content/UAP_retrieval/data/test/oxford5k/jpg/bodleian_000016.jpg', '/content/UAP_retrieval/data/test/oxford5k/jpg/all_souls_000130.jpg', '/content/UAP_retrieval/data/test/oxford5k/jpg/christ_church_000400.jpg', '/content/UAP_retrieval/data/test/oxford5k/jpg/oxford_000705.jpg', '/content/UAP_retrieval/data/test/oxford5k/jpg/trinity_000040.jpg', '/content/UAP_retrieval/data/test/oxford5k/jpg/oxford_003135.jpg', '/content/UAP_retrieval/data/test/oxford5k/jpg/magdalen_000332.jpg', '/content/UAP_retrieval/data/test/oxford5k/jpg/bodleian_000246.jpg', '/content/UAP_retrieval/data/test/oxford5k/jpg/trinity_000335.jpg', '/content/UAP_retrieval/data/test/oxford5k/jpg/christ_church_000539.jpg', '/content/UAP_retrieval/data/test/oxford5k/jpg/oxford_003515.jpg', '/content/UAP_retrieval/data/test/oxford5k/jpg/radcliffe_camera_000269.jpg', '/content/UAP_retrieval/data/test/oxford5k/jpg/oxford_002905.jpg', '/content/UAP_retrieval/data/test/oxford5k/jpg/oxford_003647.jpg', '/content/UAP_retrieval/data/test/oxford5k/jpg/ashmolean_000122.jpg', '/content/UAP_retrieval/data/test/oxford5k/jpg/jesus_000014.jpg', '/content/UAP_retrieval/data/test/oxford5k/jpg/oxford_000138.jpg', '/content/UAP_retrieval/data/test/oxford5k/jpg/bodleian_000116.jpg', '/content/UAP_retrieval/data/test/oxford5k/jpg/oxford_002667.jpg', '/content/UAP_retrieval/data/test/oxford5k/jpg/oxford_000610.jpg', '/content/UAP_retrieval/data/test/oxford5k/jpg/oxford_000902.jpg', '/content/UAP_retrieval/data/test/oxford5k/jpg/oxford_000901.jpg', '/content/UAP_retrieval/data/test/oxford5k/jpg/new_000884.jpg', '/content/UAP_retrieval/data/test/oxford5k/jpg/cornmarket_000107.jpg', '/content/UAP_retrieval/data/test/oxford5k/jpg/trinity_000319.jpg', '/content/UAP_retrieval/data/test/oxford5k/jpg/oxford_000626.jpg', '/content/UAP_retrieval/data/test/oxford5k/jpg/all_souls_000012.jpg', '/content/UAP_retrieval/data/test/oxford5k/jpg/oxford_001710.jpg', '/content/UAP_retrieval/data/test/oxford5k/jpg/magdalen_000618.jpg', '/content/UAP_retrieval/data/test/oxford5k/jpg/christ_church_000418.jpg', '/content/UAP_retrieval/data/test/oxford5k/jpg/oxford_002646.jpg', '/content/UAP_retrieval/data/test/oxford5k/jpg/balliol_000191.jpg', '/content/UAP_retrieval/data/test/oxford5k/jpg/new_000725.jpg', '/content/UAP_retrieval/data/test/oxford5k/jpg/new_001112.jpg', '/content/UAP_retrieval/data/test/oxford5k/jpg/magdalen_000528.jpg', '/content/UAP_retrieval/data/test/oxford5k/jpg/oxford_003179.jpg', '/content/UAP_retrieval/data/test/oxford5k/jpg/magdalen_000992.jpg', '/content/UAP_retrieval/data/test/oxford5k/jpg/oxford_002734.jpg', '/content/UAP_retrieval/data/test/oxford5k/jpg/christ_church_000059.jpg', '/content/UAP_retrieval/data/test/oxford5k/jpg/oxford_000574.jpg', '/content/UAP_retrieval/data/test/oxford5k/jpg/oxford_000114.jpg', '/content/UAP_retrieval/data/test/oxford5k/jpg/bodleian_000407.jpg', '/content/UAP_retrieval/data/test/oxford5k/jpg/oxford_001359.jpg', '/content/UAP_retrieval/data/test/oxford5k/jpg/magdalen_000266.jpg', '/content/UAP_retrieval/data/test/oxford5k/jpg/bodleian_000232.jpg', '/content/UAP_retrieval/data/test/oxford5k/jpg/new_000185.jpg', '/content/UAP_retrieval/data/test/oxford5k/jpg/keble_000038.jpg', '/content/UAP_retrieval/data/test/oxford5k/jpg/oxford_002036.jpg', '/content/UAP_retrieval/data/test/oxford5k/jpg/oxford_002839.jpg', '/content/UAP_retrieval/data/test/oxford5k/jpg/oxford_000082.jpg', '/content/UAP_retrieval/data/test/oxford5k/jpg/radcliffe_camera_000362.jpg', '/content/UAP_retrieval/data/test/oxford5k/jpg/magdalen_000247.jpg', '/content/UAP_retrieval/data/test/oxford5k/jpg/worcester_000069.jpg', '/content/UAP_retrieval/data/test/oxford5k/jpg/jesus_000357.jpg', '/content/UAP_retrieval/data/test/oxford5k/jpg/oxford_003235.jpg', '/content/UAP_retrieval/data/test/oxford5k/jpg/trinity_000321.jpg', '/content/UAP_retrieval/data/test/oxford5k/jpg/oxford_000637.jpg', '/content/UAP_retrieval/data/test/oxford5k/jpg/new_001094.jpg', '/content/UAP_retrieval/data/test/oxford5k/jpg/christ_church_000626.jpg', '/content/UAP_retrieval/data/test/oxford5k/jpg/new_000805.jpg', '/content/UAP_retrieval/data/test/oxford5k/jpg/ashmolean_000262.jpg', '/content/UAP_retrieval/data/test/oxford5k/jpg/oxford_000296.jpg', '/content/UAP_retrieval/data/test/oxford5k/jpg/all_souls_000162.jpg', '/content/UAP_retrieval/data/test/oxford5k/jpg/bodleian_000378.jpg', '/content/UAP_retrieval/data/test/oxford5k/jpg/new_000223.jpg', '/content/UAP_retrieval/data/test/oxford5k/jpg/magdalen_000702.jpg', '/content/UAP_retrieval/data/test/oxford5k/jpg/oxford_002951.jpg', '/content/UAP_retrieval/data/test/oxford5k/jpg/pitt_rivers_000142.jpg', '/content/UAP_retrieval/data/test/oxford5k/jpg/balliol_000103.jpg', '/content/UAP_retrieval/data/test/oxford5k/jpg/bodleian_000014.jpg', '/content/UAP_retrieval/data/test/oxford5k/jpg/all_souls_000027.jpg', '/content/UAP_retrieval/data/test/oxford5k/jpg/bodleian_000425.jpg', '/content/UAP_retrieval/data/test/oxford5k/jpg/ashmolean_000179.jpg', '/content/UAP_retrieval/data/test/oxford5k/jpg/christ_church_000222.jpg', '/content/UAP_retrieval/data/test/oxford5k/jpg/radcliffe_camera_000015.jpg', '/content/UAP_retrieval/data/test/oxford5k/jpg/radcliffe_camera_000463.jpg', '/content/UAP_retrieval/data/test/oxford5k/jpg/keble_000126.jpg', '/content/UAP_retrieval/data/test/oxford5k/jpg/ashmolean_000116.jpg', '/content/UAP_retrieval/data/test/oxford5k/jpg/all_souls_000220.jpg', '/content/UAP_retrieval/data/test/oxford5k/jpg/pitt_rivers_000077.jpg', '/content/UAP_retrieval/data/test/oxford5k/jpg/new_000164.jpg', '/content/UAP_retrieval/data/test/oxford5k/jpg/christ_church_000414.jpg', '/content/UAP_retrieval/data/test/oxford5k/jpg/oxford_001436.jpg', '/content/UAP_retrieval/data/test/oxford5k/jpg/bodleian_000405.jpg', '/content/UAP_retrieval/data/test/oxford5k/jpg/christ_church_000661.jpg', '/content/UAP_retrieval/data/test/oxford5k/jpg/oxford_000487.jpg', '/content/UAP_retrieval/data/test/oxford5k/jpg/hertford_000035.jpg', '/content/UAP_retrieval/data/test/oxford5k/jpg/magdalen_001007.jpg', '/content/UAP_retrieval/data/test/oxford5k/jpg/ashmolean_000174.jpg', '/content/UAP_retrieval/data/test/oxford5k/jpg/christ_church_001062.jpg', '/content/UAP_retrieval/data/test/oxford5k/jpg/oxford_003095.jpg', '/content/UAP_retrieval/data/test/oxford5k/jpg/trinity_000227.jpg', '/content/UAP_retrieval/data/test/oxford5k/jpg/oriel_000102.jpg', '/content/UAP_retrieval/data/test/oxford5k/jpg/oxford_003482.jpg', '/content/UAP_retrieval/data/test/oxford5k/jpg/christ_church_000288.jpg', '/content/UAP_retrieval/data/test/oxford5k/jpg/new_000731.jpg', '/content/UAP_retrieval/data/test/oxford5k/jpg/balliol_000056.jpg', '/content/UAP_retrieval/data/test/oxford5k/jpg/new_000877.jpg', '/content/UAP_retrieval/data/test/oxford5k/jpg/magdalen_000202.jpg', '/content/UAP_retrieval/data/test/oxford5k/jpg/oxford_002174.jpg', '/content/UAP_retrieval/data/test/oxford5k/jpg/oxford_000975.jpg', '/content/UAP_retrieval/data/test/oxford5k/jpg/oxford_000374.jpg', '/content/UAP_retrieval/data/test/oxford5k/jpg/oxford_000699.jpg', '/content/UAP_retrieval/data/test/oxford5k/jpg/balliol_000013.jpg', '/content/UAP_retrieval/data/test/oxford5k/jpg/magdalen_001119.jpg', '/content/UAP_retrieval/data/test/oxford5k/jpg/new_000475.jpg', '/content/UAP_retrieval/data/test/oxford5k/jpg/radcliffe_camera_000301.jpg', '/content/UAP_retrieval/data/test/oxford5k/jpg/radcliffe_camera_000456.jpg', '/content/UAP_retrieval/data/test/oxford5k/jpg/balliol_000054.jpg', '/content/UAP_retrieval/data/test/oxford5k/jpg/magdalen_000224.jpg', '/content/UAP_retrieval/data/test/oxford5k/jpg/oxford_001139.jpg', '/content/UAP_retrieval/data/test/oxford5k/jpg/magdalen_000582.jpg', '/content/UAP_retrieval/data/test/oxford5k/jpg/balliol_000194.jpg', '/content/UAP_retrieval/data/test/oxford5k/jpg/oxford_001905.jpg', '/content/UAP_retrieval/data/test/oxford5k/jpg/magdalen_000727.jpg', '/content/UAP_retrieval/data/test/oxford5k/jpg/christ_church_001149.jpg', '/content/UAP_retrieval/data/test/oxford5k/jpg/oxford_003681.jpg', '/content/UAP_retrieval/data/test/oxford5k/jpg/christ_church_000279.jpg', '/content/UAP_retrieval/data/test/oxford5k/jpg/keble_000062.jpg', '/content/UAP_retrieval/data/test/oxford5k/jpg/oxford_000011.jpg', '/content/UAP_retrieval/data/test/oxford5k/jpg/christ_church_000424.jpg', '/content/UAP_retrieval/data/test/oxford5k/jpg/magdalen_001055.jpg', '/content/UAP_retrieval/data/test/oxford5k/jpg/oxford_002896.jpg', '/content/UAP_retrieval/data/test/oxford5k/jpg/ashmolean_000244.jpg', '/content/UAP_retrieval/data/test/oxford5k/jpg/oxford_003178.jpg', '/content/UAP_retrieval/data/test/oxford5k/jpg/jesus_000315.jpg', '/content/UAP_retrieval/data/test/oxford5k/jpg/ashmolean_000003.jpg', '/content/UAP_retrieval/data/test/oxford5k/jpg/oxford_001175.jpg', '/content/UAP_retrieval/data/test/oxford5k/jpg/jesus_000003.jpg', '/content/UAP_retrieval/data/test/oxford5k/jpg/oxford_000010.jpg', '/content/UAP_retrieval/data/test/oxford5k/jpg/radcliffe_camera_000094.jpg', '/content/UAP_retrieval/data/test/oxford5k/jpg/pitt_rivers_000146.jpg', '/content/UAP_retrieval/data/test/oxford5k/jpg/radcliffe_camera_000107.jpg', '/content/UAP_retrieval/data/test/oxford5k/jpg/oxford_002198.jpg', '/content/UAP_retrieval/data/test/oxford5k/jpg/christ_church_000361.jpg', '/content/UAP_retrieval/data/test/oxford5k/jpg/magdalen_000276.jpg', '/content/UAP_retrieval/data/test/oxford5k/jpg/oxford_000708.jpg', '/content/UAP_retrieval/data/test/oxford5k/jpg/bodleian_000328.jpg', '/content/UAP_retrieval/data/test/oxford5k/jpg/radcliffe_camera_000239.jpg', '/content/UAP_retrieval/data/test/oxford5k/jpg/magdalen_000165.jpg', '/content/UAP_retrieval/data/test/oxford5k/jpg/magdalen_000245.jpg', '/content/UAP_retrieval/data/test/oxford5k/jpg/oxford_002662.jpg', '/content/UAP_retrieval/data/test/oxford5k/jpg/oxford_001649.jpg', '/content/UAP_retrieval/data/test/oxford5k/jpg/oxford_001341.jpg', '/content/UAP_retrieval/data/test/oxford5k/jpg/bodleian_000025.jpg', '/content/UAP_retrieval/data/test/oxford5k/jpg/oxford_001382.jpg', '/content/UAP_retrieval/data/test/oxford5k/jpg/oxford_000317.jpg', '/content/UAP_retrieval/data/test/oxford5k/jpg/oxford_002319.jpg', '/content/UAP_retrieval/data/test/oxford5k/jpg/christ_church_000542.jpg', '/content/UAP_retrieval/data/test/oxford5k/jpg/oxford_003403.jpg', '/content/UAP_retrieval/data/test/oxford5k/jpg/all_souls_000091.jpg', '/content/UAP_retrieval/data/test/oxford5k/jpg/trinity_000237.jpg', '/content/UAP_retrieval/data/test/oxford5k/jpg/oxford_002279.jpg', '/content/UAP_retrieval/data/test/oxford5k/jpg/trinity_000130.jpg', '/content/UAP_retrieval/data/test/oxford5k/jpg/oxford_000741.jpg', '/content/UAP_retrieval/data/test/oxford5k/jpg/magdalen_000645.jpg', '/content/UAP_retrieval/data/test/oxford5k/jpg/magdalen_000282.jpg', '/content/UAP_retrieval/data/test/oxford5k/jpg/oxford_000752.jpg', '/content/UAP_retrieval/data/test/oxford5k/jpg/jesus_000122.jpg', '/content/UAP_retrieval/data/test/oxford5k/jpg/oxford_003366.jpg', '/content/UAP_retrieval/data/test/oxford5k/jpg/christ_church_000304.jpg', '/content/UAP_retrieval/data/test/oxford5k/jpg/all_souls_000120.jpg', '/content/UAP_retrieval/data/test/oxford5k/jpg/oxford_000579.jpg', '/content/UAP_retrieval/data/test/oxford5k/jpg/new_000646.jpg', '/content/UAP_retrieval/data/test/oxford5k/jpg/oxford_000704.jpg', '/content/UAP_retrieval/data/test/oxford5k/jpg/oxford_003299.jpg', '/content/UAP_retrieval/data/test/oxford5k/jpg/new_000860.jpg', '/content/UAP_retrieval/data/test/oxford5k/jpg/balliol_000039.jpg', '/content/UAP_retrieval/data/test/oxford5k/jpg/magdalen_001094.jpg', '/content/UAP_retrieval/data/test/oxford5k/jpg/jesus_000056.jpg', '/content/UAP_retrieval/data/test/oxford5k/jpg/magdalen_001008.jpg', '/content/UAP_retrieval/data/test/oxford5k/jpg/christ_church_000758.jpg', '/content/UAP_retrieval/data/test/oxford5k/jpg/magdalen_001060.jpg', '/content/UAP_retrieval/data/test/oxford5k/jpg/oriel_000106.jpg', '/content/UAP_retrieval/data/test/oxford5k/jpg/oxford_000636.jpg', '/content/UAP_retrieval/data/test/oxford5k/jpg/oxford_000423.jpg', '/content/UAP_retrieval/data/test/oxford5k/jpg/balliol_000066.jpg', '/content/UAP_retrieval/data/test/oxford5k/jpg/balliol_000119.jpg', '/content/UAP_retrieval/data/test/oxford5k/jpg/new_000811.jpg', '/content/UAP_retrieval/data/test/oxford5k/jpg/oxford_002499.jpg', '/content/UAP_retrieval/data/test/oxford5k/jpg/magdalen_000005.jpg', '/content/UAP_retrieval/data/test/oxford5k/jpg/magdalen_000803.jpg', '/content/UAP_retrieval/data/test/oxford5k/jpg/magdalen_000520.jpg', '/content/UAP_retrieval/data/test/oxford5k/jpg/oxford_001152.jpg', '/content/UAP_retrieval/data/test/oxford5k/jpg/new_000108.jpg', '/content/UAP_retrieval/data/test/oxford5k/jpg/all_souls_000219.jpg', '/content/UAP_retrieval/data/test/oxford5k/jpg/oxford_002190.jpg', '/content/UAP_retrieval/data/test/oxford5k/jpg/oxford_002361.jpg', '/content/UAP_retrieval/data/test/oxford5k/jpg/oxford_003015.jpg', '/content/UAP_retrieval/data/test/oxford5k/jpg/cornmarket_000065.jpg', '/content/UAP_retrieval/data/test/oxford5k/jpg/radcliffe_camera_000416.jpg', '/content/UAP_retrieval/data/test/oxford5k/jpg/bodleian_000324.jpg', '/content/UAP_retrieval/data/test/oxford5k/jpg/all_souls_000073.jpg', '/content/UAP_retrieval/data/test/oxford5k/jpg/magdalen_000826.jpg', '/content/UAP_retrieval/data/test/oxford5k/jpg/magdalen_000748.jpg', '/content/UAP_retrieval/data/test/oxford5k/jpg/keble_000093.jpg', '/content/UAP_retrieval/data/test/oxford5k/jpg/new_000613.jpg', '/content/UAP_retrieval/data/test/oxford5k/jpg/christ_church_000319.jpg', '/content/UAP_retrieval/data/test/oxford5k/jpg/christ_church_000976.jpg', '/content/UAP_retrieval/data/test/oxford5k/jpg/new_000961.jpg', '/content/UAP_retrieval/data/test/oxford5k/jpg/christ_church_000718.jpg', '/content/UAP_retrieval/data/test/oxford5k/jpg/oxford_000019.jpg', '/content/UAP_retrieval/data/test/oxford5k/jpg/magdalen_000316.jpg', '/content/UAP_retrieval/data/test/oxford5k/jpg/magdalen_000187.jpg', '/content/UAP_retrieval/data/test/oxford5k/jpg/magdalen_000508.jpg', '/content/UAP_retrieval/data/test/oxford5k/jpg/trinity_000069.jpg', '/content/UAP_retrieval/data/test/oxford5k/jpg/christ_church_000316.jpg', '/content/UAP_retrieval/data/test/oxford5k/jpg/pitt_rivers_000112.jpg', '/content/UAP_retrieval/data/test/oxford5k/jpg/balliol_000079.jpg', '/content/UAP_retrieval/data/test/oxford5k/jpg/oxford_002077.jpg', '/content/UAP_retrieval/data/test/oxford5k/jpg/radcliffe_camera_000104.jpg', '/content/UAP_retrieval/data/test/oxford5k/jpg/oxford_003383.jpg', '/content/UAP_retrieval/data/test/oxford5k/jpg/oxford_001535.jpg', '/content/UAP_retrieval/data/test/oxford5k/jpg/oxford_001556.jpg', '/content/UAP_retrieval/data/test/oxford5k/jpg/oxford_002066.jpg', '/content/UAP_retrieval/data/test/oxford5k/jpg/christ_church_000224.jpg', '/content/UAP_retrieval/data/test/oxford5k/jpg/oxford_001190.jpg', '/content/UAP_retrieval/data/test/oxford5k/jpg/radcliffe_camera_000187.jpg', '/content/UAP_retrieval/data/test/oxford5k/jpg/jesus_000037.jpg', '/content/UAP_retrieval/data/test/oxford5k/jpg/oxford_000068.jpg', '/content/UAP_retrieval/data/test/oxford5k/jpg/oxford_002530.jpg', '/content/UAP_retrieval/data/test/oxford5k/jpg/magdalen_000871.jpg', '/content/UAP_retrieval/data/test/oxford5k/jpg/oxford_000389.jpg', '/content/UAP_retrieval/data/test/oxford5k/jpg/new_000983.jpg', '/content/UAP_retrieval/data/test/oxford5k/jpg/christ_church_000619.jpg', '/content/UAP_retrieval/data/test/oxford5k/jpg/oxford_000588.jpg', '/content/UAP_retrieval/data/test/oxford5k/jpg/christ_church_000353.jpg', '/content/UAP_retrieval/data/test/oxford5k/jpg/magdalen_000485.jpg', '/content/UAP_retrieval/data/test/oxford5k/jpg/pitt_rivers_000126.jpg', '/content/UAP_retrieval/data/test/oxford5k/jpg/oxford_002762.jpg', '/content/UAP_retrieval/data/test/oxford5k/jpg/magdalen_000186.jpg', '/content/UAP_retrieval/data/test/oxford5k/jpg/trinity_000226.jpg', '/content/UAP_retrieval/data/test/oxford5k/jpg/oxford_000087.jpg', '/content/UAP_retrieval/data/test/oxford5k/jpg/christ_church_001078.jpg', '/content/UAP_retrieval/data/test/oxford5k/jpg/ashmolean_000301.jpg', '/content/UAP_retrieval/data/test/oxford5k/jpg/oxford_003035.jpg', '/content/UAP_retrieval/data/test/oxford5k/jpg/oxford_000709.jpg', '/content/UAP_retrieval/data/test/oxford5k/jpg/jesus_000286.jpg', '/content/UAP_retrieval/data/test/oxford5k/jpg/oxford_001721.jpg', '/content/UAP_retrieval/data/test/oxford5k/jpg/oxford_001728.jpg', '/content/UAP_retrieval/data/test/oxford5k/jpg/oxford_000316.jpg', '/content/UAP_retrieval/data/test/oxford5k/jpg/oxford_001411.jpg', '/content/UAP_retrieval/data/test/oxford5k/jpg/magdalen_001143.jpg', '/content/UAP_retrieval/data/test/oxford5k/jpg/christ_church_000419.jpg', '/content/UAP_retrieval/data/test/oxford5k/jpg/oxford_000658.jpg', '/content/UAP_retrieval/data/test/oxford5k/jpg/new_000668.jpg', '/content/UAP_retrieval/data/test/oxford5k/jpg/trinity_000282.jpg', '/content/UAP_retrieval/data/test/oxford5k/jpg/ashmolean_000169.jpg', '/content/UAP_retrieval/data/test/oxford5k/jpg/oxford_000504.jpg', '/content/UAP_retrieval/data/test/oxford5k/jpg/keble_000164.jpg', '/content/UAP_retrieval/data/test/oxford5k/jpg/ashmolean_000231.jpg', '/content/UAP_retrieval/data/test/oxford5k/jpg/magdalen_001145.jpg', '/content/UAP_retrieval/data/test/oxford5k/jpg/ashmolean_000230.jpg', '/content/UAP_retrieval/data/test/oxford5k/jpg/radcliffe_camera_000296.jpg', '/content/UAP_retrieval/data/test/oxford5k/jpg/oxford_003331.jpg', '/content/UAP_retrieval/data/test/oxford5k/jpg/oxford_000177.jpg', '/content/UAP_retrieval/data/test/oxford5k/jpg/oxford_000169.jpg', '/content/UAP_retrieval/data/test/oxford5k/jpg/oxford_000560.jpg', '/content/UAP_retrieval/data/test/oxford5k/jpg/pitt_rivers_000163.jpg', '/content/UAP_retrieval/data/test/oxford5k/jpg/christ_church_000630.jpg', '/content/UAP_retrieval/data/test/oxford5k/jpg/oxford_002508.jpg', '/content/UAP_retrieval/data/test/oxford5k/jpg/all_souls_000001.jpg', '/content/UAP_retrieval/data/test/oxford5k/jpg/pitt_rivers_000194.jpg', '/content/UAP_retrieval/data/test/oxford5k/jpg/oxford_002547.jpg', '/content/UAP_retrieval/data/test/oxford5k/jpg/christ_church_000396.jpg', '/content/UAP_retrieval/data/test/oxford5k/jpg/oxford_001406.jpg', '/content/UAP_retrieval/data/test/oxford5k/jpg/cornmarket_000041.jpg', '/content/UAP_retrieval/data/test/oxford5k/jpg/pitt_rivers_000042.jpg', '/content/UAP_retrieval/data/test/oxford5k/jpg/christ_church_000002.jpg', '/content/UAP_retrieval/data/test/oxford5k/jpg/new_000741.jpg', '/content/UAP_retrieval/data/test/oxford5k/jpg/magdalen_000325.jpg', '/content/UAP_retrieval/data/test/oxford5k/jpg/keble_000102.jpg', '/content/UAP_retrieval/data/test/oxford5k/jpg/balliol_000024.jpg', '/content/UAP_retrieval/data/test/oxford5k/jpg/magdalen_000526.jpg', '/content/UAP_retrieval/data/test/oxford5k/jpg/jesus_000394.jpg', '/content/UAP_retrieval/data/test/oxford5k/jpg/magdalen_000177.jpg', '/content/UAP_retrieval/data/test/oxford5k/jpg/oxford_003627.jpg', '/content/UAP_retrieval/data/test/oxford5k/jpg/new_000407.jpg', '/content/UAP_retrieval/data/test/oxford5k/jpg/bodleian_000258.jpg', '/content/UAP_retrieval/data/test/oxford5k/jpg/christ_church_000136.jpg', '/content/UAP_retrieval/data/test/oxford5k/jpg/new_001036.jpg', '/content/UAP_retrieval/data/test/oxford5k/jpg/oxford_002898.jpg', '/content/UAP_retrieval/data/test/oxford5k/jpg/oxford_003183.jpg', '/content/UAP_retrieval/data/test/oxford5k/jpg/jesus_000288.jpg', '/content/UAP_retrieval/data/test/oxford5k/jpg/magdalen_000436.jpg', '/content/UAP_retrieval/data/test/oxford5k/jpg/oxford_000570.jpg', '/content/UAP_retrieval/data/test/oxford5k/jpg/christ_church_001017.jpg', '/content/UAP_retrieval/data/test/oxford5k/jpg/jesus_000186.jpg', '/content/UAP_retrieval/data/test/oxford5k/jpg/magdalen_000248.jpg', '/content/UAP_retrieval/data/test/oxford5k/jpg/oxford_000605.jpg', '/content/UAP_retrieval/data/test/oxford5k/jpg/bodleian_000408.jpg', '/content/UAP_retrieval/data/test/oxford5k/jpg/pitt_rivers_000139.jpg', '/content/UAP_retrieval/data/test/oxford5k/jpg/oxford_002202.jpg', '/content/UAP_retrieval/data/test/oxford5k/jpg/oxford_001107.jpg', '/content/UAP_retrieval/data/test/oxford5k/jpg/oxford_002265.jpg', '/content/UAP_retrieval/data/test/oxford5k/jpg/magdalen_000761.jpg', '/content/UAP_retrieval/data/test/oxford5k/jpg/new_000964.jpg', '/content/UAP_retrieval/data/test/oxford5k/jpg/magdalen_000210.jpg', '/content/UAP_retrieval/data/test/oxford5k/jpg/cornmarket_000022.jpg', '/content/UAP_retrieval/data/test/oxford5k/jpg/oxford_002144.jpg', '/content/UAP_retrieval/data/test/oxford5k/jpg/oriel_000071.jpg', '/content/UAP_retrieval/data/test/oxford5k/jpg/christ_church_000263.jpg', '/content/UAP_retrieval/data/test/oxford5k/jpg/new_000686.jpg', '/content/UAP_retrieval/data/test/oxford5k/jpg/oxford_002347.jpg', '/content/UAP_retrieval/data/test/oxford5k/jpg/christ_church_000164.jpg', '/content/UAP_retrieval/data/test/oxford5k/jpg/oxford_000079.jpg', '/content/UAP_retrieval/data/test/oxford5k/jpg/all_souls_000064.jpg', '/content/UAP_retrieval/data/test/oxford5k/jpg/oxford_001154.jpg', '/content/UAP_retrieval/data/test/oxford5k/jpg/christ_church_000682.jpg', '/content/UAP_retrieval/data/test/oxford5k/jpg/oxford_000289.jpg', '/content/UAP_retrieval/data/test/oxford5k/jpg/radcliffe_camera_000298.jpg', '/content/UAP_retrieval/data/test/oxford5k/jpg/magdalen_000198.jpg', '/content/UAP_retrieval/data/test/oxford5k/jpg/christ_church_000641.jpg', '/content/UAP_retrieval/data/test/oxford5k/jpg/bodleian_000148.jpg', '/content/UAP_retrieval/data/test/oxford5k/jpg/magdalen_000290.jpg', '/content/UAP_retrieval/data/test/oxford5k/jpg/pitt_rivers_000120.jpg', '/content/UAP_retrieval/data/test/oxford5k/jpg/bodleian_000325.jpg', '/content/UAP_retrieval/data/test/oxford5k/jpg/magdalen_000377.jpg', '/content/UAP_retrieval/data/test/oxford5k/jpg/new_000900.jpg', '/content/UAP_retrieval/data/test/oxford5k/jpg/magdalen_000608.jpg', '/content/UAP_retrieval/data/test/oxford5k/jpg/oxford_003466.jpg', '/content/UAP_retrieval/data/test/oxford5k/jpg/oxford_003642.jpg', '/content/UAP_retrieval/data/test/oxford5k/jpg/keble_000108.jpg', '/content/UAP_retrieval/data/test/oxford5k/jpg/oxford_003122.jpg', '/content/UAP_retrieval/data/test/oxford5k/jpg/magdalen_000228.jpg', '/content/UAP_retrieval/data/test/oxford5k/jpg/jesus_000353.jpg', '/content/UAP_retrieval/data/test/oxford5k/jpg/christ_church_000177.jpg', '/content/UAP_retrieval/data/test/oxford5k/jpg/trinity_000008.jpg', '/content/UAP_retrieval/data/test/oxford5k/jpg/oxford_001877.jpg', '/content/UAP_retrieval/data/test/oxford5k/jpg/ashmolean_000149.jpg', '/content/UAP_retrieval/data/test/oxford5k/jpg/oxford_000884.jpg', '/content/UAP_retrieval/data/test/oxford5k/jpg/jesus_000398.jpg', '/content/UAP_retrieval/data/test/oxford5k/jpg/oxford_002870.jpg', '/content/UAP_retrieval/data/test/oxford5k/jpg/hertford_000011.jpg', '/content/UAP_retrieval/data/test/oxford5k/jpg/radcliffe_camera_000373.jpg', '/content/UAP_retrieval/data/test/oxford5k/jpg/oxford_000878.jpg', '/content/UAP_retrieval/data/test/oxford5k/jpg/christ_church_000870.jpg', '/content/UAP_retrieval/data/test/oxford5k/jpg/trinity_000128.jpg', '/content/UAP_retrieval/data/test/oxford5k/jpg/radcliffe_camera_000289.jpg', '/content/UAP_retrieval/data/test/oxford5k/jpg/magdalen_000338.jpg', '/content/UAP_retrieval/data/test/oxford5k/jpg/hertford_000133.jpg', '/content/UAP_retrieval/data/test/oxford5k/jpg/new_000820.jpg', '/content/UAP_retrieval/data/test/oxford5k/jpg/magdalen_000677.jpg', '/content/UAP_retrieval/data/test/oxford5k/jpg/keble_000233.jpg', '/content/UAP_retrieval/data/test/oxford5k/jpg/pitt_rivers_000129.jpg', '/content/UAP_retrieval/data/test/oxford5k/jpg/ashmolean_000000.jpg', '/content/UAP_retrieval/data/test/oxford5k/jpg/trinity_000125.jpg', '/content/UAP_retrieval/data/test/oxford5k/jpg/christ_church_000382.jpg', '/content/UAP_retrieval/data/test/oxford5k/jpg/oxford_001344.jpg', '/content/UAP_retrieval/data/test/oxford5k/jpg/oxford_001007.jpg', '/content/UAP_retrieval/data/test/oxford5k/jpg/keble_000014.jpg', '/content/UAP_retrieval/data/test/oxford5k/jpg/new_000339.jpg', '/content/UAP_retrieval/data/test/oxford5k/jpg/bodleian_000420.jpg', '/content/UAP_retrieval/data/test/oxford5k/jpg/oxford_000220.jpg', '/content/UAP_retrieval/data/test/oxford5k/jpg/jesus_000215.jpg', '/content/UAP_retrieval/data/test/oxford5k/jpg/hertford_000056.jpg', '/content/UAP_retrieval/data/test/oxford5k/jpg/oxford_002591.jpg', '/content/UAP_retrieval/data/test/oxford5k/jpg/trinity_000382.jpg', '/content/UAP_retrieval/data/test/oxford5k/jpg/oxford_001764.jpg', '/content/UAP_retrieval/data/test/oxford5k/jpg/magdalen_001027.jpg', '/content/UAP_retrieval/data/test/oxford5k/jpg/oxford_000933.jpg', '/content/UAP_retrieval/data/test/oxford5k/jpg/bodleian_000301.jpg', '/content/UAP_retrieval/data/test/oxford5k/jpg/keble_000081.jpg', '/content/UAP_retrieval/data/test/oxford5k/jpg/keble_000192.jpg', '/content/UAP_retrieval/data/test/oxford5k/jpg/oxford_002920.jpg', '/content/UAP_retrieval/data/test/oxford5k/jpg/worcester_000137.jpg', '/content/UAP_retrieval/data/test/oxford5k/jpg/oxford_000728.jpg', '/content/UAP_retrieval/data/test/oxford5k/jpg/radcliffe_camera_000215.jpg', '/content/UAP_retrieval/data/test/oxford5k/jpg/radcliffe_camera_000519.jpg', '/content/UAP_retrieval/data/test/oxford5k/jpg/oxford_001724.jpg', '/content/UAP_retrieval/data/test/oxford5k/jpg/oxford_003329.jpg', '/content/UAP_retrieval/data/test/oxford5k/jpg/oxford_003382.jpg', '/content/UAP_retrieval/data/test/oxford5k/jpg/oxford_002880.jpg', '/content/UAP_retrieval/data/test/oxford5k/jpg/oxford_000926.jpg', '/content/UAP_retrieval/data/test/oxford5k/jpg/radcliffe_camera_000217.jpg', '/content/UAP_retrieval/data/test/oxford5k/jpg/oxford_002031.jpg', '/content/UAP_retrieval/data/test/oxford5k/jpg/bodleian_000037.jpg', '/content/UAP_retrieval/data/test/oxford5k/jpg/oxford_001274.jpg', '/content/UAP_retrieval/data/test/oxford5k/jpg/oriel_000014.jpg', '/content/UAP_retrieval/data/test/oxford5k/jpg/oxford_000742.jpg', '/content/UAP_retrieval/data/test/oxford5k/jpg/jesus_000053.jpg', '/content/UAP_retrieval/data/test/oxford5k/jpg/magdalen_000361.jpg', '/content/UAP_retrieval/data/test/oxford5k/jpg/oxford_001707.jpg', '/content/UAP_retrieval/data/test/oxford5k/jpg/oriel_000088.jpg', '/content/UAP_retrieval/data/test/oxford5k/jpg/christ_church_000792.jpg', '/content/UAP_retrieval/data/test/oxford5k/jpg/christ_church_001025.jpg', '/content/UAP_retrieval/data/test/oxford5k/jpg/oxford_003553.jpg', '/content/UAP_retrieval/data/test/oxford5k/jpg/all_souls_000152.jpg', '/content/UAP_retrieval/data/test/oxford5k/jpg/christ_church_001028.jpg', '/content/UAP_retrieval/data/test/oxford5k/jpg/oxford_000967.jpg', '/content/UAP_retrieval/data/test/oxford5k/jpg/trinity_000068.jpg', '/content/UAP_retrieval/data/test/oxford5k/jpg/oxford_001583.jpg', '/content/UAP_retrieval/data/test/oxford5k/jpg/trinity_000169.jpg', '/content/UAP_retrieval/data/test/oxford5k/jpg/christ_church_000357.jpg', '/content/UAP_retrieval/data/test/oxford5k/jpg/new_000866.jpg', '/content/UAP_retrieval/data/test/oxford5k/jpg/oxford_001064.jpg', '/content/UAP_retrieval/data/test/oxford5k/jpg/magdalen_000993.jpg', '/content/UAP_retrieval/data/test/oxford5k/jpg/oxford_001775.jpg', '/content/UAP_retrieval/data/test/oxford5k/jpg/bodleian_000017.jpg', '/content/UAP_retrieval/data/test/oxford5k/jpg/new_000170.jpg', '/content/UAP_retrieval/data/test/oxford5k/jpg/oxford_000018.jpg', '/content/UAP_retrieval/data/test/oxford5k/jpg/oxford_003656.jpg', '/content/UAP_retrieval/data/test/oxford5k/jpg/magdalen_000860.jpg', '/content/UAP_retrieval/data/test/oxford5k/jpg/christ_church_000435.jpg', '/content/UAP_retrieval/data/test/oxford5k/jpg/radcliffe_camera_000080.jpg', '/content/UAP_retrieval/data/test/oxford5k/jpg/oxford_003007.jpg', '/content/UAP_retrieval/data/test/oxford5k/jpg/balliol_000098.jpg', '/content/UAP_retrieval/data/test/oxford5k/jpg/new_000197.jpg', '/content/UAP_retrieval/data/test/oxford5k/jpg/trinity_000195.jpg', '/content/UAP_retrieval/data/test/oxford5k/jpg/christ_church_000627.jpg', '/content/UAP_retrieval/data/test/oxford5k/jpg/new_000057.jpg', '/content/UAP_retrieval/data/test/oxford5k/jpg/oxford_001195.jpg', '/content/UAP_retrieval/data/test/oxford5k/jpg/jesus_000124.jpg', '/content/UAP_retrieval/data/test/oxford5k/jpg/new_000699.jpg', '/content/UAP_retrieval/data/test/oxford5k/jpg/christ_church_000584.jpg', '/content/UAP_retrieval/data/test/oxford5k/jpg/magdalen_000511.jpg', '/content/UAP_retrieval/data/test/oxford5k/jpg/new_000474.jpg', '/content/UAP_retrieval/data/test/oxford5k/jpg/ashmolean_000316.jpg', '/content/UAP_retrieval/data/test/oxford5k/jpg/balliol_000117.jpg', '/content/UAP_retrieval/data/test/oxford5k/jpg/new_000986.jpg', '/content/UAP_retrieval/data/test/oxford5k/jpg/trinity_000039.jpg', '/content/UAP_retrieval/data/test/oxford5k/jpg/trinity_000363.jpg', '/content/UAP_retrieval/data/test/oxford5k/jpg/magdalen_001034.jpg', '/content/UAP_retrieval/data/test/oxford5k/jpg/new_000251.jpg', '/content/UAP_retrieval/data/test/oxford5k/jpg/trinity_000072.jpg', '/content/UAP_retrieval/data/test/oxford5k/jpg/oxford_003464.jpg', '/content/UAP_retrieval/data/test/oxford5k/jpg/pitt_rivers_000074.jpg', '/content/UAP_retrieval/data/test/oxford5k/jpg/bodleian_000021.jpg', '/content/UAP_retrieval/data/test/oxford5k/jpg/keble_000244.jpg', '/content/UAP_retrieval/data/test/oxford5k/jpg/worcester_000133.jpg', '/content/UAP_retrieval/data/test/oxford5k/jpg/balliol_000147.jpg', '/content/UAP_retrieval/data/test/oxford5k/jpg/oxford_001716.jpg', '/content/UAP_retrieval/data/test/oxford5k/jpg/ashmolean_000279.jpg', '/content/UAP_retrieval/data/test/oxford5k/jpg/jesus_000332.jpg', '/content/UAP_retrieval/data/test/oxford5k/jpg/oxford_001927.jpg', '/content/UAP_retrieval/data/test/oxford5k/jpg/oxford_000858.jpg', '/content/UAP_retrieval/data/test/oxford5k/jpg/new_000393.jpg', '/content/UAP_retrieval/data/test/oxford5k/jpg/bodleian_000375.jpg', '/content/UAP_retrieval/data/test/oxford5k/jpg/magdalen_000519.jpg', '/content/UAP_retrieval/data/test/oxford5k/jpg/magdalen_000990.jpg', '/content/UAP_retrieval/data/test/oxford5k/jpg/oxford_003409.jpg', '/content/UAP_retrieval/data/test/oxford5k/jpg/christ_church_001083.jpg', '/content/UAP_retrieval/data/test/oxford5k/jpg/trinity_000262.jpg', '/content/UAP_retrieval/data/test/oxford5k/jpg/bodleian_000471.jpg', '/content/UAP_retrieval/data/test/oxford5k/jpg/oxford_000238.jpg', '/content/UAP_retrieval/data/test/oxford5k/jpg/oxford_000960.jpg', '/content/UAP_retrieval/data/test/oxford5k/jpg/ashmolean_000345.jpg', '/content/UAP_retrieval/data/test/oxford5k/jpg/oxford_001291.jpg', '/content/UAP_retrieval/data/test/oxford5k/jpg/christ_church_000892.jpg', '/content/UAP_retrieval/data/test/oxford5k/jpg/oxford_001650.jpg', '/content/UAP_retrieval/data/test/oxford5k/jpg/worcester_000119.jpg', '/content/UAP_retrieval/data/test/oxford5k/jpg/oxford_003450.jpg', '/content/UAP_retrieval/data/test/oxford5k/jpg/magdalen_000760.jpg', '/content/UAP_retrieval/data/test/oxford5k/jpg/new_000056.jpg', '/content/UAP_retrieval/data/test/oxford5k/jpg/oxford_001278.jpg', '/content/UAP_retrieval/data/test/oxford5k/jpg/christ_church_000143.jpg', '/content/UAP_retrieval/data/test/oxford5k/jpg/oxford_000683.jpg', '/content/UAP_retrieval/data/test/oxford5k/jpg/magdalen_000188.jpg', '/content/UAP_retrieval/data/test/oxford5k/jpg/cornmarket_000071.jpg', '/content/UAP_retrieval/data/test/oxford5k/jpg/radcliffe_camera_000016.jpg', '/content/UAP_retrieval/data/test/oxford5k/jpg/magdalen_000954.jpg', '/content/UAP_retrieval/data/test/oxford5k/jpg/ashmolean_000211.jpg', '/content/UAP_retrieval/data/test/oxford5k/jpg/magdalen_000047.jpg', '/content/UAP_retrieval/data/test/oxford5k/jpg/pitt_rivers_000132.jpg', '/content/UAP_retrieval/data/test/oxford5k/jpg/christ_church_000975.jpg', '/content/UAP_retrieval/data/test/oxford5k/jpg/balliol_000118.jpg', '/content/UAP_retrieval/data/test/oxford5k/jpg/oxford_000012.jpg', '/content/UAP_retrieval/data/test/oxford5k/jpg/balliol_000144.jpg', '/content/UAP_retrieval/data/test/oxford5k/jpg/bodleian_000050.jpg', '/content/UAP_retrieval/data/test/oxford5k/jpg/magdalen_000136.jpg', '/content/UAP_retrieval/data/test/oxford5k/jpg/oxford_003205.jpg', '/content/UAP_retrieval/data/test/oxford5k/jpg/ashmolean_000078.jpg', '/content/UAP_retrieval/data/test/oxford5k/jpg/new_000728.jpg', '/content/UAP_retrieval/data/test/oxford5k/jpg/radcliffe_camera_000324.jpg', '/content/UAP_retrieval/data/test/oxford5k/jpg/magdalen_000133.jpg', '/content/UAP_retrieval/data/test/oxford5k/jpg/oxford_003268.jpg', '/content/UAP_retrieval/data/test/oxford5k/jpg/trinity_000026.jpg', '/content/UAP_retrieval/data/test/oxford5k/jpg/oxford_003170.jpg', '/content/UAP_retrieval/data/test/oxford5k/jpg/balliol_000095.jpg', '/content/UAP_retrieval/data/test/oxford5k/jpg/bodleian_000198.jpg', '/content/UAP_retrieval/data/test/oxford5k/jpg/magdalen_000506.jpg', '/content/UAP_retrieval/data/test/oxford5k/jpg/cornmarket_000020.jpg', '/content/UAP_retrieval/data/test/oxford5k/jpg/oriel_000041.jpg', '/content/UAP_retrieval/data/test/oxford5k/jpg/oxford_003294.jpg', '/content/UAP_retrieval/data/test/oxford5k/jpg/radcliffe_camera_000364.jpg', '/content/UAP_retrieval/data/test/oxford5k/jpg/hertford_000017.jpg', '/content/UAP_retrieval/data/test/oxford5k/jpg/bodleian_000291.jpg', '/content/UAP_retrieval/data/test/oxford5k/jpg/jesus_000336.jpg', '/content/UAP_retrieval/data/test/oxford5k/jpg/oxford_002801.jpg', '/content/UAP_retrieval/data/test/oxford5k/jpg/new_000814.jpg', '/content/UAP_retrieval/data/test/oxford5k/jpg/new_000050.jpg', '/content/UAP_retrieval/data/test/oxford5k/jpg/worcester_000055.jpg', '/content/UAP_retrieval/data/test/oxford5k/jpg/radcliffe_camera_000478.jpg', '/content/UAP_retrieval/data/test/oxford5k/jpg/pitt_rivers_000010.jpg', '/content/UAP_retrieval/data/test/oxford5k/jpg/oxford_001961.jpg', '/content/UAP_retrieval/data/test/oxford5k/jpg/jesus_000283.jpg', '/content/UAP_retrieval/data/test/oxford5k/jpg/oxford_000984.jpg', '/content/UAP_retrieval/data/test/oxford5k/jpg/balliol_000026.jpg', '/content/UAP_retrieval/data/test/oxford5k/jpg/worcester_000062.jpg', '/content/UAP_retrieval/data/test/oxford5k/jpg/radcliffe_camera_000390.jpg', '/content/UAP_retrieval/data/test/oxford5k/jpg/oriel_000033.jpg', '/content/UAP_retrieval/data/test/oxford5k/jpg/christ_church_000402.jpg', '/content/UAP_retrieval/data/test/oxford5k/jpg/balliol_000060.jpg', '/content/UAP_retrieval/data/test/oxford5k/jpg/magdalen_000703.jpg', '/content/UAP_retrieval/data/test/oxford5k/jpg/trinity_000131.jpg', '/content/UAP_retrieval/data/test/oxford5k/jpg/new_000687.jpg', '/content/UAP_retrieval/data/test/oxford5k/jpg/oxford_001895.jpg', '/content/UAP_retrieval/data/test/oxford5k/jpg/oxford_002841.jpg', '/content/UAP_retrieval/data/test/oxford5k/jpg/new_000275.jpg', '/content/UAP_retrieval/data/test/oxford5k/jpg/magdalen_001149.jpg', '/content/UAP_retrieval/data/test/oxford5k/jpg/oriel_000003.jpg', '/content/UAP_retrieval/data/test/oxford5k/jpg/oxford_000110.jpg', '/content/UAP_retrieval/data/test/oxford5k/jpg/oxford_000041.jpg', '/content/UAP_retrieval/data/test/oxford5k/jpg/magdalen_000349.jpg', '/content/UAP_retrieval/data/test/oxford5k/jpg/keble_000088.jpg', '/content/UAP_retrieval/data/test/oxford5k/jpg/christ_church_000623.jpg', '/content/UAP_retrieval/data/test/oxford5k/jpg/magdalen_001059.jpg', '/content/UAP_retrieval/data/test/oxford5k/jpg/oxford_001867.jpg', '/content/UAP_retrieval/data/test/oxford5k/jpg/christ_church_000897.jpg', '/content/UAP_retrieval/data/test/oxford5k/jpg/radcliffe_camera_000429.jpg', '/content/UAP_retrieval/data/test/oxford5k/jpg/oxford_000565.jpg', '/content/UAP_retrieval/data/test/oxford5k/jpg/hertford_000081.jpg', '/content/UAP_retrieval/data/test/oxford5k/jpg/christ_church_000987.jpg', '/content/UAP_retrieval/data/test/oxford5k/jpg/christ_church_000215.jpg', '/content/UAP_retrieval/data/test/oxford5k/jpg/oxford_002183.jpg', '/content/UAP_retrieval/data/test/oxford5k/jpg/christ_church_000377.jpg', '/content/UAP_retrieval/data/test/oxford5k/jpg/magdalen_001063.jpg', '/content/UAP_retrieval/data/test/oxford5k/jpg/hertford_000039.jpg', '/content/UAP_retrieval/data/test/oxford5k/jpg/bodleian_000062.jpg', '/content/UAP_retrieval/data/test/oxford5k/jpg/trinity_000290.jpg', '/content/UAP_retrieval/data/test/oxford5k/jpg/jesus_000117.jpg', '/content/UAP_retrieval/data/test/oxford5k/jpg/magdalen_000979.jpg', '/content/UAP_retrieval/data/test/oxford5k/jpg/jesus_000328.jpg', '/content/UAP_retrieval/data/test/oxford5k/jpg/oxford_003067.jpg', '/content/UAP_retrieval/data/test/oxford5k/jpg/magdalen_001021.jpg', '/content/UAP_retrieval/data/test/oxford5k/jpg/oriel_000078.jpg', '/content/UAP_retrieval/data/test/oxford5k/jpg/trinity_000049.jpg', '/content/UAP_retrieval/data/test/oxford5k/jpg/oxford_001672.jpg', '/content/UAP_retrieval/data/test/oxford5k/jpg/christ_church_000545.jpg', '/content/UAP_retrieval/data/test/oxford5k/jpg/oxford_000422.jpg', '/content/UAP_retrieval/data/test/oxford5k/jpg/radcliffe_camera_000160.jpg', '/content/UAP_retrieval/data/test/oxford5k/jpg/magdalen_000359.jpg', '/content/UAP_retrieval/data/test/oxford5k/jpg/oxford_001506.jpg', '/content/UAP_retrieval/data/test/oxford5k/jpg/ashmolean_000303.jpg', '/content/UAP_retrieval/data/test/oxford5k/jpg/magdalen_000132.jpg', '/content/UAP_retrieval/data/test/oxford5k/jpg/christ_church_000170.jpg', '/content/UAP_retrieval/data/test/oxford5k/jpg/hertford_000116.jpg', '/content/UAP_retrieval/data/test/oxford5k/jpg/magdalen_000862.jpg', '/content/UAP_retrieval/data/test/oxford5k/jpg/magdalen_000655.jpg', '/content/UAP_retrieval/data/test/oxford5k/jpg/radcliffe_camera_000292.jpg', '/content/UAP_retrieval/data/test/oxford5k/jpg/oriel_000046.jpg', '/content/UAP_retrieval/data/test/oxford5k/jpg/jesus_000330.jpg', '/content/UAP_retrieval/data/test/oxford5k/jpg/oxford_000100.jpg', '/content/UAP_retrieval/data/test/oxford5k/jpg/ashmolean_000214.jpg', '/content/UAP_retrieval/data/test/oxford5k/jpg/oxford_003156.jpg', '/content/UAP_retrieval/data/test/oxford5k/jpg/magdalen_001144.jpg', '/content/UAP_retrieval/data/test/oxford5k/jpg/oxford_001717.jpg', '/content/UAP_retrieval/data/test/oxford5k/jpg/oxford_003576.jpg', '/content/UAP_retrieval/data/test/oxford5k/jpg/balliol_000052.jpg', '/content/UAP_retrieval/data/test/oxford5k/jpg/balliol_000156.jpg', '/content/UAP_retrieval/data/test/oxford5k/jpg/pitt_rivers_000128.jpg', '/content/UAP_retrieval/data/test/oxford5k/jpg/pitt_rivers_000058.jpg', '/content/UAP_retrieval/data/test/oxford5k/jpg/new_000978.jpg', '/content/UAP_retrieval/data/test/oxford5k/jpg/trinity_000336.jpg', '/content/UAP_retrieval/data/test/oxford5k/jpg/oxford_000877.jpg', '/content/UAP_retrieval/data/test/oxford5k/jpg/oxford_001396.jpg', '/content/UAP_retrieval/data/test/oxford5k/jpg/radcliffe_camera_000100.jpg', '/content/UAP_retrieval/data/test/oxford5k/jpg/christ_church_000379.jpg', '/content/UAP_retrieval/data/test/oxford5k/jpg/christ_church_000815.jpg', '/content/UAP_retrieval/data/test/oxford5k/jpg/oxford_002158.jpg', '/content/UAP_retrieval/data/test/oxford5k/jpg/magdalen_000614.jpg', '/content/UAP_retrieval/data/test/oxford5k/jpg/radcliffe_camera_000092.jpg', '/content/UAP_retrieval/data/test/oxford5k/jpg/christ_church_000900.jpg', '/content/UAP_retrieval/data/test/oxford5k/jpg/magdalen_000041.jpg', '/content/UAP_retrieval/data/test/oxford5k/jpg/christ_church_001070.jpg', '/content/UAP_retrieval/data/test/oxford5k/jpg/jesus_000350.jpg', '/content/UAP_retrieval/data/test/oxford5k/jpg/new_000690.jpg', '/content/UAP_retrieval/data/test/oxford5k/jpg/oxford_001186.jpg', '/content/UAP_retrieval/data/test/oxford5k/jpg/hertford_000024.jpg', '/content/UAP_retrieval/data/test/oxford5k/jpg/all_souls_000000.jpg', '/content/UAP_retrieval/data/test/oxford5k/jpg/christ_church_001113.jpg', '/content/UAP_retrieval/data/test/oxford5k/jpg/christ_church_000434.jpg', '/content/UAP_retrieval/data/test/oxford5k/jpg/oxford_001960.jpg', '/content/UAP_retrieval/data/test/oxford5k/jpg/oxford_003632.jpg', '/content/UAP_retrieval/data/test/oxford5k/jpg/hertford_000091.jpg', '/content/UAP_retrieval/data/test/oxford5k/jpg/magdalen_000006.jpg', '/content/UAP_retrieval/data/test/oxford5k/jpg/new_001047.jpg', '/content/UAP_retrieval/data/test/oxford5k/jpg/oxford_003520.jpg', '/content/UAP_retrieval/data/test/oxford5k/jpg/oxford_001541.jpg', '/content/UAP_retrieval/data/test/oxford5k/jpg/oxford_000179.jpg', '/content/UAP_retrieval/data/test/oxford5k/jpg/new_001004.jpg', '/content/UAP_retrieval/data/test/oxford5k/jpg/oxford_000530.jpg', '/content/UAP_retrieval/data/test/oxford5k/jpg/ashmolean_000228.jpg', '/content/UAP_retrieval/data/test/oxford5k/jpg/radcliffe_camera_000248.jpg', '/content/UAP_retrieval/data/test/oxford5k/jpg/radcliffe_camera_000036.jpg', '/content/UAP_retrieval/data/test/oxford5k/jpg/new_001030.jpg', '/content/UAP_retrieval/data/test/oxford5k/jpg/balliol_000018.jpg', '/content/UAP_retrieval/data/test/oxford5k/jpg/cornmarket_000077.jpg', '/content/UAP_retrieval/data/test/oxford5k/jpg/trinity_000030.jpg', '/content/UAP_retrieval/data/test/oxford5k/jpg/keble_000202.jpg', '/content/UAP_retrieval/data/test/oxford5k/jpg/magdalen_001064.jpg', '/content/UAP_retrieval/data/test/oxford5k/jpg/new_000318.jpg', '/content/UAP_retrieval/data/test/oxford5k/jpg/magdalen_000317.jpg', '/content/UAP_retrieval/data/test/oxford5k/jpg/oxford_001320.jpg', '/content/UAP_retrieval/data/test/oxford5k/jpg/christ_church_000653.jpg', '/content/UAP_retrieval/data/test/oxford5k/jpg/oxford_002315.jpg', '/content/UAP_retrieval/data/test/oxford5k/jpg/oxford_000527.jpg', '/content/UAP_retrieval/data/test/oxford5k/jpg/balliol_000113.jpg', '/content/UAP_retrieval/data/test/oxford5k/jpg/oxford_002472.jpg', '/content/UAP_retrieval/data/test/oxford5k/jpg/radcliffe_camera_000171.jpg', '/content/UAP_retrieval/data/test/oxford5k/jpg/oxford_002914.jpg', '/content/UAP_retrieval/data/test/oxford5k/jpg/oxford_000774.jpg', '/content/UAP_retrieval/data/test/oxford5k/jpg/oxford_001279.jpg', '/content/UAP_retrieval/data/test/oxford5k/jpg/christ_church_001013.jpg', '/content/UAP_retrieval/data/test/oxford5k/jpg/oxford_001641.jpg', '/content/UAP_retrieval/data/test/oxford5k/jpg/magdalen_000958.jpg', '/content/UAP_retrieval/data/test/oxford5k/jpg/ashmolean_000297.jpg', '/content/UAP_retrieval/data/test/oxford5k/jpg/ashmolean_000025.jpg', '/content/UAP_retrieval/data/test/oxford5k/jpg/christ_church_000441.jpg', '/content/UAP_retrieval/data/test/oxford5k/jpg/trinity_000027.jpg', '/content/UAP_retrieval/data/test/oxford5k/jpg/jesus_000386.jpg', '/content/UAP_retrieval/data/test/oxford5k/jpg/ashmolean_000243.jpg', '/content/UAP_retrieval/data/test/oxford5k/jpg/jesus_000313.jpg', '/content/UAP_retrieval/data/test/oxford5k/jpg/trinity_000385.jpg', '/content/UAP_retrieval/data/test/oxford5k/jpg/keble_000187.jpg', '/content/UAP_retrieval/data/test/oxford5k/jpg/oxford_002349.jpg', '/content/UAP_retrieval/data/test/oxford5k/jpg/magdalen_000868.jpg', '/content/UAP_retrieval/data/test/oxford5k/jpg/magdalen_000756.jpg', '/content/UAP_retrieval/data/test/oxford5k/jpg/radcliffe_camera_000020.jpg', '/content/UAP_retrieval/data/test/oxford5k/jpg/oxford_001402.jpg', '/content/UAP_retrieval/data/test/oxford5k/jpg/christ_church_000906.jpg', '/content/UAP_retrieval/data/test/oxford5k/jpg/magdalen_000110.jpg', '/content/UAP_retrieval/data/test/oxford5k/jpg/oxford_003023.jpg', '/content/UAP_retrieval/data/test/oxford5k/jpg/magdalen_000478.jpg', '/content/UAP_retrieval/data/test/oxford5k/jpg/oxford_003029.jpg', '/content/UAP_retrieval/data/test/oxford5k/jpg/worcester_000116.jpg', '/content/UAP_retrieval/data/test/oxford5k/jpg/christ_church_000355.jpg', '/content/UAP_retrieval/data/test/oxford5k/jpg/new_000435.jpg', '/content/UAP_retrieval/data/test/oxford5k/jpg/bodleian_000450.jpg', '/content/UAP_retrieval/data/test/oxford5k/jpg/new_000449.jpg', '/content/UAP_retrieval/data/test/oxford5k/jpg/jesus_000054.jpg', '/content/UAP_retrieval/data/test/oxford5k/jpg/oxford_000941.jpg', '/content/UAP_retrieval/data/test/oxford5k/jpg/magdalen_000257.jpg', '/content/UAP_retrieval/data/test/oxford5k/jpg/trinity_000137.jpg', '/content/UAP_retrieval/data/test/oxford5k/jpg/oxford_002313.jpg', '/content/UAP_retrieval/data/test/oxford5k/jpg/new_000722.jpg', '/content/UAP_retrieval/data/test/oxford5k/jpg/trinity_000359.jpg', '/content/UAP_retrieval/data/test/oxford5k/jpg/oxford_002710.jpg', '/content/UAP_retrieval/data/test/oxford5k/jpg/christ_church_000779.jpg', '/content/UAP_retrieval/data/test/oxford5k/jpg/oxford_003129.jpg', '/content/UAP_retrieval/data/test/oxford5k/jpg/radcliffe_camera_000053.jpg', '/content/UAP_retrieval/data/test/oxford5k/jpg/worcester_000117.jpg', '/content/UAP_retrieval/data/test/oxford5k/jpg/magdalen_000811.jpg', '/content/UAP_retrieval/data/test/oxford5k/jpg/oxford_003037.jpg', '/content/UAP_retrieval/data/test/oxford5k/jpg/worcester_000139.jpg', '/content/UAP_retrieval/data/test/oxford5k/jpg/magdalen_000456.jpg', '/content/UAP_retrieval/data/test/oxford5k/jpg/trinity_000296.jpg', '/content/UAP_retrieval/data/test/oxford5k/jpg/oxford_000545.jpg', '/content/UAP_retrieval/data/test/oxford5k/jpg/trinity_000075.jpg', '/content/UAP_retrieval/data/test/oxford5k/jpg/radcliffe_camera_000518.jpg', '/content/UAP_retrieval/data/test/oxford5k/jpg/oxford_000196.jpg', '/content/UAP_retrieval/data/test/oxford5k/jpg/new_000068.jpg', '/content/UAP_retrieval/data/test/oxford5k/jpg/christ_church_000188.jpg', '/content/UAP_retrieval/data/test/oxford5k/jpg/oxford_001479.jpg', '/content/UAP_retrieval/data/test/oxford5k/jpg/oxford_002615.jpg', '/content/UAP_retrieval/data/test/oxford5k/jpg/oxford_003063.jpg', '/content/UAP_retrieval/data/test/oxford5k/jpg/keble_000030.jpg', '/content/UAP_retrieval/data/test/oxford5k/jpg/oxford_000946.jpg', '/content/UAP_retrieval/data/test/oxford5k/jpg/oxford_002283.jpg', '/content/UAP_retrieval/data/test/oxford5k/jpg/new_001029.jpg', '/content/UAP_retrieval/data/test/oxford5k/jpg/oxford_000477.jpg', '/content/UAP_retrieval/data/test/oxford5k/jpg/christ_church_000337.jpg', '/content/UAP_retrieval/data/test/oxford5k/jpg/new_000286.jpg', '/content/UAP_retrieval/data/test/oxford5k/jpg/christ_church_000184.jpg', '/content/UAP_retrieval/data/test/oxford5k/jpg/magdalen_000615.jpg', '/content/UAP_retrieval/data/test/oxford5k/jpg/oxford_001885.jpg', '/content/UAP_retrieval/data/test/oxford5k/jpg/ashmolean_000177.jpg', '/content/UAP_retrieval/data/test/oxford5k/jpg/ashmolean_000185.jpg', '/content/UAP_retrieval/data/test/oxford5k/jpg/new_001017.jpg', '/content/UAP_retrieval/data/test/oxford5k/jpg/oxford_001555.jpg', '/content/UAP_retrieval/data/test/oxford5k/jpg/hertford_000055.jpg', '/content/UAP_retrieval/data/test/oxford5k/jpg/oxford_001726.jpg', '/content/UAP_retrieval/data/test/oxford5k/jpg/oxford_003074.jpg', '/content/UAP_retrieval/data/test/oxford5k/jpg/jesus_000279.jpg', '/content/UAP_retrieval/data/test/oxford5k/jpg/christ_church_000389.jpg', '/content/UAP_retrieval/data/test/oxford5k/jpg/trinity_000162.jpg', '/content/UAP_retrieval/data/test/oxford5k/jpg/hertford_000121.jpg', '/content/UAP_retrieval/data/test/oxford5k/jpg/oxford_001752.jpg', '/content/UAP_retrieval/data/test/oxford5k/jpg/pitt_rivers_000166.jpg', '/content/UAP_retrieval/data/test/oxford5k/jpg/magdalen_000051.jpg', '/content/UAP_retrieval/data/test/oxford5k/jpg/oxford_003335.jpg', '/content/UAP_retrieval/data/test/oxford5k/jpg/magdalen_000458.jpg', '/content/UAP_retrieval/data/test/oxford5k/jpg/new_000224.jpg', '/content/UAP_retrieval/data/test/oxford5k/jpg/keble_000015.jpg', '/content/UAP_retrieval/data/test/oxford5k/jpg/christ_church_000412.jpg', '/content/UAP_retrieval/data/test/oxford5k/jpg/pitt_rivers_000018.jpg', '/content/UAP_retrieval/data/test/oxford5k/jpg/oxford_002105.jpg', '/content/UAP_retrieval/data/test/oxford5k/jpg/oxford_001666.jpg', '/content/UAP_retrieval/data/test/oxford5k/jpg/oxford_000803.jpg', '/content/UAP_retrieval/data/test/oxford5k/jpg/christ_church_000038.jpg', '/content/UAP_retrieval/data/test/oxford5k/jpg/all_souls_000190.jpg', '/content/UAP_retrieval/data/test/oxford5k/jpg/magdalen_000181.jpg', '/content/UAP_retrieval/data/test/oxford5k/jpg/magdalen_000792.jpg', '/content/UAP_retrieval/data/test/oxford5k/jpg/all_souls_000040.jpg', '/content/UAP_retrieval/data/test/oxford5k/jpg/oxford_000733.jpg', '/content/UAP_retrieval/data/test/oxford5k/jpg/magdalen_000195.jpg', '/content/UAP_retrieval/data/test/oxford5k/jpg/radcliffe_camera_000311.jpg', '/content/UAP_retrieval/data/test/oxford5k/jpg/worcester_000126.jpg', '/content/UAP_retrieval/data/test/oxford5k/jpg/christ_church_000331.jpg', '/content/UAP_retrieval/data/test/oxford5k/jpg/balliol_000123.jpg', '/content/UAP_retrieval/data/test/oxford5k/jpg/oxford_001454.jpg', '/content/UAP_retrieval/data/test/oxford5k/jpg/oxford_002374.jpg', '/content/UAP_retrieval/data/test/oxford5k/jpg/oxford_002162.jpg', '/content/UAP_retrieval/data/test/oxford5k/jpg/keble_000025.jpg', '/content/UAP_retrieval/data/test/oxford5k/jpg/new_000648.jpg', '/content/UAP_retrieval/data/test/oxford5k/jpg/oxford_001349.jpg', '/content/UAP_retrieval/data/test/oxford5k/jpg/oxford_000905.jpg', '/content/UAP_retrieval/data/test/oxford5k/jpg/trinity_000352.jpg', '/content/UAP_retrieval/data/test/oxford5k/jpg/magdalen_000505.jpg', '/content/UAP_retrieval/data/test/oxford5k/jpg/radcliffe_camera_000346.jpg', '/content/UAP_retrieval/data/test/oxford5k/jpg/oxford_000342.jpg', '/content/UAP_retrieval/data/test/oxford5k/jpg/new_000948.jpg', '/content/UAP_retrieval/data/test/oxford5k/jpg/radcliffe_camera_000183.jpg', '/content/UAP_retrieval/data/test/oxford5k/jpg/magdalen_000087.jpg', '/content/UAP_retrieval/data/test/oxford5k/jpg/all_souls_000160.jpg', '/content/UAP_retrieval/data/test/oxford5k/jpg/new_000206.jpg', '/content/UAP_retrieval/data/test/oxford5k/jpg/christ_church_000100.jpg', '/content/UAP_retrieval/data/test/oxford5k/jpg/all_souls_000208.jpg', '/content/UAP_retrieval/data/test/oxford5k/jpg/magdalen_001075.jpg', '/content/UAP_retrieval/data/test/oxford5k/jpg/christ_church_000935.jpg', '/content/UAP_retrieval/data/test/oxford5k/jpg/magdalen_000832.jpg', '/content/UAP_retrieval/data/test/oxford5k/jpg/pitt_rivers_000040.jpg', '/content/UAP_retrieval/data/test/oxford5k/jpg/new_000882.jpg', '/content/UAP_retrieval/data/test/oxford5k/jpg/radcliffe_camera_000308.jpg', '/content/UAP_retrieval/data/test/oxford5k/jpg/bodleian_000388.jpg', '/content/UAP_retrieval/data/test/oxford5k/jpg/magdalen_000851.jpg', '/content/UAP_retrieval/data/test/oxford5k/jpg/new_000480.jpg', '/content/UAP_retrieval/data/test/oxford5k/jpg/oxford_001648.jpg', '/content/UAP_retrieval/data/test/oxford5k/jpg/christ_church_001008.jpg', '/content/UAP_retrieval/data/test/oxford5k/jpg/oxford_000857.jpg', '/content/UAP_retrieval/data/test/oxford5k/jpg/new_000397.jpg', '/content/UAP_retrieval/data/test/oxford5k/jpg/radcliffe_camera_000185.jpg', '/content/UAP_retrieval/data/test/oxford5k/jpg/christ_church_000178.jpg', '/content/UAP_retrieval/data/test/oxford5k/jpg/oxford_000785.jpg', '/content/UAP_retrieval/data/test/oxford5k/jpg/new_000481.jpg', '/content/UAP_retrieval/data/test/oxford5k/jpg/oxford_003099.jpg', '/content/UAP_retrieval/data/test/oxford5k/jpg/jesus_000310.jpg', '/content/UAP_retrieval/data/test/oxford5k/jpg/oxford_001563.jpg', '/content/UAP_retrieval/data/test/oxford5k/jpg/magdalen_000000.jpg', '/content/UAP_retrieval/data/test/oxford5k/jpg/oxford_003623.jpg', '/content/UAP_retrieval/data/test/oxford5k/jpg/pitt_rivers_000087.jpg', '/content/UAP_retrieval/data/test/oxford5k/jpg/ashmolean_000245.jpg', '/content/UAP_retrieval/data/test/oxford5k/jpg/magdalen_000599.jpg', '/content/UAP_retrieval/data/test/oxford5k/jpg/pitt_rivers_000198.jpg', '/content/UAP_retrieval/data/test/oxford5k/jpg/oxford_000006.jpg', '/content/UAP_retrieval/data/test/oxford5k/jpg/cornmarket_000114.jpg', '/content/UAP_retrieval/data/test/oxford5k/jpg/jesus_000384.jpg', '/content/UAP_retrieval/data/test/oxford5k/jpg/new_000664.jpg', '/content/UAP_retrieval/data/test/oxford5k/jpg/ashmolean_000033.jpg', '/content/UAP_retrieval/data/test/oxford5k/jpg/oxford_002181.jpg', '/content/UAP_retrieval/data/test/oxford5k/jpg/new_001008.jpg', '/content/UAP_retrieval/data/test/oxford5k/jpg/keble_000111.jpg', '/content/UAP_retrieval/data/test/oxford5k/jpg/trinity_000085.jpg', '/content/UAP_retrieval/data/test/oxford5k/jpg/bodleian_000208.jpg', '/content/UAP_retrieval/data/test/oxford5k/jpg/oxford_002367.jpg', '/content/UAP_retrieval/data/test/oxford5k/jpg/oxford_002714.jpg', '/content/UAP_retrieval/data/test/oxford5k/jpg/worcester_000114.jpg', '/content/UAP_retrieval/data/test/oxford5k/jpg/worcester_000057.jpg', '/content/UAP_retrieval/data/test/oxford5k/jpg/balliol_000121.jpg', '/content/UAP_retrieval/data/test/oxford5k/jpg/christ_church_000359.jpg', '/content/UAP_retrieval/data/test/oxford5k/jpg/radcliffe_camera_000340.jpg', '/content/UAP_retrieval/data/test/oxford5k/jpg/magdalen_000796.jpg', '/content/UAP_retrieval/data/test/oxford5k/jpg/oxford_002032.jpg', '/content/UAP_retrieval/data/test/oxford5k/jpg/cornmarket_000093.jpg', '/content/UAP_retrieval/data/test/oxford5k/jpg/magdalen_000870.jpg', '/content/UAP_retrieval/data/test/oxford5k/jpg/magdalen_000869.jpg', '/content/UAP_retrieval/data/test/oxford5k/jpg/pitt_rivers_000196.jpg', '/content/UAP_retrieval/data/test/oxford5k/jpg/worcester_000074.jpg', '/content/UAP_retrieval/data/test/oxford5k/jpg/oxford_001720.jpg', '/content/UAP_retrieval/data/test/oxford5k/jpg/radcliffe_camera_000304.jpg', '/content/UAP_retrieval/data/test/oxford5k/jpg/new_000963.jpg', '/content/UAP_retrieval/data/test/oxford5k/jpg/radcliffe_camera_000477.jpg', '/content/UAP_retrieval/data/test/oxford5k/jpg/new_000309.jpg', '/content/UAP_retrieval/data/test/oxford5k/jpg/magdalen_000020.jpg', '/content/UAP_retrieval/data/test/oxford5k/jpg/magdalen_000809.jpg', '/content/UAP_retrieval/data/test/oxford5k/jpg/radcliffe_camera_000512.jpg', '/content/UAP_retrieval/data/test/oxford5k/jpg/oriel_000068.jpg', '/content/UAP_retrieval/data/test/oxford5k/jpg/magdalen_000184.jpg', '/content/UAP_retrieval/data/test/oxford5k/jpg/magdalen_000708.jpg', '/content/UAP_retrieval/data/test/oxford5k/jpg/oxford_000759.jpg', '/content/UAP_retrieval/data/test/oxford5k/jpg/jesus_000002.jpg', '/content/UAP_retrieval/data/test/oxford5k/jpg/oxford_003622.jpg', '/content/UAP_retrieval/data/test/oxford5k/jpg/oxford_002090.jpg', '/content/UAP_retrieval/data/test/oxford5k/jpg/magdalen_000982.jpg', '/content/UAP_retrieval/data/test/oxford5k/jpg/keble_000048.jpg', '/content/UAP_retrieval/data/test/oxford5k/jpg/oxford_000280.jpg', '/content/UAP_retrieval/data/test/oxford5k/jpg/christ_church_000904.jpg', '/content/UAP_retrieval/data/test/oxford5k/jpg/worcester_000118.jpg', '/content/UAP_retrieval/data/test/oxford5k/jpg/magdalen_000465.jpg', '/content/UAP_retrieval/data/test/oxford5k/jpg/magdalen_000597.jpg', '/content/UAP_retrieval/data/test/oxford5k/jpg/oxford_000686.jpg', '/content/UAP_retrieval/data/test/oxford5k/jpg/magdalen_000652.jpg', '/content/UAP_retrieval/data/test/oxford5k/jpg/bodleian_000060.jpg', '/content/UAP_retrieval/data/test/oxford5k/jpg/new_000689.jpg', '/content/UAP_retrieval/data/test/oxford5k/jpg/new_000362.jpg', '/content/UAP_retrieval/data/test/oxford5k/jpg/balliol_000048.jpg', '/content/UAP_retrieval/data/test/oxford5k/jpg/bodleian_000283.jpg', '/content/UAP_retrieval/data/test/oxford5k/jpg/new_000766.jpg', '/content/UAP_retrieval/data/test/oxford5k/jpg/magdalen_001121.jpg', '/content/UAP_retrieval/data/test/oxford5k/jpg/christ_church_000165.jpg', '/content/UAP_retrieval/data/test/oxford5k/jpg/oxford_000909.jpg', '/content/UAP_retrieval/data/test/oxford5k/jpg/all_souls_000146.jpg', '/content/UAP_retrieval/data/test/oxford5k/jpg/oxford_002371.jpg', '/content/UAP_retrieval/data/test/oxford5k/jpg/new_001088.jpg', '/content/UAP_retrieval/data/test/oxford5k/jpg/pitt_rivers_000086.jpg', '/content/UAP_retrieval/data/test/oxford5k/jpg/radcliffe_camera_000447.jpg', '/content/UAP_retrieval/data/test/oxford5k/jpg/balliol_000149.jpg', '/content/UAP_retrieval/data/test/oxford5k/jpg/trinity_000018.jpg', '/content/UAP_retrieval/data/test/oxford5k/jpg/new_000819.jpg', '/content/UAP_retrieval/data/test/oxford5k/jpg/christ_church_001039.jpg', '/content/UAP_retrieval/data/test/oxford5k/jpg/christ_church_000217.jpg', '/content/UAP_retrieval/data/test/oxford5k/jpg/oxford_001612.jpg', '/content/UAP_retrieval/data/test/oxford5k/jpg/ashmolean_000164.jpg', '/content/UAP_retrieval/data/test/oxford5k/jpg/magdalen_000387.jpg', '/content/UAP_retrieval/data/test/oxford5k/jpg/radcliffe_camera_000235.jpg', '/content/UAP_retrieval/data/test/oxford5k/jpg/radcliffe_camera_000027.jpg', '/content/UAP_retrieval/data/test/oxford5k/jpg/magdalen_000725.jpg', '/content/UAP_retrieval/data/test/oxford5k/jpg/oxford_003390.jpg', '/content/UAP_retrieval/data/test/oxford5k/jpg/oxford_001384.jpg', '/content/UAP_retrieval/data/test/oxford5k/jpg/magdalen_000494.jpg', '/content/UAP_retrieval/data/test/oxford5k/jpg/christ_church_000598.jpg', '/content/UAP_retrieval/data/test/oxford5k/jpg/ashmolean_000208.jpg', '/content/UAP_retrieval/data/test/oxford5k/jpg/new_001075.jpg', '/content/UAP_retrieval/data/test/oxford5k/jpg/magdalen_000374.jpg', '/content/UAP_retrieval/data/test/oxford5k/jpg/bodleian_000101.jpg', '/content/UAP_retrieval/data/test/oxford5k/jpg/oxford_001383.jpg', '/content/UAP_retrieval/data/test/oxford5k/jpg/radcliffe_camera_000371.jpg', '/content/UAP_retrieval/data/test/oxford5k/jpg/ashmolean_000024.jpg', '/content/UAP_retrieval/data/test/oxford5k/jpg/new_000759.jpg', '/content/UAP_retrieval/data/test/oxford5k/jpg/trinity_000005.jpg', '/content/UAP_retrieval/data/test/oxford5k/jpg/bodleian_000396.jpg', '/content/UAP_retrieval/data/test/oxford5k/jpg/trinity_000086.jpg', '/content/UAP_retrieval/data/test/oxford5k/jpg/oxford_003184.jpg', '/content/UAP_retrieval/data/test/oxford5k/jpg/christ_church_000532.jpg', '/content/UAP_retrieval/data/test/oxford5k/jpg/oxford_003008.jpg', '/content/UAP_retrieval/data/test/oxford5k/jpg/cornmarket_000083.jpg', '/content/UAP_retrieval/data/test/oxford5k/jpg/oxford_003002.jpg', '/content/UAP_retrieval/data/test/oxford5k/jpg/magdalen_000539.jpg', '/content/UAP_retrieval/data/test/oxford5k/jpg/all_souls_000075.jpg', '/content/UAP_retrieval/data/test/oxford5k/jpg/magdalen_000517.jpg', '/content/UAP_retrieval/data/test/oxford5k/jpg/oxford_000331.jpg', '/content/UAP_retrieval/data/test/oxford5k/jpg/jesus_000249.jpg', '/content/UAP_retrieval/data/test/oxford5k/jpg/christ_church_000014.jpg', '/content/UAP_retrieval/data/test/oxford5k/jpg/ashmolean_000210.jpg', '/content/UAP_retrieval/data/test/oxford5k/jpg/magdalen_000509.jpg', '/content/UAP_retrieval/data/test/oxford5k/jpg/magdalen_000143.jpg', '/content/UAP_retrieval/data/test/oxford5k/jpg/oxford_001674.jpg', '/content/UAP_retrieval/data/test/oxford5k/jpg/christ_church_000581.jpg', '/content/UAP_retrieval/data/test/oxford5k/jpg/balliol_000028.jpg', '/content/UAP_retrieval/data/test/oxford5k/jpg/christ_church_001037.jpg', '/content/UAP_retrieval/data/test/oxford5k/jpg/worcester_000144.jpg', '/content/UAP_retrieval/data/test/oxford5k/jpg/oxford_002360.jpg', '/content/UAP_retrieval/data/test/oxford5k/jpg/magdalen_000385.jpg', '/content/UAP_retrieval/data/test/oxford5k/jpg/oxford_001242.jpg', '/content/UAP_retrieval/data/test/oxford5k/jpg/christ_church_001088.jpg', '/content/UAP_retrieval/data/test/oxford5k/jpg/bodleian_000056.jpg', '/content/UAP_retrieval/data/test/oxford5k/jpg/oriel_000024.jpg', '/content/UAP_retrieval/data/test/oxford5k/jpg/radcliffe_camera_000421.jpg', '/content/UAP_retrieval/data/test/oxford5k/jpg/oxford_001251.jpg', '/content/UAP_retrieval/data/test/oxford5k/jpg/oxford_001679.jpg', '/content/UAP_retrieval/data/test/oxford5k/jpg/oxford_002978.jpg', '/content/UAP_retrieval/data/test/oxford5k/jpg/bodleian_000359.jpg', '/content/UAP_retrieval/data/test/oxford5k/jpg/oxford_001232.jpg', '/content/UAP_retrieval/data/test/oxford5k/jpg/magdalen_000311.jpg', '/content/UAP_retrieval/data/test/oxford5k/jpg/oxford_003162.jpg', '/content/UAP_retrieval/data/test/oxford5k/jpg/magdalen_001051.jpg', '/content/UAP_retrieval/data/test/oxford5k/jpg/radcliffe_camera_000280.jpg', '/content/UAP_retrieval/data/test/oxford5k/jpg/new_000024.jpg', '/content/UAP_retrieval/data/test/oxford5k/jpg/hertford_000110.jpg', '/content/UAP_retrieval/data/test/oxford5k/jpg/ashmolean_000186.jpg', '/content/UAP_retrieval/data/test/oxford5k/jpg/oxford_000947.jpg', '/content/UAP_retrieval/data/test/oxford5k/jpg/christ_church_000325.jpg', '/content/UAP_retrieval/data/test/oxford5k/jpg/oxford_002401.jpg', '/content/UAP_retrieval/data/test/oxford5k/jpg/magdalen_000521.jpg', '/content/UAP_retrieval/data/test/oxford5k/jpg/radcliffe_camera_000072.jpg', '/content/UAP_retrieval/data/test/oxford5k/jpg/oriel_000012.jpg', '/content/UAP_retrieval/data/test/oxford5k/jpg/christ_church_000172.jpg', '/content/UAP_retrieval/data/test/oxford5k/jpg/trinity_000003.jpg', '/content/UAP_retrieval/data/test/oxford5k/jpg/balliol_000084.jpg', '/content/UAP_retrieval/data/test/oxford5k/jpg/oxford_002654.jpg', '/content/UAP_retrieval/data/test/oxford5k/jpg/magdalen_000720.jpg', '/content/UAP_retrieval/data/test/oxford5k/jpg/worcester_000142.jpg', '/content/UAP_retrieval/data/test/oxford5k/jpg/christ_church_000168.jpg', '/content/UAP_retrieval/data/test/oxford5k/jpg/christ_church_000381.jpg', '/content/UAP_retrieval/data/test/oxford5k/jpg/pitt_rivers_000072.jpg', '/content/UAP_retrieval/data/test/oxford5k/jpg/oxford_002572.jpg', '/content/UAP_retrieval/data/test/oxford5k/jpg/oxford_002871.jpg', '/content/UAP_retrieval/data/test/oxford5k/jpg/oxford_002503.jpg', '/content/UAP_retrieval/data/test/oxford5k/jpg/hertford_000023.jpg', '/content/UAP_retrieval/data/test/oxford5k/jpg/christ_church_000052.jpg', '/content/UAP_retrieval/data/test/oxford5k/jpg/oriel_000122.jpg', '/content/UAP_retrieval/data/test/oxford5k/jpg/bodleian_000385.jpg', '/content/UAP_retrieval/data/test/oxford5k/jpg/new_000967.jpg', '/content/UAP_retrieval/data/test/oxford5k/jpg/all_souls_000107.jpg', '/content/UAP_retrieval/data/test/oxford5k/jpg/magdalen_000951.jpg', '/content/UAP_retrieval/data/test/oxford5k/jpg/magdalen_000460.jpg', '/content/UAP_retrieval/data/test/oxford5k/jpg/oxford_002416.jpg', '/content/UAP_retrieval/data/test/oxford5k/jpg/magdalen_001137.jpg', '/content/UAP_retrieval/data/test/oxford5k/jpg/balliol_000032.jpg', '/content/UAP_retrieval/data/test/oxford5k/jpg/jesus_000125.jpg', '/content/UAP_retrieval/data/test/oxford5k/jpg/oxford_001796.jpg', '/content/UAP_retrieval/data/test/oxford5k/jpg/christ_church_000757.jpg', '/content/UAP_retrieval/data/test/oxford5k/jpg/oxford_002506.jpg', '/content/UAP_retrieval/data/test/oxford5k/jpg/oxford_000718.jpg', '/content/UAP_retrieval/data/test/oxford5k/jpg/oxford_003154.jpg', '/content/UAP_retrieval/data/test/oxford5k/jpg/christ_church_000450.jpg', '/content/UAP_retrieval/data/test/oxford5k/jpg/new_000540.jpg', '/content/UAP_retrieval/data/test/oxford5k/jpg/ashmolean_000291.jpg', '/content/UAP_retrieval/data/test/oxford5k/jpg/christ_church_000074.jpg', '/content/UAP_retrieval/data/test/oxford5k/jpg/christ_church_000174.jpg', '/content/UAP_retrieval/data/test/oxford5k/jpg/oxford_001311.jpg', '/content/UAP_retrieval/data/test/oxford5k/jpg/keble_000238.jpg', '/content/UAP_retrieval/data/test/oxford5k/jpg/oxford_000073.jpg', '/content/UAP_retrieval/data/test/oxford5k/jpg/pitt_rivers_000119.jpg', '/content/UAP_retrieval/data/test/oxford5k/jpg/balliol_000178.jpg', '/content/UAP_retrieval/data/test/oxford5k/jpg/ashmolean_000257.jpg', '/content/UAP_retrieval/data/test/oxford5k/jpg/magdalen_000636.jpg', '/content/UAP_retrieval/data/test/oxford5k/jpg/oxford_003033.jpg', '/content/UAP_retrieval/data/test/oxford5k/jpg/oxford_003079.jpg', '/content/UAP_retrieval/data/test/oxford5k/jpg/oxford_001514.jpg', '/content/UAP_retrieval/data/test/oxford5k/jpg/pitt_rivers_000073.jpg', '/content/UAP_retrieval/data/test/oxford5k/jpg/new_000649.jpg', '/content/UAP_retrieval/data/test/oxford5k/jpg/oxford_001096.jpg', '/content/UAP_retrieval/data/test/oxford5k/jpg/radcliffe_camera_000407.jpg', '/content/UAP_retrieval/data/test/oxford5k/jpg/magdalen_000260.jpg', '/content/UAP_retrieval/data/test/oxford5k/jpg/new_000483.jpg', '/content/UAP_retrieval/data/test/oxford5k/jpg/christ_church_000643.jpg', '/content/UAP_retrieval/data/test/oxford5k/jpg/oxford_001487.jpg', '/content/UAP_retrieval/data/test/oxford5k/jpg/magdalen_000984.jpg', '/content/UAP_retrieval/data/test/oxford5k/jpg/radcliffe_camera_000516.jpg', '/content/UAP_retrieval/data/test/oxford5k/jpg/christ_church_000436.jpg', '/content/UAP_retrieval/data/test/oxford5k/jpg/christ_church_000180.jpg', '/content/UAP_retrieval/data/test/oxford5k/jpg/new_000099.jpg', '/content/UAP_retrieval/data/test/oxford5k/jpg/magdalen_000194.jpg', '/content/UAP_retrieval/data/test/oxford5k/jpg/hertford_000052.jpg', '/content/UAP_retrieval/data/test/oxford5k/jpg/bodleian_000146.jpg', '/content/UAP_retrieval/data/test/oxford5k/jpg/oxford_002405.jpg', '/content/UAP_retrieval/data/test/oxford5k/jpg/new_000372.jpg', '/content/UAP_retrieval/data/test/oxford5k/jpg/christ_church_001121.jpg', '/content/UAP_retrieval/data/test/oxford5k/jpg/magdalen_000378.jpg', '/content/UAP_retrieval/data/test/oxford5k/jpg/bodleian_000316.jpg', '/content/UAP_retrieval/data/test/oxford5k/jpg/new_000656.jpg', '/content/UAP_retrieval/data/test/oxford5k/jpg/oxford_001285.jpg', '/content/UAP_retrieval/data/test/oxford5k/jpg/oxford_000201.jpg', '/content/UAP_retrieval/data/test/oxford5k/jpg/oxford_000656.jpg', '/content/UAP_retrieval/data/test/oxford5k/jpg/oxford_001783.jpg', '/content/UAP_retrieval/data/test/oxford5k/jpg/hertford_000077.jpg', '/content/UAP_retrieval/data/test/oxford5k/jpg/oxford_001265.jpg', '/content/UAP_retrieval/data/test/oxford5k/jpg/new_000817.jpg', '/content/UAP_retrieval/data/test/oxford5k/jpg/ashmolean_000294.jpg', '/content/UAP_retrieval/data/test/oxford5k/jpg/magdalen_000750.jpg', '/content/UAP_retrieval/data/test/oxford5k/jpg/trinity_000314.jpg', '/content/UAP_retrieval/data/test/oxford5k/jpg/ashmolean_000187.jpg', '/content/UAP_retrieval/data/test/oxford5k/jpg/oxford_001771.jpg', '/content/UAP_retrieval/data/test/oxford5k/jpg/magdalen_000029.jpg', '/content/UAP_retrieval/data/test/oxford5k/jpg/keble_000089.jpg', '/content/UAP_retrieval/data/test/oxford5k/jpg/keble_000041.jpg', '/content/UAP_retrieval/data/test/oxford5k/jpg/magdalen_000039.jpg', '/content/UAP_retrieval/data/test/oxford5k/jpg/oxford_000589.jpg', '/content/UAP_retrieval/data/test/oxford5k/jpg/christ_church_000186.jpg', '/content/UAP_retrieval/data/test/oxford5k/jpg/oxford_001490.jpg', '/content/UAP_retrieval/data/test/oxford5k/jpg/bodleian_000322.jpg', '/content/UAP_retrieval/data/test/oxford5k/jpg/christ_church_001064.jpg', '/content/UAP_retrieval/data/test/oxford5k/jpg/all_souls_000041.jpg', '/content/UAP_retrieval/data/test/oxford5k/jpg/magdalen_000637.jpg', '/content/UAP_retrieval/data/test/oxford5k/jpg/new_000929.jpg', '/content/UAP_retrieval/data/test/oxford5k/jpg/new_000404.jpg', '/content/UAP_retrieval/data/test/oxford5k/jpg/magdalen_000763.jpg', '/content/UAP_retrieval/data/test/oxford5k/jpg/oxford_003342.jpg', '/content/UAP_retrieval/data/test/oxford5k/jpg/balliol_000043.jpg', '/content/UAP_retrieval/data/test/oxford5k/jpg/jesus_000034.jpg', '/content/UAP_retrieval/data/test/oxford5k/jpg/oxford_003538.jpg', '/content/UAP_retrieval/data/test/oxford5k/jpg/christ_church_000885.jpg', '/content/UAP_retrieval/data/test/oxford5k/jpg/trinity_000081.jpg', '/content/UAP_retrieval/data/test/oxford5k/jpg/balliol_000162.jpg', '/content/UAP_retrieval/data/test/oxford5k/jpg/new_000355.jpg', '/content/UAP_retrieval/data/test/oxford5k/jpg/oxford_003330.jpg', '/content/UAP_retrieval/data/test/oxford5k/jpg/christ_church_000884.jpg', '/content/UAP_retrieval/data/test/oxford5k/jpg/bodleian_000090.jpg', '/content/UAP_retrieval/data/test/oxford5k/jpg/christ_church_000350.jpg', '/content/UAP_retrieval/data/test/oxford5k/jpg/christ_church_000166.jpg', '/content/UAP_retrieval/data/test/oxford5k/jpg/oxford_002462.jpg', '/content/UAP_retrieval/data/test/oxford5k/jpg/radcliffe_camera_000330.jpg', '/content/UAP_retrieval/data/test/oxford5k/jpg/oxford_001970.jpg', '/content/UAP_retrieval/data/test/oxford5k/jpg/oxford_000240.jpg', '/content/UAP_retrieval/data/test/oxford5k/jpg/christ_church_001100.jpg', '/content/UAP_retrieval/data/test/oxford5k/jpg/new_000363.jpg', '/content/UAP_retrieval/data/test/oxford5k/jpg/oxford_000407.jpg', '/content/UAP_retrieval/data/test/oxford5k/jpg/oxford_003168.jpg', '/content/UAP_retrieval/data/test/oxford5k/jpg/radcliffe_camera_000442.jpg', '/content/UAP_retrieval/data/test/oxford5k/jpg/keble_000000.jpg', '/content/UAP_retrieval/data/test/oxford5k/jpg/magdalen_001003.jpg', '/content/UAP_retrieval/data/test/oxford5k/jpg/oxford_003418.jpg', '/content/UAP_retrieval/data/test/oxford5k/jpg/oxford_000722.jpg', '/content/UAP_retrieval/data/test/oxford5k/jpg/radcliffe_camera_000240.jpg', '/content/UAP_retrieval/data/test/oxford5k/jpg/all_souls_000145.jpg', '/content/UAP_retrieval/data/test/oxford5k/jpg/oxford_001876.jpg', '/content/UAP_retrieval/data/test/oxford5k/jpg/christ_church_000850.jpg', '/content/UAP_retrieval/data/test/oxford5k/jpg/magdalen_000874.jpg', '/content/UAP_retrieval/data/test/oxford5k/jpg/christ_church_000369.jpg', '/content/UAP_retrieval/data/test/oxford5k/jpg/bodleian_000088.jpg', '/content/UAP_retrieval/data/test/oxford5k/jpg/oxford_001544.jpg', '/content/UAP_retrieval/data/test/oxford5k/jpg/magdalen_000489.jpg', '/content/UAP_retrieval/data/test/oxford5k/jpg/oriel_000047.jpg', '/content/UAP_retrieval/data/test/oxford5k/jpg/magdalen_000647.jpg', '/content/UAP_retrieval/data/test/oxford5k/jpg/oxford_003062.jpg', '/content/UAP_retrieval/data/test/oxford5k/jpg/christ_church_000683.jpg', '/content/UAP_retrieval/data/test/oxford5k/jpg/christ_church_000826.jpg', '/content/UAP_retrieval/data/test/oxford5k/jpg/pitt_rivers_000199.jpg', '/content/UAP_retrieval/data/test/oxford5k/jpg/christ_church_000639.jpg', '/content/UAP_retrieval/data/test/oxford5k/jpg/magdalen_000448.jpg', '/content/UAP_retrieval/data/test/oxford5k/jpg/christ_church_000972.jpg', '/content/UAP_retrieval/data/test/oxford5k/jpg/magdalen_000438.jpg', '/content/UAP_retrieval/data/test/oxford5k/jpg/oxford_002356.jpg', '/content/UAP_retrieval/data/test/oxford5k/jpg/magdalen_000425.jpg', '/content/UAP_retrieval/data/test/oxford5k/jpg/cornmarket_000139.jpg', '/content/UAP_retrieval/data/test/oxford5k/jpg/trinity_000233.jpg', '/content/UAP_retrieval/data/test/oxford5k/jpg/oxford_000401.jpg', '/content/UAP_retrieval/data/test/oxford5k/jpg/oriel_000063.jpg', '/content/UAP_retrieval/data/test/oxford5k/jpg/oxford_001706.jpg', '/content/UAP_retrieval/data/test/oxford5k/jpg/magdalen_000525.jpg', '/content/UAP_retrieval/data/test/oxford5k/jpg/new_000063.jpg', '/content/UAP_retrieval/data/test/oxford5k/jpg/oxford_000410.jpg', '/content/UAP_retrieval/data/test/oxford5k/jpg/oriel_000085.jpg', '/content/UAP_retrieval/data/test/oxford5k/jpg/magdalen_000635.jpg', '/content/UAP_retrieval/data/test/oxford5k/jpg/magdalen_000446.jpg', '/content/UAP_retrieval/data/test/oxford5k/jpg/new_000985.jpg', '/content/UAP_retrieval/data/test/oxford5k/jpg/oxford_002538.jpg', '/content/UAP_retrieval/data/test/oxford5k/jpg/oxford_002182.jpg', '/content/UAP_retrieval/data/test/oxford5k/jpg/radcliffe_camera_000083.jpg', '/content/UAP_retrieval/data/test/oxford5k/jpg/magdalen_000623.jpg', '/content/UAP_retrieval/data/test/oxford5k/jpg/magdalen_001049.jpg', '/content/UAP_retrieval/data/test/oxford5k/jpg/pitt_rivers_000016.jpg', '/content/UAP_retrieval/data/test/oxford5k/jpg/keble_000066.jpg', '/content/UAP_retrieval/data/test/oxford5k/jpg/radcliffe_camera_000335.jpg', '/content/UAP_retrieval/data/test/oxford5k/jpg/magdalen_000078.jpg', '/content/UAP_retrieval/data/test/oxford5k/jpg/new_000402.jpg', '/content/UAP_retrieval/data/test/oxford5k/jpg/oxford_002673.jpg', '/content/UAP_retrieval/data/test/oxford5k/jpg/oriel_000030.jpg', '/content/UAP_retrieval/data/test/oxford5k/jpg/balliol_000160.jpg', '/content/UAP_retrieval/data/test/oxford5k/jpg/magdalen_000052.jpg', '/content/UAP_retrieval/data/test/oxford5k/jpg/new_001035.jpg', '/content/UAP_retrieval/data/test/oxford5k/jpg/magdalen_000973.jpg', '/content/UAP_retrieval/data/test/oxford5k/jpg/christ_church_000393.jpg', '/content/UAP_retrieval/data/test/oxford5k/jpg/hertford_000131.jpg', '/content/UAP_retrieval/data/test/oxford5k/jpg/hertford_000109.jpg', '/content/UAP_retrieval/data/test/oxford5k/jpg/ashmolean_000114.jpg', '/content/UAP_retrieval/data/test/oxford5k/jpg/balliol_000167.jpg', '/content/UAP_retrieval/data/test/oxford5k/jpg/christ_church_000305.jpg', '/content/UAP_retrieval/data/test/oxford5k/jpg/oxford_000983.jpg', '/content/UAP_retrieval/data/test/oxford5k/jpg/magdalen_001108.jpg', '/content/UAP_retrieval/data/test/oxford5k/jpg/oxford_000992.jpg', '/content/UAP_retrieval/data/test/oxford5k/jpg/keble_000107.jpg', '/content/UAP_retrieval/data/test/oxford5k/jpg/pitt_rivers_000005.jpg', '/content/UAP_retrieval/data/test/oxford5k/jpg/new_000484.jpg', '/content/UAP_retrieval/data/test/oxford5k/jpg/magdalen_000142.jpg', '/content/UAP_retrieval/data/test/oxford5k/jpg/magdalen_000254.jpg', '/content/UAP_retrieval/data/test/oxford5k/jpg/magdalen_000476.jpg', '/content/UAP_retrieval/data/test/oxford5k/jpg/christ_church_000710.jpg', '/content/UAP_retrieval/data/test/oxford5k/jpg/radcliffe_camera_000025.jpg', '/content/UAP_retrieval/data/test/oxford5k/jpg/christ_church_000356.jpg', '/content/UAP_retrieval/data/test/oxford5k/jpg/oxford_002601.jpg', '/content/UAP_retrieval/data/test/oxford5k/jpg/oxford_000057.jpg', '/content/UAP_retrieval/data/test/oxford5k/jpg/bodleian_000318.jpg', '/content/UAP_retrieval/data/test/oxford5k/jpg/cornmarket_000019.jpg', '/content/UAP_retrieval/data/test/oxford5k/jpg/oxford_001225.jpg', '/content/UAP_retrieval/data/test/oxford5k/jpg/balliol_000106.jpg', '/content/UAP_retrieval/data/test/oxford5k/jpg/oxford_002111.jpg', '/content/UAP_retrieval/data/test/oxford5k/jpg/trinity_000209.jpg', '/content/UAP_retrieval/data/test/oxford5k/jpg/christ_church_000891.jpg', '/content/UAP_retrieval/data/test/oxford5k/jpg/trinity_000104.jpg', '/content/UAP_retrieval/data/test/oxford5k/jpg/jesus_000300.jpg', '/content/UAP_retrieval/data/test/oxford5k/jpg/oxford_001101.jpg', '/content/UAP_retrieval/data/test/oxford5k/jpg/oxford_002906.jpg', '/content/UAP_retrieval/data/test/oxford5k/jpg/bodleian_000049.jpg', '/content/UAP_retrieval/data/test/oxford5k/jpg/oxford_002694.jpg', '/content/UAP_retrieval/data/test/oxford5k/jpg/oxford_002317.jpg', '/content/UAP_retrieval/data/test/oxford5k/jpg/oxford_001834.jpg', '/content/UAP_retrieval/data/test/oxford5k/jpg/magdalen_000572.jpg', '/content/UAP_retrieval/data/test/oxford5k/jpg/radcliffe_camera_000386.jpg', '/content/UAP_retrieval/data/test/oxford5k/jpg/bodleian_000077.jpg', '/content/UAP_retrieval/data/test/oxford5k/jpg/ashmolean_000326.jpg', '/content/UAP_retrieval/data/test/oxford5k/jpg/oxford_001937.jpg', '/content/UAP_retrieval/data/test/oxford5k/jpg/hertford_000127.jpg', '/content/UAP_retrieval/data/test/oxford5k/jpg/oxford_002559.jpg', '/content/UAP_retrieval/data/test/oxford5k/jpg/pitt_rivers_000174.jpg', '/content/UAP_retrieval/data/test/oxford5k/jpg/oxford_003480.jpg', '/content/UAP_retrieval/data/test/oxford5k/jpg/oxford_000635.jpg', '/content/UAP_retrieval/data/test/oxford5k/jpg/new_000479.jpg', '/content/UAP_retrieval/data/test/oxford5k/jpg/keble_000017.jpg', '/content/UAP_retrieval/data/test/oxford5k/jpg/oxford_002817.jpg', '/content/UAP_retrieval/data/test/oxford5k/jpg/oxford_002259.jpg', '/content/UAP_retrieval/data/test/oxford5k/jpg/new_000109.jpg', '/content/UAP_retrieval/data/test/oxford5k/jpg/ashmolean_000310.jpg', '/content/UAP_retrieval/data/test/oxford5k/jpg/all_souls_000093.jpg', '/content/UAP_retrieval/data/test/oxford5k/jpg/oxford_002957.jpg', '/content/UAP_retrieval/data/test/oxford5k/jpg/christ_church_000063.jpg', '/content/UAP_retrieval/data/test/oxford5k/jpg/bodleian_000202.jpg', '/content/UAP_retrieval/data/test/oxford5k/jpg/magdalen_000289.jpg', '/content/UAP_retrieval/data/test/oxford5k/jpg/oxford_002548.jpg', '/content/UAP_retrieval/data/test/oxford5k/jpg/christ_church_000612.jpg', '/content/UAP_retrieval/data/test/oxford5k/jpg/christ_church_000086.jpg', '/content/UAP_retrieval/data/test/oxford5k/jpg/oxford_000539.jpg', '/content/UAP_retrieval/data/test/oxford5k/jpg/oxford_002017.jpg', '/content/UAP_retrieval/data/test/oxford5k/jpg/oxford_001214.jpg', '/content/UAP_retrieval/data/test/oxford5k/jpg/ashmolean_000172.jpg', '/content/UAP_retrieval/data/test/oxford5k/jpg/pitt_rivers_000102.jpg', '/content/UAP_retrieval/data/test/oxford5k/jpg/magdalen_000053.jpg', '/content/UAP_retrieval/data/test/oxford5k/jpg/radcliffe_camera_000431.jpg', '/content/UAP_retrieval/data/test/oxford5k/jpg/new_001070.jpg', '/content/UAP_retrieval/data/test/oxford5k/jpg/ashmolean_000065.jpg', '/content/UAP_retrieval/data/test/oxford5k/jpg/all_souls_000183.jpg', '/content/UAP_retrieval/data/test/oxford5k/jpg/new_000818.jpg', '/content/UAP_retrieval/data/test/oxford5k/jpg/worcester_000001.jpg', '/content/UAP_retrieval/data/test/oxford5k/jpg/christ_church_000754.jpg', '/content/UAP_retrieval/data/test/oxford5k/jpg/magdalen_000852.jpg', '/content/UAP_retrieval/data/test/oxford5k/jpg/new_000357.jpg', '/content/UAP_retrieval/data/test/oxford5k/jpg/oxford_000327.jpg', '/content/UAP_retrieval/data/test/oxford5k/jpg/pitt_rivers_000197.jpg', '/content/UAP_retrieval/data/test/oxford5k/jpg/oxford_003321.jpg', '/content/UAP_retrieval/data/test/oxford5k/jpg/hertford_000093.jpg', '/content/UAP_retrieval/data/test/oxford5k/jpg/magdalen_001037.jpg', '/content/UAP_retrieval/data/test/oxford5k/jpg/magdalen_000111.jpg', '/content/UAP_retrieval/data/test/oxford5k/jpg/christ_church_000841.jpg', '/content/UAP_retrieval/data/test/oxford5k/jpg/pitt_rivers_000059.jpg', '/content/UAP_retrieval/data/test/oxford5k/jpg/bodleian_000136.jpg', '/content/UAP_retrieval/data/test/oxford5k/jpg/bodleian_000024.jpg', '/content/UAP_retrieval/data/test/oxford5k/jpg/oxford_002886.jpg', '/content/UAP_retrieval/data/test/oxford5k/jpg/oxford_002652.jpg', '/content/UAP_retrieval/data/test/oxford5k/jpg/magdalen_000548.jpg', '/content/UAP_retrieval/data/test/oxford5k/jpg/ashmolean_000219.jpg', '/content/UAP_retrieval/data/test/oxford5k/jpg/radcliffe_camera_000241.jpg', '/content/UAP_retrieval/data/test/oxford5k/jpg/trinity_000236.jpg', '/content/UAP_retrieval/data/test/oxford5k/jpg/ashmolean_000076.jpg', '/content/UAP_retrieval/data/test/oxford5k/jpg/magdalen_000504.jpg', '/content/UAP_retrieval/data/test/oxford5k/jpg/oxford_003113.jpg', '/content/UAP_retrieval/data/test/oxford5k/jpg/bodleian_000072.jpg', '/content/UAP_retrieval/data/test/oxford5k/jpg/new_000364.jpg', '/content/UAP_retrieval/data/test/oxford5k/jpg/radcliffe_camera_000106.jpg', '/content/UAP_retrieval/data/test/oxford5k/jpg/radcliffe_camera_000146.jpg', '/content/UAP_retrieval/data/test/oxford5k/jpg/bodleian_000282.jpg', '/content/UAP_retrieval/data/test/oxford5k/jpg/magdalen_000865.jpg', '/content/UAP_retrieval/data/test/oxford5k/jpg/oxford_002409.jpg', '/content/UAP_retrieval/data/test/oxford5k/jpg/new_000464.jpg', '/content/UAP_retrieval/data/test/oxford5k/jpg/radcliffe_camera_000387.jpg', '/content/UAP_retrieval/data/test/oxford5k/jpg/new_000222.jpg', '/content/UAP_retrieval/data/test/oxford5k/jpg/oxford_002902.jpg', '/content/UAP_retrieval/data/test/oxford5k/jpg/magdalen_001012.jpg', '/content/UAP_retrieval/data/test/oxford5k/jpg/balliol_000172.jpg', '/content/UAP_retrieval/data/test/oxford5k/jpg/trinity_000112.jpg', '/content/UAP_retrieval/data/test/oxford5k/jpg/jesus_000290.jpg', '/content/UAP_retrieval/data/test/oxford5k/jpg/oxford_000592.jpg', '/content/UAP_retrieval/data/test/oxford5k/jpg/magdalen_000255.jpg', '/content/UAP_retrieval/data/test/oxford5k/jpg/oxford_000882.jpg', '/content/UAP_retrieval/data/test/oxford5k/jpg/ashmolean_000176.jpg', '/content/UAP_retrieval/data/test/oxford5k/jpg/all_souls_000105.jpg', '/content/UAP_retrieval/data/test/oxford5k/jpg/oriel_000096.jpg', '/content/UAP_retrieval/data/test/oxford5k/jpg/magdalen_000656.jpg', '/content/UAP_retrieval/data/test/oxford5k/jpg/magdalen_000028.jpg', '/content/UAP_retrieval/data/test/oxford5k/jpg/oriel_000069.jpg', '/content/UAP_retrieval/data/test/oxford5k/jpg/worcester_000136.jpg', '/content/UAP_retrieval/data/test/oxford5k/jpg/oxford_002972.jpg', '/content/UAP_retrieval/data/test/oxford5k/jpg/new_000257.jpg', '/content/UAP_retrieval/data/test/oxford5k/jpg/magdalen_000619.jpg', '/content/UAP_retrieval/data/test/oxford5k/jpg/jesus_000365.jpg', '/content/UAP_retrieval/data/test/oxford5k/jpg/radcliffe_camera_000246.jpg', '/content/UAP_retrieval/data/test/oxford5k/jpg/magdalen_001120.jpg', '/content/UAP_retrieval/data/test/oxford5k/jpg/new_000923.jpg', '/content/UAP_retrieval/data/test/oxford5k/jpg/cornmarket_000106.jpg', '/content/UAP_retrieval/data/test/oxford5k/jpg/oxford_002554.jpg', '/content/UAP_retrieval/data/test/oxford5k/jpg/trinity_000037.jpg', '/content/UAP_retrieval/data/test/oxford5k/jpg/balliol_000036.jpg', '/content/UAP_retrieval/data/test/oxford5k/jpg/christ_church_000120.jpg', '/content/UAP_retrieval/data/test/oxford5k/jpg/oxford_003492.jpg', '/content/UAP_retrieval/data/test/oxford5k/jpg/new_000909.jpg', '/content/UAP_retrieval/data/test/oxford5k/jpg/ashmolean_000298.jpg', '/content/UAP_retrieval/data/test/oxford5k/jpg/ashmolean_000088.jpg', '/content/UAP_retrieval/data/test/oxford5k/jpg/radcliffe_camera_000074.jpg', '/content/UAP_retrieval/data/test/oxford5k/jpg/oxford_001832.jpg', '/content/UAP_retrieval/data/test/oxford5k/jpg/oxford_003327.jpg', '/content/UAP_retrieval/data/test/oxford5k/jpg/oxford_003531.jpg', '/content/UAP_retrieval/data/test/oxford5k/jpg/jesus_000278.jpg', '/content/UAP_retrieval/data/test/oxford5k/jpg/new_000233.jpg', '/content/UAP_retrieval/data/test/oxford5k/jpg/oxford_000071.jpg', '/content/UAP_retrieval/data/test/oxford5k/jpg/oxford_000051.jpg', '/content/UAP_retrieval/data/test/oxford5k/jpg/oxford_001835.jpg', '/content/UAP_retrieval/data/test/oxford5k/jpg/radcliffe_camera_000167.jpg', '/content/UAP_retrieval/data/test/oxford5k/jpg/oxford_003391.jpg', '/content/UAP_retrieval/data/test/oxford5k/jpg/magdalen_000137.jpg', '/content/UAP_retrieval/data/test/oxford5k/jpg/jesus_000261.jpg', '/content/UAP_retrieval/data/test/oxford5k/jpg/radcliffe_camera_000276.jpg', '/content/UAP_retrieval/data/test/oxford5k/jpg/worcester_000196.jpg', '/content/UAP_retrieval/data/test/oxford5k/jpg/jesus_000024.jpg', '/content/UAP_retrieval/data/test/oxford5k/jpg/oxford_001308.jpg', '/content/UAP_retrieval/data/test/oxford5k/jpg/oxford_001110.jpg', '/content/UAP_retrieval/data/test/oxford5k/jpg/oxford_000384.jpg', '/content/UAP_retrieval/data/test/oxford5k/jpg/jesus_000316.jpg', '/content/UAP_retrieval/data/test/oxford5k/jpg/oxford_001079.jpg', '/content/UAP_retrieval/data/test/oxford5k/jpg/magdalen_001141.jpg', '/content/UAP_retrieval/data/test/oxford5k/jpg/ashmolean_000005.jpg', '/content/UAP_retrieval/data/test/oxford5k/jpg/oxford_003498.jpg', '/content/UAP_retrieval/data/test/oxford5k/jpg/balliol_000189.jpg', '/content/UAP_retrieval/data/test/oxford5k/jpg/oxford_003548.jpg', '/content/UAP_retrieval/data/test/oxford5k/jpg/jesus_000368.jpg', '/content/UAP_retrieval/data/test/oxford5k/jpg/balliol_000050.jpg', '/content/UAP_retrieval/data/test/oxford5k/jpg/radcliffe_camera_000026.jpg', '/content/UAP_retrieval/data/test/oxford5k/jpg/new_000477.jpg', '/content/UAP_retrieval/data/test/oxford5k/jpg/balliol_000083.jpg', '/content/UAP_retrieval/data/test/oxford5k/jpg/radcliffe_camera_000141.jpg', '/content/UAP_retrieval/data/test/oxford5k/jpg/christ_church_000822.jpg', '/content/UAP_retrieval/data/test/oxford5k/jpg/ashmolean_000270.jpg', '/content/UAP_retrieval/data/test/oxford5k/jpg/hertford_000010.jpg', '/content/UAP_retrieval/data/test/oxford5k/jpg/christ_church_000076.jpg', '/content/UAP_retrieval/data/test/oxford5k/jpg/jesus_000392.jpg', '/content/UAP_retrieval/data/test/oxford5k/jpg/oxford_002370.jpg', '/content/UAP_retrieval/data/test/oxford5k/jpg/oxford_000074.jpg', '/content/UAP_retrieval/data/test/oxford5k/jpg/christ_church_000171.jpg', '/content/UAP_retrieval/data/test/oxford5k/jpg/oxford_001859.jpg', '/content/UAP_retrieval/data/test/oxford5k/jpg/all_souls_000048.jpg', '/content/UAP_retrieval/data/test/oxford5k/jpg/oxford_001080.jpg', '/content/UAP_retrieval/data/test/oxford5k/jpg/keble_000246.jpg', '/content/UAP_retrieval/data/test/oxford5k/jpg/oriel_000038.jpg', '/content/UAP_retrieval/data/test/oxford5k/jpg/christ_church_000218.jpg', '/content/UAP_retrieval/data/test/oxford5k/jpg/oxford_000624.jpg', '/content/UAP_retrieval/data/test/oxford5k/jpg/new_000784.jpg', '/content/UAP_retrieval/data/test/oxford5k/jpg/keble_000060.jpg', '/content/UAP_retrieval/data/test/oxford5k/jpg/oxford_000378.jpg', '/content/UAP_retrieval/data/test/oxford5k/jpg/oxford_003105.jpg', '/content/UAP_retrieval/data/test/oxford5k/jpg/oxford_000543.jpg', '/content/UAP_retrieval/data/test/oxford5k/jpg/balliol_000173.jpg', '/content/UAP_retrieval/data/test/oxford5k/jpg/hertford_000095.jpg', '/content/UAP_retrieval/data/test/oxford5k/jpg/jesus_000277.jpg', '/content/UAP_retrieval/data/test/oxford5k/jpg/new_000300.jpg', '/content/UAP_retrieval/data/test/oxford5k/jpg/magdalen_000330.jpg', '/content/UAP_retrieval/data/test/oxford5k/jpg/christ_church_000258.jpg', '/content/UAP_retrieval/data/test/oxford5k/jpg/new_000538.jpg', '/content/UAP_retrieval/data/test/oxford5k/jpg/christ_church_001051.jpg', '/content/UAP_retrieval/data/test/oxford5k/jpg/trinity_000129.jpg', '/content/UAP_retrieval/data/test/oxford5k/jpg/oriel_000077.jpg', '/content/UAP_retrieval/data/test/oxford5k/jpg/new_000974.jpg', '/content/UAP_retrieval/data/test/oxford5k/jpg/new_000446.jpg', '/content/UAP_retrieval/data/test/oxford5k/jpg/magdalen_000663.jpg', '/content/UAP_retrieval/data/test/oxford5k/jpg/magdalen_000251.jpg', '/content/UAP_retrieval/data/test/oxford5k/jpg/new_000184.jpg', '/content/UAP_retrieval/data/test/oxford5k/jpg/christ_church_001023.jpg', '/content/UAP_retrieval/data/test/oxford5k/jpg/oxford_000404.jpg', '/content/UAP_retrieval/data/test/oxford5k/jpg/magdalen_000298.jpg', '/content/UAP_retrieval/data/test/oxford5k/jpg/magdalen_000121.jpg', '/content/UAP_retrieval/data/test/oxford5k/jpg/jesus_000298.jpg', '/content/UAP_retrieval/data/test/oxford5k/jpg/magdalen_000577.jpg', '/content/UAP_retrieval/data/test/oxford5k/jpg/oriel_000052.jpg', '/content/UAP_retrieval/data/test/oxford5k/jpg/magdalen_000235.jpg', '/content/UAP_retrieval/data/test/oxford5k/jpg/bodleian_000427.jpg', '/content/UAP_retrieval/data/test/oxford5k/jpg/magdalen_000063.jpg', '/content/UAP_retrieval/data/test/oxford5k/jpg/oxford_003297.jpg', '/content/UAP_retrieval/data/test/oxford5k/jpg/oxford_002592.jpg', '/content/UAP_retrieval/data/test/oxford5k/jpg/oxford_002251.jpg', '/content/UAP_retrieval/data/test/oxford5k/jpg/ashmolean_000012.jpg', '/content/UAP_retrieval/data/test/oxford5k/jpg/worcester_000175.jpg', '/content/UAP_retrieval/data/test/oxford5k/jpg/oxford_001252.jpg', '/content/UAP_retrieval/data/test/oxford5k/jpg/magdalen_001102.jpg', '/content/UAP_retrieval/data/test/oxford5k/jpg/oriel_000011.jpg', '/content/UAP_retrieval/data/test/oxford5k/jpg/oxford_002891.jpg', '/content/UAP_retrieval/data/test/oxford5k/jpg/all_souls_000103.jpg', '/content/UAP_retrieval/data/test/oxford5k/jpg/christ_church_000796.jpg', '/content/UAP_retrieval/data/test/oxford5k/jpg/oxford_000458.jpg', '/content/UAP_retrieval/data/test/oxford5k/jpg/new_000442.jpg', '/content/UAP_retrieval/data/test/oxford5k/jpg/oxford_002982.jpg', '/content/UAP_retrieval/data/test/oxford5k/jpg/magdalen_000515.jpg', '/content/UAP_retrieval/data/test/oxford5k/jpg/pitt_rivers_000041.jpg', '/content/UAP_retrieval/data/test/oxford5k/jpg/oxford_000533.jpg', '/content/UAP_retrieval/data/test/oxford5k/jpg/bodleian_000189.jpg', '/content/UAP_retrieval/data/test/oxford5k/jpg/radcliffe_camera_000428.jpg', '/content/UAP_retrieval/data/test/oxford5k/jpg/new_000683.jpg', '/content/UAP_retrieval/data/test/oxford5k/jpg/ashmolean_000288.jpg', '/content/UAP_retrieval/data/test/oxford5k/jpg/bodleian_000041.jpg', '/content/UAP_retrieval/data/test/oxford5k/jpg/radcliffe_camera_000145.jpg', '/content/UAP_retrieval/data/test/oxford5k/jpg/oxford_000765.jpg', '/content/UAP_retrieval/data/test/oxford5k/jpg/christ_church_000091.jpg', '/content/UAP_retrieval/data/test/oxford5k/jpg/new_000915.jpg', '/content/UAP_retrieval/data/test/oxford5k/jpg/oxford_001507.jpg', '/content/UAP_retrieval/data/test/oxford5k/jpg/oxford_002217.jpg', '/content/UAP_retrieval/data/test/oxford5k/jpg/all_souls_000214.jpg', '/content/UAP_retrieval/data/test/oxford5k/jpg/oxford_000688.jpg', '/content/UAP_retrieval/data/test/oxford5k/jpg/oxford_001131.jpg', '/content/UAP_retrieval/data/test/oxford5k/jpg/magdalen_000147.jpg', '/content/UAP_retrieval/data/test/oxford5k/jpg/oxford_001761.jpg', '/content/UAP_retrieval/data/test/oxford5k/jpg/ashmolean_000098.jpg', '/content/UAP_retrieval/data/test/oxford5k/jpg/oxford_003225.jpg', '/content/UAP_retrieval/data/test/oxford5k/jpg/new_000410.jpg', '/content/UAP_retrieval/data/test/oxford5k/jpg/bodleian_000105.jpg', '/content/UAP_retrieval/data/test/oxford5k/jpg/oxford_000406.jpg', '/content/UAP_retrieval/data/test/oxford5k/jpg/magdalen_000781.jpg', '/content/UAP_retrieval/data/test/oxford5k/jpg/bodleian_000009.jpg', '/content/UAP_retrieval/data/test/oxford5k/jpg/new_000045.jpg', '/content/UAP_retrieval/data/test/oxford5k/jpg/ashmolean_000167.jpg', '/content/UAP_retrieval/data/test/oxford5k/jpg/oxford_002276.jpg', '/content/UAP_retrieval/data/test/oxford5k/jpg/radcliffe_camera_000420.jpg', '/content/UAP_retrieval/data/test/oxford5k/jpg/balliol_000143.jpg', '/content/UAP_retrieval/data/test/oxford5k/jpg/oxford_000736.jpg', '/content/UAP_retrieval/data/test/oxford5k/jpg/oxford_002106.jpg', '/content/UAP_retrieval/data/test/oxford5k/jpg/ashmolean_000197.jpg', '/content/UAP_retrieval/data/test/oxford5k/jpg/trinity_000274.jpg', '/content/UAP_retrieval/data/test/oxford5k/jpg/christ_church_000529.jpg', '/content/UAP_retrieval/data/test/oxford5k/jpg/oxford_001439.jpg', '/content/UAP_retrieval/data/test/oxford5k/jpg/oxford_003097.jpg', '/content/UAP_retrieval/data/test/oxford5k/jpg/new_000863.jpg', '/content/UAP_retrieval/data/test/oxford5k/jpg/christ_church_000889.jpg', '/content/UAP_retrieval/data/test/oxford5k/jpg/oxford_003356.jpg', '/content/UAP_retrieval/data/test/oxford5k/jpg/hertford_000076.jpg', '/content/UAP_retrieval/data/test/oxford5k/jpg/radcliffe_camera_000095.jpg', '/content/UAP_retrieval/data/test/oxford5k/jpg/oxford_001963.jpg', '/content/UAP_retrieval/data/test/oxford5k/jpg/oxford_000920.jpg', '/content/UAP_retrieval/data/test/oxford5k/jpg/cornmarket_000047.jpg', '/content/UAP_retrieval/data/test/oxford5k/jpg/magdalen_000284.jpg', '/content/UAP_retrieval/data/test/oxford5k/jpg/magdalen_000695.jpg', '/content/UAP_retrieval/data/test/oxford5k/jpg/magdalen_000665.jpg', '/content/UAP_retrieval/data/test/oxford5k/jpg/bodleian_000285.jpg', '/content/UAP_retrieval/data/test/oxford5k/jpg/christ_church_000462.jpg', '/content/UAP_retrieval/data/test/oxford5k/jpg/radcliffe_camera_000173.jpg', '/content/UAP_retrieval/data/test/oxford5k/jpg/new_000906.jpg', '/content/UAP_retrieval/data/test/oxford5k/jpg/oxford_000050.jpg', '/content/UAP_retrieval/data/test/oxford5k/jpg/magdalen_001028.jpg', '/content/UAP_retrieval/data/test/oxford5k/jpg/magdalen_000657.jpg', '/content/UAP_retrieval/data/test/oxford5k/jpg/trinity_000197.jpg', '/content/UAP_retrieval/data/test/oxford5k/jpg/bodleian_000429.jpg', '/content/UAP_retrieval/data/test/oxford5k/jpg/balliol_000061.jpg', '/content/UAP_retrieval/data/test/oxford5k/jpg/all_souls_000011.jpg', '/content/UAP_retrieval/data/test/oxford5k/jpg/bodleian_000443.jpg', '/content/UAP_retrieval/data/test/oxford5k/jpg/trinity_000050.jpg', '/content/UAP_retrieval/data/test/oxford5k/jpg/oxford_001244.jpg', '/content/UAP_retrieval/data/test/oxford5k/jpg/oxford_002778.jpg', '/content/UAP_retrieval/data/test/oxford5k/jpg/oxford_000669.jpg', '/content/UAP_retrieval/data/test/oxford5k/jpg/oxford_002924.jpg', '/content/UAP_retrieval/data/test/oxford5k/jpg/oxford_002411.jpg', '/content/UAP_retrieval/data/test/oxford5k/jpg/trinity_000295.jpg', '/content/UAP_retrieval/data/test/oxford5k/jpg/new_000154.jpg', '/content/UAP_retrieval/data/test/oxford5k/jpg/new_000956.jpg', '/content/UAP_retrieval/data/test/oxford5k/jpg/pitt_rivers_000076.jpg', '/content/UAP_retrieval/data/test/oxford5k/jpg/oxford_002840.jpg', '/content/UAP_retrieval/data/test/oxford5k/jpg/magdalen_000799.jpg', '/content/UAP_retrieval/data/test/oxford5k/jpg/oxford_002531.jpg', '/content/UAP_retrieval/data/test/oxford5k/jpg/oxford_003109.jpg', '/content/UAP_retrieval/data/test/oxford5k/jpg/oxford_001118.jpg', '/content/UAP_retrieval/data/test/oxford5k/jpg/oxford_001639.jpg', '/content/UAP_retrieval/data/test/oxford5k/jpg/all_souls_000076.jpg', '/content/UAP_retrieval/data/test/oxford5k/jpg/christ_church_000053.jpg', '/content/UAP_retrieval/data/test/oxford5k/jpg/new_000014.jpg', '/content/UAP_retrieval/data/test/oxford5k/jpg/radcliffe_camera_000454.jpg', '/content/UAP_retrieval/data/test/oxford5k/jpg/oxford_003267.jpg', '/content/UAP_retrieval/data/test/oxford5k/jpg/hertford_000119.jpg', '/content/UAP_retrieval/data/test/oxford5k/jpg/oxford_002991.jpg', '/content/UAP_retrieval/data/test/oxford5k/jpg/magdalen_001087.jpg', '/content/UAP_retrieval/data/test/oxford5k/jpg/oxford_001313.jpg', '/content/UAP_retrieval/data/test/oxford5k/jpg/oxford_000440.jpg', '/content/UAP_retrieval/data/test/oxford5k/jpg/christ_church_000384.jpg', '/content/UAP_retrieval/data/test/oxford5k/jpg/trinity_000065.jpg', '/content/UAP_retrieval/data/test/oxford5k/jpg/hertford_000066.jpg', '/content/UAP_retrieval/data/test/oxford5k/jpg/oxford_001769.jpg', '/content/UAP_retrieval/data/test/oxford5k/jpg/oxford_002139.jpg', '/content/UAP_retrieval/data/test/oxford5k/jpg/radcliffe_camera_000089.jpg', '/content/UAP_retrieval/data/test/oxford5k/jpg/oxford_000305.jpg', '/content/UAP_retrieval/data/test/oxford5k/jpg/magdalen_000163.jpg', '/content/UAP_retrieval/data/test/oxford5k/jpg/magdalen_000287.jpg', '/content/UAP_retrieval/data/test/oxford5k/jpg/christ_church_000563.jpg', '/content/UAP_retrieval/data/test/oxford5k/jpg/balliol_000000.jpg', '/content/UAP_retrieval/data/test/oxford5k/jpg/christ_church_001058.jpg', '/content/UAP_retrieval/data/test/oxford5k/jpg/radcliffe_camera_000402.jpg', '/content/UAP_retrieval/data/test/oxford5k/jpg/new_000917.jpg', '/content/UAP_retrieval/data/test/oxford5k/jpg/ashmolean_000280.jpg', '/content/UAP_retrieval/data/test/oxford5k/jpg/balliol_000138.jpg', '/content/UAP_retrieval/data/test/oxford5k/jpg/radcliffe_camera_000150.jpg', '/content/UAP_retrieval/data/test/oxford5k/jpg/ashmolean_000222.jpg', '/content/UAP_retrieval/data/test/oxford5k/jpg/oxford_001870.jpg', '/content/UAP_retrieval/data/test/oxford5k/jpg/christ_church_000409.jpg', '/content/UAP_retrieval/data/test/oxford5k/jpg/christ_church_000096.jpg', '/content/UAP_retrieval/data/test/oxford5k/jpg/oxford_001410.jpg', '/content/UAP_retrieval/data/test/oxford5k/jpg/oxford_001667.jpg', '/content/UAP_retrieval/data/test/oxford5k/jpg/worcester_000184.jpg', '/content/UAP_retrieval/data/test/oxford5k/jpg/oxford_000208.jpg', '/content/UAP_retrieval/data/test/oxford5k/jpg/oxford_000684.jpg', '/content/UAP_retrieval/data/test/oxford5k/jpg/christ_church_000843.jpg', '/content/UAP_retrieval/data/test/oxford5k/jpg/ashmolean_000249.jpg', '/content/UAP_retrieval/data/test/oxford5k/jpg/new_000807.jpg', '/content/UAP_retrieval/data/test/oxford5k/jpg/christ_church_000280.jpg', '/content/UAP_retrieval/data/test/oxford5k/jpg/trinity_000096.jpg', '/content/UAP_retrieval/data/test/oxford5k/jpg/christ_church_000447.jpg', '/content/UAP_retrieval/data/test/oxford5k/jpg/new_000816.jpg', '/content/UAP_retrieval/data/test/oxford5k/jpg/oxford_002464.jpg', '/content/UAP_retrieval/data/test/oxford5k/jpg/all_souls_000149.jpg', '/content/UAP_retrieval/data/test/oxford5k/jpg/oxford_001072.jpg', '/content/UAP_retrieval/data/test/oxford5k/jpg/all_souls_000180.jpg', '/content/UAP_retrieval/data/test/oxford5k/jpg/pitt_rivers_000035.jpg', '/content/UAP_retrieval/data/test/oxford5k/jpg/pitt_rivers_000009.jpg', '/content/UAP_retrieval/data/test/oxford5k/jpg/christ_church_000534.jpg', '/content/UAP_retrieval/data/test/oxford5k/jpg/bodleian_000191.jpg', '/content/UAP_retrieval/data/test/oxford5k/jpg/magdalen_000876.jpg', '/content/UAP_retrieval/data/test/oxford5k/jpg/christ_church_000807.jpg', '/content/UAP_retrieval/data/test/oxford5k/jpg/oxford_003658.jpg', '/content/UAP_retrieval/data/test/oxford5k/jpg/oxford_002821.jpg', '/content/UAP_retrieval/data/test/oxford5k/jpg/ashmolean_000227.jpg', '/content/UAP_retrieval/data/test/oxford5k/jpg/magdalen_000313.jpg', '/content/UAP_retrieval/data/test/oxford5k/jpg/oxford_000930.jpg', '/content/UAP_retrieval/data/test/oxford5k/jpg/bodleian_000288.jpg', '/content/UAP_retrieval/data/test/oxford5k/jpg/new_001078.jpg', '/content/UAP_retrieval/data/test/oxford5k/jpg/bodleian_000345.jpg', '/content/UAP_retrieval/data/test/oxford5k/jpg/oxford_002702.jpg', '/content/UAP_retrieval/data/test/oxford5k/jpg/christ_church_000629.jpg', '/content/UAP_retrieval/data/test/oxford5k/jpg/jesus_000237.jpg', '/content/UAP_retrieval/data/test/oxford5k/jpg/jesus_000115.jpg', '/content/UAP_retrieval/data/test/oxford5k/jpg/radcliffe_camera_000303.jpg', '/content/UAP_retrieval/data/test/oxford5k/jpg/magdalen_000363.jpg', '/content/UAP_retrieval/data/test/oxford5k/jpg/balliol_000107.jpg', '/content/UAP_retrieval/data/test/oxford5k/jpg/magdalen_000129.jpg', '/content/UAP_retrieval/data/test/oxford5k/jpg/magdalen_000044.jpg', '/content/UAP_retrieval/data/test/oxford5k/jpg/bodleian_000445.jpg', '/content/UAP_retrieval/data/test/oxford5k/jpg/keble_000212.jpg', '/content/UAP_retrieval/data/test/oxford5k/jpg/new_000987.jpg', '/content/UAP_retrieval/data/test/oxford5k/jpg/new_000999.jpg', '/content/UAP_retrieval/data/test/oxford5k/jpg/oxford_001587.jpg', '/content/UAP_retrieval/data/test/oxford5k/jpg/magdalen_000301.jpg', '/content/UAP_retrieval/data/test/oxford5k/jpg/oxford_000881.jpg', '/content/UAP_retrieval/data/test/oxford5k/jpg/radcliffe_camera_000270.jpg', '/content/UAP_retrieval/data/test/oxford5k/jpg/oxford_000357.jpg', '/content/UAP_retrieval/data/test/oxford5k/jpg/christ_church_000587.jpg', '/content/UAP_retrieval/data/test/oxford5k/jpg/magdalen_000199.jpg', '/content/UAP_retrieval/data/test/oxford5k/jpg/christ_church_000129.jpg', '/content/UAP_retrieval/data/test/oxford5k/jpg/hertford_000062.jpg', '/content/UAP_retrieval/data/test/oxford5k/jpg/oxford_001755.jpg', '/content/UAP_retrieval/data/test/oxford5k/jpg/magdalen_000588.jpg', '/content/UAP_retrieval/data/test/oxford5k/jpg/oxford_001121.jpg', '/content/UAP_retrieval/data/test/oxford5k/jpg/oxford_001862.jpg', '/content/UAP_retrieval/data/test/oxford5k/jpg/oxford_000965.jpg', '/content/UAP_retrieval/data/test/oxford5k/jpg/jesus_000402.jpg', '/content/UAP_retrieval/data/test/oxford5k/jpg/new_001080.jpg', '/content/UAP_retrieval/data/test/oxford5k/jpg/bodleian_000473.jpg', '/content/UAP_retrieval/data/test/oxford5k/jpg/christ_church_000536.jpg', '/content/UAP_retrieval/data/test/oxford5k/jpg/oxford_003568.jpg', '/content/UAP_retrieval/data/test/oxford5k/jpg/new_000518.jpg', '/content/UAP_retrieval/data/test/oxford5k/jpg/oxford_001276.jpg', '/content/UAP_retrieval/data/test/oxford5k/jpg/pitt_rivers_000189.jpg', '/content/UAP_retrieval/data/test/oxford5k/jpg/oxford_002904.jpg', '/content/UAP_retrieval/data/test/oxford5k/jpg/oxford_000729.jpg', '/content/UAP_retrieval/data/test/oxford5k/jpg/radcliffe_camera_000509.jpg', '/content/UAP_retrieval/data/test/oxford5k/jpg/magdalen_000026.jpg', '/content/UAP_retrieval/data/test/oxford5k/jpg/radcliffe_camera_000453.jpg', '/content/UAP_retrieval/data/test/oxford5k/jpg/magdalen_000244.jpg', '/content/UAP_retrieval/data/test/oxford5k/jpg/oxford_001218.jpg', '/content/UAP_retrieval/data/test/oxford5k/jpg/oxford_001269.jpg', '/content/UAP_retrieval/data/test/oxford5k/jpg/jesus_000118.jpg', '/content/UAP_retrieval/data/test/oxford5k/jpg/oxford_000781.jpg', '/content/UAP_retrieval/data/test/oxford5k/jpg/oxford_002728.jpg', '/content/UAP_retrieval/data/test/oxford5k/jpg/keble_000247.jpg', '/content/UAP_retrieval/data/test/oxford5k/jpg/all_souls_000181.jpg', '/content/UAP_retrieval/data/test/oxford5k/jpg/oxford_003160.jpg', '/content/UAP_retrieval/data/test/oxford5k/jpg/ashmolean_000334.jpg', '/content/UAP_retrieval/data/test/oxford5k/jpg/pitt_rivers_000064.jpg', '/content/UAP_retrieval/data/test/oxford5k/jpg/ashmolean_000151.jpg', '/content/UAP_retrieval/data/test/oxford5k/jpg/oxford_002325.jpg', '/content/UAP_retrieval/data/test/oxford5k/jpg/magdalen_000118.jpg', '/content/UAP_retrieval/data/test/oxford5k/jpg/bodleian_000012.jpg', '/content/UAP_retrieval/data/test/oxford5k/jpg/bodleian_000236.jpg', '/content/UAP_retrieval/data/test/oxford5k/jpg/christ_church_000054.jpg', '/content/UAP_retrieval/data/test/oxford5k/jpg/bodleian_000165.jpg', '/content/UAP_retrieval/data/test/oxford5k/jpg/cornmarket_000091.jpg', '/content/UAP_retrieval/data/test/oxford5k/jpg/oxford_002142.jpg', '/content/UAP_retrieval/data/test/oxford5k/jpg/all_souls_000207.jpg', '/content/UAP_retrieval/data/test/oxford5k/jpg/magdalen_000226.jpg', '/content/UAP_retrieval/data/test/oxford5k/jpg/oxford_000735.jpg', '/content/UAP_retrieval/data/test/oxford5k/jpg/bodleian_000094.jpg', '/content/UAP_retrieval/data/test/oxford5k/jpg/christ_church_000311.jpg', '/content/UAP_retrieval/data/test/oxford5k/jpg/oxford_002396.jpg', '/content/UAP_retrieval/data/test/oxford5k/jpg/christ_church_000696.jpg', '/content/UAP_retrieval/data/test/oxford5k/jpg/radcliffe_camera_000001.jpg', '/content/UAP_retrieval/data/test/oxford5k/jpg/magdalen_000239.jpg', '/content/UAP_retrieval/data/test/oxford5k/jpg/new_000229.jpg', '/content/UAP_retrieval/data/test/oxford5k/jpg/new_000880.jpg', '/content/UAP_retrieval/data/test/oxford5k/jpg/radcliffe_camera_000238.jpg', '/content/UAP_retrieval/data/test/oxford5k/jpg/christ_church_001158.jpg', '/content/UAP_retrieval/data/test/oxford5k/jpg/radcliffe_camera_000135.jpg', '/content/UAP_retrieval/data/test/oxford5k/jpg/oxford_002773.jpg', '/content/UAP_retrieval/data/test/oxford5k/jpg/oxford_000808.jpg', '/content/UAP_retrieval/data/test/oxford5k/jpg/new_000452.jpg', '/content/UAP_retrieval/data/test/oxford5k/jpg/magdalen_000230.jpg', '/content/UAP_retrieval/data/test/oxford5k/jpg/oxford_000755.jpg', '/content/UAP_retrieval/data/test/oxford5k/jpg/oxford_001461.jpg', '/content/UAP_retrieval/data/test/oxford5k/jpg/magdalen_000624.jpg', '/content/UAP_retrieval/data/test/oxford5k/jpg/christ_church_000322.jpg', '/content/UAP_retrieval/data/test/oxford5k/jpg/oxford_001582.jpg', '/content/UAP_retrieval/data/test/oxford5k/jpg/oxford_002509.jpg', '/content/UAP_retrieval/data/test/oxford5k/jpg/trinity_000042.jpg', '/content/UAP_retrieval/data/test/oxford5k/jpg/oxford_001069.jpg', '/content/UAP_retrieval/data/test/oxford5k/jpg/jesus_000027.jpg', '/content/UAP_retrieval/data/test/oxford5k/jpg/oxford_002960.jpg', '/content/UAP_retrieval/data/test/oxford5k/jpg/christ_church_000980.jpg', '/content/UAP_retrieval/data/test/oxford5k/jpg/ashmolean_000259.jpg', '/content/UAP_retrieval/data/test/oxford5k/jpg/keble_000232.jpg', '/content/UAP_retrieval/data/test/oxford5k/jpg/christ_church_000675.jpg', '/content/UAP_retrieval/data/test/oxford5k/jpg/magdalen_001097.jpg', '/content/UAP_retrieval/data/test/oxford5k/jpg/magdalen_001090.jpg', '/content/UAP_retrieval/data/test/oxford5k/jpg/trinity_000089.jpg', '/content/UAP_retrieval/data/test/oxford5k/jpg/worcester_000129.jpg', '/content/UAP_retrieval/data/test/oxford5k/jpg/balliol_000020.jpg', '/content/UAP_retrieval/data/test/oxford5k/jpg/bodleian_000438.jpg', '/content/UAP_retrieval/data/test/oxford5k/jpg/new_000332.jpg', '/content/UAP_retrieval/data/test/oxford5k/jpg/oxford_003510.jpg', '/content/UAP_retrieval/data/test/oxford5k/jpg/magdalen_000604.jpg', '/content/UAP_retrieval/data/test/oxford5k/jpg/oxford_001645.jpg', '/content/UAP_retrieval/data/test/oxford5k/jpg/radcliffe_camera_000508.jpg', '/content/UAP_retrieval/data/test/oxford5k/jpg/radcliffe_camera_000354.jpg', '/content/UAP_retrieval/data/test/oxford5k/jpg/oxford_001393.jpg', '/content/UAP_retrieval/data/test/oxford5k/jpg/all_souls_000188.jpg', '/content/UAP_retrieval/data/test/oxford5k/jpg/trinity_000174.jpg', '/content/UAP_retrieval/data/test/oxford5k/jpg/magdalen_000952.jpg', '/content/UAP_retrieval/data/test/oxford5k/jpg/new_000629.jpg', '/content/UAP_retrieval/data/test/oxford5k/jpg/oxford_001920.jpg', '/content/UAP_retrieval/data/test/oxford5k/jpg/oxford_003045.jpg', '/content/UAP_retrieval/data/test/oxford5k/jpg/keble_000010.jpg', '/content/UAP_retrieval/data/test/oxford5k/jpg/hertford_000105.jpg', '/content/UAP_retrieval/data/test/oxford5k/jpg/new_000383.jpg', '/content/UAP_retrieval/data/test/oxford5k/jpg/new_000994.jpg', '/content/UAP_retrieval/data/test/oxford5k/jpg/magdalen_000240.jpg', '/content/UAP_retrieval/data/test/oxford5k/jpg/oxford_000113.jpg', '/content/UAP_retrieval/data/test/oxford5k/jpg/christ_church_001006.jpg', '/content/UAP_retrieval/data/test/oxford5k/jpg/oxford_000823.jpg', '/content/UAP_retrieval/data/test/oxford5k/jpg/radcliffe_camera_000059.jpg', '/content/UAP_retrieval/data/test/oxford5k/jpg/new_000347.jpg', '/content/UAP_retrieval/data/test/oxford5k/jpg/trinity_000055.jpg', '/content/UAP_retrieval/data/test/oxford5k/jpg/bodleian_000367.jpg', '/content/UAP_retrieval/data/test/oxford5k/jpg/oxford_000821.jpg', '/content/UAP_retrieval/data/test/oxford5k/jpg/magdalen_000040.jpg', '/content/UAP_retrieval/data/test/oxford5k/jpg/bodleian_000010.jpg', '/content/UAP_retrieval/data/test/oxford5k/jpg/oriel_000013.jpg', '/content/UAP_retrieval/data/test/oxford5k/jpg/christ_church_000133.jpg', '/content/UAP_retrieval/data/test/oxford5k/jpg/christ_church_000420.jpg', '/content/UAP_retrieval/data/test/oxford5k/jpg/cornmarket_000068.jpg', '/content/UAP_retrieval/data/test/oxford5k/jpg/oxford_003420.jpg', '/content/UAP_retrieval/data/test/oxford5k/jpg/radcliffe_camera_000176.jpg', '/content/UAP_retrieval/data/test/oxford5k/jpg/oxford_000351.jpg', '/content/UAP_retrieval/data/test/oxford5k/jpg/magdalen_000192.jpg', '/content/UAP_retrieval/data/test/oxford5k/jpg/magdalen_001140.jpg', '/content/UAP_retrieval/data/test/oxford5k/jpg/christ_church_000336.jpg', '/content/UAP_retrieval/data/test/oxford5k/jpg/oxford_002364.jpg', '/content/UAP_retrieval/data/test/oxford5k/jpg/oxford_000531.jpg', '/content/UAP_retrieval/data/test/oxford5k/jpg/radcliffe_camera_000546.jpg', '/content/UAP_retrieval/data/test/oxford5k/jpg/balliol_000184.jpg', '/content/UAP_retrieval/data/test/oxford5k/jpg/magdalen_000746.jpg', '/content/UAP_retrieval/data/test/oxford5k/jpg/worcester_000093.jpg', '/content/UAP_retrieval/data/test/oxford5k/jpg/oriel_000079.jpg', '/content/UAP_retrieval/data/test/oxford5k/jpg/worcester_000141.jpg', '/content/UAP_retrieval/data/test/oxford5k/jpg/christ_church_000407.jpg', '/content/UAP_retrieval/data/test/oxford5k/jpg/new_000939.jpg', '/content/UAP_retrieval/data/test/oxford5k/jpg/ashmolean_000093.jpg', '/content/UAP_retrieval/data/test/oxford5k/jpg/trinity_000000.jpg', '/content/UAP_retrieval/data/test/oxford5k/jpg/oxford_000676.jpg', '/content/UAP_retrieval/data/test/oxford5k/jpg/magdalen_000738.jpg', '/content/UAP_retrieval/data/test/oxford5k/jpg/magdalen_000038.jpg', '/content/UAP_retrieval/data/test/oxford5k/jpg/oxford_000020.jpg', '/content/UAP_retrieval/data/test/oxford5k/jpg/cornmarket_000116.jpg', '/content/UAP_retrieval/data/test/oxford5k/jpg/oxford_003145.jpg', '/content/UAP_retrieval/data/test/oxford5k/jpg/oxford_003345.jpg', '/content/UAP_retrieval/data/test/oxford5k/jpg/trinity_000080.jpg', '/content/UAP_retrieval/data/test/oxford5k/jpg/pitt_rivers_000134.jpg', '/content/UAP_retrieval/data/test/oxford5k/jpg/christ_church_000348.jpg', '/content/UAP_retrieval/data/test/oxford5k/jpg/oxford_002684.jpg', '/content/UAP_retrieval/data/test/oxford5k/jpg/christ_church_000429.jpg', '/content/UAP_retrieval/data/test/oxford5k/jpg/magdalen_000320.jpg', '/content/UAP_retrieval/data/test/oxford5k/jpg/new_000878.jpg', '/content/UAP_retrieval/data/test/oxford5k/jpg/radcliffe_camera_000566.jpg', '/content/UAP_retrieval/data/test/oxford5k/jpg/jesus_000381.jpg', '/content/UAP_retrieval/data/test/oxford5k/jpg/christ_church_000219.jpg', '/content/UAP_retrieval/data/test/oxford5k/jpg/oxford_000945.jpg', '/content/UAP_retrieval/data/test/oxford5k/jpg/trinity_000326.jpg', '/content/UAP_retrieval/data/test/oxford5k/jpg/ashmolean_000247.jpg', '/content/UAP_retrieval/data/test/oxford5k/jpg/christ_church_000437.jpg', '/content/UAP_retrieval/data/test/oxford5k/jpg/oxford_003077.jpg', '/content/UAP_retrieval/data/test/oxford5k/jpg/bodleian_000323.jpg', '/content/UAP_retrieval/data/test/oxford5k/jpg/oriel_000044.jpg', '/content/UAP_retrieval/data/test/oxford5k/jpg/new_000389.jpg', '/content/UAP_retrieval/data/test/oxford5k/jpg/ashmolean_000120.jpg', '/content/UAP_retrieval/data/test/oxford5k/jpg/magdalen_000468.jpg', '/content/UAP_retrieval/data/test/oxford5k/jpg/oxford_003011.jpg', '/content/UAP_retrieval/data/test/oxford5k/jpg/magdalen_000560.jpg', '/content/UAP_retrieval/data/test/oxford5k/jpg/jesus_000161.jpg', '/content/UAP_retrieval/data/test/oxford5k/jpg/christ_church_000734.jpg', '/content/UAP_retrieval/data/test/oxford5k/jpg/oxford_000162.jpg', '/content/UAP_retrieval/data/test/oxford5k/jpg/keble_000087.jpg', '/content/UAP_retrieval/data/test/oxford5k/jpg/keble_000063.jpg', '/content/UAP_retrieval/data/test/oxford5k/jpg/new_000027.jpg', '/content/UAP_retrieval/data/test/oxford5k/jpg/balliol_000059.jpg', '/content/UAP_retrieval/data/test/oxford5k/jpg/jesus_000396.jpg', '/content/UAP_retrieval/data/test/oxford5k/jpg/new_001062.jpg', '/content/UAP_retrieval/data/test/oxford5k/jpg/magdalen_000140.jpg', '/content/UAP_retrieval/data/test/oxford5k/jpg/oxford_001494.jpg', '/content/UAP_retrieval/data/test/oxford5k/jpg/christ_church_000651.jpg', '/content/UAP_retrieval/data/test/oxford5k/jpg/oxford_000453.jpg', '/content/UAP_retrieval/data/test/oxford5k/jpg/new_000853.jpg', '/content/UAP_retrieval/data/test/oxford5k/jpg/new_001099.jpg', '/content/UAP_retrieval/data/test/oxford5k/jpg/all_souls_000014.jpg', '/content/UAP_retrieval/data/test/oxford5k/jpg/jesus_000012.jpg', '/content/UAP_retrieval/data/test/oxford5k/jpg/oxford_003096.jpg', '/content/UAP_retrieval/data/test/oxford5k/jpg/magdalen_000046.jpg', '/content/UAP_retrieval/data/test/oxford5k/jpg/christ_church_001038.jpg', '/content/UAP_retrieval/data/test/oxford5k/jpg/christ_church_000175.jpg', '/content/UAP_retrieval/data/test/oxford5k/jpg/bodleian_000081.jpg', '/content/UAP_retrieval/data/test/oxford5k/jpg/oriel_000084.jpg', '/content/UAP_retrieval/data/test/oxford5k/jpg/magdalen_000335.jpg', '/content/UAP_retrieval/data/test/oxford5k/jpg/trinity_000204.jpg', '/content/UAP_retrieval/data/test/oxford5k/jpg/oxford_001756.jpg', '/content/UAP_retrieval/data/test/oxford5k/jpg/trinity_000334.jpg', '/content/UAP_retrieval/data/test/oxford5k/jpg/ashmolean_000242.jpg', '/content/UAP_retrieval/data/test/oxford5k/jpg/magdalen_000032.jpg', '/content/UAP_retrieval/data/test/oxford5k/jpg/christ_church_001053.jpg', '/content/UAP_retrieval/data/test/oxford5k/jpg/radcliffe_camera_000425.jpg', '/content/UAP_retrieval/data/test/oxford5k/jpg/christ_church_000585.jpg', '/content/UAP_retrieval/data/test/oxford5k/jpg/oxford_000710.jpg', '/content/UAP_retrieval/data/test/oxford5k/jpg/oxford_001965.jpg', '/content/UAP_retrieval/data/test/oxford5k/jpg/oxford_000726.jpg', '/content/UAP_retrieval/data/test/oxford5k/jpg/ashmolean_000168.jpg', '/content/UAP_retrieval/data/test/oxford5k/jpg/oxford_002334.jpg', '/content/UAP_retrieval/data/test/oxford5k/jpg/oxford_002278.jpg', '/content/UAP_retrieval/data/test/oxford5k/jpg/jesus_000287.jpg', '/content/UAP_retrieval/data/test/oxford5k/jpg/new_001081.jpg', '/content/UAP_retrieval/data/test/oxford5k/jpg/oxford_003359.jpg', '/content/UAP_retrieval/data/test/oxford5k/jpg/oxford_001899.jpg', '/content/UAP_retrieval/data/test/oxford5k/jpg/bodleian_000170.jpg', '/content/UAP_retrieval/data/test/oxford5k/jpg/bodleian_000287.jpg', '/content/UAP_retrieval/data/test/oxford5k/jpg/balliol_000153.jpg', '/content/UAP_retrieval/data/test/oxford5k/jpg/oriel_000028.jpg', '/content/UAP_retrieval/data/test/oxford5k/jpg/all_souls_000053.jpg', '/content/UAP_retrieval/data/test/oxford5k/jpg/bodleian_000023.jpg', '/content/UAP_retrieval/data/test/oxford5k/jpg/christ_church_001020.jpg', '/content/UAP_retrieval/data/test/oxford5k/jpg/new_000321.jpg', '/content/UAP_retrieval/data/test/oxford5k/jpg/oxford_002457.jpg', '/content/UAP_retrieval/data/test/oxford5k/jpg/pitt_rivers_000123.jpg', '/content/UAP_retrieval/data/test/oxford5k/jpg/christ_church_000998.jpg', '/content/UAP_retrieval/data/test/oxford5k/jpg/oxford_003072.jpg', '/content/UAP_retrieval/data/test/oxford5k/jpg/oxford_002961.jpg', '/content/UAP_retrieval/data/test/oxford5k/jpg/jesus_000035.jpg', '/content/UAP_retrieval/data/test/oxford5k/jpg/new_000487.jpg', '/content/UAP_retrieval/data/test/oxford5k/jpg/christ_church_000681.jpg', '/content/UAP_retrieval/data/test/oxford5k/jpg/trinity_000292.jpg', '/content/UAP_retrieval/data/test/oxford5k/jpg/oxford_003457.jpg', '/content/UAP_retrieval/data/test/oxford5k/jpg/oxford_000339.jpg', '/content/UAP_retrieval/data/test/oxford5k/jpg/ashmolean_000052.jpg', '/content/UAP_retrieval/data/test/oxford5k/jpg/bodleian_000264.jpg', '/content/UAP_retrieval/data/test/oxford5k/jpg/magdalen_000722.jpg', '/content/UAP_retrieval/data/test/oxford5k/jpg/trinity_000331.jpg', '/content/UAP_retrieval/data/test/oxford5k/jpg/oxford_000277.jpg', '/content/UAP_retrieval/data/test/oxford5k/jpg/balliol_000145.jpg', '/content/UAP_retrieval/data/test/oxford5k/jpg/oxford_001512.jpg', '/content/UAP_retrieval/data/test/oxford5k/jpg/ashmolean_000077.jpg', '/content/UAP_retrieval/data/test/oxford5k/jpg/ashmolean_000183.jpg', '/content/UAP_retrieval/data/test/oxford5k/jpg/oxford_001731.jpg', '/content/UAP_retrieval/data/test/oxford5k/jpg/christ_church_000048.jpg', '/content/UAP_retrieval/data/test/oxford5k/jpg/bodleian_000326.jpg', '/content/UAP_retrieval/data/test/oxford5k/jpg/oxford_003093.jpg', '/content/UAP_retrieval/data/test/oxford5k/jpg/all_souls_000101.jpg', '/content/UAP_retrieval/data/test/oxford5k/jpg/oxford_002690.jpg', '/content/UAP_retrieval/data/test/oxford5k/jpg/oxford_002661.jpg', '/content/UAP_retrieval/data/test/oxford5k/jpg/trinity_000368.jpg', '/content/UAP_retrieval/data/test/oxford5k/jpg/christ_church_000005.jpg', '/content/UAP_retrieval/data/test/oxford5k/jpg/christ_church_000126.jpg', '/content/UAP_retrieval/data/test/oxford5k/jpg/cornmarket_000122.jpg', '/content/UAP_retrieval/data/test/oxford5k/jpg/oxford_003298.jpg', '/content/UAP_retrieval/data/test/oxford5k/jpg/oxford_001894.jpg', '/content/UAP_retrieval/data/test/oxford5k/jpg/oxford_002629.jpg', '/content/UAP_retrieval/data/test/oxford5k/jpg/new_000506.jpg', '/content/UAP_retrieval/data/test/oxford5k/jpg/radcliffe_camera_000278.jpg', '/content/UAP_retrieval/data/test/oxford5k/jpg/oriel_000067.jpg', '/content/UAP_retrieval/data/test/oxford5k/jpg/trinity_000223.jpg', '/content/UAP_retrieval/data/test/oxford5k/jpg/oxford_001068.jpg', '/content/UAP_retrieval/data/test/oxford5k/jpg/oxford_000737.jpg', '/content/UAP_retrieval/data/test/oxford5k/jpg/oxford_000908.jpg', '/content/UAP_retrieval/data/test/oxford5k/jpg/christ_church_000688.jpg', '/content/UAP_retrieval/data/test/oxford5k/jpg/oxford_002135.jpg', '/content/UAP_retrieval/data/test/oxford5k/jpg/christ_church_000085.jpg', '/content/UAP_retrieval/data/test/oxford5k/jpg/oxford_000227.jpg', '/content/UAP_retrieval/data/test/oxford5k/jpg/magdalen_000105.jpg', '/content/UAP_retrieval/data/test/oxford5k/jpg/new_000631.jpg', '/content/UAP_retrieval/data/test/oxford5k/jpg/oxford_003027.jpg', '/content/UAP_retrieval/data/test/oxford5k/jpg/christ_church_000509.jpg', '/content/UAP_retrieval/data/test/oxford5k/jpg/pitt_rivers_000153.jpg', '/content/UAP_retrieval/data/test/oxford5k/jpg/magdalen_000493.jpg', '/content/UAP_retrieval/data/test/oxford5k/jpg/christ_church_000346.jpg', '/content/UAP_retrieval/data/test/oxford5k/jpg/new_000469.jpg', '/content/UAP_retrieval/data/test/oxford5k/jpg/ashmolean_000192.jpg', '/content/UAP_retrieval/data/test/oxford5k/jpg/trinity_000360.jpg', '/content/UAP_retrieval/data/test/oxford5k/jpg/oxford_000966.jpg', '/content/UAP_retrieval/data/test/oxford5k/jpg/bodleian_000015.jpg', '/content/UAP_retrieval/data/test/oxford5k/jpg/hertford_000057.jpg', '/content/UAP_retrieval/data/test/oxford5k/jpg/christ_church_000589.jpg', '/content/UAP_retrieval/data/test/oxford5k/jpg/oxford_003253.jpg', '/content/UAP_retrieval/data/test/oxford5k/jpg/christ_church_000338.jpg', '/content/UAP_retrieval/data/test/oxford5k/jpg/oxford_001307.jpg', '/content/UAP_retrieval/data/test/oxford5k/jpg/cornmarket_000024.jpg', '/content/UAP_retrieval/data/test/oxford5k/jpg/all_souls_000213.jpg', '/content/UAP_retrieval/data/test/oxford5k/jpg/all_souls_000182.jpg', '/content/UAP_retrieval/data/test/oxford5k/jpg/bodleian_000348.jpg', '/content/UAP_retrieval/data/test/oxford5k/jpg/new_000460.jpg', '/content/UAP_retrieval/data/test/oxford5k/jpg/ashmolean_000339.jpg', '/content/UAP_retrieval/data/test/oxford5k/jpg/christ_church_001031.jpg', '/content/UAP_retrieval/data/test/oxford5k/jpg/oxford_003351.jpg', '/content/UAP_retrieval/data/test/oxford5k/jpg/new_000345.jpg', '/content/UAP_retrieval/data/test/oxford5k/jpg/christ_church_000292.jpg', '/content/UAP_retrieval/data/test/oxford5k/jpg/oxford_001531.jpg', '/content/UAP_retrieval/data/test/oxford5k/jpg/oxford_001045.jpg', '/content/UAP_retrieval/data/test/oxford5k/jpg/oxford_003138.jpg', '/content/UAP_retrieval/data/test/oxford5k/jpg/balliol_000116.jpg', '/content/UAP_retrieval/data/test/oxford5k/jpg/new_000767.jpg', '/content/UAP_retrieval/data/test/oxford5k/jpg/trinity_000203.jpg', '/content/UAP_retrieval/data/test/oxford5k/jpg/jesus_000114.jpg', '/content/UAP_retrieval/data/test/oxford5k/jpg/bodleian_000139.jpg', '/content/UAP_retrieval/data/test/oxford5k/jpg/oxford_001120.jpg', '/content/UAP_retrieval/data/test/oxford5k/jpg/oxford_000209.jpg', '/content/UAP_retrieval/data/test/oxford5k/jpg/ashmolean_000254.jpg', '/content/UAP_retrieval/data/test/oxford5k/jpg/new_000684.jpg', '/content/UAP_retrieval/data/test/oxford5k/jpg/new_001087.jpg', '/content/UAP_retrieval/data/test/oxford5k/jpg/magdalen_000264.jpg', '/content/UAP_retrieval/data/test/oxford5k/jpg/bodleian_000043.jpg', '/content/UAP_retrieval/data/test/oxford5k/jpg/all_souls_000215.jpg', '/content/UAP_retrieval/data/test/oxford5k/jpg/oxford_000309.jpg', '/content/UAP_retrieval/data/test/oxford5k/jpg/oxford_001979.jpg', '/content/UAP_retrieval/data/test/oxford5k/jpg/trinity_000041.jpg', '/content/UAP_retrieval/data/test/oxford5k/jpg/jesus_000306.jpg', '/content/UAP_retrieval/data/test/oxford5k/jpg/oxford_001042.jpg', '/content/UAP_retrieval/data/test/oxford5k/jpg/magdalen_000151.jpg', '/content/UAP_retrieval/data/test/oxford5k/jpg/oxford_002273.jpg', '/content/UAP_retrieval/data/test/oxford5k/jpg/trinity_000118.jpg', '/content/UAP_retrieval/data/test/oxford5k/jpg/oxford_002107.jpg', '/content/UAP_retrieval/data/test/oxford5k/jpg/oxford_001746.jpg', '/content/UAP_retrieval/data/test/oxford5k/jpg/hertford_000074.jpg', '/content/UAP_retrieval/data/test/oxford5k/jpg/pitt_rivers_000075.jpg', '/content/UAP_retrieval/data/test/oxford5k/jpg/bodleian_000265.jpg', '/content/UAP_retrieval/data/test/oxford5k/jpg/christ_church_000199.jpg', '/content/UAP_retrieval/data/test/oxford5k/jpg/oxford_000396.jpg', '/content/UAP_retrieval/data/test/oxford5k/jpg/ashmolean_000082.jpg', '/content/UAP_retrieval/data/test/oxford5k/jpg/oxford_002362.jpg', '/content/UAP_retrieval/data/test/oxford5k/jpg/cornmarket_000097.jpg', '/content/UAP_retrieval/data/test/oxford5k/jpg/oxford_003131.jpg', '/content/UAP_retrieval/data/test/oxford5k/jpg/oxford_002156.jpg', '/content/UAP_retrieval/data/test/oxford5k/jpg/christ_church_001014.jpg', '/content/UAP_retrieval/data/test/oxford5k/jpg/worcester_000187.jpg', '/content/UAP_retrieval/data/test/oxford5k/jpg/oxford_000192.jpg', '/content/UAP_retrieval/data/test/oxford5k/jpg/oxford_002764.jpg', '/content/UAP_retrieval/data/test/oxford5k/jpg/oxford_002134.jpg', '/content/UAP_retrieval/data/test/oxford5k/jpg/new_000932.jpg', '/content/UAP_retrieval/data/test/oxford5k/jpg/trinity_000278.jpg', '/content/UAP_retrieval/data/test/oxford5k/jpg/magdalen_000462.jpg', '/content/UAP_retrieval/data/test/oxford5k/jpg/new_000670.jpg', '/content/UAP_retrieval/data/test/oxford5k/jpg/radcliffe_camera_000105.jpg', '/content/UAP_retrieval/data/test/oxford5k/jpg/oxford_001851.jpg', '/content/UAP_retrieval/data/test/oxford5k/jpg/oxford_001838.jpg', '/content/UAP_retrieval/data/test/oxford5k/jpg/pitt_rivers_000172.jpg', '/content/UAP_retrieval/data/test/oxford5k/jpg/oxford_001361.jpg', '/content/UAP_retrieval/data/test/oxford5k/jpg/bodleian_000096.jpg', '/content/UAP_retrieval/data/test/oxford5k/jpg/oxford_003030.jpg', '/content/UAP_retrieval/data/test/oxford5k/jpg/trinity_000119.jpg', '/content/UAP_retrieval/data/test/oxford5k/jpg/magdalen_000610.jpg', '/content/UAP_retrieval/data/test/oxford5k/jpg/magdalen_000987.jpg', '/content/UAP_retrieval/data/test/oxford5k/jpg/oxford_003313.jpg', '/content/UAP_retrieval/data/test/oxford5k/jpg/oxford_003133.jpg', '/content/UAP_retrieval/data/test/oxford5k/jpg/new_000879.jpg', '/content/UAP_retrieval/data/test/oxford5k/jpg/christ_church_000973.jpg', '/content/UAP_retrieval/data/test/oxford5k/jpg/oxford_003053.jpg', '/content/UAP_retrieval/data/test/oxford5k/jpg/trinity_000238.jpg', '/content/UAP_retrieval/data/test/oxford5k/jpg/magdalen_000474.jpg', '/content/UAP_retrieval/data/test/oxford5k/jpg/magdalen_000246.jpg', '/content/UAP_retrieval/data/test/oxford5k/jpg/balliol_000152.jpg', '/content/UAP_retrieval/data/test/oxford5k/jpg/oxford_001458.jpg', '/content/UAP_retrieval/data/test/oxford5k/jpg/bodleian_000444.jpg', '/content/UAP_retrieval/data/test/oxford5k/jpg/oxford_003358.jpg', '/content/UAP_retrieval/data/test/oxford5k/jpg/all_souls_000102.jpg', '/content/UAP_retrieval/data/test/oxford5k/jpg/radcliffe_camera_000520.jpg', '/content/UAP_retrieval/data/test/oxford5k/jpg/oxford_001676.jpg', '/content/UAP_retrieval/data/test/oxford5k/jpg/oxford_000132.jpg', '/content/UAP_retrieval/data/test/oxford5k/jpg/oxford_003389.jpg', '/content/UAP_retrieval/data/test/oxford5k/jpg/oxford_000262.jpg', '/content/UAP_retrieval/data/test/oxford5k/jpg/magdalen_000463.jpg', '/content/UAP_retrieval/data/test/oxford5k/jpg/jesus_000116.jpg', '/content/UAP_retrieval/data/test/oxford5k/jpg/oxford_003310.jpg', '/content/UAP_retrieval/data/test/oxford5k/jpg/radcliffe_camera_000033.jpg', '/content/UAP_retrieval/data/test/oxford5k/jpg/oxford_000685.jpg', '/content/UAP_retrieval/data/test/oxford5k/jpg/oxford_001964.jpg', '/content/UAP_retrieval/data/test/oxford5k/jpg/christ_church_000722.jpg', '/content/UAP_retrieval/data/test/oxford5k/jpg/new_000121.jpg', '/content/UAP_retrieval/data/test/oxford5k/jpg/worcester_000193.jpg', '/content/UAP_retrieval/data/test/oxford5k/jpg/all_souls_000148.jpg', '/content/UAP_retrieval/data/test/oxford5k/jpg/oxford_001949.jpg', '/content/UAP_retrieval/data/test/oxford5k/jpg/christ_church_001044.jpg', '/content/UAP_retrieval/data/test/oxford5k/jpg/new_000482.jpg', '/content/UAP_retrieval/data/test/oxford5k/jpg/keble_000019.jpg', '/content/UAP_retrieval/data/test/oxford5k/jpg/trinity_000211.jpg', '/content/UAP_retrieval/data/test/oxford5k/jpg/oxford_001380.jpg', '/content/UAP_retrieval/data/test/oxford5k/jpg/oxford_001529.jpg', '/content/UAP_retrieval/data/test/oxford5k/jpg/balliol_000124.jpg', '/content/UAP_retrieval/data/test/oxford5k/jpg/christ_church_000645.jpg', '/content/UAP_retrieval/data/test/oxford5k/jpg/christ_church_000365.jpg', '/content/UAP_retrieval/data/test/oxford5k/jpg/ashmolean_000014.jpg', '/content/UAP_retrieval/data/test/oxford5k/jpg/oxford_000760.jpg', '/content/UAP_retrieval/data/test/oxford5k/jpg/radcliffe_camera_000006.jpg', '/content/UAP_retrieval/data/test/oxford5k/jpg/oxford_001026.jpg', '/content/UAP_retrieval/data/test/oxford5k/jpg/radcliffe_camera_000082.jpg', '/content/UAP_retrieval/data/test/oxford5k/jpg/magdalen_000617.jpg', '/content/UAP_retrieval/data/test/oxford5k/jpg/all_souls_000065.jpg', '/content/UAP_retrieval/data/test/oxford5k/jpg/ashmolean_000246.jpg', '/content/UAP_retrieval/data/test/oxford5k/jpg/magdalen_000215.jpg', '/content/UAP_retrieval/data/test/oxford5k/jpg/all_souls_000054.jpg', '/content/UAP_retrieval/data/test/oxford5k/jpg/trinity_000281.jpg', '/content/UAP_retrieval/data/test/oxford5k/jpg/oxford_003307.jpg', '/content/UAP_retrieval/data/test/oxford5k/jpg/magdalen_000179.jpg', '/content/UAP_retrieval/data/test/oxford5k/jpg/oxford_001528.jpg', '/content/UAP_retrieval/data/test/oxford5k/jpg/oxford_002260.jpg', '/content/UAP_retrieval/data/test/oxford5k/jpg/magdalen_000061.jpg', '/content/UAP_retrieval/data/test/oxford5k/jpg/pitt_rivers_000065.jpg', '/content/UAP_retrieval/data/test/oxford5k/jpg/christ_church_000340.jpg', '/content/UAP_retrieval/data/test/oxford5k/jpg/oxford_000698.jpg', '/content/UAP_retrieval/data/test/oxford5k/jpg/oxford_002516.jpg', '/content/UAP_retrieval/data/test/oxford5k/jpg/oxford_002556.jpg', '/content/UAP_retrieval/data/test/oxford5k/jpg/magdalen_001155.jpg', '/content/UAP_retrieval/data/test/oxford5k/jpg/new_000228.jpg', '/content/UAP_retrieval/data/test/oxford5k/jpg/magdalen_000988.jpg', '/content/UAP_retrieval/data/test/oxford5k/jpg/christ_church_000079.jpg', '/content/UAP_retrieval/data/test/oxford5k/jpg/oxford_000540.jpg', '/content/UAP_retrieval/data/test/oxford5k/jpg/magdalen_000135.jpg', '/content/UAP_retrieval/data/test/oxford5k/jpg/oxford_000609.jpg', '/content/UAP_retrieval/data/test/oxford5k/jpg/radcliffe_camera_000213.jpg', '/content/UAP_retrieval/data/test/oxford5k/jpg/trinity_000273.jpg', '/content/UAP_retrieval/data/test/oxford5k/jpg/magdalen_001096.jpg', '/content/UAP_retrieval/data/test/oxford5k/jpg/magdalen_000861.jpg', '/content/UAP_retrieval/data/test/oxford5k/jpg/keble_000022.jpg', '/content/UAP_retrieval/data/test/oxford5k/jpg/jesus_000345.jpg', '/content/UAP_retrieval/data/test/oxford5k/jpg/jesus_000371.jpg', '/content/UAP_retrieval/data/test/oxford5k/jpg/christ_church_000312.jpg', '/content/UAP_retrieval/data/test/oxford5k/jpg/oxford_001780.jpg', '/content/UAP_retrieval/data/test/oxford5k/jpg/oriel_000090.jpg', '/content/UAP_retrieval/data/test/oxford5k/jpg/bodleian_000341.jpg', '/content/UAP_retrieval/data/test/oxford5k/jpg/oxford_000567.jpg', '/content/UAP_retrieval/data/test/oxford5k/jpg/oxford_002316.jpg', '/content/UAP_retrieval/data/test/oxford5k/jpg/magdalen_000879.jpg', '/content/UAP_retrieval/data/test/oxford5k/jpg/christ_church_000375.jpg', '/content/UAP_retrieval/data/test/oxford5k/jpg/christ_church_000130.jpg', '/content/UAP_retrieval/data/test/oxford5k/jpg/oxford_000403.jpg', '/content/UAP_retrieval/data/test/oxford5k/jpg/balliol_000016.jpg', '/content/UAP_retrieval/data/test/oxford5k/jpg/oxford_001034.jpg', '/content/UAP_retrieval/data/test/oxford5k/jpg/christ_church_001067.jpg', '/content/UAP_retrieval/data/test/oxford5k/jpg/magdalen_000829.jpg', '/content/UAP_retrieval/data/test/oxford5k/jpg/ashmolean_000117.jpg', '/content/UAP_retrieval/data/test/oxford5k/jpg/oxford_000520.jpg', '/content/UAP_retrieval/data/test/oxford5k/jpg/ashmolean_000119.jpg', '/content/UAP_retrieval/data/test/oxford5k/jpg/oxford_002802.jpg', '/content/UAP_retrieval/data/test/oxford5k/jpg/radcliffe_camera_000209.jpg', '/content/UAP_retrieval/data/test/oxford5k/jpg/magdalen_000985.jpg', '/content/UAP_retrieval/data/test/oxford5k/jpg/oxford_002588.jpg', '/content/UAP_retrieval/data/test/oxford5k/jpg/oxford_002196.jpg', '/content/UAP_retrieval/data/test/oxford5k/jpg/christ_church_000364.jpg', '/content/UAP_retrieval/data/test/oxford5k/jpg/oxford_000292.jpg', '/content/UAP_retrieval/data/test/oxford5k/jpg/christ_church_000451.jpg', '/content/UAP_retrieval/data/test/oxford5k/jpg/oxford_002745.jpg', '/content/UAP_retrieval/data/test/oxford5k/jpg/radcliffe_camera_000470.jpg', '/content/UAP_retrieval/data/test/oxford5k/jpg/trinity_000194.jpg', '/content/UAP_retrieval/data/test/oxford5k/jpg/ashmolean_000145.jpg', '/content/UAP_retrieval/data/test/oxford5k/jpg/all_souls_000133.jpg', '/content/UAP_retrieval/data/test/oxford5k/jpg/oxford_002104.jpg', '/content/UAP_retrieval/data/test/oxford5k/jpg/magdalen_000774.jpg', '/content/UAP_retrieval/data/test/oxford5k/jpg/oxford_001453.jpg', '/content/UAP_retrieval/data/test/oxford5k/jpg/pitt_rivers_000148.jpg', '/content/UAP_retrieval/data/test/oxford5k/jpg/radcliffe_camera_000219.jpg', '/content/UAP_retrieval/data/test/oxford5k/jpg/magdalen_000518.jpg', '/content/UAP_retrieval/data/test/oxford5k/jpg/jesus_000015.jpg', '/content/UAP_retrieval/data/test/oxford5k/jpg/all_souls_000206.jpg', '/content/UAP_retrieval/data/test/oxford5k/jpg/magdalen_000749.jpg', '/content/UAP_retrieval/data/test/oxford5k/jpg/oxford_002041.jpg', '/content/UAP_retrieval/data/test/oxford5k/jpg/new_000379.jpg', '/content/UAP_retrieval/data/test/oxford5k/jpg/trinity_000285.jpg', '/content/UAP_retrieval/data/test/oxford5k/jpg/new_000908.jpg', '/content/UAP_retrieval/data/test/oxford5k/jpg/oxford_000478.jpg', '/content/UAP_retrieval/data/test/oxford5k/jpg/oxford_000871.jpg', '/content/UAP_retrieval/data/test/oxford5k/jpg/new_000143.jpg', '/content/UAP_retrieval/data/test/oxford5k/jpg/magdalen_000692.jpg', '/content/UAP_retrieval/data/test/oxford5k/jpg/new_000854.jpg', '/content/UAP_retrieval/data/test/oxford5k/jpg/oriel_000045.jpg', '/content/UAP_retrieval/data/test/oxford5k/jpg/new_000408.jpg', '/content/UAP_retrieval/data/test/oxford5k/jpg/oxford_001757.jpg', '/content/UAP_retrieval/data/test/oxford5k/jpg/all_souls_000202.jpg', '/content/UAP_retrieval/data/test/oxford5k/jpg/radcliffe_camera_000457.jpg', '/content/UAP_retrieval/data/test/oxford5k/jpg/magdalen_000431.jpg', '/content/UAP_retrieval/data/test/oxford5k/jpg/new_000984.jpg', '/content/UAP_retrieval/data/test/oxford5k/jpg/magdalen_000559.jpg', '/content/UAP_retrieval/data/test/oxford5k/jpg/new_000513.jpg', '/content/UAP_retrieval/data/test/oxford5k/jpg/oxford_002744.jpg', '/content/UAP_retrieval/data/test/oxford5k/jpg/ashmolean_000336.jpg', '/content/UAP_retrieval/data/test/oxford5k/jpg/oxford_001485.jpg', '/content/UAP_retrieval/data/test/oxford5k/jpg/oxford_001953.jpg', '/content/UAP_retrieval/data/test/oxford5k/jpg/worcester_000120.jpg', '/content/UAP_retrieval/data/test/oxford5k/jpg/trinity_000286.jpg', '/content/UAP_retrieval/data/test/oxford5k/jpg/magdalen_001080.jpg', '/content/UAP_retrieval/data/test/oxford5k/jpg/oxford_002803.jpg', '/content/UAP_retrieval/data/test/oxford5k/jpg/oxford_000311.jpg', '/content/UAP_retrieval/data/test/oxford5k/jpg/keble_000043.jpg', '/content/UAP_retrieval/data/test/oxford5k/jpg/bodleian_000395.jpg', '/content/UAP_retrieval/data/test/oxford5k/jpg/new_000440.jpg', '/content/UAP_retrieval/data/test/oxford5k/jpg/bodleian_000036.jpg', '/content/UAP_retrieval/data/test/oxford5k/jpg/christ_church_001002.jpg', '/content/UAP_retrieval/data/test/oxford5k/jpg/cornmarket_000025.jpg', '/content/UAP_retrieval/data/test/oxford5k/jpg/oxford_001465.jpg', '/content/UAP_retrieval/data/test/oxford5k/jpg/new_000665.jpg', '/content/UAP_retrieval/data/test/oxford5k/jpg/ashmolean_000080.jpg', '/content/UAP_retrieval/data/test/oxford5k/jpg/oriel_000036.jpg', '/content/UAP_retrieval/data/test/oxford5k/jpg/oxford_000031.jpg', '/content/UAP_retrieval/data/test/oxford5k/jpg/magdalen_001020.jpg', '/content/UAP_retrieval/data/test/oxford5k/jpg/new_000406.jpg', '/content/UAP_retrieval/data/test/oxford5k/jpg/oxford_003194.jpg', '/content/UAP_retrieval/data/test/oxford5k/jpg/magdalen_000602.jpg', '/content/UAP_retrieval/data/test/oxford5k/jpg/oxford_000524.jpg', '/content/UAP_retrieval/data/test/oxford5k/jpg/oxford_002658.jpg', '/content/UAP_retrieval/data/test/oxford5k/jpg/oxford_001041.jpg', '/content/UAP_retrieval/data/test/oxford5k/jpg/ashmolean_000188.jpg', '/content/UAP_retrieval/data/test/oxford5k/jpg/oxford_002088.jpg', '/content/UAP_retrieval/data/test/oxford5k/jpg/new_000550.jpg', '/content/UAP_retrieval/data/test/oxford5k/jpg/christ_church_000300.jpg', '/content/UAP_retrieval/data/test/oxford5k/jpg/christ_church_000182.jpg', '/content/UAP_retrieval/data/test/oxford5k/jpg/magdalen_000671.jpg', '/content/UAP_retrieval/data/test/oxford5k/jpg/pitt_rivers_000027.jpg', '/content/UAP_retrieval/data/test/oxford5k/jpg/christ_church_000073.jpg', '/content/UAP_retrieval/data/test/oxford5k/jpg/ashmolean_000302.jpg', '/content/UAP_retrieval/data/test/oxford5k/jpg/christ_church_000827.jpg', '/content/UAP_retrieval/data/test/oxford5k/jpg/oxford_000119.jpg', '/content/UAP_retrieval/data/test/oxford5k/jpg/oxford_002312.jpg', '/content/UAP_retrieval/data/test/oxford5k/jpg/cornmarket_000133.jpg', '/content/UAP_retrieval/data/test/oxford5k/jpg/bodleian_000248.jpg', '/content/UAP_retrieval/data/test/oxford5k/jpg/oxford_003544.jpg', '/content/UAP_retrieval/data/test/oxford5k/jpg/oxford_002723.jpg', '/content/UAP_retrieval/data/test/oxford5k/jpg/trinity_000325.jpg', '/content/UAP_retrieval/data/test/oxford5k/jpg/oxford_000568.jpg', '/content/UAP_retrieval/data/test/oxford5k/jpg/christ_church_000141.jpg', '/content/UAP_retrieval/data/test/oxford5k/jpg/new_000274.jpg', '/content/UAP_retrieval/data/test/oxford5k/jpg/all_souls_000167.jpg', '/content/UAP_retrieval/data/test/oxford5k/jpg/oxford_002532.jpg', '/content/UAP_retrieval/data/test/oxford5k/jpg/christ_church_000132.jpg', '/content/UAP_retrieval/data/test/oxford5k/jpg/keble_000118.jpg', '/content/UAP_retrieval/data/test/oxford5k/jpg/worcester_000059.jpg', '/content/UAP_retrieval/data/test/oxford5k/jpg/jesus_000041.jpg', '/content/UAP_retrieval/data/test/oxford5k/jpg/oxford_001753.jpg', '/content/UAP_retrieval/data/test/oxford5k/jpg/oxford_001065.jpg', '/content/UAP_retrieval/data/test/oxford5k/jpg/oxford_000805.jpg', '/content/UAP_retrieval/data/test/oxford5k/jpg/new_000721.jpg', '/content/UAP_retrieval/data/test/oxford5k/jpg/christ_church_000131.jpg', '/content/UAP_retrieval/data/test/oxford5k/jpg/bodleian_000368.jpg', '/content/UAP_retrieval/data/test/oxford5k/jpg/new_000225.jpg', '/content/UAP_retrieval/data/test/oxford5k/jpg/new_000822.jpg', '/content/UAP_retrieval/data/test/oxford5k/jpg/radcliffe_camera_000168.jpg', '/content/UAP_retrieval/data/test/oxford5k/jpg/christ_church_000115.jpg', '/content/UAP_retrieval/data/test/oxford5k/jpg/bodleian_000132.jpg', '/content/UAP_retrieval/data/test/oxford5k/jpg/oxford_000421.jpg', '/content/UAP_retrieval/data/test/oxford5k/jpg/oxford_000142.jpg', '/content/UAP_retrieval/data/test/oxford5k/jpg/oxford_000518.jpg', '/content/UAP_retrieval/data/test/oxford5k/jpg/new_000307.jpg', '/content/UAP_retrieval/data/test/oxford5k/jpg/oxford_001693.jpg', '/content/UAP_retrieval/data/test/oxford5k/jpg/new_000175.jpg', '/content/UAP_retrieval/data/test/oxford5k/jpg/christ_church_000954.jpg', '/content/UAP_retrieval/data/test/oxford5k/jpg/oxford_000944.jpg', '/content/UAP_retrieval/data/test/oxford5k/jpg/jesus_000026.jpg', '/content/UAP_retrieval/data/test/oxford5k/jpg/oxford_002414.jpg', '/content/UAP_retrieval/data/test/oxford5k/jpg/christ_church_000945.jpg', '/content/UAP_retrieval/data/test/oxford5k/jpg/oxford_003142.jpg', '/content/UAP_retrieval/data/test/oxford5k/jpg/new_000422.jpg', '/content/UAP_retrieval/data/test/oxford5k/jpg/oxford_000809.jpg', '/content/UAP_retrieval/data/test/oxford5k/jpg/new_000423.jpg', '/content/UAP_retrieval/data/test/oxford5k/jpg/oxford_000646.jpg', '/content/UAP_retrieval/data/test/oxford5k/jpg/magdalen_000483.jpg', '/content/UAP_retrieval/data/test/oxford5k/jpg/oxford_001732.jpg', '/content/UAP_retrieval/data/test/oxford5k/jpg/oxford_000987.jpg', '/content/UAP_retrieval/data/test/oxford5k/jpg/oxford_000494.jpg', '/content/UAP_retrieval/data/test/oxford5k/jpg/oxford_000039.jpg', '/content/UAP_retrieval/data/test/oxford5k/jpg/trinity_000083.jpg', '/content/UAP_retrieval/data/test/oxford5k/jpg/christ_church_000146.jpg', '/content/UAP_retrieval/data/test/oxford5k/jpg/magdalen_000981.jpg', '/content/UAP_retrieval/data/test/oxford5k/jpg/magdalen_000574.jpg', '/content/UAP_retrieval/data/test/oxford5k/jpg/balliol_000065.jpg', '/content/UAP_retrieval/data/test/oxford5k/jpg/oxford_002992.jpg', '/content/UAP_retrieval/data/test/oxford5k/jpg/magdalen_000227.jpg', '/content/UAP_retrieval/data/test/oxford5k/jpg/hertford_000123.jpg', '/content/UAP_retrieval/data/test/oxford5k/jpg/radcliffe_camera_000286.jpg', '/content/UAP_retrieval/data/test/oxford5k/jpg/magdalen_000249.jpg', '/content/UAP_retrieval/data/test/oxford5k/jpg/bodleian_000384.jpg', '/content/UAP_retrieval/data/test/oxford5k/jpg/oxford_000023.jpg', '/content/UAP_retrieval/data/test/oxford5k/jpg/magdalen_000169.jpg', '/content/UAP_retrieval/data/test/oxford5k/jpg/magdalen_000980.jpg', '/content/UAP_retrieval/data/test/oxford5k/jpg/oxford_002331.jpg', '/content/UAP_retrieval/data/test/oxford5k/jpg/ashmolean_000166.jpg', '/content/UAP_retrieval/data/test/oxford5k/jpg/bodleian_000163.jpg', '/content/UAP_retrieval/data/test/oxford5k/jpg/oxford_001904.jpg', '/content/UAP_retrieval/data/test/oxford5k/jpg/oxford_001390.jpg', '/content/UAP_retrieval/data/test/oxford5k/jpg/new_000793.jpg', '/content/UAP_retrieval/data/test/oxford5k/jpg/oxford_001971.jpg', '/content/UAP_retrieval/data/test/oxford5k/jpg/christ_church_000821.jpg', '/content/UAP_retrieval/data/test/oxford5k/jpg/magdalen_000050.jpg', '/content/UAP_retrieval/data/test/oxford5k/jpg/oxford_002966.jpg', '/content/UAP_retrieval/data/test/oxford5k/jpg/bodleian_000255.jpg', '/content/UAP_retrieval/data/test/oxford5k/jpg/christ_church_000158.jpg', '/content/UAP_retrieval/data/test/oxford5k/jpg/radcliffe_camera_000212.jpg', '/content/UAP_retrieval/data/test/oxford5k/jpg/magdalen_000667.jpg', '/content/UAP_retrieval/data/test/oxford5k/jpg/new_000075.jpg', '/content/UAP_retrieval/data/test/oxford5k/jpg/worcester_000053.jpg', '/content/UAP_retrieval/data/test/oxford5k/jpg/trinity_000167.jpg', '/content/UAP_retrieval/data/test/oxford5k/jpg/magdalen_000620.jpg', '/content/UAP_retrieval/data/test/oxford5k/jpg/ashmolean_000083.jpg', '/content/UAP_retrieval/data/test/oxford5k/jpg/jesus_000126.jpg', '/content/UAP_retrieval/data/test/oxford5k/jpg/oxford_002842.jpg', '/content/UAP_retrieval/data/test/oxford5k/jpg/all_souls_000090.jpg', '/content/UAP_retrieval/data/test/oxford5k/jpg/jesus_000327.jpg', '/content/UAP_retrieval/data/test/oxford5k/jpg/christ_church_001026.jpg', '/content/UAP_retrieval/data/test/oxford5k/jpg/bodleian_000411.jpg', '/content/UAP_retrieval/data/test/oxford5k/jpg/jesus_000013.jpg', '/content/UAP_retrieval/data/test/oxford5k/jpg/ashmolean_000206.jpg', '/content/UAP_retrieval/data/test/oxford5k/jpg/oxford_000783.jpg', '/content/UAP_retrieval/data/test/oxford5k/jpg/oxford_000968.jpg', '/content/UAP_retrieval/data/test/oxford5k/jpg/oxford_001272.jpg', '/content/UAP_retrieval/data/test/oxford5k/jpg/oxford_002346.jpg', '/content/UAP_retrieval/data/test/oxford5k/jpg/keble_000195.jpg', '/content/UAP_retrieval/data/test/oxford5k/jpg/pitt_rivers_000001.jpg', '/content/UAP_retrieval/data/test/oxford5k/jpg/oxford_002083.jpg', '/content/UAP_retrieval/data/test/oxford5k/jpg/magdalen_000777.jpg', '/content/UAP_retrieval/data/test/oxford5k/jpg/pitt_rivers_000124.jpg', '/content/UAP_retrieval/data/test/oxford5k/jpg/bodleian_000422.jpg', '/content/UAP_retrieval/data/test/oxford5k/jpg/oxford_003518.jpg', '/content/UAP_retrieval/data/test/oxford5k/jpg/oxford_003090.jpg', '/content/UAP_retrieval/data/test/oxford5k/jpg/oxford_003159.jpg', '/content/UAP_retrieval/data/test/oxford5k/jpg/radcliffe_camera_000226.jpg', '/content/UAP_retrieval/data/test/oxford5k/jpg/oxford_003570.jpg', '/content/UAP_retrieval/data/test/oxford5k/jpg/new_000417.jpg', '/content/UAP_retrieval/data/test/oxford5k/jpg/new_001061.jpg', '/content/UAP_retrieval/data/test/oxford5k/jpg/ashmolean_000067.jpg', '/content/UAP_retrieval/data/test/oxford5k/jpg/balliol_000187.jpg', '/content/UAP_retrieval/data/test/oxford5k/jpg/trinity_000366.jpg', '/content/UAP_retrieval/data/test/oxford5k/jpg/oxford_002402.jpg', '/content/UAP_retrieval/data/test/oxford5k/jpg/oxford_002428.jpg', '/content/UAP_retrieval/data/test/oxford5k/jpg/trinity_000283.jpg', '/content/UAP_retrieval/data/test/oxford5k/jpg/new_000424.jpg', '/content/UAP_retrieval/data/test/oxford5k/jpg/magdalen_000867.jpg', '/content/UAP_retrieval/data/test/oxford5k/jpg/oxford_002546.jpg', '/content/UAP_retrieval/data/test/oxford5k/jpg/bodleian_000389.jpg', '/content/UAP_retrieval/data/test/oxford5k/jpg/magdalen_000767.jpg', '/content/UAP_retrieval/data/test/oxford5k/jpg/oxford_000770.jpg', '/content/UAP_retrieval/data/test/oxford5k/jpg/oxford_002015.jpg', '/content/UAP_retrieval/data/test/oxford5k/jpg/magdalen_000263.jpg', '/content/UAP_retrieval/data/test/oxford5k/jpg/ashmolean_000304.jpg', '/content/UAP_retrieval/data/test/oxford5k/jpg/magdalen_000687.jpg', '/content/UAP_retrieval/data/test/oxford5k/jpg/magdalen_000097.jpg', '/content/UAP_retrieval/data/test/oxford5k/jpg/radcliffe_camera_000126.jpg', '/content/UAP_retrieval/data/test/oxford5k/jpg/oxford_002354.jpg', '/content/UAP_retrieval/data/test/oxford5k/jpg/oxford_001220.jpg', '/content/UAP_retrieval/data/test/oxford5k/jpg/new_000448.jpg', '/content/UAP_retrieval/data/test/oxford5k/jpg/new_000227.jpg', '/content/UAP_retrieval/data/test/oxford5k/jpg/magdalen_000790.jpg', '/content/UAP_retrieval/data/test/oxford5k/jpg/oxford_000601.jpg', '/content/UAP_retrieval/data/test/oxford5k/jpg/magdalen_001058.jpg', '/content/UAP_retrieval/data/test/oxford5k/jpg/ashmolean_000292.jpg', '/content/UAP_retrieval/data/test/oxford5k/jpg/oxford_002725.jpg', '/content/UAP_retrieval/data/test/oxford5k/jpg/bodleian_000052.jpg', '/content/UAP_retrieval/data/test/oxford5k/jpg/magdalen_000211.jpg', '/content/UAP_retrieval/data/test/oxford5k/jpg/jesus_000301.jpg', '/content/UAP_retrieval/data/test/oxford5k/jpg/balliol_000198.jpg', '/content/UAP_retrieval/data/test/oxford5k/jpg/oxford_000936.jpg', '/content/UAP_retrieval/data/test/oxford5k/jpg/oxford_002044.jpg', '/content/UAP_retrieval/data/test/oxford5k/jpg/oxford_000222.jpg', '/content/UAP_retrieval/data/test/oxford5k/jpg/jesus_000303.jpg', '/content/UAP_retrieval/data/test/oxford5k/jpg/magdalen_000741.jpg', '/content/UAP_retrieval/data/test/oxford5k/jpg/oxford_000072.jpg', '/content/UAP_retrieval/data/test/oxford5k/jpg/cornmarket_000017.jpg', '/content/UAP_retrieval/data/test/oxford5k/jpg/new_000821.jpg', '/content/UAP_retrieval/data/test/oxford5k/jpg/jesus_000284.jpg', '/content/UAP_retrieval/data/test/oxford5k/jpg/oxford_002369.jpg', '/content/UAP_retrieval/data/test/oxford5k/jpg/oxford_001517.jpg', '/content/UAP_retrieval/data/test/oxford5k/jpg/balliol_000051.jpg', '/content/UAP_retrieval/data/test/oxford5k/jpg/christ_church_000315.jpg', '/content/UAP_retrieval/data/test/oxford5k/jpg/christ_church_000559.jpg', '/content/UAP_retrieval/data/test/oxford5k/jpg/balliol_000209.jpg', '/content/UAP_retrieval/data/test/oxford5k/jpg/magdalen_000084.jpg', '/content/UAP_retrieval/data/test/oxford5k/jpg/new_000914.jpg', '/content/UAP_retrieval/data/test/oxford5k/jpg/balliol_000170.jpg', '/content/UAP_retrieval/data/test/oxford5k/jpg/new_000960.jpg', '/content/UAP_retrieval/data/test/oxford5k/jpg/new_000353.jpg', '/content/UAP_retrieval/data/test/oxford5k/jpg/oxford_000521.jpg', '/content/UAP_retrieval/data/test/oxford5k/jpg/oxford_001304.jpg', '/content/UAP_retrieval/data/test/oxford5k/jpg/jesus_000036.jpg', '/content/UAP_retrieval/data/test/oxford5k/jpg/oxford_002787.jpg', '/content/UAP_retrieval/data/test/oxford5k/jpg/balliol_000148.jpg', '/content/UAP_retrieval/data/test/oxford5k/jpg/oriel_000111.jpg', '/content/UAP_retrieval/data/test/oxford5k/jpg/oxford_003537.jpg', '/content/UAP_retrieval/data/test/oxford5k/jpg/magdalen_000293.jpg', '/content/UAP_retrieval/data/test/oxford5k/jpg/trinity_000300.jpg', '/content/UAP_retrieval/data/test/oxford5k/jpg/oriel_000037.jpg', '/content/UAP_retrieval/data/test/oxford5k/jpg/pitt_rivers_000190.jpg', '/content/UAP_retrieval/data/test/oxford5k/jpg/oxford_001268.jpg', '/content/UAP_retrieval/data/test/oxford5k/jpg/oxford_000824.jpg', '/content/UAP_retrieval/data/test/oxford5k/jpg/oxford_003614.jpg', '/content/UAP_retrieval/data/test/oxford5k/jpg/new_000292.jpg', '/content/UAP_retrieval/data/test/oxford5k/jpg/hertford_000044.jpg', '/content/UAP_retrieval/data/test/oxford5k/jpg/oxford_000751.jpg', '/content/UAP_retrieval/data/test/oxford5k/jpg/balliol_000094.jpg', '/content/UAP_retrieval/data/test/oxford5k/jpg/radcliffe_camera_000182.jpg', '/content/UAP_retrieval/data/test/oxford5k/jpg/new_000825.jpg', '/content/UAP_retrieval/data/test/oxford5k/jpg/oxford_001692.jpg', '/content/UAP_retrieval/data/test/oxford5k/jpg/magdalen_000304.jpg', '/content/UAP_retrieval/data/test/oxford5k/jpg/jesus_000359.jpg', '/content/UAP_retrieval/data/test/oxford5k/jpg/christ_church_000104.jpg', '/content/UAP_retrieval/data/test/oxford5k/jpg/new_000443.jpg', '/content/UAP_retrieval/data/test/oxford5k/jpg/oxford_002783.jpg', '/content/UAP_retrieval/data/test/oxford5k/jpg/jesus_000305.jpg', '/content/UAP_retrieval/data/test/oxford5k/jpg/new_000377.jpg', '/content/UAP_retrieval/data/test/oxford5k/jpg/oxford_003590.jpg', '/content/UAP_retrieval/data/test/oxford5k/jpg/oxford_001243.jpg', '/content/UAP_retrieval/data/test/oxford5k/jpg/jesus_000218.jpg', '/content/UAP_retrieval/data/test/oxford5k/jpg/magdalen_000850.jpg', '/content/UAP_retrieval/data/test/oxford5k/jpg/oxford_001474.jpg', '/content/UAP_retrieval/data/test/oxford5k/jpg/trinity_000136.jpg', '/content/UAP_retrieval/data/test/oxford5k/jpg/balliol_000157.jpg', '/content/UAP_retrieval/data/test/oxford5k/jpg/christ_church_000169.jpg', '/content/UAP_retrieval/data/test/oxford5k/jpg/oxford_002327.jpg', '/content/UAP_retrieval/data/test/oxford5k/jpg/balliol_000012.jpg', '/content/UAP_retrieval/data/test/oxford5k/jpg/jesus_000051.jpg', '/content/UAP_retrieval/data/test/oxford5k/jpg/oxford_000017.jpg', '/content/UAP_retrieval/data/test/oxford5k/jpg/magdalen_000258.jpg', '/content/UAP_retrieval/data/test/oxford5k/jpg/magdalen_000660.jpg', '/content/UAP_retrieval/data/test/oxford5k/jpg/magdalen_000139.jpg', '/content/UAP_retrieval/data/test/oxford5k/jpg/ashmolean_000260.jpg', '/content/UAP_retrieval/data/test/oxford5k/jpg/trinity_000093.jpg', '/content/UAP_retrieval/data/test/oxford5k/jpg/oriel_000034.jpg', '/content/UAP_retrieval/data/test/oxford5k/jpg/ashmolean_000248.jpg', '/content/UAP_retrieval/data/test/oxford5k/jpg/all_souls_000019.jpg', '/content/UAP_retrieval/data/test/oxford5k/jpg/balliol_000159.jpg', '/content/UAP_retrieval/data/test/oxford5k/jpg/keble_000167.jpg', '/content/UAP_retrieval/data/test/oxford5k/jpg/worcester_000094.jpg', '/content/UAP_retrieval/data/test/oxford5k/jpg/christ_church_000134.jpg', '/content/UAP_retrieval/data/test/oxford5k/jpg/oxford_002674.jpg', '/content/UAP_retrieval/data/test/oxford5k/jpg/oxford_000183.jpg', '/content/UAP_retrieval/data/test/oxford5k/jpg/oxford_003368.jpg', '/content/UAP_retrieval/data/test/oxford5k/jpg/all_souls_000063.jpg', '/content/UAP_retrieval/data/test/oxford5k/jpg/magdalen_000776.jpg', '/content/UAP_retrieval/data/test/oxford5k/jpg/radcliffe_camera_000350.jpg', '/content/UAP_retrieval/data/test/oxford5k/jpg/radcliffe_camera_000287.jpg', '/content/UAP_retrieval/data/test/oxford5k/jpg/oxford_001348.jpg', '/content/UAP_retrieval/data/test/oxford5k/jpg/cornmarket_000117.jpg', '/content/UAP_retrieval/data/test/oxford5k/jpg/new_000168.jpg', '/content/UAP_retrieval/data/test/oxford5k/jpg/oriel_000064.jpg', '/content/UAP_retrieval/data/test/oxford5k/jpg/magdalen_000358.jpg', '/content/UAP_retrieval/data/test/oxford5k/jpg/oxford_001204.jpg', '/content/UAP_retrieval/data/test/oxford5k/jpg/oxford_001987.jpg', '/content/UAP_retrieval/data/test/oxford5k/jpg/oxford_000563.jpg', '/content/UAP_retrieval/data/test/oxford5k/jpg/ashmolean_000207.jpg', '/content/UAP_retrieval/data/test/oxford5k/jpg/magdalen_000286.jpg', '/content/UAP_retrieval/data/test/oxford5k/jpg/oxford_001321.jpg', '/content/UAP_retrieval/data/test/oxford5k/jpg/oxford_000109.jpg', '/content/UAP_retrieval/data/test/oxford5k/jpg/jesus_000045.jpg', '/content/UAP_retrieval/data/test/oxford5k/jpg/radcliffe_camera_000127.jpg', '/content/UAP_retrieval/data/test/oxford5k/jpg/oxford_002948.jpg', '/content/UAP_retrieval/data/test/oxford5k/jpg/oriel_000026.jpg', '/content/UAP_retrieval/data/test/oxford5k/jpg/oxford_000090.jpg', '/content/UAP_retrieval/data/test/oxford5k/jpg/bodleian_000267.jpg', '/content/UAP_retrieval/data/test/oxford5k/jpg/oxford_002473.jpg', '/content/UAP_retrieval/data/test/oxford5k/jpg/oxford_002715.jpg', '/content/UAP_retrieval/data/test/oxford5k/jpg/oxford_002816.jpg', '/content/UAP_retrieval/data/test/oxford5k/jpg/new_000785.jpg', '/content/UAP_retrieval/data/test/oxford5k/jpg/radcliffe_camera_000231.jpg', '/content/UAP_retrieval/data/test/oxford5k/jpg/oriel_000081.jpg', '/content/UAP_retrieval/data/test/oxford5k/jpg/oxford_001029.jpg', '/content/UAP_retrieval/data/test/oxford5k/jpg/oxford_002397.jpg', '/content/UAP_retrieval/data/test/oxford5k/jpg/oxford_000679.jpg', '/content/UAP_retrieval/data/test/oxford5k/jpg/oxford_001318.jpg', '/content/UAP_retrieval/data/test/oxford5k/jpg/magdalen_000176.jpg', '/content/UAP_retrieval/data/test/oxford5k/jpg/oxford_000789.jpg', '/content/UAP_retrieval/data/test/oxford5k/jpg/new_000312.jpg', '/content/UAP_retrieval/data/test/oxford5k/jpg/trinity_000127.jpg', '/content/UAP_retrieval/data/test/oxford5k/jpg/oxford_001930.jpg', '/content/UAP_retrieval/data/test/oxford5k/jpg/bodleian_000253.jpg', '/content/UAP_retrieval/data/test/oxford5k/jpg/new_000876.jpg', '/content/UAP_retrieval/data/test/oxford5k/jpg/all_souls_000197.jpg', '/content/UAP_retrieval/data/test/oxford5k/jpg/oxford_003034.jpg', '/content/UAP_retrieval/data/test/oxford5k/jpg/oxford_001697.jpg', '/content/UAP_retrieval/data/test/oxford5k/jpg/oxford_001342.jpg', '/content/UAP_retrieval/data/test/oxford5k/jpg/oxford_003031.jpg', '/content/UAP_retrieval/data/test/oxford5k/jpg/magdalen_000529.jpg', '/content/UAP_retrieval/data/test/oxford5k/jpg/radcliffe_camera_000443.jpg', '/content/UAP_retrieval/data/test/oxford5k/jpg/worcester_000159.jpg', '/content/UAP_retrieval/data/test/oxford5k/jpg/new_000874.jpg', '/content/UAP_retrieval/data/test/oxford5k/jpg/christ_church_000453.jpg', '/content/UAP_retrieval/data/test/oxford5k/jpg/keble_000091.jpg', '/content/UAP_retrieval/data/test/oxford5k/jpg/oxford_002282.jpg', '/content/UAP_retrieval/data/test/oxford5k/jpg/oxford_003304.jpg', '/content/UAP_retrieval/data/test/oxford5k/jpg/oxford_001675.jpg', '/content/UAP_retrieval/data/test/oxford5k/jpg/oxford_001134.jpg', '/content/UAP_retrieval/data/test/oxford5k/jpg/new_000640.jpg', '/content/UAP_retrieval/data/test/oxford5k/jpg/new_000651.jpg', '/content/UAP_retrieval/data/test/oxford5k/jpg/trinity_000198.jpg', '/content/UAP_retrieval/data/test/oxford5k/jpg/new_000445.jpg', '/content/UAP_retrieval/data/test/oxford5k/jpg/balliol_000077.jpg', '/content/UAP_retrieval/data/test/oxford5k/jpg/magdalen_000424.jpg', '/content/UAP_retrieval/data/test/oxford5k/jpg/new_000369.jpg', '/content/UAP_retrieval/data/test/oxford5k/jpg/cornmarket_000080.jpg', '/content/UAP_retrieval/data/test/oxford5k/jpg/new_000890.jpg', '/content/UAP_retrieval/data/test/oxford5k/jpg/oxford_002869.jpg', '/content/UAP_retrieval/data/test/oxford5k/jpg/keble_000223.jpg', '/content/UAP_retrieval/data/test/oxford5k/jpg/oxford_000849.jpg', '/content/UAP_retrieval/data/test/oxford5k/jpg/oxford_003251.jpg', '/content/UAP_retrieval/data/test/oxford5k/jpg/oxford_000379.jpg', '/content/UAP_retrieval/data/test/oxford5k/jpg/keble_000033.jpg', '/content/UAP_retrieval/data/test/oxford5k/jpg/jesus_000314.jpg', '/content/UAP_retrieval/data/test/oxford5k/jpg/new_000161.jpg', '/content/UAP_retrieval/data/test/oxford5k/jpg/oxford_001451.jpg', '/content/UAP_retrieval/data/test/oxford5k/jpg/oxford_001516.jpg', '/content/UAP_retrieval/data/test/oxford5k/jpg/hertford_000021.jpg', '/content/UAP_retrieval/data/test/oxford5k/jpg/christ_church_000070.jpg', '/content/UAP_retrieval/data/test/oxford5k/jpg/trinity_000138.jpg', '/content/UAP_retrieval/data/test/oxford5k/jpg/new_000382.jpg', '/content/UAP_retrieval/data/test/oxford5k/jpg/trinity_000289.jpg', '/content/UAP_retrieval/data/test/oxford5k/jpg/oxford_001215.jpg', '/content/UAP_retrieval/data/test/oxford5k/jpg/magdalen_000415.jpg', '/content/UAP_retrieval/data/test/oxford5k/jpg/balliol_000022.jpg', '/content/UAP_retrieval/data/test/oxford5k/jpg/christ_church_001071.jpg', '/content/UAP_retrieval/data/test/oxford5k/jpg/christ_church_001024.jpg', '/content/UAP_retrieval/data/test/oxford5k/jpg/pitt_rivers_000176.jpg', '/content/UAP_retrieval/data/test/oxford5k/jpg/bodleian_000365.jpg', '/content/UAP_retrieval/data/test/oxford5k/jpg/ashmolean_000153.jpg', '/content/UAP_retrieval/data/test/oxford5k/jpg/oxford_002814.jpg', '/content/UAP_retrieval/data/test/oxford5k/jpg/christ_church_001021.jpg', '/content/UAP_retrieval/data/test/oxford5k/jpg/christ_church_000395.jpg', '/content/UAP_retrieval/data/test/oxford5k/jpg/keble_000034.jpg', '/content/UAP_retrieval/data/test/oxford5k/jpg/bodleian_000108.jpg', '/content/UAP_retrieval/data/test/oxford5k/jpg/magdalen_000764.jpg', '/content/UAP_retrieval/data/test/oxford5k/jpg/jesus_000346.jpg', '/content/UAP_retrieval/data/test/oxford5k/jpg/oxford_001924.jpg', '/content/UAP_retrieval/data/test/oxford5k/jpg/jesus_000291.jpg', '/content/UAP_retrieval/data/test/oxford5k/jpg/oxford_002157.jpg', '/content/UAP_retrieval/data/test/oxford5k/jpg/oxford_000590.jpg', '/content/UAP_retrieval/data/test/oxford5k/jpg/balliol_000027.jpg', '/content/UAP_retrieval/data/test/oxford5k/jpg/magdalen_000873.jpg', '/content/UAP_retrieval/data/test/oxford5k/jpg/oxford_001052.jpg', '/content/UAP_retrieval/data/test/oxford5k/jpg/new_000192.jpg', '/content/UAP_retrieval/data/test/oxford5k/jpg/radcliffe_camera_000190.jpg', '/content/UAP_retrieval/data/test/oxford5k/jpg/bodleian_000418.jpg', '/content/UAP_retrieval/data/test/oxford5k/jpg/ashmolean_000016.jpg', '/content/UAP_retrieval/data/test/oxford5k/jpg/pitt_rivers_000138.jpg', '/content/UAP_retrieval/data/test/oxford5k/jpg/hertford_000027.jpg', '/content/UAP_retrieval/data/test/oxford5k/jpg/all_souls_000100.jpg', '/content/UAP_retrieval/data/test/oxford5k/jpg/magdalen_001086.jpg', '/content/UAP_retrieval/data/test/oxford5k/jpg/oxford_001063.jpg', '/content/UAP_retrieval/data/test/oxford5k/jpg/oxford_002627.jpg', '/content/UAP_retrieval/data/test/oxford5k/jpg/christ_church_001007.jpg', '/content/UAP_retrieval/data/test/oxford5k/jpg/oxford_000247.jpg', '/content/UAP_retrieval/data/test/oxford5k/jpg/cornmarket_000105.jpg', '/content/UAP_retrieval/data/test/oxford5k/jpg/worcester_000147.jpg', '/content/UAP_retrieval/data/test/oxford5k/jpg/magdalen_000022.jpg', '/content/UAP_retrieval/data/test/oxford5k/jpg/christ_church_000638.jpg', '/content/UAP_retrieval/data/test/oxford5k/jpg/all_souls_000051.jpg', '/content/UAP_retrieval/data/test/oxford5k/jpg/oxford_002683.jpg', '/content/UAP_retrieval/data/test/oxford5k/jpg/oxford_001673.jpg', '/content/UAP_retrieval/data/test/oxford5k/jpg/christ_church_000293.jpg', '/content/UAP_retrieval/data/test/oxford5k/jpg/balliol_000010.jpg', '/content/UAP_retrieval/data/test/oxford5k/jpg/magdalen_000366.jpg', '/content/UAP_retrieval/data/test/oxford5k/jpg/oxford_001385.jpg', '/content/UAP_retrieval/data/test/oxford5k/jpg/new_000273.jpg', '/content/UAP_retrieval/data/test/oxford5k/jpg/new_000632.jpg', '/content/UAP_retrieval/data/test/oxford5k/jpg/jesus_000280.jpg', '/content/UAP_retrieval/data/test/oxford5k/jpg/all_souls_000039.jpg', '/content/UAP_retrieval/data/test/oxford5k/jpg/magdalen_001127.jpg', '/content/UAP_retrieval/data/test/oxford5k/jpg/radcliffe_camera_000181.jpg', '/content/UAP_retrieval/data/test/oxford5k/jpg/hertford_000128.jpg', '/content/UAP_retrieval/data/test/oxford5k/jpg/christ_church_000139.jpg', '/content/UAP_retrieval/data/test/oxford5k/jpg/oxford_000076.jpg', '/content/UAP_retrieval/data/test/oxford5k/jpg/ashmolean_000126.jpg', '/content/UAP_retrieval/data/test/oxford5k/jpg/christ_church_001034.jpg', '/content/UAP_retrieval/data/test/oxford5k/jpg/balliol_000071.jpg', '/content/UAP_retrieval/data/test/oxford5k/jpg/magdalen_000427.jpg', '/content/UAP_retrieval/data/test/oxford5k/jpg/pitt_rivers_000007.jpg', '/content/UAP_retrieval/data/test/oxford5k/jpg/all_souls_000008.jpg', '/content/UAP_retrieval/data/test/oxford5k/jpg/worcester_000135.jpg', '/content/UAP_retrieval/data/test/oxford5k/jpg/ashmolean_000104.jpg', '/content/UAP_retrieval/data/test/oxford5k/jpg/new_000466.jpg', '/content/UAP_retrieval/data/test/oxford5k/jpg/bodleian_000069.jpg', '/content/UAP_retrieval/data/test/oxford5k/jpg/christ_church_001012.jpg', '/content/UAP_retrieval/data/test/oxford5k/jpg/trinity_000052.jpg', '/content/UAP_retrieval/data/test/oxford5k/jpg/ashmolean_000175.jpg', '/content/UAP_retrieval/data/test/oxford5k/jpg/trinity_000132.jpg', '/content/UAP_retrieval/data/test/oxford5k/jpg/oriel_000039.jpg', '/content/UAP_retrieval/data/test/oxford5k/jpg/all_souls_000020.jpg', '/content/UAP_retrieval/data/test/oxford5k/jpg/balliol_000049.jpg', '/content/UAP_retrieval/data/test/oxford5k/jpg/magdalen_000131.jpg', '/content/UAP_retrieval/data/test/oxford5k/jpg/oxford_001159.jpg', '/content/UAP_retrieval/data/test/oxford5k/jpg/radcliffe_camera_000333.jpg', '/content/UAP_retrieval/data/test/oxford5k/jpg/new_000502.jpg', '/content/UAP_retrieval/data/test/oxford5k/jpg/jesus_000355.jpg', '/content/UAP_retrieval/data/test/oxford5k/jpg/magdalen_000159.jpg', '/content/UAP_retrieval/data/test/oxford5k/jpg/magdalen_000305.jpg', '/content/UAP_retrieval/data/test/oxford5k/jpg/oxford_002893.jpg', '/content/UAP_retrieval/data/test/oxford5k/jpg/radcliffe_camera_000043.jpg', '/content/UAP_retrieval/data/test/oxford5k/jpg/jesus_000329.jpg', '/content/UAP_retrieval/data/test/oxford5k/jpg/magdalen_000963.jpg', '/content/UAP_retrieval/data/test/oxford5k/jpg/magdalen_000353.jpg', '/content/UAP_retrieval/data/test/oxford5k/jpg/worcester_000113.jpg', '/content/UAP_retrieval/data/test/oxford5k/jpg/ashmolean_000269.jpg', '/content/UAP_retrieval/data/test/oxford5k/jpg/christ_church_000363.jpg', '/content/UAP_retrieval/data/test/oxford5k/jpg/oxford_000324.jpg', '/content/UAP_retrieval/data/test/oxford5k/jpg/christ_church_000593.jpg', '/content/UAP_retrieval/data/test/oxford5k/jpg/oxford_000359.jpg', '/content/UAP_retrieval/data/test/oxford5k/jpg/oxford_001758.jpg', '/content/UAP_retrieval/data/test/oxford5k/jpg/christ_church_000040.jpg', '/content/UAP_retrieval/data/test/oxford5k/jpg/trinity_000062.jpg', '/content/UAP_retrieval/data/test/oxford5k/jpg/balliol_000082.jpg', '/content/UAP_retrieval/data/test/oxford5k/jpg/jesus_000004.jpg', '/content/UAP_retrieval/data/test/oxford5k/jpg/radcliffe_camera_000534.jpg', '/content/UAP_retrieval/data/test/oxford5k/jpg/magdalen_000995.jpg', '/content/UAP_retrieval/data/test/oxford5k/jpg/oxford_003385.jpg', '/content/UAP_retrieval/data/test/oxford5k/jpg/christ_church_001143.jpg', '/content/UAP_retrieval/data/test/oxford5k/jpg/magdalen_000895.jpg', '/content/UAP_retrieval/data/test/oxford5k/jpg/new_000898.jpg', '/content/UAP_retrieval/data/test/oxford5k/jpg/oxford_001893.jpg', '/content/UAP_retrieval/data/test/oxford5k/jpg/pitt_rivers_000004.jpg', '/content/UAP_retrieval/data/test/oxford5k/jpg/bodleian_000179.jpg', '/content/UAP_retrieval/data/test/oxford5k/jpg/oxford_001189.jpg', '/content/UAP_retrieval/data/test/oxford5k/jpg/jesus_000351.jpg', '/content/UAP_retrieval/data/test/oxford5k/jpg/oxford_002337.jpg', '/content/UAP_retrieval/data/test/oxford5k/jpg/christ_church_000045.jpg', '/content/UAP_retrieval/data/test/oxford5k/jpg/christ_church_001059.jpg', '/content/UAP_retrieval/data/test/oxford5k/jpg/oxford_001557.jpg', '/content/UAP_retrieval/data/test/oxford5k/jpg/oxford_002789.jpg', '/content/UAP_retrieval/data/test/oxford5k/jpg/keble_000191.jpg', '/content/UAP_retrieval/data/test/oxford5k/jpg/oxford_002570.jpg', '/content/UAP_retrieval/data/test/oxford5k/jpg/oxford_002143.jpg', '/content/UAP_retrieval/data/test/oxford5k/jpg/oxford_002858.jpg', '/content/UAP_retrieval/data/test/oxford5k/jpg/oxford_002263.jpg', '/content/UAP_retrieval/data/test/oxford5k/jpg/new_000966.jpg', '/content/UAP_retrieval/data/test/oxford5k/jpg/jesus_000361.jpg', '/content/UAP_retrieval/data/test/oxford5k/jpg/all_souls_000085.jpg', '/content/UAP_retrieval/data/test/oxford5k/jpg/christ_church_000366.jpg', '/content/UAP_retrieval/data/test/oxford5k/jpg/all_souls_000151.jpg', '/content/UAP_retrieval/data/test/oxford5k/jpg/magdalen_000831.jpg', '/content/UAP_retrieval/data/test/oxford5k/jpg/magdalen_000616.jpg', '/content/UAP_retrieval/data/test/oxford5k/jpg/christ_church_000642.jpg', '/content/UAP_retrieval/data/test/oxford5k/jpg/oxford_001066.jpg', '/content/UAP_retrieval/data/test/oxford5k/jpg/jesus_000309.jpg', '/content/UAP_retrieval/data/test/oxford5k/jpg/pitt_rivers_000096.jpg', '/content/UAP_retrieval/data/test/oxford5k/jpg/christ_church_000066.jpg', '/content/UAP_retrieval/data/test/oxford5k/jpg/magdalen_000886.jpg', '/content/UAP_retrieval/data/test/oxford5k/jpg/pitt_rivers_000136.jpg', '/content/UAP_retrieval/data/test/oxford5k/jpg/oxford_000503.jpg', '/content/UAP_retrieval/data/test/oxford5k/jpg/radcliffe_camera_000325.jpg', '/content/UAP_retrieval/data/test/oxford5k/jpg/hertford_000071.jpg', '/content/UAP_retrieval/data/test/oxford5k/jpg/magdalen_000007.jpg', '/content/UAP_retrieval/data/test/oxford5k/jpg/oxford_002303.jpg', '/content/UAP_retrieval/data/test/oxford5k/jpg/new_000812.jpg', '/content/UAP_retrieval/data/test/oxford5k/jpg/magdalen_000644.jpg', '/content/UAP_retrieval/data/test/oxford5k/jpg/new_000086.jpg', '/content/UAP_retrieval/data/test/oxford5k/jpg/radcliffe_camera_000367.jpg', '/content/UAP_retrieval/data/test/oxford5k/jpg/magdalen_000696.jpg', '/content/UAP_retrieval/data/test/oxford5k/jpg/oxford_001699.jpg', '/content/UAP_retrieval/data/test/oxford5k/jpg/oxford_000919.jpg', '/content/UAP_retrieval/data/test/oxford5k/jpg/oxford_000672.jpg', '/content/UAP_retrieval/data/test/oxford5k/jpg/oxford_000371.jpg', '/content/UAP_retrieval/data/test/oxford5k/jpg/christ_church_000813.jpg', '/content/UAP_retrieval/data/test/oxford5k/jpg/christ_church_000179.jpg', '/content/UAP_retrieval/data/test/oxford5k/jpg/oxford_000008.jpg', '/content/UAP_retrieval/data/test/oxford5k/jpg/magdalen_000653.jpg', '/content/UAP_retrieval/data/test/oxford5k/jpg/magdalen_000944.jpg', '/content/UAP_retrieval/data/test/oxford5k/jpg/new_000786.jpg', '/content/UAP_retrieval/data/test/oxford5k/jpg/bodleian_000441.jpg', '/content/UAP_retrieval/data/test/oxford5k/jpg/magdalen_001095.jpg', '/content/UAP_retrieval/data/test/oxford5k/jpg/balliol_000104.jpg', '/content/UAP_retrieval/data/test/oxford5k/jpg/magdalen_001040.jpg', '/content/UAP_retrieval/data/test/oxford5k/jpg/oxford_002051.jpg', '/content/UAP_retrieval/data/test/oxford5k/jpg/oxford_002203.jpg', '/content/UAP_retrieval/data/test/oxford5k/jpg/trinity_000084.jpg', '/content/UAP_retrieval/data/test/oxford5k/jpg/oxford_003014.jpg', '/content/UAP_retrieval/data/test/oxford5k/jpg/oxford_000029.jpg', '/content/UAP_retrieval/data/test/oxford5k/jpg/oxford_002047.jpg', '/content/UAP_retrieval/data/test/oxford5k/jpg/oxford_002294.jpg', '/content/UAP_retrieval/data/test/oxford5k/jpg/oxford_001217.jpg', '/content/UAP_retrieval/data/test/oxford5k/jpg/radcliffe_camera_000251.jpg', '/content/UAP_retrieval/data/test/oxford5k/jpg/balliol_000154.jpg', '/content/UAP_retrieval/data/test/oxford5k/jpg/ashmolean_000278.jpg', '/content/UAP_retrieval/data/test/oxford5k/jpg/cornmarket_000092.jpg', '/content/UAP_retrieval/data/test/oxford5k/jpg/magdalen_000989.jpg', '/content/UAP_retrieval/data/test/oxford5k/jpg/hertford_000118.jpg', '/content/UAP_retrieval/data/test/oxford5k/jpg/trinity_000021.jpg', '/content/UAP_retrieval/data/test/oxford5k/jpg/bodleian_000290.jpg', '/content/UAP_retrieval/data/test/oxford5k/jpg/oxford_000558.jpg', '/content/UAP_retrieval/data/test/oxford5k/jpg/christ_church_001040.jpg', '/content/UAP_retrieval/data/test/oxford5k/jpg/new_000940.jpg', '/content/UAP_retrieval/data/test/oxford5k/jpg/oxford_003293.jpg', '/content/UAP_retrieval/data/test/oxford5k/jpg/hertford_000085.jpg', '/content/UAP_retrieval/data/test/oxford5k/jpg/trinity_000293.jpg', '/content/UAP_retrieval/data/test/oxford5k/jpg/oxford_003633.jpg', '/content/UAP_retrieval/data/test/oxford5k/jpg/oxford_000929.jpg', '/content/UAP_retrieval/data/test/oxford5k/jpg/radcliffe_camera_000161.jpg', '/content/UAP_retrieval/data/test/oxford5k/jpg/oxford_001395.jpg', '/content/UAP_retrieval/data/test/oxford5k/jpg/oxford_001227.jpg', '/content/UAP_retrieval/data/test/oxford5k/jpg/oxford_003449.jpg', '/content/UAP_retrieval/data/test/oxford5k/jpg/all_souls_000005.jpg', '/content/UAP_retrieval/data/test/oxford5k/jpg/radcliffe_camera_000014.jpg', '/content/UAP_retrieval/data/test/oxford5k/jpg/magdalen_000837.jpg', '/content/UAP_retrieval/data/test/oxford5k/jpg/hertford_000082.jpg', '/content/UAP_retrieval/data/test/oxford5k/jpg/new_000467.jpg', '/content/UAP_retrieval/data/test/oxford5k/jpg/new_000706.jpg', '/content/UAP_retrieval/data/test/oxford5k/jpg/new_000998.jpg', '/content/UAP_retrieval/data/test/oxford5k/jpg/new_000729.jpg', '/content/UAP_retrieval/data/test/oxford5k/jpg/oxford_001169.jpg', '/content/UAP_retrieval/data/test/oxford5k/jpg/oxford_002255.jpg', '/content/UAP_retrieval/data/test/oxford5k/jpg/christ_church_001055.jpg', '/content/UAP_retrieval/data/test/oxford5k/jpg/oxford_000016.jpg', '/content/UAP_retrieval/data/test/oxford5k/jpg/bodleian_000084.jpg', '/content/UAP_retrieval/data/test/oxford5k/jpg/hertford_000026.jpg', '/content/UAP_retrieval/data/test/oxford5k/jpg/oxford_001708.jpg', '/content/UAP_retrieval/data/test/oxford5k/jpg/new_000515.jpg', '/content/UAP_retrieval/data/test/oxford5k/jpg/worcester_000130.jpg', '/content/UAP_retrieval/data/test/oxford5k/jpg/magdalen_000571.jpg', '/content/UAP_retrieval/data/test/oxford5k/jpg/pitt_rivers_000133.jpg', '/content/UAP_retrieval/data/test/oxford5k/jpg/christ_church_000932.jpg', '/content/UAP_retrieval/data/test/oxford5k/jpg/balliol_000069.jpg', '/content/UAP_retrieval/data/test/oxford5k/jpg/balliol_000081.jpg', '/content/UAP_retrieval/data/test/oxford5k/jpg/christ_church_001010.jpg', '/content/UAP_retrieval/data/test/oxford5k/jpg/oxford_002533.jpg', '/content/UAP_retrieval/data/test/oxford5k/jpg/oxford_003352.jpg', '/content/UAP_retrieval/data/test/oxford5k/jpg/oxford_002146.jpg', '/content/UAP_retrieval/data/test/oxford5k/jpg/jesus_000071.jpg', '/content/UAP_retrieval/data/test/oxford5k/jpg/oxford_001584.jpg', '/content/UAP_retrieval/data/test/oxford5k/jpg/oxford_003381.jpg', '/content/UAP_retrieval/data/test/oxford5k/jpg/oxford_003454.jpg', '/content/UAP_retrieval/data/test/oxford5k/jpg/keble_000095.jpg', '/content/UAP_retrieval/data/test/oxford5k/jpg/keble_000039.jpg', '/content/UAP_retrieval/data/test/oxford5k/jpg/bodleian_000363.jpg', '/content/UAP_retrieval/data/test/oxford5k/jpg/new_000313.jpg', '/content/UAP_retrieval/data/test/oxford5k/jpg/oxford_003261.jpg', '/content/UAP_retrieval/data/test/oxford5k/jpg/new_000913.jpg', '/content/UAP_retrieval/data/test/oxford5k/jpg/all_souls_000021.jpg', '/content/UAP_retrieval/data/test/oxford5k/jpg/oxford_001219.jpg', '/content/UAP_retrieval/data/test/oxford5k/jpg/oxford_000754.jpg', '/content/UAP_retrieval/data/test/oxford5k/jpg/christ_church_001069.jpg', '/content/UAP_retrieval/data/test/oxford5k/jpg/christ_church_000140.jpg', '/content/UAP_retrieval/data/test/oxford5k/jpg/oxford_003020.jpg', '/content/UAP_retrieval/data/test/oxford5k/jpg/christ_church_000176.jpg', '/content/UAP_retrieval/data/test/oxford5k/jpg/magdalen_000762.jpg', '/content/UAP_retrieval/data/test/oxford5k/jpg/bodleian_000058.jpg', '/content/UAP_retrieval/data/test/oxford5k/jpg/magdalen_000162.jpg', '/content/UAP_retrieval/data/test/oxford5k/jpg/oxford_003144.jpg', '/content/UAP_retrieval/data/test/oxford5k/jpg/all_souls_000045.jpg', '/content/UAP_retrieval/data/test/oxford5k/jpg/oxford_003128.jpg', '/content/UAP_retrieval/data/test/oxford5k/jpg/trinity_000362.jpg', '/content/UAP_retrieval/data/test/oxford5k/jpg/oxford_002352.jpg', '/content/UAP_retrieval/data/test/oxford5k/jpg/magdalen_000731.jpg', '/content/UAP_retrieval/data/test/oxford5k/jpg/radcliffe_camera_000523.jpg', '/content/UAP_retrieval/data/test/oxford5k/jpg/oxford_002507.jpg', '/content/UAP_retrieval/data/test/oxford5k/jpg/oxford_002925.jpg', '/content/UAP_retrieval/data/test/oxford5k/jpg/oxford_001112.jpg', '/content/UAP_retrieval/data/test/oxford5k/jpg/hertford_000060.jpg', '/content/UAP_retrieval/data/test/oxford5k/jpg/oxford_000046.jpg', '/content/UAP_retrieval/data/test/oxford5k/jpg/magdalen_000203.jpg', '/content/UAP_retrieval/data/test/oxford5k/jpg/cornmarket_000078.jpg', '/content/UAP_retrieval/data/test/oxford5k/jpg/new_000634.jpg', '/content/UAP_retrieval/data/test/oxford5k/jpg/christ_church_000226.jpg', '/content/UAP_retrieval/data/test/oxford5k/jpg/new_000156.jpg', '/content/UAP_retrieval/data/test/oxford5k/jpg/magdalen_001006.jpg', '/content/UAP_retrieval/data/test/oxford5k/jpg/christ_church_001114.jpg', '/content/UAP_retrieval/data/test/oxford5k/jpg/oxford_000175.jpg', '/content/UAP_retrieval/data/test/oxford5k/jpg/new_001111.jpg', '/content/UAP_retrieval/data/test/oxford5k/jpg/pitt_rivers_000078.jpg', '/content/UAP_retrieval/data/test/oxford5k/jpg/magdalen_000197.jpg', '/content/UAP_retrieval/data/test/oxford5k/jpg/christ_church_000911.jpg', '/content/UAP_retrieval/data/test/oxford5k/jpg/christ_church_000655.jpg', '/content/UAP_retrieval/data/test/oxford5k/jpg/keble_000196.jpg', '/content/UAP_retrieval/data/test/oxford5k/jpg/worcester_000064.jpg', '/content/UAP_retrieval/data/test/oxford5k/jpg/magdalen_000648.jpg', '/content/UAP_retrieval/data/test/oxford5k/jpg/oxford_000743.jpg', '/content/UAP_retrieval/data/test/oxford5k/jpg/magdalen_000216.jpg', '/content/UAP_retrieval/data/test/oxford5k/jpg/oxford_002264.jpg', '/content/UAP_retrieval/data/test/oxford5k/jpg/keble_000104.jpg', '/content/UAP_retrieval/data/test/oxford5k/jpg/hertford_000084.jpg', '/content/UAP_retrieval/data/test/oxford5k/jpg/ashmolean_000062.jpg', '/content/UAP_retrieval/data/test/oxford5k/jpg/magdalen_000036.jpg', '/content/UAP_retrieval/data/test/oxford5k/jpg/oxford_003190.jpg', '/content/UAP_retrieval/data/test/oxford5k/jpg/trinity_000308.jpg', '/content/UAP_retrieval/data/test/oxford5k/jpg/oxford_000935.jpg', '/content/UAP_retrieval/data/test/oxford5k/jpg/oxford_001221.jpg', '/content/UAP_retrieval/data/test/oxford5k/jpg/bodleian_000409.jpg', '/content/UAP_retrieval/data/test/oxford5k/jpg/oxford_001105.jpg', '/content/UAP_retrieval/data/test/oxford5k/jpg/oxford_003286.jpg', '/content/UAP_retrieval/data/test/oxford5k/jpg/oxford_003059.jpg', '/content/UAP_retrieval/data/test/oxford5k/jpg/ashmolean_000203.jpg', '/content/UAP_retrieval/data/test/oxford5k/jpg/oxford_003153.jpg', '/content/UAP_retrieval/data/test/oxford5k/jpg/jesus_000289.jpg', '/content/UAP_retrieval/data/test/oxford5k/jpg/oriel_000089.jpg', '/content/UAP_retrieval/data/test/oxford5k/jpg/oxford_002424.jpg', '/content/UAP_retrieval/data/test/oxford5k/jpg/magdalen_000945.jpg', '/content/UAP_retrieval/data/test/oxford5k/jpg/balliol_000034.jpg', '/content/UAP_retrieval/data/test/oxford5k/jpg/christ_church_000349.jpg', '/content/UAP_retrieval/data/test/oxford5k/jpg/pitt_rivers_000043.jpg', '/content/UAP_retrieval/data/test/oxford5k/jpg/balliol_000023.jpg', '/content/UAP_retrieval/data/test/oxford5k/jpg/oxford_001008.jpg', '/content/UAP_retrieval/data/test/oxford5k/jpg/oxford_001435.jpg', '/content/UAP_retrieval/data/test/oxford5k/jpg/oxford_001145.jpg', '/content/UAP_retrieval/data/test/oxford5k/jpg/pitt_rivers_000060.jpg', '/content/UAP_retrieval/data/test/oxford5k/jpg/oxford_003388.jpg', '/content/UAP_retrieval/data/test/oxford5k/jpg/magdalen_000730.jpg', '/content/UAP_retrieval/data/test/oxford5k/jpg/bodleian_000242.jpg', '/content/UAP_retrieval/data/test/oxford5k/jpg/keble_000171.jpg', '/content/UAP_retrieval/data/test/oxford5k/jpg/new_001026.jpg', '/content/UAP_retrieval/data/test/oxford5k/jpg/christ_church_000142.jpg', '/content/UAP_retrieval/data/test/oxford5k/jpg/oxford_002123.jpg', '/content/UAP_retrieval/data/test/oxford5k/jpg/pitt_rivers_000122.jpg', '/content/UAP_retrieval/data/test/oxford5k/jpg/radcliffe_camera_000071.jpg', '/content/UAP_retrieval/data/test/oxford5k/jpg/balliol_000211.jpg', '/content/UAP_retrieval/data/test/oxford5k/jpg/new_000023.jpg', '/content/UAP_retrieval/data/test/oxford5k/jpg/ashmolean_000256.jpg', '/content/UAP_retrieval/data/test/oxford5k/jpg/all_souls_000033.jpg', '/content/UAP_retrieval/data/test/oxford5k/jpg/oxford_001240.jpg', '/content/UAP_retrieval/data/test/oxford5k/jpg/all_souls_000134.jpg', '/content/UAP_retrieval/data/test/oxford5k/jpg/oxford_001281.jpg', '/content/UAP_retrieval/data/test/oxford5k/jpg/all_souls_000150.jpg', '/content/UAP_retrieval/data/test/oxford5k/jpg/trinity_000033.jpg', '/content/UAP_retrieval/data/test/oxford5k/jpg/pitt_rivers_000000.jpg', '/content/UAP_retrieval/data/test/oxford5k/jpg/oxford_003567.jpg', '/content/UAP_retrieval/data/test/oxford5k/jpg/new_000279.jpg', '/content/UAP_retrieval/data/test/oxford5k/jpg/pitt_rivers_000101.jpg', '/content/UAP_retrieval/data/test/oxford5k/jpg/new_001085.jpg', '/content/UAP_retrieval/data/test/oxford5k/jpg/trinity_000067.jpg', '/content/UAP_retrieval/data/test/oxford5k/jpg/all_souls_000106.jpg', '/content/UAP_retrieval/data/test/oxford5k/jpg/oxford_001831.jpg', '/content/UAP_retrieval/data/test/oxford5k/jpg/radcliffe_camera_000221.jpg', '/content/UAP_retrieval/data/test/oxford5k/jpg/pitt_rivers_000037.jpg', '/content/UAP_retrieval/data/test/oxford5k/jpg/magdalen_000288.jpg', '/content/UAP_retrieval/data/test/oxford5k/jpg/jesus_000055.jpg', '/content/UAP_retrieval/data/test/oxford5k/jpg/radcliffe_camera_000120.jpg', '/content/UAP_retrieval/data/test/oxford5k/jpg/oxford_001328.jpg', '/content/UAP_retrieval/data/test/oxford5k/jpg/magdalen_000524.jpg', '/content/UAP_retrieval/data/test/oxford5k/jpg/christ_church_000694.jpg', '/content/UAP_retrieval/data/test/oxford5k/jpg/oxford_000313.jpg', '/content/UAP_retrieval/data/test/oxford5k/jpg/trinity_000123.jpg', '/content/UAP_retrieval/data/test/oxford5k/jpg/keble_000053.jpg', '/content/UAP_retrieval/data/test/oxford5k/jpg/oxford_002358.jpg', '/content/UAP_retrieval/data/test/oxford5k/jpg/pitt_rivers_000033.jpg', '/content/UAP_retrieval/data/test/oxford5k/jpg/keble_000013.jpg', '/content/UAP_retrieval/data/test/oxford5k/jpg/radcliffe_camera_000140.jpg', '/content/UAP_retrieval/data/test/oxford5k/jpg/oxford_002985.jpg', '/content/UAP_retrieval/data/test/oxford5k/jpg/trinity_000105.jpg', '/content/UAP_retrieval/data/test/oxford5k/jpg/pitt_rivers_000071.jpg', '/content/UAP_retrieval/data/test/oxford5k/jpg/magdalen_001154.jpg', '/content/UAP_retrieval/data/test/oxford5k/jpg/new_000461.jpg', '/content/UAP_retrieval/data/test/oxford5k/jpg/all_souls_000042.jpg', '/content/UAP_retrieval/data/test/oxford5k/jpg/oxford_000874.jpg', '/content/UAP_retrieval/data/test/oxford5k/jpg/magdalen_000370.jpg', '/content/UAP_retrieval/data/test/oxford5k/jpg/new_000857.jpg', '/content/UAP_retrieval/data/test/oxford5k/jpg/christ_church_000646.jpg', '/content/UAP_retrieval/data/test/oxford5k/jpg/oriel_000031.jpg', '/content/UAP_retrieval/data/test/oxford5k/jpg/magdalen_000058.jpg', '/content/UAP_retrieval/data/test/oxford5k/jpg/magdalen_000033.jpg', '/content/UAP_retrieval/data/test/oxford5k/jpg/magdalen_000961.jpg', '/content/UAP_retrieval/data/test/oxford5k/jpg/trinity_000070.jpg', '/content/UAP_retrieval/data/test/oxford5k/jpg/oxford_000949.jpg', '/content/UAP_retrieval/data/test/oxford5k/jpg/all_souls_000015.jpg', '/content/UAP_retrieval/data/test/oxford5k/jpg/radcliffe_camera_000041.jpg', '/content/UAP_retrieval/data/test/oxford5k/jpg/trinity_000383.jpg', '/content/UAP_retrieval/data/test/oxford5k/jpg/oxford_000940.jpg', '/content/UAP_retrieval/data/test/oxford5k/jpg/christ_church_001041.jpg', '/content/UAP_retrieval/data/test/oxford5k/jpg/magdalen_000723.jpg', '/content/UAP_retrieval/data/test/oxford5k/jpg/oxford_002862.jpg', '/content/UAP_retrieval/data/test/oxford5k/jpg/oxford_003530.jpg', '/content/UAP_retrieval/data/test/oxford5k/jpg/radcliffe_camera_000329.jpg', '/content/UAP_retrieval/data/test/oxford5k/jpg/oxford_000320.jpg', '/content/UAP_retrieval/data/test/oxford5k/jpg/new_000006.jpg', '/content/UAP_retrieval/data/test/oxford5k/jpg/magdalen_000369.jpg', '/content/UAP_retrieval/data/test/oxford5k/jpg/radcliffe_camera_000138.jpg', '/content/UAP_retrieval/data/test/oxford5k/jpg/ashmolean_000171.jpg', '/content/UAP_retrieval/data/test/oxford5k/jpg/oxford_001405.jpg', '/content/UAP_retrieval/data/test/oxford5k/jpg/magdalen_000600.jpg', '/content/UAP_retrieval/data/test/oxford5k/jpg/oxford_002348.jpg', '/content/UAP_retrieval/data/test/oxford5k/jpg/oxford_001977.jpg', '/content/UAP_retrieval/data/test/oxford5k/jpg/oxford_003554.jpg', '/content/UAP_retrieval/data/test/oxford5k/jpg/radcliffe_camera_000249.jpg', '/content/UAP_retrieval/data/test/oxford5k/jpg/oxford_003104.jpg', '/content/UAP_retrieval/data/test/oxford5k/jpg/oxford_000627.jpg', '/content/UAP_retrieval/data/test/oxford5k/jpg/radcliffe_camera_000299.jpg', '/content/UAP_retrieval/data/test/oxford5k/jpg/new_000486.jpg', '/content/UAP_retrieval/data/test/oxford5k/jpg/magdalen_000025.jpg', '/content/UAP_retrieval/data/test/oxford5k/jpg/pitt_rivers_000056.jpg', '/content/UAP_retrieval/data/test/oxford5k/jpg/magdalen_000414.jpg', '/content/UAP_retrieval/data/test/oxford5k/jpg/keble_000245.jpg', '/content/UAP_retrieval/data/test/oxford5k/jpg/new_000693.jpg', '/content/UAP_retrieval/data/test/oxford5k/jpg/jesus_000360.jpg', '/content/UAP_retrieval/data/test/oxford5k/jpg/radcliffe_camera_000412.jpg', '/content/UAP_retrieval/data/test/oxford5k/jpg/new_000046.jpg', '/content/UAP_retrieval/data/test/oxford5k/jpg/magdalen_000278.jpg', '/content/UAP_retrieval/data/test/oxford5k/jpg/oxford_000184.jpg', '/content/UAP_retrieval/data/test/oxford5k/jpg/new_000473.jpg', '/content/UAP_retrieval/data/test/oxford5k/jpg/oriel_000098.jpg', '/content/UAP_retrieval/data/test/oxford5k/jpg/oxford_003126.jpg', '/content/UAP_retrieval/data/test/oxford5k/jpg/oxford_000903.jpg', '/content/UAP_retrieval/data/test/oxford5k/jpg/christ_church_000728.jpg', '/content/UAP_retrieval/data/test/oxford5k/jpg/christ_church_000944.jpg', '/content/UAP_retrieval/data/test/oxford5k/jpg/magdalen_001000.jpg', '/content/UAP_retrieval/data/test/oxford5k/jpg/jesus_000334.jpg', '/content/UAP_retrieval/data/test/oxford5k/jpg/oxford_001865.jpg', '/content/UAP_retrieval/data/test/oxford5k/jpg/ashmolean_000002.jpg', '/content/UAP_retrieval/data/test/oxford5k/jpg/worcester_000070.jpg', '/content/UAP_retrieval/data/test/oxford5k/jpg/oxford_002085.jpg', '/content/UAP_retrieval/data/test/oxford5k/jpg/oxford_003580.jpg', '/content/UAP_retrieval/data/test/oxford5k/jpg/christ_church_000543.jpg', '/content/UAP_retrieval/data/test/oxford5k/jpg/christ_church_001015.jpg', '/content/UAP_retrieval/data/test/oxford5k/jpg/new_000589.jpg', '/content/UAP_retrieval/data/test/oxford5k/jpg/hertford_000034.jpg', '/content/UAP_retrieval/data/test/oxford5k/jpg/ashmolean_000205.jpg', '/content/UAP_retrieval/data/test/oxford5k/jpg/oxford_000583.jpg', '/content/UAP_retrieval/data/test/oxford5k/jpg/radcliffe_camera_000218.jpg', '/content/UAP_retrieval/data/test/oxford5k/jpg/oxford_001086.jpg', '/content/UAP_retrieval/data/test/oxford5k/jpg/new_000732.jpg', '/content/UAP_retrieval/data/test/oxford5k/jpg/oxford_002521.jpg', '/content/UAP_retrieval/data/test/oxford5k/jpg/balliol_000044.jpg', '/content/UAP_retrieval/data/test/oxford5k/jpg/new_000281.jpg', '/content/UAP_retrieval/data/test/oxford5k/jpg/oxford_002800.jpg', '/content/UAP_retrieval/data/test/oxford5k/jpg/magdalen_000225.jpg', '/content/UAP_retrieval/data/test/oxford5k/jpg/oxford_000496.jpg', '/content/UAP_retrieval/data/test/oxford5k/jpg/trinity_000234.jpg', '/content/UAP_retrieval/data/test/oxford5k/jpg/radcliffe_camera_000000.jpg', '/content/UAP_retrieval/data/test/oxford5k/jpg/oxford_001125.jpg', '/content/UAP_retrieval/data/test/oxford5k/jpg/pitt_rivers_000164.jpg', '/content/UAP_retrieval/data/test/oxford5k/jpg/cornmarket_000027.jpg', '/content/UAP_retrieval/data/test/oxford5k/jpg/oxford_001747.jpg', '/content/UAP_retrieval/data/test/oxford5k/jpg/trinity_000171.jpg', '/content/UAP_retrieval/data/test/oxford5k/jpg/new_000427.jpg', '/content/UAP_retrieval/data/test/oxford5k/jpg/trinity_000178.jpg', '/content/UAP_retrieval/data/test/oxford5k/jpg/oxford_002054.jpg', '/content/UAP_retrieval/data/test/oxford5k/jpg/magdalen_000739.jpg', '/content/UAP_retrieval/data/test/oxford5k/jpg/oxford_002237.jpg', '/content/UAP_retrieval/data/test/oxford5k/jpg/magdalen_000825.jpg', '/content/UAP_retrieval/data/test/oxford5k/jpg/balliol_000099.jpg', '/content/UAP_retrieval/data/test/oxford5k/jpg/worcester_000056.jpg', '/content/UAP_retrieval/data/test/oxford5k/jpg/oriel_000000.jpg', '/content/UAP_retrieval/data/test/oxford5k/jpg/new_000926.jpg', '/content/UAP_retrieval/data/test/oxford5k/jpg/oriel_000086.jpg', '/content/UAP_retrieval/data/test/oxford5k/jpg/magdalen_000157.jpg', '/content/UAP_retrieval/data/test/oxford5k/jpg/oxford_003312.jpg', '/content/UAP_retrieval/data/test/oxford5k/jpg/balliol_000134.jpg', '/content/UAP_retrieval/data/test/oxford5k/jpg/christ_church_000805.jpg', '/content/UAP_retrieval/data/test/oxford5k/jpg/ashmolean_000060.jpg', '/content/UAP_retrieval/data/test/oxford5k/jpg/oxford_003595.jpg', '/content/UAP_retrieval/data/test/oxford5k/jpg/all_souls_000035.jpg', '/content/UAP_retrieval/data/test/oxford5k/jpg/ashmolean_000218.jpg', '/content/UAP_retrieval/data/test/oxford5k/jpg/radcliffe_camera_000021.jpg', '/content/UAP_retrieval/data/test/oxford5k/jpg/oxford_003303.jpg', '/content/UAP_retrieval/data/test/oxford5k/jpg/christ_church_000123.jpg', '/content/UAP_retrieval/data/test/oxford5k/jpg/jesus_000401.jpg', '/content/UAP_retrieval/data/test/oxford5k/jpg/radcliffe_camera_000417.jpg', '/content/UAP_retrieval/data/test/oxford5k/jpg/oxford_002805.jpg', '/content/UAP_retrieval/data/test/oxford5k/jpg/magdalen_001056.jpg', '/content/UAP_retrieval/data/test/oxford5k/jpg/oxford_002376.jpg', '/content/UAP_retrieval/data/test/oxford5k/jpg/trinity_000172.jpg', '/content/UAP_retrieval/data/test/oxford5k/jpg/magdalen_000986.jpg', '/content/UAP_retrieval/data/test/oxford5k/jpg/balliol_000168.jpg', '/content/UAP_retrieval/data/test/oxford5k/jpg/radcliffe_camera_000481.jpg', '/content/UAP_retrieval/data/test/oxford5k/jpg/pitt_rivers_000135.jpg', '/content/UAP_retrieval/data/test/oxford5k/jpg/oxford_000732.jpg', '/content/UAP_retrieval/data/test/oxford5k/jpg/magdalen_000261.jpg', '/content/UAP_retrieval/data/test/oxford5k/jpg/ashmolean_000290.jpg', '/content/UAP_retrieval/data/test/oxford5k/jpg/radcliffe_camera_000042.jpg', '/content/UAP_retrieval/data/test/oxford5k/jpg/new_000094.jpg', '/content/UAP_retrieval/data/test/oxford5k/jpg/oxford_001902.jpg', '/content/UAP_retrieval/data/test/oxford5k/jpg/christ_church_000064.jpg', '/content/UAP_retrieval/data/test/oxford5k/jpg/radcliffe_camera_000057.jpg', '/content/UAP_retrieval/data/test/oxford5k/jpg/bodleian_000419.jpg', '/content/UAP_retrieval/data/test/oxford5k/jpg/oxford_000580.jpg', '/content/UAP_retrieval/data/test/oxford5k/jpg/jesus_000033.jpg', '/content/UAP_retrieval/data/test/oxford5k/jpg/jesus_000113.jpg', '/content/UAP_retrieval/data/test/oxford5k/jpg/new_000373.jpg', '/content/UAP_retrieval/data/test/oxford5k/jpg/christ_church_000986.jpg', '/content/UAP_retrieval/data/test/oxford5k/jpg/magdalen_000212.jpg', '/content/UAP_retrieval/data/test/oxford5k/jpg/bodleian_000426.jpg', '/content/UAP_retrieval/data/test/oxford5k/jpg/new_000899.jpg', '/content/UAP_retrieval/data/test/oxford5k/jpg/jesus_000372.jpg', '/content/UAP_retrieval/data/test/oxford5k/jpg/oxford_002043.jpg', '/content/UAP_retrieval/data/test/oxford5k/jpg/new_000381.jpg', '/content/UAP_retrieval/data/test/oxford5k/jpg/jesus_000100.jpg', '/content/UAP_retrieval/data/test/oxford5k/jpg/oxford_002575.jpg', '/content/UAP_retrieval/data/test/oxford5k/jpg/oxford_001123.jpg', '/content/UAP_retrieval/data/test/oxford5k/jpg/oxford_001749.jpg', '/content/UAP_retrieval/data/test/oxford5k/jpg/christ_church_001045.jpg', '/content/UAP_retrieval/data/test/oxford5k/jpg/cornmarket_000096.jpg', '/content/UAP_retrieval/data/test/oxford5k/jpg/all_souls_000095.jpg', '/content/UAP_retrieval/data/test/oxford5k/jpg/oxford_000013.jpg', '/content/UAP_retrieval/data/test/oxford5k/jpg/magdalen_000086.jpg', '/content/UAP_retrieval/data/test/oxford5k/jpg/magdalen_000575.jpg', '/content/UAP_retrieval/data/test/oxford5k/jpg/keble_000181.jpg', '/content/UAP_retrieval/data/test/oxford5k/jpg/oxford_000868.jpg', '/content/UAP_retrieval/data/test/oxford5k/jpg/all_souls_000057.jpg', '/content/UAP_retrieval/data/test/oxford5k/jpg/radcliffe_camera_000338.jpg', '/content/UAP_retrieval/data/test/oxford5k/jpg/christ_church_000153.jpg', '/content/UAP_retrieval/data/test/oxford5k/jpg/oxford_000897.jpg', '/content/UAP_retrieval/data/test/oxford5k/jpg/magdalen_000700.jpg', '/content/UAP_retrieval/data/test/oxford5k/jpg/magdalen_001029.jpg', '/content/UAP_retrieval/data/test/oxford5k/jpg/radcliffe_camera_000522.jpg', '/content/UAP_retrieval/data/test/oxford5k/jpg/oxford_002197.jpg', '/content/UAP_retrieval/data/test/oxford5k/jpg/bodleian_000104.jpg', '/content/UAP_retrieval/data/test/oxford5k/jpg/magdalen_000201.jpg', '/content/UAP_retrieval/data/test/oxford5k/jpg/magdalen_000280.jpg', '/content/UAP_retrieval/data/test/oxford5k/jpg/radcliffe_camera_000569.jpg', '/content/UAP_retrieval/data/test/oxford5k/jpg/bodleian_000173.jpg', '/content/UAP_retrieval/data/test/oxford5k/jpg/oriel_000100.jpg', '/content/UAP_retrieval/data/test/oxford5k/jpg/bodleian_000067.jpg', '/content/UAP_retrieval/data/test/oxford5k/jpg/new_000392.jpg', '/content/UAP_retrieval/data/test/oxford5k/jpg/radcliffe_camera_000085.jpg', '/content/UAP_retrieval/data/test/oxford5k/jpg/christ_church_000404.jpg', '/content/UAP_retrieval/data/test/oxford5k/jpg/oxford_001257.jpg', '/content/UAP_retrieval/data/test/oxford5k/jpg/magdalen_000740.jpg', '/content/UAP_retrieval/data/test/oxford5k/jpg/balliol_000205.jpg', '/content/UAP_retrieval/data/test/oxford5k/jpg/magdalen_000380.jpg', '/content/UAP_retrieval/data/test/oxford5k/jpg/trinity_000109.jpg', '/content/UAP_retrieval/data/test/oxford5k/jpg/oxford_000239.jpg', '/content/UAP_retrieval/data/test/oxford5k/jpg/ashmolean_000097.jpg', '/content/UAP_retrieval/data/test/oxford5k/jpg/new_000735.jpg', '/content/UAP_retrieval/data/test/oxford5k/jpg/christ_church_001104.jpg', '/content/UAP_retrieval/data/test/oxford5k/jpg/magdalen_000090.jpg', '/content/UAP_retrieval/data/test/oxford5k/jpg/oxford_001562.jpg', '/content/UAP_retrieval/data/test/oxford5k/jpg/magdalen_000633.jpg', '/content/UAP_retrieval/data/test/oxford5k/jpg/oxford_001087.jpg', '/content/UAP_retrieval/data/test/oxford5k/jpg/jesus_000304.jpg', '/content/UAP_retrieval/data/test/oxford5k/jpg/christ_church_000189.jpg', '/content/UAP_retrieval/data/test/oxford5k/jpg/ashmolean_000212.jpg', '/content/UAP_retrieval/data/test/oxford5k/jpg/christ_church_001047.jpg', '/content/UAP_retrieval/data/test/oxford5k/jpg/magdalen_000319.jpg', '/content/UAP_retrieval/data/test/oxford5k/jpg/christ_church_001027.jpg', '/content/UAP_retrieval/data/test/oxford5k/jpg/oxford_002887.jpg', '/content/UAP_retrieval/data/test/oxford5k/jpg/new_001023.jpg', '/content/UAP_retrieval/data/test/oxford5k/jpg/magdalen_000728.jpg', '/content/UAP_retrieval/data/test/oxford5k/jpg/oxford_000080.jpg', '/content/UAP_retrieval/data/test/oxford5k/jpg/bodleian_000262.jpg', '/content/UAP_retrieval/data/test/oxford5k/jpg/new_000434.jpg', '/content/UAP_retrieval/data/test/oxford5k/jpg/balliol_000204.jpg', '/content/UAP_retrieval/data/test/oxford5k/jpg/magdalen_000753.jpg', '/content/UAP_retrieval/data/test/oxford5k/jpg/radcliffe_camera_000259.jpg', '/content/UAP_retrieval/data/test/oxford5k/jpg/oxford_000978.jpg', '/content/UAP_retrieval/data/test/oxford5k/jpg/oriel_000093.jpg', '/content/UAP_retrieval/data/test/oxford5k/jpg/balliol_000165.jpg', '/content/UAP_retrieval/data/test/oxford5k/jpg/magdalen_000214.jpg', '/content/UAP_retrieval/data/test/oxford5k/jpg/christ_church_000012.jpg', '/content/UAP_retrieval/data/test/oxford5k/jpg/christ_church_000264.jpg', '/content/UAP_retrieval/data/test/oxford5k/jpg/ashmolean_000087.jpg', '/content/UAP_retrieval/data/test/oxford5k/jpg/oriel_000082.jpg', '/content/UAP_retrieval/data/test/oxford5k/jpg/jesus_000297.jpg', '/content/UAP_retrieval/data/test/oxford5k/jpg/ashmolean_000265.jpg', '/content/UAP_retrieval/data/test/oxford5k/jpg/oxford_000170.jpg', '/content/UAP_retrieval/data/test/oxford5k/jpg/oxford_003010.jpg', '/content/UAP_retrieval/data/test/oxford5k/jpg/oxford_003494.jpg', '/content/UAP_retrieval/data/test/oxford5k/jpg/oxford_002912.jpg', '/content/UAP_retrieval/data/test/oxford5k/jpg/oxford_002903.jpg', '/content/UAP_retrieval/data/test/oxford5k/jpg/christ_church_000000.jpg', '/content/UAP_retrieval/data/test/oxford5k/jpg/radcliffe_camera_000255.jpg', '/content/UAP_retrieval/data/test/oxford5k/jpg/oxford_000546.jpg', '/content/UAP_retrieval/data/test/oxford5k/jpg/balliol_000085.jpg', '/content/UAP_retrieval/data/test/oxford5k/jpg/all_souls_000070.jpg', '/content/UAP_retrieval/data/test/oxford5k/jpg/magdalen_000670.jpg', '/content/UAP_retrieval/data/test/oxford5k/jpg/magdalen_000710.jpg', '/content/UAP_retrieval/data/test/oxford5k/jpg/new_000705.jpg', '/content/UAP_retrieval/data/test/oxford5k/jpg/magdalen_000220.jpg', '/content/UAP_retrieval/data/test/oxford5k/jpg/oxford_000693.jpg', '/content/UAP_retrieval/data/test/oxford5k/jpg/oxford_002511.jpg', '/content/UAP_retrieval/data/test/oxford5k/jpg/christ_church_000831.jpg', '/content/UAP_retrieval/data/test/oxford5k/jpg/magdalen_000669.jpg', '/content/UAP_retrieval/data/test/oxford5k/jpg/trinity_000316.jpg', '/content/UAP_retrieval/data/test/oxford5k/jpg/oxford_002895.jpg', '/content/UAP_retrieval/data/test/oxford5k/jpg/christ_church_000077.jpg', '/content/UAP_retrieval/data/test/oxford5k/jpg/oxford_002713.jpg', '/content/UAP_retrieval/data/test/oxford5k/jpg/bodleian_000460.jpg', '/content/UAP_retrieval/data/test/oxford5k/jpg/oxford_000769.jpg', '/content/UAP_retrieval/data/test/oxford5k/jpg/cornmarket_000073.jpg', '/content/UAP_retrieval/data/test/oxford5k/jpg/oxford_001607.jpg', '/content/UAP_retrieval/data/test/oxford5k/jpg/oxford_003021.jpg', '/content/UAP_retrieval/data/test/oxford5k/jpg/radcliffe_camera_000147.jpg', '/content/UAP_retrieval/data/test/oxford5k/jpg/keble_000231.jpg', '/content/UAP_retrieval/data/test/oxford5k/jpg/cornmarket_000098.jpg', '/content/UAP_retrieval/data/test/oxford5k/jpg/oxford_000174.jpg', '/content/UAP_retrieval/data/test/oxford5k/jpg/magdalen_000675.jpg', '/content/UAP_retrieval/data/test/oxford5k/jpg/magdalen_000360.jpg', '/content/UAP_retrieval/data/test/oxford5k/jpg/oxford_001903.jpg', '/content/UAP_retrieval/data/test/oxford5k/jpg/new_000287.jpg', '/content/UAP_retrieval/data/test/oxford5k/jpg/magdalen_000613.jpg', '/content/UAP_retrieval/data/test/oxford5k/jpg/oxford_000873.jpg', '/content/UAP_retrieval/data/test/oxford5k/jpg/ashmolean_000252.jpg', '/content/UAP_retrieval/data/test/oxford5k/jpg/pitt_rivers_000030.jpg', '/content/UAP_retrieval/data/test/oxford5k/jpg/oxford_000712.jpg', '/content/UAP_retrieval/data/test/oxford5k/jpg/oriel_000004.jpg', '/content/UAP_retrieval/data/test/oxford5k/jpg/ashmolean_000061.jpg', '/content/UAP_retrieval/data/test/oxford5k/jpg/christ_church_000220.jpg', '/content/UAP_retrieval/data/test/oxford5k/jpg/pitt_rivers_000028.jpg', '/content/UAP_retrieval/data/test/oxford5k/jpg/pitt_rivers_000157.jpg', '/content/UAP_retrieval/data/test/oxford5k/jpg/pitt_rivers_000131.jpg', '/content/UAP_retrieval/data/test/oxford5k/jpg/bodleian_000168.jpg', '/content/UAP_retrieval/data/test/oxford5k/jpg/oxford_001447.jpg', '/content/UAP_retrieval/data/test/oxford5k/jpg/oxford_002166.jpg', '/content/UAP_retrieval/data/test/oxford5k/jpg/magdalen_000609.jpg', '/content/UAP_retrieval/data/test/oxford5k/jpg/pitt_rivers_000044.jpg', '/content/UAP_retrieval/data/test/oxford5k/jpg/magdalen_000484.jpg', '/content/UAP_retrieval/data/test/oxford5k/jpg/oxford_003587.jpg', '/content/UAP_retrieval/data/test/oxford5k/jpg/oxford_002954.jpg', '/content/UAP_retrieval/data/test/oxford5k/jpg/radcliffe_camera_000475.jpg', '/content/UAP_retrieval/data/test/oxford5k/jpg/oxford_003291.jpg', '/content/UAP_retrieval/data/test/oxford5k/jpg/christ_church_001009.jpg', '/content/UAP_retrieval/data/test/oxford5k/jpg/keble_000105.jpg', '/content/UAP_retrieval/data/test/oxford5k/jpg/trinity_000038.jpg', '/content/UAP_retrieval/data/test/oxford5k/jpg/oxford_001559.jpg', '/content/UAP_retrieval/data/test/oxford5k/jpg/christ_church_000306.jpg', '/content/UAP_retrieval/data/test/oxford5k/jpg/all_souls_000131.jpg', '/content/UAP_retrieval/data/test/oxford5k/jpg/trinity_000297.jpg', '/content/UAP_retrieval/data/test/oxford5k/jpg/oxford_000481.jpg', '/content/UAP_retrieval/data/test/oxford5k/jpg/christ_church_000871.jpg', '/content/UAP_retrieval/data/test/oxford5k/jpg/balliol_000181.jpg', '/content/UAP_retrieval/data/test/oxford5k/jpg/hertford_000111.jpg', '/content/UAP_retrieval/data/test/oxford5k/jpg/magdalen_000093.jpg', '/content/UAP_retrieval/data/test/oxford5k/jpg/oxford_001060.jpg', '/content/UAP_retrieval/data/test/oxford5k/jpg/cornmarket_000004.jpg', '/content/UAP_retrieval/data/test/oxford5k/jpg/radcliffe_camera_000404.jpg', '/content/UAP_retrieval/data/test/oxford5k/jpg/new_000829.jpg', '/content/UAP_retrieval/data/test/oxford5k/jpg/trinity_000063.jpg', '/content/UAP_retrieval/data/test/oxford5k/jpg/keble_000227.jpg', '/content/UAP_retrieval/data/test/oxford5k/jpg/oxford_002016.jpg', '/content/UAP_retrieval/data/test/oxford5k/jpg/christ_church_000314.jpg', '/content/UAP_retrieval/data/test/oxford5k/jpg/magdalen_001019.jpg', '/content/UAP_retrieval/data/test/oxford5k/jpg/new_000501.jpg', '/content/UAP_retrieval/data/test/oxford5k/jpg/cornmarket_000136.jpg', '/content/UAP_retrieval/data/test/oxford5k/jpg/radcliffe_camera_000542.jpg', '/content/UAP_retrieval/data/test/oxford5k/jpg/christ_church_000753.jpg', '/content/UAP_retrieval/data/test/oxford5k/jpg/oxford_002953.jpg', '/content/UAP_retrieval/data/test/oxford5k/jpg/bodleian_000337.jpg', '/content/UAP_retrieval/data/test/oxford5k/jpg/magdalen_000252.jpg', '/content/UAP_retrieval/data/test/oxford5k/jpg/oxford_003078.jpg', '/content/UAP_retrieval/data/test/oxford5k/jpg/oriel_000109.jpg', '/content/UAP_retrieval/data/test/oxford5k/jpg/bodleian_000387.jpg', '/content/UAP_retrieval/data/test/oxford5k/jpg/trinity_000113.jpg', '/content/UAP_retrieval/data/test/oxford5k/jpg/worcester_000054.jpg', '/content/UAP_retrieval/data/test/oxford5k/jpg/balliol_000096.jpg', '/content/UAP_retrieval/data/test/oxford5k/jpg/christ_church_000896.jpg', '/content/UAP_retrieval/data/test/oxford5k/jpg/bodleian_000190.jpg', '/content/UAP_retrieval/data/test/oxford5k/jpg/magdalen_000340.jpg', '/content/UAP_retrieval/data/test/oxford5k/jpg/oxford_000030.jpg', '/content/UAP_retrieval/data/test/oxford5k/jpg/christ_church_000903.jpg', '/content/UAP_retrieval/data/test/oxford5k/jpg/oriel_000119.jpg', '/content/UAP_retrieval/data/test/oxford5k/jpg/radcliffe_camera_000029.jpg', '/content/UAP_retrieval/data/test/oxford5k/jpg/christ_church_000724.jpg', '/content/UAP_retrieval/data/test/oxford5k/jpg/radcliffe_camera_000307.jpg', '/content/UAP_retrieval/data/test/oxford5k/jpg/oxford_000129.jpg', '/content/UAP_retrieval/data/test/oxford5k/jpg/radcliffe_camera_000309.jpg', '/content/UAP_retrieval/data/test/oxford5k/jpg/magdalen_000383.jpg', '/content/UAP_retrieval/data/test/oxford5k/jpg/oxford_003273.jpg', '/content/UAP_retrieval/data/test/oxford5k/jpg/new_000638.jpg', '/content/UAP_retrieval/data/test/oxford5k/jpg/magdalen_000238.jpg', '/content/UAP_retrieval/data/test/oxford5k/jpg/oxford_000569.jpg', '/content/UAP_retrieval/data/test/oxford5k/jpg/cornmarket_000087.jpg', '/content/UAP_retrieval/data/test/oxford5k/jpg/magdalen_001002.jpg', '/content/UAP_retrieval/data/test/oxford5k/jpg/christ_church_000078.jpg', '/content/UAP_retrieval/data/test/oxford5k/jpg/christ_church_000149.jpg', '/content/UAP_retrieval/data/test/oxford5k/jpg/magdalen_000544.jpg', '/content/UAP_retrieval/data/test/oxford5k/jpg/oxford_002686.jpg', '/content/UAP_retrieval/data/test/oxford5k/jpg/new_000806.jpg', '/content/UAP_retrieval/data/test/oxford5k/jpg/christ_church_000326.jpg', '/content/UAP_retrieval/data/test/oxford5k/jpg/magdalen_000200.jpg', '/content/UAP_retrieval/data/test/oxford5k/jpg/christ_church_000664.jpg', '/content/UAP_retrieval/data/test/oxford5k/jpg/balliol_000115.jpg', '/content/UAP_retrieval/data/test/oxford5k/jpg/oxford_003500.jpg', '/content/UAP_retrieval/data/test/oxford5k/jpg/oxford_000480.jpg', '/content/UAP_retrieval/data/test/oxford5k/jpg/ashmolean_000337.jpg', '/content/UAP_retrieval/data/test/oxford5k/jpg/oxford_002461.jpg', '/content/UAP_retrieval/data/test/oxford5k/jpg/new_000990.jpg', '/content/UAP_retrieval/data/test/oxford5k/jpg/oxford_001802.jpg', '/content/UAP_retrieval/data/test/oxford5k/jpg/balliol_000014.jpg', '/content/UAP_retrieval/data/test/oxford5k/jpg/christ_church_000058.jpg', '/content/UAP_retrieval/data/test/oxford5k/jpg/all_souls_000161.jpg', '/content/UAP_retrieval/data/test/oxford5k/jpg/bodleian_000410.jpg', '/content/UAP_retrieval/data/test/oxford5k/jpg/oxford_001322.jpg', '/content/UAP_retrieval/data/test/oxford5k/jpg/oxford_001804.jpg', '/content/UAP_retrieval/data/test/oxford5k/jpg/oxford_003594.jpg', '/content/UAP_retrieval/data/test/oxford5k/jpg/all_souls_000144.jpg', '/content/UAP_retrieval/data/test/oxford5k/jpg/christ_church_000679.jpg', '/content/UAP_retrieval/data/test/oxford5k/jpg/new_000102.jpg', '/content/UAP_retrieval/data/test/oxford5k/jpg/jesus_000276.jpg', '/content/UAP_retrieval/data/test/oxford5k/jpg/radcliffe_camera_000220.jpg', '/content/UAP_retrieval/data/test/oxford5k/jpg/trinity_000177.jpg', '/content/UAP_retrieval/data/test/oxford5k/jpg/oxford_001499.jpg', '/content/UAP_retrieval/data/test/oxford5k/jpg/jesus_000194.jpg', '/content/UAP_retrieval/data/test/oxford5k/jpg/jesus_000320.jpg', '/content/UAP_retrieval/data/test/oxford5k/jpg/radcliffe_camera_000302.jpg', '/content/UAP_retrieval/data/test/oxford5k/jpg/magdalen_000134.jpg', '/content/UAP_retrieval/data/test/oxford5k/jpg/all_souls_000193.jpg', '/content/UAP_retrieval/data/test/oxford5k/jpg/balliol_000105.jpg', '/content/UAP_retrieval/data/test/oxford5k/jpg/oxford_003467.jpg', '/content/UAP_retrieval/data/test/oxford5k/jpg/trinity_000330.jpg', '/content/UAP_retrieval/data/test/oxford5k/jpg/new_000239.jpg', '/content/UAP_retrieval/data/test/oxford5k/jpg/oxford_003430.jpg', '/content/UAP_retrieval/data/test/oxford5k/jpg/jesus_000323.jpg', '/content/UAP_retrieval/data/test/oxford5k/jpg/oxford_000573.jpg', '/content/UAP_retrieval/data/test/oxford5k/jpg/christ_church_000159.jpg', '/content/UAP_retrieval/data/test/oxford5k/jpg/magdalen_000650.jpg', '/content/UAP_retrieval/data/test/oxford5k/jpg/oxford_002595.jpg', '/content/UAP_retrieval/data/test/oxford5k/jpg/oxford_000900.jpg', '/content/UAP_retrieval/data/test/oxford5k/jpg/oxford_003386.jpg', '/content/UAP_retrieval/data/test/oxford5k/jpg/oxford_003532.jpg', '/content/UAP_retrieval/data/test/oxford5k/jpg/bodleian_000244.jpg', '/content/UAP_retrieval/data/test/oxford5k/jpg/cornmarket_000140.jpg', '/content/UAP_retrieval/data/test/oxford5k/jpg/ashmolean_000289.jpg', '/content/UAP_retrieval/data/test/oxford5k/jpg/worcester_000145.jpg', '/content/UAP_retrieval/data/test/oxford5k/jpg/christ_church_000069.jpg', '/content/UAP_retrieval/data/test/oxford5k/jpg/all_souls_000209.jpg', '/content/UAP_retrieval/data/test/oxford5k/jpg/christ_church_001033.jpg', '/content/UAP_retrieval/data/test/oxford5k/jpg/christ_church_000992.jpg', '/content/UAP_retrieval/data/test/oxford5k/jpg/oxford_001935.jpg', '/content/UAP_retrieval/data/test/oxford5k/jpg/bodleian_000340.jpg', '/content/UAP_retrieval/data/test/oxford5k/jpg/christ_church_000303.jpg', '/content/UAP_retrieval/data/test/oxford5k/jpg/radcliffe_camera_000406.jpg', '/content/UAP_retrieval/data/test/oxford5k/jpg/keble_000016.jpg', '/content/UAP_retrieval/data/test/oxford5k/jpg/oriel_000080.jpg', '/content/UAP_retrieval/data/test/oxford5k/jpg/worcester_000176.jpg', '/content/UAP_retrieval/data/test/oxford5k/jpg/all_souls_000066.jpg', '/content/UAP_retrieval/data/test/oxford5k/jpg/oxford_002552.jpg', '/content/UAP_retrieval/data/test/oxford5k/jpg/bodleian_000465.jpg', '/content/UAP_retrieval/data/test/oxford5k/jpg/new_000299.jpg', '/content/UAP_retrieval/data/test/oxford5k/jpg/oxford_001264.jpg', '/content/UAP_retrieval/data/test/oxford5k/jpg/keble_000113.jpg', '/content/UAP_retrieval/data/test/oxford5k/jpg/ashmolean_000236.jpg', '/content/UAP_retrieval/data/test/oxford5k/jpg/christ_church_000767.jpg', '/content/UAP_retrieval/data/test/oxford5k/jpg/oxford_001969.jpg', '/content/UAP_retrieval/data/test/oxford5k/jpg/bodleian_000382.jpg', '/content/UAP_retrieval/data/test/oxford5k/jpg/magdalen_000592.jpg', '/content/UAP_retrieval/data/test/oxford5k/jpg/magdalen_000295.jpg', '/content/UAP_retrieval/data/test/oxford5k/jpg/radcliffe_camera_000064.jpg', '/content/UAP_retrieval/data/test/oxford5k/jpg/magdalen_000892.jpg', '/content/UAP_retrieval/data/test/oxford5k/jpg/christ_church_000345.jpg', '/content/UAP_retrieval/data/test/oxford5k/jpg/keble_000253.jpg', '/content/UAP_retrieval/data/test/oxford5k/jpg/radcliffe_camera_000349.jpg', '/content/UAP_retrieval/data/test/oxford5k/jpg/oxford_000633.jpg', '/content/UAP_retrieval/data/test/oxford5k/jpg/jesus_000123.jpg', '/content/UAP_retrieval/data/test/oxford5k/jpg/oxford_000158.jpg', '/content/UAP_retrieval/data/test/oxford5k/jpg/ashmolean_000274.jpg', '/content/UAP_retrieval/data/test/oxford5k/jpg/new_000950.jpg', '/content/UAP_retrieval/data/test/oxford5k/jpg/new_000667.jpg', '/content/UAP_retrieval/data/test/oxford5k/jpg/oxford_001056.jpg', '/content/UAP_retrieval/data/test/oxford5k/jpg/oriel_000048.jpg', '/content/UAP_retrieval/data/test/oxford5k/jpg/magdalen_001118.jpg', '/content/UAP_retrieval/data/test/oxford5k/jpg/oxford_002949.jpg', '/content/UAP_retrieval/data/test/oxford5k/jpg/oxford_002771.jpg', '/content/UAP_retrieval/data/test/oxford5k/jpg/jesus_000324.jpg', '/content/UAP_retrieval/data/test/oxford5k/jpg/magdalen_000482.jpg', '/content/UAP_retrieval/data/test/oxford5k/jpg/oxford_003579.jpg', '/content/UAP_retrieval/data/test/oxford5k/jpg/oxford_003064.jpg', '/content/UAP_retrieval/data/test/oxford5k/jpg/oxford_002476.jpg', '/content/UAP_retrieval/data/test/oxford5k/jpg/oxford_000586.jpg', '/content/UAP_retrieval/data/test/oxford5k/jpg/oxford_001106.jpg', '/content/UAP_retrieval/data/test/oxford5k/jpg/worcester_000132.jpg', '/content/UAP_retrieval/data/test/oxford5k/jpg/oxford_001955.jpg', '/content/UAP_retrieval/data/test/oxford5k/jpg/oxford_001144.jpg', '/content/UAP_retrieval/data/test/oxford5k/jpg/oxford_000155.jpg', '/content/UAP_retrieval/data/test/oxford5k/jpg/trinity_000344.jpg', '/content/UAP_retrieval/data/test/oxford5k/jpg/oxford_003357.jpg', '/content/UAP_retrieval/data/test/oxford5k/jpg/oxford_003149.jpg', '/content/UAP_retrieval/data/test/oxford5k/jpg/magdalen_000221.jpg', '/content/UAP_retrieval/data/test/oxford5k/jpg/oxford_000657.jpg', '/content/UAP_retrieval/data/test/oxford5k/jpg/oxford_000246.jpg', '/content/UAP_retrieval/data/test/oxford5k/jpg/oriel_000051.jpg', '/content/UAP_retrieval/data/test/oxford5k/jpg/oxford_003325.jpg', '/content/UAP_retrieval/data/test/oxford5k/jpg/oxford_003112.jpg', '/content/UAP_retrieval/data/test/oxford5k/jpg/christ_church_000343.jpg', '/content/UAP_retrieval/data/test/oxford5k/jpg/pitt_rivers_000055.jpg', '/content/UAP_retrieval/data/test/oxford5k/jpg/trinity_000025.jpg', '/content/UAP_retrieval/data/test/oxford5k/jpg/all_souls_000080.jpg', '/content/UAP_retrieval/data/test/oxford5k/jpg/oxford_002837.jpg', '/content/UAP_retrieval/data/test/oxford5k/jpg/oxford_001082.jpg', '/content/UAP_retrieval/data/test/oxford5k/jpg/oxford_002302.jpg', '/content/UAP_retrieval/data/test/oxford5k/jpg/christ_church_000454.jpg', '/content/UAP_retrieval/data/test/oxford5k/jpg/magdalen_000171.jpg', '/content/UAP_retrieval/data/test/oxford5k/jpg/keble_000137.jpg', '/content/UAP_retrieval/data/test/oxford5k/jpg/oxford_001892.jpg', '/content/UAP_retrieval/data/test/oxford5k/jpg/balliol_000161.jpg', '/content/UAP_retrieval/data/test/oxford5k/jpg/magdalen_000310.jpg', '/content/UAP_retrieval/data/test/oxford5k/jpg/radcliffe_camera_000266.jpg', '/content/UAP_retrieval/data/test/oxford5k/jpg/oxford_002301.jpg', '/content/UAP_retrieval/data/test/oxford5k/jpg/oxford_003012.jpg', '/content/UAP_retrieval/data/test/oxford5k/jpg/oxford_001828.jpg', '/content/UAP_retrieval/data/test/oxford5k/jpg/oxford_002326.jpg', '/content/UAP_retrieval/data/test/oxford5k/jpg/oxford_001564.jpg', '/content/UAP_retrieval/data/test/oxford5k/jpg/oxford_003204.jpg', '/content/UAP_retrieval/data/test/oxford5k/jpg/magdalen_001153.jpg', '/content/UAP_retrieval/data/test/oxford5k/jpg/oxford_001520.jpg', '/content/UAP_retrieval/data/test/oxford5k/jpg/trinity_000002.jpg', '/content/UAP_retrieval/data/test/oxford5k/jpg/oxford_000032.jpg', '/content/UAP_retrieval/data/test/oxford5k/jpg/bodleian_000102.jpg', '/content/UAP_retrieval/data/test/oxford5k/jpg/new_001007.jpg', '/content/UAP_retrieval/data/test/oxford5k/jpg/worcester_000131.jpg', '/content/UAP_retrieval/data/test/oxford5k/jpg/ashmolean_000099.jpg', '/content/UAP_retrieval/data/test/oxford5k/jpg/trinity_000339.jpg', '/content/UAP_retrieval/data/test/oxford5k/jpg/oxford_002890.jpg', '/content/UAP_retrieval/data/test/oxford5k/jpg/keble_000201.jpg', '/content/UAP_retrieval/data/test/oxford5k/jpg/magdalen_000277.jpg', '/content/UAP_retrieval/data/test/oxford5k/jpg/oxford_002730.jpg', '/content/UAP_retrieval/data/test/oxford5k/jpg/ashmolean_000225.jpg', '/content/UAP_retrieval/data/test/oxford5k/jpg/new_000454.jpg', '/content/UAP_retrieval/data/test/oxford5k/jpg/worcester_000063.jpg', '/content/UAP_retrieval/data/test/oxford5k/jpg/new_000790.jpg', '/content/UAP_retrieval/data/test/oxford5k/jpg/ashmolean_000178.jpg', '/content/UAP_retrieval/data/test/oxford5k/jpg/radcliffe_camera_000450.jpg', '/content/UAP_retrieval/data/test/oxford5k/jpg/trinity_000313.jpg', '/content/UAP_retrieval/data/test/oxford5k/jpg/new_000336.jpg', '/content/UAP_retrieval/data/test/oxford5k/jpg/oxford_003292.jpg', '/content/UAP_retrieval/data/test/oxford5k/jpg/bodleian_000107.jpg', '/content/UAP_retrieval/data/test/oxford5k/jpg/trinity_000206.jpg', '/content/UAP_retrieval/data/test/oxford5k/jpg/trinity_000082.jpg', '/content/UAP_retrieval/data/test/oxford5k/jpg/oxford_003624.jpg', '/content/UAP_retrieval/data/test/oxford5k/jpg/new_000282.jpg', '/content/UAP_retrieval/data/test/oxford5k/jpg/christ_church_000806.jpg', '/content/UAP_retrieval/data/test/oxford5k/jpg/oxford_001536.jpg', '/content/UAP_retrieval/data/test/oxford5k/jpg/christ_church_000167.jpg', '/content/UAP_retrieval/data/test/oxford5k/jpg/balliol_000037.jpg', '/content/UAP_retrieval/data/test/oxford5k/jpg/christ_church_001018.jpg', '/content/UAP_retrieval/data/test/oxford5k/jpg/bodleian_000040.jpg', '/content/UAP_retrieval/data/test/oxford5k/jpg/trinity_000291.jpg', '/content/UAP_retrieval/data/test/oxford5k/jpg/keble_000026.jpg', '/content/UAP_retrieval/data/test/oxford5k/jpg/bodleian_000401.jpg', '/content/UAP_retrieval/data/test/oxford5k/jpg/oxford_000460.jpg', '/content/UAP_retrieval/data/test/oxford5k/jpg/trinity_000140.jpg', '/content/UAP_retrieval/data/test/oxford5k/jpg/keble_000173.jpg', '/content/UAP_retrieval/data/test/oxford5k/jpg/trinity_000124.jpg', '/content/UAP_retrieval/data/test/oxford5k/jpg/radcliffe_camera_000184.jpg', '/content/UAP_retrieval/data/test/oxford5k/jpg/magdalen_000426.jpg', '/content/UAP_retrieval/data/test/oxford5k/jpg/magdalen_000217.jpg', '/content/UAP_retrieval/data/test/oxford5k/jpg/oxford_003073.jpg', '/content/UAP_retrieval/data/test/oxford5k/jpg/radcliffe_camera_000228.jpg', '/content/UAP_retrieval/data/test/oxford5k/jpg/radcliffe_camera_000377.jpg', '/content/UAP_retrieval/data/test/oxford5k/jpg/bodleian_000377.jpg', '/content/UAP_retrieval/data/test/oxford5k/jpg/oxford_002471.jpg', '/content/UAP_retrieval/data/test/oxford5k/jpg/oxford_000081.jpg', '/content/UAP_retrieval/data/test/oxford5k/jpg/trinity_000166.jpg', '/content/UAP_retrieval/data/test/oxford5k/jpg/oxford_002272.jpg', '/content/UAP_retrieval/data/test/oxford5k/jpg/ashmolean_000028.jpg', '/content/UAP_retrieval/data/test/oxford5k/jpg/new_000029.jpg', '/content/UAP_retrieval/data/test/oxford5k/jpg/oxford_003559.jpg', '/content/UAP_retrieval/data/test/oxford5k/jpg/new_000815.jpg', '/content/UAP_retrieval/data/test/oxford5k/jpg/bodleian_000434.jpg', '/content/UAP_retrieval/data/test/oxford5k/jpg/worcester_000173.jpg', '/content/UAP_retrieval/data/test/oxford5k/jpg/oriel_000020.jpg', '/content/UAP_retrieval/data/test/oxford5k/jpg/oriel_000076.jpg', '/content/UAP_retrieval/data/test/oxford5k/jpg/oxford_001638.jpg', '/content/UAP_retrieval/data/test/oxford5k/jpg/oxford_003290.jpg', '/content/UAP_retrieval/data/test/oxford5k/jpg/bodleian_000338.jpg', '/content/UAP_retrieval/data/test/oxford5k/jpg/pitt_rivers_000103.jpg', '/content/UAP_retrieval/data/test/oxford5k/jpg/oxford_003058.jpg', '/content/UAP_retrieval/data/test/oxford5k/jpg/oxford_001294.jpg', '/content/UAP_retrieval/data/test/oxford5k/jpg/ashmolean_000155.jpg', '/content/UAP_retrieval/data/test/oxford5k/jpg/jesus_000302.jpg', '/content/UAP_retrieval/data/test/oxford5k/jpg/new_000516.jpg', '/content/UAP_retrieval/data/test/oxford5k/jpg/oxford_001233.jpg', '/content/UAP_retrieval/data/test/oxford5k/jpg/bodleian_000354.jpg', '/content/UAP_retrieval/data/test/oxford5k/jpg/christ_church_000410.jpg', '/content/UAP_retrieval/data/test/oxford5k/jpg/oxford_001913.jpg', '/content/UAP_retrieval/data/test/oxford5k/jpg/christ_church_000398.jpg', '/content/UAP_retrieval/data/test/oxford5k/jpg/cornmarket_000118.jpg', '/content/UAP_retrieval/data/test/oxford5k/jpg/magdalen_000638.jpg', '/content/UAP_retrieval/data/test/oxford5k/jpg/oriel_000103.jpg', '/content/UAP_retrieval/data/test/oxford5k/jpg/magdalen_000285.jpg', '/content/UAP_retrieval/data/test/oxford5k/jpg/oxford_002417.jpg', '/content/UAP_retrieval/data/test/oxford5k/jpg/oxford_000962.jpg', '/content/UAP_retrieval/data/test/oxford5k/jpg/oxford_001263.jpg', '/content/UAP_retrieval/data/test/oxford5k/jpg/new_000930.jpg', '/content/UAP_retrieval/data/test/oxford5k/jpg/trinity_000120.jpg', '/content/UAP_retrieval/data/test/oxford5k/jpg/magdalen_000479.jpg', '/content/UAP_retrieval/data/test/oxford5k/jpg/oriel_000016.jpg', '/content/UAP_retrieval/data/test/oxford5k/jpg/keble_000186.jpg', '/content/UAP_retrieval/data/test/oxford5k/jpg/magdalen_000712.jpg', '/content/UAP_retrieval/data/test/oxford5k/jpg/jesus_000400.jpg', '/content/UAP_retrieval/data/test/oxford5k/jpg/oxford_000356.jpg', '/content/UAP_retrieval/data/test/oxford5k/jpg/christ_church_000824.jpg', '/content/UAP_retrieval/data/test/oxford5k/jpg/oxford_002955.jpg', '/content/UAP_retrieval/data/test/oxford5k/jpg/magdalen_000167.jpg', '/content/UAP_retrieval/data/test/oxford5k/jpg/new_000671.jpg', '/content/UAP_retrieval/data/test/oxford5k/jpg/magdalen_001146.jpg', '/content/UAP_retrieval/data/test/oxford5k/jpg/keble_000064.jpg', '/content/UAP_retrieval/data/test/oxford5k/jpg/oxford_002682.jpg', '/content/UAP_retrieval/data/test/oxford5k/jpg/magdalen_000009.jpg', '/content/UAP_retrieval/data/test/oxford5k/jpg/oxford_002679.jpg', '/content/UAP_retrieval/data/test/oxford5k/jpg/oxford_003187.jpg', '/content/UAP_retrieval/data/test/oxford5k/jpg/oxford_002037.jpg', '/content/UAP_retrieval/data/test/oxford5k/jpg/radcliffe_camera_000331.jpg', '/content/UAP_retrieval/data/test/oxford5k/jpg/oriel_000073.jpg', '/content/UAP_retrieval/data/test/oxford5k/jpg/oxford_001863.jpg', '/content/UAP_retrieval/data/test/oxford5k/jpg/balliol_000021.jpg', '/content/UAP_retrieval/data/test/oxford5k/jpg/keble_000143.jpg', '/content/UAP_retrieval/data/test/oxford5k/jpg/christ_church_000088.jpg', '/content/UAP_retrieval/data/test/oxford5k/jpg/oriel_000092.jpg', '/content/UAP_retrieval/data/test/oxford5k/jpg/magdalen_000152.jpg', '/content/UAP_retrieval/data/test/oxford5k/jpg/oxford_003161.jpg', '/content/UAP_retrieval/data/test/oxford5k/jpg/oxford_000405.jpg', '/content/UAP_retrieval/data/test/oxford5k/jpg/new_000107.jpg', '/content/UAP_retrieval/data/test/oxford5k/jpg/cornmarket_000132.jpg', '/content/UAP_retrieval/data/test/oxford5k/jpg/magdalen_000510.jpg', '/content/UAP_retrieval/data/test/oxford5k/jpg/bodleian_000446.jpg', '/content/UAP_retrieval/data/test/oxford5k/jpg/ashmolean_000350.jpg', '/content/UAP_retrieval/data/test/oxford5k/jpg/oxford_003353.jpg', '/content/UAP_retrieval/data/test/oxford5k/jpg/oxford_000166.jpg', '/content/UAP_retrieval/data/test/oxford5k/jpg/christ_church_000755.jpg', '/content/UAP_retrieval/data/test/oxford5k/jpg/new_001076.jpg', '/content/UAP_retrieval/data/test/oxford5k/jpg/christ_church_000685.jpg', '/content/UAP_retrieval/data/test/oxford5k/jpg/radcliffe_camera_000128.jpg', '/content/UAP_retrieval/data/test/oxford5k/jpg/trinity_000355.jpg', '/content/UAP_retrieval/data/test/oxford5k/jpg/oxford_000137.jpg', '/content/UAP_retrieval/data/test/oxford5k/jpg/ashmolean_000010.jpg', '/content/UAP_retrieval/data/test/oxford5k/jpg/oxford_003615.jpg', '/content/UAP_retrieval/data/test/oxford5k/jpg/magdalen_000259.jpg', '/content/UAP_retrieval/data/test/oxford5k/jpg/all_souls_000117.jpg', '/content/UAP_retrieval/data/test/oxford5k/jpg/christ_church_000549.jpg', '/content/UAP_retrieval/data/test/oxford5k/jpg/magdalen_000283.jpg', '/content/UAP_retrieval/data/test/oxford5k/jpg/oxford_000910.jpg', '/content/UAP_retrieval/data/test/oxford5k/jpg/balliol_000025.jpg', '/content/UAP_retrieval/data/test/oxford5k/jpg/new_000733.jpg', '/content/UAP_retrieval/data/test/oxford5k/jpg/new_001025.jpg', '/content/UAP_retrieval/data/test/oxford5k/jpg/christ_church_000596.jpg', '/content/UAP_retrieval/data/test/oxford5k/jpg/balliol_000137.jpg', '/content/UAP_retrieval/data/test/oxford5k/jpg/ashmolean_000276.jpg', '/content/UAP_retrieval/data/test/oxford5k/jpg/keble_000103.jpg', '/content/UAP_retrieval/data/test/oxford5k/jpg/balliol_000031.jpg', '/content/UAP_retrieval/data/test/oxford5k/jpg/oxford_003202.jpg', '/content/UAP_retrieval/data/test/oxford5k/jpg/pitt_rivers_000118.jpg', '/content/UAP_retrieval/data/test/oxford5k/jpg/oxford_002704.jpg', '/content/UAP_retrieval/data/test/oxford5k/jpg/oxford_001350.jpg', '/content/UAP_retrieval/data/test/oxford5k/jpg/trinity_000098.jpg', '/content/UAP_retrieval/data/test/oxford5k/jpg/oriel_000094.jpg', '/content/UAP_retrieval/data/test/oxford5k/jpg/oxford_003038.jpg', '/content/UAP_retrieval/data/test/oxford5k/jpg/trinity_000210.jpg', '/content/UAP_retrieval/data/test/oxford5k/jpg/oxford_000180.jpg', '/content/UAP_retrieval/data/test/oxford5k/jpg/new_000996.jpg', '/content/UAP_retrieval/data/test/oxford5k/jpg/oxford_002059.jpg', '/content/UAP_retrieval/data/test/oxford5k/jpg/ashmolean_000198.jpg', '/content/UAP_retrieval/data/test/oxford5k/jpg/worcester_000143.jpg', '/content/UAP_retrieval/data/test/oxford5k/jpg/bodleian_000437.jpg', '/content/UAP_retrieval/data/test/oxford5k/jpg/oxford_003529.jpg', '/content/UAP_retrieval/data/test/oxford5k/jpg/christ_church_000798.jpg', '/content/UAP_retrieval/data/test/oxford5k/jpg/radcliffe_camera_000052.jpg', '/content/UAP_retrieval/data/test/oxford5k/jpg/oxford_003521.jpg', '/content/UAP_retrieval/data/test/oxford5k/jpg/christ_church_000714.jpg', '/content/UAP_retrieval/data/test/oxford5k/jpg/ashmolean_000266.jpg', '/content/UAP_retrieval/data/test/oxford5k/jpg/trinity_000009.jpg', '/content/UAP_retrieval/data/test/oxford5k/jpg/oxford_000896.jpg', '/content/UAP_retrieval/data/test/oxford5k/jpg/oxford_001473.jpg', '/content/UAP_retrieval/data/test/oxford5k/jpg/all_souls_000099.jpg', '/content/UAP_retrieval/data/test/oxford5k/jpg/ashmolean_000324.jpg', '/content/UAP_retrieval/data/test/oxford5k/jpg/christ_church_000984.jpg', '/content/UAP_retrieval/data/test/oxford5k/jpg/magdalen_000037.jpg', '/content/UAP_retrieval/data/test/oxford5k/jpg/new_001012.jpg', '/content/UAP_retrieval/data/test/oxford5k/jpg/christ_church_000221.jpg', '/content/UAP_retrieval/data/test/oxford5k/jpg/christ_church_000673.jpg', '/content/UAP_retrieval/data/test/oxford5k/jpg/pitt_rivers_000036.jpg', '/content/UAP_retrieval/data/test/oxford5k/jpg/keble_000031.jpg', '/content/UAP_retrieval/data/test/oxford5k/jpg/oriel_000049.jpg', '/content/UAP_retrieval/data/test/oxford5k/jpg/radcliffe_camera_000166.jpg', '/content/UAP_retrieval/data/test/oxford5k/jpg/oxford_002179.jpg', '/content/UAP_retrieval/data/test/oxford5k/jpg/oriel_000097.jpg', '/content/UAP_retrieval/data/test/oxford5k/jpg/oxford_002834.jpg', '/content/UAP_retrieval/data/test/oxford5k/jpg/magdalen_000596.jpg', '/content/UAP_retrieval/data/test/oxford5k/jpg/oxford_000773.jpg', '/content/UAP_retrieval/data/test/oxford5k/jpg/hertford_000025.jpg', '/content/UAP_retrieval/data/test/oxford5k/jpg/christ_church_000333.jpg', '/content/UAP_retrieval/data/test/oxford5k/jpg/oxford_002150.jpg', '/content/UAP_retrieval/data/test/oxford5k/jpg/ashmolean_000096.jpg', '/content/UAP_retrieval/data/test/oxford5k/jpg/oxford_000976.jpg', '/content/UAP_retrieval/data/test/oxford5k/jpg/new_000924.jpg', '/content/UAP_retrieval/data/test/oxford5k/jpg/oxford_002173.jpg', '/content/UAP_retrieval/data/test/oxford5k/jpg/christ_church_000599.jpg', '/content/UAP_retrieval/data/test/oxford5k/jpg/jesus_000318.jpg', '/content/UAP_retrieval/data/test/oxford5k/jpg/christ_church_000738.jpg', '/content/UAP_retrieval/data/test/oxford5k/jpg/oxford_000098.jpg', '/content/UAP_retrieval/data/test/oxford5k/jpg/radcliffe_camera_000198.jpg', '/content/UAP_retrieval/data/test/oxford5k/jpg/oxford_000108.jpg', '/content/UAP_retrieval/data/test/oxford5k/jpg/oxford_000763.jpg', '/content/UAP_retrieval/data/test/oxford5k/jpg/oxford_000133.jpg', '/content/UAP_retrieval/data/test/oxford5k/jpg/new_000371.jpg', '/content/UAP_retrieval/data/test/oxford5k/jpg/jesus_000216.jpg', '/content/UAP_retrieval/data/test/oxford5k/jpg/magdalen_001036.jpg', '/content/UAP_retrieval/data/test/oxford5k/jpg/christ_church_000155.jpg', '/content/UAP_retrieval/data/test/oxford5k/jpg/new_000797.jpg', '/content/UAP_retrieval/data/test/oxford5k/jpg/new_000430.jpg', '/content/UAP_retrieval/data/test/oxford5k/jpg/christ_church_000145.jpg', '/content/UAP_retrieval/data/test/oxford5k/jpg/christ_church_000690.jpg', '/content/UAP_retrieval/data/test/oxford5k/jpg/oxford_001658.jpg', '/content/UAP_retrieval/data/test/oxford5k/jpg/radcliffe_camera_000201.jpg', '/content/UAP_retrieval/data/test/oxford5k/jpg/trinity_000047.jpg', '/content/UAP_retrieval/data/test/oxford5k/jpg/radcliffe_camera_000164.jpg', '/content/UAP_retrieval/data/test/oxford5k/jpg/oxford_000883.jpg', '/content/UAP_retrieval/data/test/oxford5k/jpg/oxford_000264.jpg', '/content/UAP_retrieval/data/test/oxford5k/jpg/new_000356.jpg', '/content/UAP_retrieval/data/test/oxford5k/jpg/worcester_000174.jpg', '/content/UAP_retrieval/data/test/oxford5k/jpg/christ_church_000035.jpg', '/content/UAP_retrieval/data/test/oxford5k/jpg/christ_church_000273.jpg', '/content/UAP_retrieval/data/test/oxford5k/jpg/trinity_000212.jpg', '/content/UAP_retrieval/data/test/oxford5k/jpg/oxford_002510.jpg', '/content/UAP_retrieval/data/test/oxford5k/jpg/jesus_000312.jpg', '/content/UAP_retrieval/data/test/oxford5k/jpg/oxford_001543.jpg', '/content/UAP_retrieval/data/test/oxford5k/jpg/keble_000098.jpg', '/content/UAP_retrieval/data/test/oxford5k/jpg/oxford_001109.jpg', '/content/UAP_retrieval/data/test/oxford5k/jpg/radcliffe_camera_000529.jpg', '/content/UAP_retrieval/data/test/oxford5k/jpg/oxford_001951.jpg', '/content/UAP_retrieval/data/test/oxford5k/jpg/christ_church_000055.jpg', '/content/UAP_retrieval/data/test/oxford5k/jpg/christ_church_000801.jpg', '/content/UAP_retrieval/data/test/oxford5k/jpg/all_souls_000157.jpg', '/content/UAP_retrieval/data/test/oxford5k/jpg/magdalen_000642.jpg', '/content/UAP_retrieval/data/test/oxford5k/jpg/magdalen_000241.jpg', '/content/UAP_retrieval/data/test/oxford5k/jpg/bodleian_000391.jpg', '/content/UAP_retrieval/data/test/oxford5k/jpg/oxford_000502.jpg', '/content/UAP_retrieval/data/test/oxford5k/jpg/pitt_rivers_000067.jpg', '/content/UAP_retrieval/data/test/oxford5k/jpg/magdalen_000262.jpg', '/content/UAP_retrieval/data/test/oxford5k/jpg/oxford_003560.jpg', '/content/UAP_retrieval/data/test/oxford5k/jpg/jesus_000364.jpg', '/content/UAP_retrieval/data/test/oxford5k/jpg/oxford_001696.jpg', '/content/UAP_retrieval/data/test/oxford5k/jpg/oxford_003110.jpg', '/content/UAP_retrieval/data/test/oxford5k/jpg/oxford_002049.jpg', '/content/UAP_retrieval/data/test/oxford5k/jpg/new_001071.jpg', '/content/UAP_retrieval/data/test/oxford5k/jpg/ashmolean_000124.jpg', '/content/UAP_retrieval/data/test/oxford5k/jpg/oxford_001070.jpg', '/content/UAP_retrieval/data/test/oxford5k/jpg/new_000106.jpg', '/content/UAP_retrieval/data/test/oxford5k/jpg/radcliffe_camera_000229.jpg', '/content/UAP_retrieval/data/test/oxford5k/jpg/christ_church_000988.jpg', '/content/UAP_retrieval/data/test/oxford5k/jpg/magdalen_000856.jpg', '/content/UAP_retrieval/data/test/oxford5k/jpg/magdalen_000765.jpg', '/content/UAP_retrieval/data/test/oxford5k/jpg/new_000655.jpg', '/content/UAP_retrieval/data/test/oxford5k/jpg/all_souls_000184.jpg', '/content/UAP_retrieval/data/test/oxford5k/jpg/bodleian_000339.jpg', '/content/UAP_retrieval/data/test/oxford5k/jpg/christ_church_000698.jpg', '/content/UAP_retrieval/data/test/oxford5k/jpg/magdalen_000413.jpg', '/content/UAP_retrieval/data/test/oxford5k/jpg/oxford_001700.jpg', '/content/UAP_retrieval/data/test/oxford5k/jpg/oxford_003565.jpg', '/content/UAP_retrieval/data/test/oxford5k/jpg/radcliffe_camera_000533.jpg', '/content/UAP_retrieval/data/test/oxford5k/jpg/oxford_000638.jpg', '/content/UAP_retrieval/data/test/oxford5k/jpg/magdalen_001142.jpg', '/content/UAP_retrieval/data/test/oxford5k/jpg/new_000380.jpg', '/content/UAP_retrieval/data/test/oxford5k/jpg/oxford_002130.jpg', '/content/UAP_retrieval/data/test/oxford5k/jpg/oxford_002844.jpg', '/content/UAP_retrieval/data/test/oxford5k/jpg/bodleian_000321.jpg', '/content/UAP_retrieval/data/test/oxford5k/jpg/bodleian_000134.jpg', '/content/UAP_retrieval/data/test/oxford5k/jpg/magdalen_001045.jpg', '/content/UAP_retrieval/data/test/oxford5k/jpg/magdalen_000785.jpg', '/content/UAP_retrieval/data/test/oxford5k/jpg/jesus_000307.jpg', '/content/UAP_retrieval/data/test/oxford5k/jpg/oxford_000338.jpg', '/content/UAP_retrieval/data/test/oxford5k/jpg/magdalen_000496.jpg', '/content/UAP_retrieval/data/test/oxford5k/jpg/keble_000172.jpg', '/content/UAP_retrieval/data/test/oxford5k/jpg/christ_church_000886.jpg', '/content/UAP_retrieval/data/test/oxford5k/jpg/magdalen_001042.jpg', '/content/UAP_retrieval/data/test/oxford5k/jpg/radcliffe_camera_000310.jpg', '/content/UAP_retrieval/data/test/oxford5k/jpg/oxford_001542.jpg', '/content/UAP_retrieval/data/test/oxford5k/jpg/magdalen_000291.jpg', '/content/UAP_retrieval/data/test/oxford5k/jpg/radcliffe_camera_000040.jpg', '/content/UAP_retrieval/data/test/oxford5k/jpg/ashmolean_000286.jpg', '/content/UAP_retrieval/data/test/oxford5k/jpg/keble_000242.jpg', '/content/UAP_retrieval/data/test/oxford5k/jpg/hertford_000080.jpg', '/content/UAP_retrieval/data/test/oxford5k/jpg/magdalen_000530.jpg', '/content/UAP_retrieval/data/test/oxford5k/jpg/jesus_000043.jpg', '/content/UAP_retrieval/data/test/oxford5k/jpg/oxford_001866.jpg', '/content/UAP_retrieval/data/test/oxford5k/jpg/oxford_002576.jpg', '/content/UAP_retrieval/data/test/oxford5k/jpg/oxford_002623.jpg', '/content/UAP_retrieval/data/test/oxford5k/jpg/oxford_002064.jpg', '/content/UAP_retrieval/data/test/oxford5k/jpg/oxford_001104.jpg', '/content/UAP_retrieval/data/test/oxford5k/jpg/christ_church_000275.jpg', '/content/UAP_retrieval/data/test/oxford5k/jpg/christ_church_000848.jpg', '/content/UAP_retrieval/data/test/oxford5k/jpg/oxford_000386.jpg', '/content/UAP_retrieval/data/test/oxford5k/jpg/pitt_rivers_000140.jpg', '/content/UAP_retrieval/data/test/oxford5k/jpg/oxford_002564.jpg', '/content/UAP_retrieval/data/test/oxford5k/jpg/new_000433.jpg', '/content/UAP_retrieval/data/test/oxford5k/jpg/balliol_000120.jpg', '/content/UAP_retrieval/data/test/oxford5k/jpg/ashmolean_000180.jpg', '/content/UAP_retrieval/data/test/oxford5k/jpg/jesus_000391.jpg', '/content/UAP_retrieval/data/test/oxford5k/jpg/all_souls_000022.jpg', '/content/UAP_retrieval/data/test/oxford5k/jpg/cornmarket_000103.jpg', '/content/UAP_retrieval/data/test/oxford5k/jpg/new_000692.jpg', '/content/UAP_retrieval/data/test/oxford5k/jpg/new_000337.jpg', '/content/UAP_retrieval/data/test/oxford5k/jpg/bodleian_000364.jpg', '/content/UAP_retrieval/data/test/oxford5k/jpg/oxford_002056.jpg', '/content/UAP_retrieval/data/test/oxford5k/jpg/christ_church_000321.jpg', '/content/UAP_retrieval/data/test/oxford5k/jpg/oxford_002205.jpg', '/content/UAP_retrieval/data/test/oxford5k/jpg/new_000083.jpg', '/content/UAP_retrieval/data/test/oxford5k/jpg/keble_000228.jpg', '/content/UAP_retrieval/data/test/oxford5k/jpg/radcliffe_camera_000381.jpg', '/content/UAP_retrieval/data/test/oxford5k/jpg/oxford_002368.jpg', '/content/UAP_retrieval/data/test/oxford5k/jpg/bodleian_000330.jpg', '/content/UAP_retrieval/data/test/oxford5k/jpg/magdalen_000683.jpg', '/content/UAP_retrieval/data/test/oxford5k/jpg/new_001031.jpg', '/content/UAP_retrieval/data/test/oxford5k/jpg/radcliffe_camera_000034.jpg', '/content/UAP_retrieval/data/test/oxford5k/jpg/oxford_002050.jpg', '/content/UAP_retrieval/data/test/oxford5k/jpg/oxford_000273.jpg', '/content/UAP_retrieval/data/test/oxford5k/jpg/christ_church_001136.jpg', '/content/UAP_retrieval/data/test/oxford5k/jpg/oxford_003042.jpg', '/content/UAP_retrieval/data/test/oxford5k/jpg/christ_church_001142.jpg', '/content/UAP_retrieval/data/test/oxford5k/jpg/christ_church_000428.jpg', '/content/UAP_retrieval/data/test/oxford5k/jpg/oxford_003127.jpg', '/content/UAP_retrieval/data/test/oxford5k/jpg/magdalen_000847.jpg', '/content/UAP_retrieval/data/test/oxford5k/jpg/oriel_000015.jpg', '/content/UAP_retrieval/data/test/oxford5k/jpg/bodleian_000424.jpg', '/content/UAP_retrieval/data/test/oxford5k/jpg/christ_church_000050.jpg', '/content/UAP_retrieval/data/test/oxford5k/jpg/magdalen_000150.jpg', '/content/UAP_retrieval/data/test/oxford5k/jpg/magdalen_000481.jpg', '/content/UAP_retrieval/data/test/oxford5k/jpg/balliol_000045.jpg', '/content/UAP_retrieval/data/test/oxford5k/jpg/trinity_000320.jpg', '/content/UAP_retrieval/data/test/oxford5k/jpg/christ_church_000342.jpg', '/content/UAP_retrieval/data/test/oxford5k/jpg/oxford_001998.jpg', '/content/UAP_retrieval/data/test/oxford5k/jpg/radcliffe_camera_000294.jpg', '/content/UAP_retrieval/data/test/oxford5k/jpg/new_000360.jpg', '/content/UAP_retrieval/data/test/oxford5k/jpg/oxford_001441.jpg', '/content/UAP_retrieval/data/test/oxford5k/jpg/trinity_000014.jpg', '/content/UAP_retrieval/data/test/oxford5k/jpg/radcliffe_camera_000515.jpg', '/content/UAP_retrieval/data/test/oxford5k/jpg/magdalen_001025.jpg', '/content/UAP_retrieval/data/test/oxford5k/jpg/keble_000155.jpg', '/content/UAP_retrieval/data/test/oxford5k/jpg/oxford_001343.jpg', '/content/UAP_retrieval/data/test/oxford5k/jpg/trinity_000312.jpg', '/content/UAP_retrieval/data/test/oxford5k/jpg/oxford_002555.jpg', '/content/UAP_retrieval/data/test/oxford5k/jpg/new_000043.jpg', '/content/UAP_retrieval/data/test/oxford5k/jpg/oxford_002505.jpg', '/content/UAP_retrieval/data/test/oxford5k/jpg/new_001067.jpg', '/content/UAP_retrieval/data/test/oxford5k/jpg/cornmarket_000120.jpg', '/content/UAP_retrieval/data/test/oxford5k/jpg/trinity_000056.jpg', '/content/UAP_retrieval/data/test/oxford5k/jpg/magdalen_000130.jpg', '/content/UAP_retrieval/data/test/oxford5k/jpg/magdalen_001022.jpg', '/content/UAP_retrieval/data/test/oxford5k/jpg/worcester_000109.jpg', '/content/UAP_retrieval/data/test/oxford5k/jpg/hertford_000078.jpg', '/content/UAP_retrieval/data/test/oxford5k/jpg/radcliffe_camera_000088.jpg', '/content/UAP_retrieval/data/test/oxford5k/jpg/cornmarket_000102.jpg', '/content/UAP_retrieval/data/test/oxford5k/jpg/trinity_000088.jpg', '/content/UAP_retrieval/data/test/oxford5k/jpg/magdalen_000012.jpg', '/content/UAP_retrieval/data/test/oxford5k/jpg/all_souls_000034.jpg', '/content/UAP_retrieval/data/test/oxford5k/jpg/magdalen_001156.jpg', '/content/UAP_retrieval/data/test/oxford5k/jpg/radcliffe_camera_000230.jpg', '/content/UAP_retrieval/data/test/oxford5k/jpg/magdalen_000089.jpg', '/content/UAP_retrieval/data/test/oxford5k/jpg/pitt_rivers_000115.jpg', '/content/UAP_retrieval/data/test/oxford5k/jpg/magdalen_000452.jpg', '/content/UAP_retrieval/data/test/oxford5k/jpg/magdalen_000185.jpg', '/content/UAP_retrieval/data/test/oxford5k/jpg/oxford_003132.jpg', '/content/UAP_retrieval/data/test/oxford5k/jpg/balliol_000146.jpg', '/content/UAP_retrieval/data/test/oxford5k/jpg/oxford_001709.jpg', '/content/UAP_retrieval/data/test/oxford5k/jpg/oxford_000235.jpg', '/content/UAP_retrieval/data/test/oxford5k/jpg/oxford_000352.jpg', '/content/UAP_retrieval/data/test/oxford5k/jpg/magdalen_000806.jpg', '/content/UAP_retrieval/data/test/oxford5k/jpg/oxford_002863.jpg', '/content/UAP_retrieval/data/test/oxford5k/jpg/magdalen_000442.jpg', '/content/UAP_retrieval/data/test/oxford5k/jpg/magdalen_000752.jpg', '/content/UAP_retrieval/data/test/oxford5k/jpg/oxford_000511.jpg', '/content/UAP_retrieval/data/test/oxford5k/jpg/christ_church_000829.jpg', '/content/UAP_retrieval/data/test/oxford5k/jpg/worcester_000178.jpg', '/content/UAP_retrieval/data/test/oxford5k/jpg/oriel_000018.jpg', '/content/UAP_retrieval/data/test/oxford5k/jpg/oxford_001483.jpg', '/content/UAP_retrieval/data/test/oxford5k/jpg/trinity_000095.jpg', '/content/UAP_retrieval/data/test/oxford5k/jpg/magdalen_000189.jpg', '/content/UAP_retrieval/data/test/oxford5k/jpg/magdalen_001079.jpg', '/content/UAP_retrieval/data/test/oxford5k/jpg/oxford_003540.jpg', '/content/UAP_retrieval/data/test/oxford5k/jpg/new_000061.jpg', '/content/UAP_retrieval/data/test/oxford5k/jpg/oxford_000584.jpg', '/content/UAP_retrieval/data/test/oxford5k/jpg/magdalen_001126.jpg', '/content/UAP_retrieval/data/test/oxford5k/jpg/jesus_000348.jpg', '/content/UAP_retrieval/data/test/oxford5k/jpg/oxford_002625.jpg', '/content/UAP_retrieval/data/test/oxford5k/jpg/oxford_002843.jpg', '/content/UAP_retrieval/data/test/oxford5k/jpg/oxford_001760.jpg', '/content/UAP_retrieval/data/test/oxford5k/jpg/oxford_001228.jpg', '/content/UAP_retrieval/data/test/oxford5k/jpg/oxford_003347.jpg', '/content/UAP_retrieval/data/test/oxford5k/jpg/oxford_001956.jpg', '/content/UAP_retrieval/data/test/oxford5k/jpg/new_000211.jpg', '/content/UAP_retrieval/data/test/oxford5k/jpg/christ_church_000687.jpg', '/content/UAP_retrieval/data/test/oxford5k/jpg/magdalen_000849.jpg', '/content/UAP_retrieval/data/test/oxford5k/jpg/balliol_000155.jpg', '/content/UAP_retrieval/data/test/oxford5k/jpg/trinity_000196.jpg', '/content/UAP_retrieval/data/test/oxford5k/jpg/radcliffe_camera_000531.jpg', '/content/UAP_retrieval/data/test/oxford5k/jpg/magdalen_001015.jpg', '/content/UAP_retrieval/data/test/oxford5k/jpg/oxford_001434.jpg', '/content/UAP_retrieval/data/test/oxford5k/jpg/oxford_000266.jpg', '/content/UAP_retrieval/data/test/oxford5k/jpg/new_000272.jpg', '/content/UAP_retrieval/data/test/oxford5k/jpg/oxford_001614.jpg', '/content/UAP_retrieval/data/test/oxford5k/jpg/cornmarket_000018.jpg', '/content/UAP_retrieval/data/test/oxford5k/jpg/christ_church_001124.jpg', '/content/UAP_retrieval/data/test/oxford5k/jpg/trinity_000133.jpg', '/content/UAP_retrieval/data/test/oxford5k/jpg/magdalen_000148.jpg', '/content/UAP_retrieval/data/test/oxford5k/jpg/balliol_000067.jpg', '/content/UAP_retrieval/data/test/oxford5k/jpg/radcliffe_camera_000424.jpg', '/content/UAP_retrieval/data/test/oxford5k/jpg/magdalen_000409.jpg', '/content/UAP_retrieval/data/test/oxford5k/jpg/new_001073.jpg', '/content/UAP_retrieval/data/test/oxford5k/jpg/oxford_000581.jpg', '/content/UAP_retrieval/data/test/oxford5k/jpg/new_000517.jpg', '/content/UAP_retrieval/data/test/oxford5k/jpg/oxford_002922.jpg', '/content/UAP_retrieval/data/test/oxford5k/jpg/magdalen_000193.jpg', '/content/UAP_retrieval/data/test/oxford5k/jpg/magdalen_000532.jpg', '/content/UAP_retrieval/data/test/oxford5k/jpg/keble_000050.jpg', '/content/UAP_retrieval/data/test/oxford5k/jpg/hertford_000059.jpg', '/content/UAP_retrieval/data/test/oxford5k/jpg/radcliffe_camera_000458.jpg', '/content/UAP_retrieval/data/test/oxford5k/jpg/magdalen_000219.jpg', '/content/UAP_retrieval/data/test/oxford5k/jpg/oxford_001450.jpg', '/content/UAP_retrieval/data/test/oxford5k/jpg/magdalen_000957.jpg', '/content/UAP_retrieval/data/test/oxford5k/jpg/hertford_000112.jpg', '/content/UAP_retrieval/data/test/oxford5k/jpg/christ_church_000842.jpg', '/content/UAP_retrieval/data/test/oxford5k/jpg/oxford_002562.jpg', '/content/UAP_retrieval/data/test/oxford5k/jpg/oxford_001727.jpg', '/content/UAP_retrieval/data/test/oxford5k/jpg/magdalen_000709.jpg', '/content/UAP_retrieval/data/test/oxford5k/jpg/oriel_000066.jpg', '/content/UAP_retrieval/data/test/oxford5k/jpg/magdalen_000527.jpg', '/content/UAP_retrieval/data/test/oxford5k/jpg/christ_church_000376.jpg', '/content/UAP_retrieval/data/test/oxford5k/jpg/pitt_rivers_000063.jpg', '/content/UAP_retrieval/data/test/oxford5k/jpg/new_000350.jpg', '/content/UAP_retrieval/data/test/oxford5k/jpg/new_000858.jpg', '/content/UAP_retrieval/data/test/oxford5k/jpg/radcliffe_camera_000394.jpg', '/content/UAP_retrieval/data/test/oxford5k/jpg/oxford_003278.jpg', '/content/UAP_retrieval/data/test/oxford5k/jpg/radcliffe_camera_000405.jpg', '/content/UAP_retrieval/data/test/oxford5k/jpg/all_souls_000072.jpg', '/content/UAP_retrieval/data/test/oxford5k/jpg/oxford_000719.jpg', '/content/UAP_retrieval/data/test/oxford5k/jpg/christ_church_000042.jpg', '/content/UAP_retrieval/data/test/oxford5k/jpg/magdalen_000196.jpg', '/content/UAP_retrieval/data/test/oxford5k/jpg/christ_church_000787.jpg', '/content/UAP_retrieval/data/test/oxford5k/jpg/oxford_001522.jpg', '/content/UAP_retrieval/data/test/oxford5k/jpg/oxford_000890.jpg', '/content/UAP_retrieval/data/test/oxford5k/jpg/bodleian_000027.jpg', '/content/UAP_retrieval/data/test/oxford5k/jpg/christ_church_000684.jpg', '/content/UAP_retrieval/data/test/oxford5k/jpg/oxford_001305.jpg', '/content/UAP_retrieval/data/test/oxford5k/jpg/magdalen_000704.jpg', '/content/UAP_retrieval/data/test/oxford5k/jpg/oxford_002980.jpg', '/content/UAP_retrieval/data/test/oxford5k/jpg/oriel_000029.jpg', '/content/UAP_retrieval/data/test/oxford5k/jpg/oxford_002200.jpg', '/content/UAP_retrieval/data/test/oxford5k/jpg/oxford_001992.jpg', '/content/UAP_retrieval/data/test/oxford5k/jpg/oxford_002959.jpg', '/content/UAP_retrieval/data/test/oxford5k/jpg/magdalen_000816.jpg', '/content/UAP_retrieval/data/test/oxford5k/jpg/pitt_rivers_000046.jpg', '/content/UAP_retrieval/data/test/oxford5k/jpg/new_000682.jpg', '/content/UAP_retrieval/data/test/oxford5k/jpg/magdalen_000294.jpg', '/content/UAP_retrieval/data/test/oxford5k/jpg/all_souls_000191.jpg', '/content/UAP_retrieval/data/test/oxford5k/jpg/oxford_001994.jpg', '/content/UAP_retrieval/data/test/oxford5k/jpg/christ_church_000969.jpg', '/content/UAP_retrieval/data/test/oxford5k/jpg/oxford_000332.jpg', '/content/UAP_retrieval/data/test/oxford5k/jpg/oxford_003169.jpg', '/content/UAP_retrieval/data/test/oxford5k/jpg/oxford_002377.jpg', '/content/UAP_retrieval/data/test/oxford5k/jpg/pitt_rivers_000144.jpg', '/content/UAP_retrieval/data/test/oxford5k/jpg/magdalen_001048.jpg', '/content/UAP_retrieval/data/test/oxford5k/jpg/christ_church_000278.jpg', '/content/UAP_retrieval/data/test/oxford5k/jpg/christ_church_000863.jpg', '/content/UAP_retrieval/data/test/oxford5k/jpg/magdalen_000661.jpg', '/content/UAP_retrieval/data/test/oxford5k/jpg/oxford_002606.jpg', '/content/UAP_retrieval/data/test/oxford5k/jpg/balliol_000075.jpg', '/content/UAP_retrieval/data/test/oxford5k/jpg/magdalen_001078.jpg', '/content/UAP_retrieval/data/test/oxford5k/jpg/oxford_003188.jpg', '/content/UAP_retrieval/data/test/oxford5k/jpg/christ_church_000317.jpg', '/content/UAP_retrieval/data/test/oxford5k/jpg/radcliffe_camera_000480.jpg', '/content/UAP_retrieval/data/test/oxford5k/jpg/new_000669.jpg', '/content/UAP_retrieval/data/test/oxford5k/jpg/christ_church_000455.jpg', '/content/UAP_retrieval/data/test/oxford5k/jpg/pitt_rivers_000045.jpg', '/content/UAP_retrieval/data/test/oxford5k/jpg/new_001074.jpg', '/content/UAP_retrieval/data/test/oxford5k/jpg/oxford_000990.jpg', '/content/UAP_retrieval/data/test/oxford5k/jpg/christ_church_000154.jpg', '/content/UAP_retrieval/data/test/oxford5k/jpg/cornmarket_000033.jpg', '/content/UAP_retrieval/data/test/oxford5k/jpg/magdalen_001023.jpg', '/content/UAP_retrieval/data/test/oxford5k/jpg/radcliffe_camera_000483.jpg', '/content/UAP_retrieval/data/test/oxford5k/jpg/oxford_003346.jpg', '/content/UAP_retrieval/data/test/oxford5k/jpg/oxford_000937.jpg', '/content/UAP_retrieval/data/test/oxford5k/jpg/magdalen_001073.jpg', '/content/UAP_retrieval/data/test/oxford5k/jpg/new_000145.jpg', '/content/UAP_retrieval/data/test/oxford5k/jpg/oxford_001530.jpg', '/content/UAP_retrieval/data/test/oxford5k/jpg/balliol_000122.jpg', '/content/UAP_retrieval/data/test/oxford5k/jpg/oxford_000490.jpg', '/content/UAP_retrieval/data/test/oxford5k/jpg/oxford_001222.jpg', '/content/UAP_retrieval/data/test/oxford5k/jpg/oxford_003226.jpg', '/content/UAP_retrieval/data/test/oxford5k/jpg/new_000971.jpg', '/content/UAP_retrieval/data/test/oxford5k/jpg/new_000855.jpg', '/content/UAP_retrieval/data/test/oxford5k/jpg/oxford_001103.jpg', '/content/UAP_retrieval/data/test/oxford5k/jpg/ashmolean_000118.jpg', '/content/UAP_retrieval/data/test/oxford5k/jpg/oxford_001277.jpg', '/content/UAP_retrieval/data/test/oxford5k/jpg/bodleian_000380.jpg', '/content/UAP_retrieval/data/test/oxford5k/jpg/keble_000230.jpg', '/content/UAP_retrieval/data/test/oxford5k/jpg/magdalen_001057.jpg', '/content/UAP_retrieval/data/test/oxford5k/jpg/oxford_001502.jpg', '/content/UAP_retrieval/data/test/oxford5k/jpg/magdalen_000334.jpg', '/content/UAP_retrieval/data/test/oxford5k/jpg/bodleian_000186.jpg', '/content/UAP_retrieval/data/test/oxford5k/jpg/magdalen_000664.jpg', '/content/UAP_retrieval/data/test/oxford5k/jpg/oxford_001608.jpg', '/content/UAP_retrieval/data/test/oxford5k/jpg/new_000726.jpg', '/content/UAP_retrieval/data/test/oxford5k/jpg/christ_church_000341.jpg', '/content/UAP_retrieval/data/test/oxford5k/jpg/oxford_000745.jpg', '/content/UAP_retrieval/data/test/oxford5k/jpg/new_000455.jpg', '/content/UAP_retrieval/data/test/oxford5k/jpg/magdalen_000977.jpg', '/content/UAP_retrieval/data/test/oxford5k/jpg/magdalen_000557.jpg', '/content/UAP_retrieval/data/test/oxford5k/jpg/pitt_rivers_000141.jpg', '/content/UAP_retrieval/data/test/oxford5k/jpg/magdalen_000173.jpg', '/content/UAP_retrieval/data/test/oxford5k/jpg/new_000691.jpg', '/content/UAP_retrieval/data/test/oxford5k/jpg/christ_church_000261.jpg', '/content/UAP_retrieval/data/test/oxford5k/jpg/oxford_001946.jpg', '/content/UAP_retrieval/data/test/oxford5k/jpg/new_000346.jpg', '/content/UAP_retrieval/data/test/oxford5k/jpg/oxford_000125.jpg', '/content/UAP_retrieval/data/test/oxford5k/jpg/christ_church_000208.jpg', '/content/UAP_retrieval/data/test/oxford5k/jpg/oxford_002565.jpg', '/content/UAP_retrieval/data/test/oxford5k/jpg/pitt_rivers_000149.jpg', '/content/UAP_retrieval/data/test/oxford5k/jpg/magdalen_000011.jpg', '/content/UAP_retrieval/data/test/oxford5k/jpg/radcliffe_camera_000306.jpg', '/content/UAP_retrieval/data/test/oxford5k/jpg/radcliffe_camera_000114.jpg', '/content/UAP_retrieval/data/test/oxford5k/jpg/magdalen_000838.jpg', '/content/UAP_retrieval/data/test/oxford5k/jpg/oxford_001047.jpg', '/content/UAP_retrieval/data/test/oxford5k/jpg/oxford_003322.jpg', '/content/UAP_retrieval/data/test/oxford5k/jpg/magdalen_000268.jpg', '/content/UAP_retrieval/data/test/oxford5k/jpg/jesus_000383.jpg', '/content/UAP_retrieval/data/test/oxford5k/jpg/new_000973.jpg', '/content/UAP_retrieval/data/test/oxford5k/jpg/magdalen_000014.jpg', '/content/UAP_retrieval/data/test/oxford5k/jpg/christ_church_000161.jpg', '/content/UAP_retrieval/data/test/oxford5k/jpg/keble_000206.jpg', '/content/UAP_retrieval/data/test/oxford5k/jpg/trinity_000094.jpg', '/content/UAP_retrieval/data/test/oxford5k/jpg/magdalen_000512.jpg', '/content/UAP_retrieval/data/test/oxford5k/jpg/christ_church_000858.jpg', '/content/UAP_retrieval/data/test/oxford5k/jpg/christ_church_000162.jpg', '/content/UAP_retrieval/data/test/oxford5k/jpg/trinity_000284.jpg', '/content/UAP_retrieval/data/test/oxford5k/jpg/oxford_000236.jpg', '/content/UAP_retrieval/data/test/oxford5k/jpg/new_000230.jpg', '/content/UAP_retrieval/data/test/oxford5k/jpg/oxford_001059.jpg', '/content/UAP_retrieval/data/test/oxford5k/jpg/ashmolean_000216.jpg', '/content/UAP_retrieval/data/test/oxford5k/jpg/christ_church_000262.jpg', '/content/UAP_retrieval/data/test/oxford5k/jpg/hertford_000068.jpg', '/content/UAP_retrieval/data/test/oxford5k/jpg/oxford_002889.jpg', '/content/UAP_retrieval/data/test/oxford5k/jpg/oxford_003044.jpg', '/content/UAP_retrieval/data/test/oxford5k/jpg/new_000330.jpg', '/content/UAP_retrieval/data/test/oxford5k/jpg/oxford_002494.jpg', '/content/UAP_retrieval/data/test/oxford5k/jpg/all_souls_000002.jpg', '/content/UAP_retrieval/data/test/oxford5k/jpg/trinity_000051.jpg', '/content/UAP_retrieval/data/test/oxford5k/jpg/oxford_000519.jpg', '/content/UAP_retrieval/data/test/oxford5k/jpg/magdalen_000701.jpg', '/content/UAP_retrieval/data/test/oxford5k/jpg/oxford_003455.jpg', '/content/UAP_retrieval/data/test/oxford5k/jpg/pitt_rivers_000013.jpg', '/content/UAP_retrieval/data/test/oxford5k/jpg/oxford_002070.jpg', '/content/UAP_retrieval/data/test/oxford5k/jpg/oxford_000304.jpg', '/content/UAP_retrieval/data/test/oxford5k/jpg/oxford_003355.jpg', '/content/UAP_retrieval/data/test/oxford5k/jpg/magdalen_001101.jpg', '/content/UAP_retrieval/data/test/oxford5k/jpg/oriel_000058.jpg', '/content/UAP_retrieval/data/test/oxford5k/jpg/ashmolean_000036.jpg', '/content/UAP_retrieval/data/test/oxford5k/jpg/christ_church_001011.jpg', '/content/UAP_retrieval/data/test/oxford5k/jpg/oxford_002947.jpg', '/content/UAP_retrieval/data/test/oxford5k/jpg/trinity_000016.jpg', '/content/UAP_retrieval/data/test/oxford5k/jpg/magdalen_000858.jpg', '/content/UAP_retrieval/data/test/oxford5k/jpg/new_000378.jpg', '/content/UAP_retrieval/data/test/oxford5k/jpg/new_000137.jpg', '/content/UAP_retrieval/data/test/oxford5k/jpg/oxford_000181.jpg', '/content/UAP_retrieval/data/test/oxford5k/jpg/pitt_rivers_000062.jpg', '/content/UAP_retrieval/data/test/oxford5k/jpg/oxford_000301.jpg', '/content/UAP_retrieval/data/test/oxford5k/jpg/magdalen_000161.jpg', '/content/UAP_retrieval/data/test/oxford5k/jpg/magdalen_000153.jpg', '/content/UAP_retrieval/data/test/oxford5k/jpg/radcliffe_camera_000366.jpg', '/content/UAP_retrieval/data/test/oxford5k/jpg/bodleian_000317.jpg', '/content/UAP_retrieval/data/test/oxford5k/jpg/trinity_000087.jpg', '/content/UAP_retrieval/data/test/oxford5k/jpg/new_000128.jpg', '/content/UAP_retrieval/data/test/oxford5k/jpg/hertford_000063.jpg', '/content/UAP_retrieval/data/test/oxford5k/jpg/oxford_001314.jpg', '/content/UAP_retrieval/data/test/oxford5k/jpg/new_000289.jpg', '/content/UAP_retrieval/data/test/oxford5k/jpg/new_000028.jpg', '/content/UAP_retrieval/data/test/oxford5k/jpg/trinity_000332.jpg', '/content/UAP_retrieval/data/test/oxford5k/jpg/oxford_000176.jpg', '/content/UAP_retrieval/data/test/oxford5k/jpg/bodleian_000357.jpg', '/content/UAP_retrieval/data/test/oxford5k/jpg/magdalen_000680.jpg', '/content/UAP_retrieval/data/test/oxford5k/jpg/magdalen_000108.jpg', '/content/UAP_retrieval/data/test/oxford5k/jpg/christ_church_000996.jpg', '/content/UAP_retrieval/data/test/oxford5k/jpg/oxford_001210.jpg', '/content/UAP_retrieval/data/test/oxford5k/jpg/worcester_000192.jpg', '/content/UAP_retrieval/data/test/oxford5k/jpg/new_000111.jpg', '/content/UAP_retrieval/data/test/oxford5k/jpg/trinity_000134.jpg', '/content/UAP_retrieval/data/test/oxford5k/jpg/christ_church_000051.jpg', '/content/UAP_retrieval/data/test/oxford5k/jpg/oxford_000385.jpg', '/content/UAP_retrieval/data/test/oxford5k/jpg/oxford_001259.jpg', '/content/UAP_retrieval/data/test/oxford5k/jpg/balliol_000208.jpg', '/content/UAP_retrieval/data/test/oxford5k/jpg/oxford_002501.jpg', '/content/UAP_retrieval/data/test/oxford5k/jpg/oxford_000740.jpg', '/content/UAP_retrieval/data/test/oxford5k/jpg/oxford_002378.jpg', '/content/UAP_retrieval/data/test/oxford5k/jpg/christ_church_000011.jpg', '/content/UAP_retrieval/data/test/oxford5k/jpg/oxford_001203.jpg', '/content/UAP_retrieval/data/test/oxford5k/jpg/radcliffe_camera_000253.jpg', '/content/UAP_retrieval/data/test/oxford5k/jpg/christ_church_000928.jpg', '/content/UAP_retrieval/data/test/oxford5k/jpg/pitt_rivers_000031.jpg', '/content/UAP_retrieval/data/test/oxford5k/jpg/new_000654.jpg', '/content/UAP_retrieval/data/test/oxford5k/jpg/oxford_002786.jpg', '/content/UAP_retrieval/data/test/oxford5k/jpg/oxford_001665.jpg', '/content/UAP_retrieval/data/test/oxford5k/jpg/radcliffe_camera_000400.jpg', '/content/UAP_retrieval/data/test/oxford5k/jpg/oxford_002811.jpg', '/content/UAP_retrieval/data/test/oxford5k/jpg/oxford_000812.jpg', '/content/UAP_retrieval/data/test/oxford5k/jpg/keble_000055.jpg', '/content/UAP_retrieval/data/test/oxford5k/jpg/cornmarket_000086.jpg', '/content/UAP_retrieval/data/test/oxford5k/jpg/christ_church_000808.jpg', '/content/UAP_retrieval/data/test/oxford5k/jpg/oxford_000700.jpg', '/content/UAP_retrieval/data/test/oxford5k/jpg/trinity_000028.jpg', '/content/UAP_retrieval/data/test/oxford5k/jpg/new_001066.jpg', '/content/UAP_retrieval/data/test/oxford5k/jpg/oxford_003143.jpg', '/content/UAP_retrieval/data/test/oxford5k/jpg/magdalen_001139.jpg', '/content/UAP_retrieval/data/test/oxford5k/jpg/christ_church_000760.jpg', '/content/UAP_retrieval/data/test/oxford5k/jpg/oxford_001931.jpg', '/content/UAP_retrieval/data/test/oxford5k/jpg/oxford_002014.jpg', '/content/UAP_retrieval/data/test/oxford5k/jpg/ashmolean_000215.jpg', '/content/UAP_retrieval/data/test/oxford5k/jpg/new_000110.jpg', '/content/UAP_retrieval/data/test/oxford5k/jpg/balliol_000062.jpg', '/content/UAP_retrieval/data/test/oxford5k/jpg/christ_church_000999.jpg', '/content/UAP_retrieval/data/test/oxford5k/jpg/radcliffe_camera_000419.jpg', '/content/UAP_retrieval/data/test/oxford5k/jpg/new_000033.jpg', '/content/UAP_retrieval/data/test/oxford5k/jpg/oxford_001704.jpg', '/content/UAP_retrieval/data/test/oxford5k/jpg/keble_000250.jpg', '/content/UAP_retrieval/data/test/oxford5k/jpg/oxford_001255.jpg', '/content/UAP_retrieval/data/test/oxford5k/jpg/new_000399.jpg', '/content/UAP_retrieval/data/test/oxford5k/jpg/keble_000215.jpg', '/content/UAP_retrieval/data/test/oxford5k/jpg/all_souls_000006.jpg', '/content/UAP_retrieval/data/test/oxford5k/jpg/all_souls_000026.jpg', '/content/UAP_retrieval/data/test/oxford5k/jpg/magdalen_000601.jpg', '/content/UAP_retrieval/data/test/oxford5k/jpg/ashmolean_000121.jpg', '/content/UAP_retrieval/data/test/oxford5k/jpg/jesus_000325.jpg', '/content/UAP_retrieval/data/test/oxford5k/jpg/oxford_002128.jpg', '/content/UAP_retrieval/data/test/oxford5k/jpg/oriel_000075.jpg', '/content/UAP_retrieval/data/test/oxford5k/jpg/oxford_003465.jpg', '/content/UAP_retrieval/data/test/oxford5k/jpg/oxford_002161.jpg', '/content/UAP_retrieval/data/test/oxford5k/jpg/magdalen_000384.jpg', '/content/UAP_retrieval/data/test/oxford5k/jpg/new_000510.jpg', '/content/UAP_retrieval/data/test/oxford5k/jpg/bodleian_000076.jpg', '/content/UAP_retrieval/data/test/oxford5k/jpg/bodleian_000164.jpg', '/content/UAP_retrieval/data/test/oxford5k/jpg/ashmolean_000154.jpg', '/content/UAP_retrieval/data/test/oxford5k/jpg/all_souls_000059.jpg', '/content/UAP_retrieval/data/test/oxford5k/jpg/oxford_000026.jpg', '/content/UAP_retrieval/data/test/oxford5k/jpg/new_000468.jpg', '/content/UAP_retrieval/data/test/oxford5k/jpg/worcester_000138.jpg', '/content/UAP_retrieval/data/test/oxford5k/jpg/balliol_000114.jpg', '/content/UAP_retrieval/data/test/oxford5k/jpg/magdalen_000218.jpg', '/content/UAP_retrieval/data/test/oxford5k/jpg/christ_church_000137.jpg', '/content/UAP_retrieval/data/test/oxford5k/jpg/oxford_001312.jpg', '/content/UAP_retrieval/data/test/oxford5k/jpg/magdalen_001074.jpg', '/content/UAP_retrieval/data/test/oxford5k/jpg/magdalen_000565.jpg', '/content/UAP_retrieval/data/test/oxford5k/jpg/magdalen_000279.jpg', '/content/UAP_retrieval/data/test/oxford5k/jpg/oxford_000898.jpg', '/content/UAP_retrieval/data/test/oxford5k/jpg/ashmolean_000066.jpg', '/content/UAP_retrieval/data/test/oxford5k/jpg/oxford_000599.jpg', '/content/UAP_retrieval/data/test/oxford5k/jpg/hertford_000053.jpg', '/content/UAP_retrieval/data/test/oxford5k/jpg/new_000902.jpg', '/content/UAP_retrieval/data/test/oxford5k/jpg/trinity_000122.jpg', '/content/UAP_retrieval/data/test/oxford5k/jpg/jesus_000119.jpg', '/content/UAP_retrieval/data/test/oxford5k/jpg/bodleian_000383.jpg', '/content/UAP_retrieval/data/test/oxford5k/jpg/radcliffe_camera_000137.jpg', '/content/UAP_retrieval/data/test/oxford5k/jpg/christ_church_000898.jpg', '/content/UAP_retrieval/data/test/oxford5k/jpg/oxford_002309.jpg', '/content/UAP_retrieval/data/test/oxford5k/jpg/christ_church_000444.jpg', '/content/UAP_retrieval/data/test/oxford5k/jpg/trinity_000053.jpg', '/content/UAP_retrieval/data/test/oxford5k/jpg/balliol_000163.jpg', '/content/UAP_retrieval/data/test/oxford5k/jpg/new_000813.jpg', '/content/UAP_retrieval/data/test/oxford5k/jpg/oxford_001778.jpg', '/content/UAP_retrieval/data/test/oxford5k/jpg/oxford_003230.jpg', '/content/UAP_retrieval/data/test/oxford5k/jpg/new_000688.jpg', '/content/UAP_retrieval/data/test/oxford5k/jpg/oxford_002208.jpg', '/content/UAP_retrieval/data/test/oxford5k/jpg/oxford_003315.jpg', '/content/UAP_retrieval/data/test/oxford5k/jpg/magdalen_000810.jpg', '/content/UAP_retrieval/data/test/oxford5k/jpg/christ_church_000043.jpg', '/content/UAP_retrieval/data/test/oxford5k/jpg/magdalen_001035.jpg', '/content/UAP_retrieval/data/test/oxford5k/jpg/christ_church_000576.jpg', '/content/UAP_retrieval/data/test/oxford5k/jpg/magdalen_000969.jpg', '/content/UAP_retrieval/data/test/oxford5k/jpg/radcliffe_camera_000012.jpg', '/content/UAP_retrieval/data/test/oxford5k/jpg/all_souls_000119.jpg', '/content/UAP_retrieval/data/test/oxford5k/jpg/new_000283.jpg', '/content/UAP_retrieval/data/test/oxford5k/jpg/oriel_000105.jpg', '/content/UAP_retrieval/data/test/oxford5k/jpg/balliol_000053.jpg', '/content/UAP_retrieval/data/test/oxford5k/jpg/trinity_000099.jpg', '/content/UAP_retrieval/data/test/oxford5k/jpg/magdalen_000998.jpg', '/content/UAP_retrieval/data/test/oxford5k/jpg/oxford_002207.jpg', '/content/UAP_retrieval/data/test/oxford5k/jpg/new_000796.jpg', '/content/UAP_retrieval/data/test/oxford5k/jpg/ashmolean_000250.jpg', '/content/UAP_retrieval/data/test/oxford5k/jpg/radcliffe_camera_000108.jpg', '/content/UAP_retrieval/data/test/oxford5k/jpg/new_000053.jpg', '/content/UAP_retrieval/data/test/oxford5k/jpg/oxford_000486.jpg', '/content/UAP_retrieval/data/test/oxford5k/jpg/christ_church_000790.jpg', '/content/UAP_retrieval/data/test/oxford5k/jpg/oxford_000659.jpg', '/content/UAP_retrieval/data/test/oxford5k/jpg/oxford_001147.jpg', '/content/UAP_retrieval/data/test/oxford5k/jpg/bodleian_000289.jpg', '/content/UAP_retrieval/data/test/oxford5k/jpg/new_000390.jpg', '/content/UAP_retrieval/data/test/oxford5k/jpg/oxford_000542.jpg', '/content/UAP_retrieval/data/test/oxford5k/jpg/magdalen_000579.jpg', '/content/UAP_retrieval/data/test/oxford5k/jpg/magdalen_001018.jpg', '/content/UAP_retrieval/data/test/oxford5k/jpg/magdalen_000054.jpg', '/content/UAP_retrieval/data/test/oxford5k/jpg/oxford_000255.jpg', '/content/UAP_retrieval/data/test/oxford5k/jpg/radcliffe_camera_000408.jpg', '/content/UAP_retrieval/data/test/oxford5k/jpg/jesus_000005.jpg', '/content/UAP_retrieval/data/test/oxford5k/jpg/christ_church_000259.jpg', '/content/UAP_retrieval/data/test/oxford5k/jpg/magdalen_000103.jpg', '/content/UAP_retrieval/data/test/oxford5k/jpg/jesus_000331.jpg', '/content/UAP_retrieval/data/test/oxford5k/jpg/keble_000156.jpg', '/content/UAP_retrieval/data/test/oxford5k/jpg/radcliffe_camera_000268.jpg', '/content/UAP_retrieval/data/test/oxford5k/jpg/magdalen_000437.jpg', '/content/UAP_retrieval/data/test/oxford5k/jpg/trinity_000170.jpg', '/content/UAP_retrieval/data/test/oxford5k/jpg/oxford_000061.jpg', '/content/UAP_retrieval/data/test/oxford5k/jpg/cornmarket_000124.jpg', '/content/UAP_retrieval/data/test/oxford5k/jpg/oxford_003177.jpg', '/content/UAP_retrieval/data/test/oxford5k/jpg/magdalen_000978.jpg', '/content/UAP_retrieval/data/test/oxford5k/jpg/oxford_003477.jpg', '/content/UAP_retrieval/data/test/oxford5k/jpg/oxford_003432.jpg', '/content/UAP_retrieval/data/test/oxford5k/jpg/magdalen_001105.jpg', '/content/UAP_retrieval/data/test/oxford5k/jpg/new_000681.jpg', '/content/UAP_retrieval/data/test/oxford5k/jpg/oxford_002577.jpg', '/content/UAP_retrieval/data/test/oxford5k/jpg/oxford_000811.jpg', '/content/UAP_retrieval/data/test/oxford5k/jpg/magdalen_000116.jpg', '/content/UAP_retrieval/data/test/oxford5k/jpg/christ_church_000648.jpg', '/content/UAP_retrieval/data/test/oxford5k/jpg/magdalen_000694.jpg', '/content/UAP_retrieval/data/test/oxford5k/jpg/new_000798.jpg', '/content/UAP_retrieval/data/test/oxford5k/jpg/oxford_000022.jpg', '/content/UAP_retrieval/data/test/oxford5k/jpg/oxford_001923.jpg', '/content/UAP_retrieval/data/test/oxford5k/jpg/magdalen_000250.jpg', '/content/UAP_retrieval/data/test/oxford5k/jpg/all_souls_000210.jpg', '/content/UAP_retrieval/data/test/oxford5k/jpg/oriel_000050.jpg', '/content/UAP_retrieval/data/test/oxford5k/jpg/oxford_001392.jpg', '/content/UAP_retrieval/data/test/oxford5k/jpg/oxford_001484.jpg', '/content/UAP_retrieval/data/test/oxford5k/jpg/bodleian_000194.jpg', '/content/UAP_retrieval/data/test/oxford5k/jpg/trinity_000078.jpg', '/content/UAP_retrieval/data/test/oxford5k/jpg/magdalen_001009.jpg', '/content/UAP_retrieval/data/test/oxford5k/jpg/oxford_000009.jpg', '/content/UAP_retrieval/data/test/oxford5k/jpg/keble_000234.jpg', '/content/UAP_retrieval/data/test/oxford5k/jpg/new_000340.jpg', '/content/UAP_retrieval/data/test/oxford5k/jpg/all_souls_000068.jpg', '/content/UAP_retrieval/data/test/oxford5k/jpg/oxford_000859.jpg', '/content/UAP_retrieval/data/test/oxford5k/jpg/christ_church_000442.jpg', '/content/UAP_retrieval/data/test/oxford5k/jpg/oxford_001777.jpg', '/content/UAP_retrieval/data/test/oxford5k/jpg/oxford_000037.jpg', '/content/UAP_retrieval/data/test/oxford5k/jpg/christ_church_000001.jpg', '/content/UAP_retrieval/data/test/oxford5k/jpg/magdalen_000145.jpg', '/content/UAP_retrieval/data/test/oxford5k/jpg/balliol_000111.jpg', '/content/UAP_retrieval/data/test/oxford5k/jpg/ashmolean_000202.jpg', '/content/UAP_retrieval/data/test/oxford5k/jpg/christ_church_000330.jpg', '/content/UAP_retrieval/data/test/oxford5k/jpg/bodleian_000329.jpg', '/content/UAP_retrieval/data/test/oxford5k/jpg/oxford_002121.jpg', '/content/UAP_retrieval/data/test/oxford5k/jpg/magdalen_000030.jpg', '/content/UAP_retrieval/data/test/oxford5k/jpg/oxford_000585.jpg', '/content/UAP_retrieval/data/test/oxford5k/jpg/oxford_002651.jpg', '/content/UAP_retrieval/data/test/oxford5k/jpg/worcester_000140.jpg', '/content/UAP_retrieval/data/test/oxford5k/jpg/trinity_000272.jpg', '/content/UAP_retrieval/data/test/oxford5k/jpg/new_000365.jpg', '/content/UAP_retrieval/data/test/oxford5k/jpg/new_000865.jpg', '/content/UAP_retrieval/data/test/oxford5k/jpg/oxford_000425.jpg', '/content/UAP_retrieval/data/test/oxford5k/jpg/oxford_003326.jpg', '/content/UAP_retrieval/data/test/oxford5k/jpg/oxford_003108.jpg', '/content/UAP_retrieval/data/test/oxford5k/jpg/magdalen_000775.jpg', '/content/UAP_retrieval/data/test/oxford5k/jpg/oxford_000078.jpg', '/content/UAP_retrieval/data/test/oxford5k/jpg/magdalen_000758.jpg', '/content/UAP_retrieval/data/test/oxford5k/jpg/all_souls_000140.jpg', '/content/UAP_retrieval/data/test/oxford5k/jpg/radcliffe_camera_000437.jpg', '/content/UAP_retrieval/data/test/oxford5k/jpg/oxford_000456.jpg', '/content/UAP_retrieval/data/test/oxford5k/jpg/balliol_000108.jpg', '/content/UAP_retrieval/data/test/oxford5k/jpg/radcliffe_camera_000076.jpg', '/content/UAP_retrieval/data/test/oxford5k/jpg/oxford_003189.jpg', '/content/UAP_retrieval/data/test/oxford5k/jpg/christ_church_000093.jpg', '/content/UAP_retrieval/data/test/oxford5k/jpg/oxford_003564.jpg', '/content/UAP_retrieval/data/test/oxford5k/jpg/oxford_001211.jpg', '/content/UAP_retrieval/data/test/oxford5k/jpg/new_000180.jpg', '/content/UAP_retrieval/data/test/oxford5k/jpg/magdalen_001152.jpg', '/content/UAP_retrieval/data/test/oxford5k/jpg/oxford_002968.jpg', '/content/UAP_retrieval/data/test/oxford5k/jpg/radcliffe_camera_000035.jpg', '/content/UAP_retrieval/data/test/oxford5k/jpg/oxford_000986.jpg', '/content/UAP_retrieval/data/test/oxford5k/jpg/oxford_002726.jpg', '/content/UAP_retrieval/data/test/oxford5k/jpg/ashmolean_000170.jpg', '/content/UAP_retrieval/data/test/oxford5k/jpg/oxford_002277.jpg', '/content/UAP_retrieval/data/test/oxford5k/jpg/oriel_000115.jpg', '/content/UAP_retrieval/data/test/oxford5k/jpg/magdalen_001044.jpg', '/content/UAP_retrieval/data/test/oxford5k/jpg/keble_000035.jpg', '/content/UAP_retrieval/data/test/oxford5k/jpg/keble_000061.jpg', '/content/UAP_retrieval/data/test/oxford5k/jpg/radcliffe_camera_000189.jpg', '/content/UAP_retrieval/data/test/oxford5k/jpg/christ_church_001068.jpg', '/content/UAP_retrieval/data/test/oxford5k/jpg/christ_church_000183.jpg', '/content/UAP_retrieval/data/test/oxford5k/jpg/trinity_000106.jpg', '/content/UAP_retrieval/data/test/oxford5k/jpg/ashmolean_000007.jpg', '/content/UAP_retrieval/data/test/oxford5k/jpg/bodleian_000140.jpg', '/content/UAP_retrieval/data/test/oxford5k/jpg/pitt_rivers_000015.jpg', '/content/UAP_retrieval/data/test/oxford5k/jpg/bodleian_000001.jpg', '/content/UAP_retrieval/data/test/oxford5k/jpg/oxford_000144.jpg', '/content/UAP_retrieval/data/test/oxford5k/jpg/jesus_000282.jpg', '/content/UAP_retrieval/data/test/oxford5k/jpg/ashmolean_000287.jpg', '/content/UAP_retrieval/data/test/oxford5k/jpg/oxford_001463.jpg', '/content/UAP_retrieval/data/test/oxford5k/jpg/ashmolean_000058.jpg', '/content/UAP_retrieval/data/test/oxford5k/jpg/magdalen_001039.jpg', '/content/UAP_retrieval/data/test/oxford5k/jpg/jesus_000052.jpg', '/content/UAP_retrieval/data/test/oxford5k/jpg/new_001046.jpg', '/content/UAP_retrieval/data/test/oxford5k/jpg/christ_church_001029.jpg', '/content/UAP_retrieval/data/test/oxford5k/jpg/christ_church_000452.jpg', '/content/UAP_retrieval/data/test/oxford5k/jpg/radcliffe_camera_000539.jpg', '/content/UAP_retrieval/data/test/oxford5k/jpg/oxford_001861.jpg', '/content/UAP_retrieval/data/test/oxford5k/jpg/all_souls_000087.jpg', '/content/UAP_retrieval/data/test/oxford5k/jpg/oxford_003578.jpg', '/content/UAP_retrieval/data/test/oxford5k/jpg/oxford_002866.jpg', '/content/UAP_retrieval/data/test/oxford5k/jpg/new_000808.jpg', '/content/UAP_retrieval/data/test/oxford5k/jpg/ashmolean_000258.jpg', '/content/UAP_retrieval/data/test/oxford5k/jpg/oxford_003496.jpg', '/content/UAP_retrieval/data/test/oxford5k/jpg/oxford_000673.jpg', '/content/UAP_retrieval/data/test/oxford5k/jpg/oxford_001890.jpg', '/content/UAP_retrieval/data/test/oxford5k/jpg/all_souls_000013.jpg', '/content/UAP_retrieval/data/test/oxford5k/jpg/christ_church_001057.jpg', '/content/UAP_retrieval/data/test/oxford5k/jpg/trinity_000338.jpg', '/content/UAP_retrieval/data/test/oxford5k/jpg/magdalen_000223.jpg', '/content/UAP_retrieval/data/test/oxford5k/jpg/magdalen_000309.jpg', '/content/UAP_retrieval/data/test/oxford5k/jpg/pitt_rivers_000105.jpg', '/content/UAP_retrieval/data/test/oxford5k/jpg/ashmolean_000079.jpg', '/content/UAP_retrieval/data/test/oxford5k/jpg/worcester_000110.jpg', '/content/UAP_retrieval/data/test/oxford5k/jpg/oxford_002689.jpg', '/content/UAP_retrieval/data/test/oxford5k/jpg/christ_church_000667.jpg', '/content/UAP_retrieval/data/test/oxford5k/jpg/christ_church_000837.jpg', '/content/UAP_retrieval/data/test/oxford5k/jpg/trinity_000309.jpg', '/content/UAP_retrieval/data/test/oxford5k/jpg/christ_church_000819.jpg', '/content/UAP_retrieval/data/test/oxford5k/jpg/magdalen_000122.jpg', '/content/UAP_retrieval/data/test/oxford5k/jpg/new_000703.jpg', '/content/UAP_retrieval/data/test/oxford5k/jpg/balliol_000164.jpg', '/content/UAP_retrieval/data/test/oxford5k/jpg/oxford_000335.jpg', '/content/UAP_retrieval/data/test/oxford5k/jpg/oxford_001407.jpg', '/content/UAP_retrieval/data/test/oxford5k/jpg/keble_000028.jpg', '/content/UAP_retrieval/data/test/oxford5k/jpg/oxford_002976.jpg', '/content/UAP_retrieval/data/test/oxford5k/jpg/ashmolean_000309.jpg', '/content/UAP_retrieval/data/test/oxford5k/jpg/hertford_000018.jpg', '/content/UAP_retrieval/data/test/oxford5k/jpg/trinity_000046.jpg', '/content/UAP_retrieval/data/test/oxford5k/jpg/oxford_002678.jpg', '/content/UAP_retrieval/data/test/oxford5k/jpg/radcliffe_camera_000343.jpg', '/content/UAP_retrieval/data/test/oxford5k/jpg/radcliffe_camera_000543.jpg', '/content/UAP_retrieval/data/test/oxford5k/jpg/oxford_002284.jpg', '/content/UAP_retrieval/data/test/oxford5k/jpg/jesus_000275.jpg', '/content/UAP_retrieval/data/test/oxford5k/jpg/hertford_000099.jpg', '/content/UAP_retrieval/data/test/oxford5k/jpg/magdalen_000558.jpg', '/content/UAP_retrieval/data/test/oxford5k/jpg/christ_church_000108.jpg', '/content/UAP_retrieval/data/test/oxford5k/jpg/oxford_003566.jpg', '/content/UAP_retrieval/data/test/oxford5k/jpg/cornmarket_000023.jpg', '/content/UAP_retrieval/data/test/oxford5k/jpg/christ_church_000347.jpg', '/content/UAP_retrieval/data/test/oxford5k/jpg/radcliffe_camera_000115.jpg', '/content/UAP_retrieval/data/test/oxford5k/jpg/magdalen_001116.jpg', '/content/UAP_retrieval/data/test/oxford5k/jpg/christ_church_000838.jpg', '/content/UAP_retrieval/data/test/oxford5k/jpg/new_000456.jpg', '/content/UAP_retrieval/data/test/oxford5k/jpg/new_000936.jpg', '/content/UAP_retrieval/data/test/oxford5k/jpg/oxford_002724.jpg', '/content/UAP_retrieval/data/test/oxford5k/jpg/christ_church_000099.jpg', '/content/UAP_retrieval/data/test/oxford5k/jpg/magdalen_000237.jpg', '/content/UAP_retrieval/data/test/oxford5k/jpg/new_000032.jpg', '/content/UAP_retrieval/data/test/oxford5k/jpg/oxford_000834.jpg', '/content/UAP_retrieval/data/test/oxford5k/jpg/pitt_rivers_000057.jpg', '/content/UAP_retrieval/data/test/oxford5k/jpg/christ_church_000318.jpg', '/content/UAP_retrieval/data/test/oxford5k/jpg/oxford_002192.jpg', '/content/UAP_retrieval/data/test/oxford5k/jpg/keble_000183.jpg', '/content/UAP_retrieval/data/test/oxford5k/jpg/jesus_000001.jpg', '/content/UAP_retrieval/data/test/oxford5k/jpg/oxford_001599.jpg', '/content/UAP_retrieval/data/test/oxford5k/jpg/ashmolean_000305.jpg', '/content/UAP_retrieval/data/test/oxford5k/jpg/magdalen_000634.jpg', '/content/UAP_retrieval/data/test/oxford5k/jpg/magdalen_001100.jpg', '/content/UAP_retrieval/data/test/oxford5k/jpg/christ_church_000833.jpg', '/content/UAP_retrieval/data/test/oxford5k/jpg/jesus_000000.jpg', '/content/UAP_retrieval/data/test/oxford5k/jpg/christ_church_000810.jpg', '/content/UAP_retrieval/data/test/oxford5k/jpg/christ_church_000190.jpg', '/content/UAP_retrieval/data/test/oxford5k/jpg/christ_church_000090.jpg', '/content/UAP_retrieval/data/test/oxford5k/jpg/magdalen_000507.jpg', '/content/UAP_retrieval/data/test/oxford5k/jpg/oxford_000383.jpg', '/content/UAP_retrieval/data/test/oxford5k/jpg/magdalen_000570.jpg', '/content/UAP_retrieval/data/test/oxford5k/jpg/ashmolean_000306.jpg', '/content/UAP_retrieval/data/test/oxford5k/jpg/jesus_000343.jpg', '/content/UAP_retrieval/data/test/oxford5k/jpg/oxford_002415.jpg', '/content/UAP_retrieval/data/test/oxford5k/jpg/balliol_000158.jpg', '/content/UAP_retrieval/data/test/oxford5k/jpg/worcester_000112.jpg', '/content/UAP_retrieval/data/test/oxford5k/jpg/oxford_000814.jpg', '/content/UAP_retrieval/data/test/oxford5k/jpg/keble_000059.jpg', '/content/UAP_retrieval/data/test/oxford5k/jpg/oxford_001601.jpg', '/content/UAP_retrieval/data/test/oxford5k/jpg/new_000216.jpg', '/content/UAP_retrieval/data/test/oxford5k/jpg/christ_church_000592.jpg', '/content/UAP_retrieval/data/test/oxford5k/jpg/magdalen_000024.jpg', '/content/UAP_retrieval/data/test/oxford5k/jpg/new_000539.jpg', '/content/UAP_retrieval/data/test/oxford5k/jpg/oxford_002984.jpg', '/content/UAP_retrieval/data/test/oxford5k/jpg/all_souls_000132.jpg', '/content/UAP_retrieval/data/test/oxford5k/jpg/christ_church_000097.jpg', '/content/UAP_retrieval/data/test/oxford5k/jpg/magdalen_001043.jpg', '/content/UAP_retrieval/data/test/oxford5k/jpg/oxford_003424.jpg', '/content/UAP_retrieval/data/test/oxford5k/jpg/oxford_002286.jpg', '/content/UAP_retrieval/data/test/oxford5k/jpg/balliol_000007.jpg', '/content/UAP_retrieval/data/test/oxford5k/jpg/new_000831.jpg', '/content/UAP_retrieval/data/test/oxford5k/jpg/christ_church_000854.jpg', '/content/UAP_retrieval/data/test/oxford5k/jpg/all_souls_000114.jpg', '/content/UAP_retrieval/data/test/oxford5k/jpg/new_000556.jpg', '/content/UAP_retrieval/data/test/oxford5k/jpg/magdalen_000045.jpg', '/content/UAP_retrieval/data/test/oxford5k/jpg/oxford_002149.jpg', '/content/UAP_retrieval/data/test/oxford5k/jpg/all_souls_000010.jpg', '/content/UAP_retrieval/data/test/oxford5k/jpg/all_souls_000176.jpg', '/content/UAP_retrieval/data/test/oxford5k/jpg/balliol_000038.jpg', '/content/UAP_retrieval/data/test/oxford5k/jpg/new_000425.jpg', '/content/UAP_retrieval/data/test/oxford5k/jpg/oxford_002431.jpg', '/content/UAP_retrieval/data/test/oxford5k/jpg/oxford_000375.jpg', '/content/UAP_retrieval/data/test/oxford5k/jpg/all_souls_000216.jpg', '/content/UAP_retrieval/data/test/oxford5k/jpg/oriel_000072.jpg', '/content/UAP_retrieval/data/test/oxford5k/jpg/jesus_000061.jpg', '/content/UAP_retrieval/data/test/oxford5k/jpg/bodleian_000106.jpg', '/content/UAP_retrieval/data/test/oxford5k/jpg/oriel_000087.jpg', '/content/UAP_retrieval/data/test/oxford5k/jpg/oxford_001505.jpg', '/content/UAP_retrieval/data/test/oxford5k/jpg/all_souls_000175.jpg', '/content/UAP_retrieval/data/test/oxford5k/jpg/christ_church_000575.jpg', '/content/UAP_retrieval/data/test/oxford5k/jpg/oxford_000065.jpg', '/content/UAP_retrieval/data/test/oxford5k/jpg/trinity_000372.jpg', '/content/UAP_retrieval/data/test/oxford5k/jpg/ashmolean_000193.jpg', '/content/UAP_retrieval/data/test/oxford5k/jpg/christ_church_000191.jpg', '/content/UAP_retrieval/data/test/oxford5k/jpg/hertford_000033.jpg', '/content/UAP_retrieval/data/test/oxford5k/jpg/christ_church_000135.jpg', '/content/UAP_retrieval/data/test/oxford5k/jpg/oxford_002823.jpg', '/content/UAP_retrieval/data/test/oxford5k/jpg/oxford_000762.jpg', '/content/UAP_retrieval/data/test/oxford5k/jpg/oxford_001102.jpg', '/content/UAP_retrieval/data/test/oxford5k/jpg/balliol_000055.jpg', '/content/UAP_retrieval/data/test/oxford5k/jpg/christ_church_000274.jpg', '/content/UAP_retrieval/data/test/oxford5k/jpg/oxford_002542.jpg', '/content/UAP_retrieval/data/test/oxford5k/jpg/new_000328.jpg', '/content/UAP_retrieval/data/test/oxford5k/jpg/keble_000175.jpg', '/content/UAP_retrieval/data/test/oxford5k/jpg/jesus_000335.jpg', '/content/UAP_retrieval/data/test/oxford5k/jpg/magdalen_000102.jpg', '/content/UAP_retrieval/data/test/oxford5k/jpg/oxford_002692.jpg', '/content/UAP_retrieval/data/test/oxford5k/jpg/radcliffe_camera_000193.jpg', '/content/UAP_retrieval/data/test/oxford5k/jpg/oxford_003539.jpg', '/content/UAP_retrieval/data/test/oxford5k/jpg/magdalen_000175.jpg', '/content/UAP_retrieval/data/test/oxford5k/jpg/christ_church_000565.jpg', '/content/UAP_retrieval/data/test/oxford5k/jpg/christ_church_000583.jpg', '/content/UAP_retrieval/data/test/oxford5k/jpg/bodleian_000152.jpg', '/content/UAP_retrieval/data/test/oxford5k/jpg/radcliffe_camera_000559.jpg', '/content/UAP_retrieval/data/test/oxford5k/jpg/new_000098.jpg', '/content/UAP_retrieval/data/test/oxford5k/jpg/magdalen_000994.jpg', '/content/UAP_retrieval/data/test/oxford5k/jpg/new_000889.jpg', '/content/UAP_retrieval/data/test/oxford5k/jpg/magdalen_000941.jpg', '/content/UAP_retrieval/data/test/oxford5k/jpg/oxford_002338.jpg', '/content/UAP_retrieval/data/test/oxford5k/jpg/magdalen_000158.jpg', '/content/UAP_retrieval/data/test/oxford5k/jpg/jesus_000337.jpg', '/content/UAP_retrieval/data/test/oxford5k/jpg/oxford_001108.jpg', '/content/UAP_retrieval/data/test/oxford5k/jpg/trinity_000012.jpg', '/content/UAP_retrieval/data/test/oxford5k/jpg/christ_church_001036.jpg', '/content/UAP_retrieval/data/test/oxford5k/jpg/new_001022.jpg', '/content/UAP_retrieval/data/test/oxford5k/jpg/bodleian_000381.jpg', '/content/UAP_retrieval/data/test/oxford5k/jpg/christ_church_001061.jpg', '/content/UAP_retrieval/data/test/oxford5k/jpg/christ_church_000061.jpg', '/content/UAP_retrieval/data/test/oxford5k/jpg/radcliffe_camera_000098.jpg', '/content/UAP_retrieval/data/test/oxford5k/jpg/oxford_000007.jpg', '/content/UAP_retrieval/data/test/oxford5k/jpg/ashmolean_000261.jpg', '/content/UAP_retrieval/data/test/oxford5k/jpg/oxford_000014.jpg', '/content/UAP_retrieval/data/test/oxford5k/jpg/ashmolean_000263.jpg', '/content/UAP_retrieval/data/test/oxford5k/jpg/bodleian_000201.jpg', '/content/UAP_retrieval/data/test/oxford5k/jpg/jesus_000299.jpg', '/content/UAP_retrieval/data/test/oxford5k/jpg/keble_000190.jpg', '/content/UAP_retrieval/data/test/oxford5k/jpg/christ_church_000873.jpg', '/content/UAP_retrieval/data/test/oxford5k/jpg/bodleian_000360.jpg', '/content/UAP_retrieval/data/test/oxford5k/jpg/keble_000199.jpg', '/content/UAP_retrieval/data/test/oxford5k/jpg/oxford_000734.jpg', '/content/UAP_retrieval/data/test/oxford5k/jpg/magdalen_000042.jpg', '/content/UAP_retrieval/data/test/oxford5k/jpg/oriel_000043.jpg', '/content/UAP_retrieval/data/test/oxford5k/jpg/balliol_000100.jpg', '/content/UAP_retrieval/data/test/oxford5k/jpg/trinity_000064.jpg', '/content/UAP_retrieval/data/test/oxford5k/jpg/worcester_000150.jpg', '/content/UAP_retrieval/data/test/oxford5k/jpg/new_000760.jpg', '/content/UAP_retrieval/data/test/oxford5k/jpg/oxford_002956.jpg', '/content/UAP_retrieval/data/test/oxford5k/jpg/new_000740.jpg', '/content/UAP_retrieval/data/test/oxford5k/jpg/all_souls_000067.jpg', '/content/UAP_retrieval/data/test/oxford5k/jpg/magdalen_000373.jpg', '/content/UAP_retrieval/data/test/oxford5k/jpg/new_000297.jpg', '/content/UAP_retrieval/data/test/oxford5k/jpg/radcliffe_camera_000282.jpg', '/content/UAP_retrieval/data/test/oxford5k/jpg/oxford_002345.jpg', '/content/UAP_retrieval/data/test/oxford5k/jpg/magdalen_000236.jpg', '/content/UAP_retrieval/data/test/oxford5k/jpg/magdalen_001031.jpg', '/content/UAP_retrieval/data/test/oxford5k/jpg/all_souls_000174.jpg', '/content/UAP_retrieval/data/test/oxford5k/jpg/keble_000165.jpg', '/content/UAP_retrieval/data/test/oxford5k/jpg/hertford_000013.jpg', '/content/UAP_retrieval/data/test/oxford5k/jpg/radcliffe_camera_000466.jpg', '/content/UAP_retrieval/data/test/oxford5k/jpg/magdalen_000693.jpg', '/content/UAP_retrieval/data/test/oxford5k/jpg/ashmolean_000064.jpg', '/content/UAP_retrieval/data/test/oxford5k/jpg/bodleian_000355.jpg', '/content/UAP_retrieval/data/test/oxford5k/jpg/magdalen_000827.jpg', '/content/UAP_retrieval/data/test/oxford5k/jpg/radcliffe_camera_000423.jpg', '/content/UAP_retrieval/data/test/oxford5k/jpg/oxford_001503.jpg', '/content/UAP_retrieval/data/test/oxford5k/jpg/oxford_000128.jpg', '/content/UAP_retrieval/data/test/oxford5k/jpg/oxford_000780.jpg', '/content/UAP_retrieval/data/test/oxford5k/jpg/christ_church_000706.jpg', '/content/UAP_retrieval/data/test/oxford5k/jpg/keble_000057.jpg', '/content/UAP_retrieval/data/test/oxford5k/jpg/trinity_000034.jpg', '/content/UAP_retrieval/data/test/oxford5k/jpg/balliol_000202.jpg', '/content/UAP_retrieval/data/test/oxford5k/jpg/worcester_000134.jpg', '/content/UAP_retrieval/data/test/oxford5k/jpg/jesus_000322.jpg', '/content/UAP_retrieval/data/test/oxford5k/jpg/christ_church_001049.jpg', '/content/UAP_retrieval/data/test/oxford5k/jpg/christ_church_000185.jpg', '/content/UAP_retrieval/data/test/oxford5k/jpg/magdalen_000691.jpg', '/content/UAP_retrieval/data/test/oxford5k/jpg/trinity_000004.jpg', '/content/UAP_retrieval/data/test/oxford5k/jpg/oxford_002971.jpg', '/content/UAP_retrieval/data/test/oxford5k/jpg/christ_church_000820.jpg', '/content/UAP_retrieval/data/test/oxford5k/jpg/oxford_002569.jpg', '/content/UAP_retrieval/data/test/oxford5k/jpg/oxford_002892.jpg', '/content/UAP_retrieval/data/test/oxford5k/jpg/magdalen_000732.jpg', '/content/UAP_retrieval/data/test/oxford5k/jpg/magdalen_000488.jpg', '/content/UAP_retrieval/data/test/oxford5k/jpg/radcliffe_camera_000065.jpg', '/content/UAP_retrieval/data/test/oxford5k/jpg/jesus_000265.jpg', '/content/UAP_retrieval/data/test/oxford5k/jpg/jesus_000321.jpg', '/content/UAP_retrieval/data/test/oxford5k/jpg/oxford_001634.jpg', '/content/UAP_retrieval/data/test/oxford5k/jpg/oxford_001585.jpg', '/content/UAP_retrieval/data/test/oxford5k/jpg/radcliffe_camera_000459.jpg', '/content/UAP_retrieval/data/test/oxford5k/jpg/cornmarket_000074.jpg', '/content/UAP_retrieval/data/test/oxford5k/jpg/christ_church_000352.jpg', '/content/UAP_retrieval/data/test/oxford5k/jpg/oxford_001881.jpg', '/content/UAP_retrieval/data/test/oxford5k/jpg/bodleian_000119.jpg', '/content/UAP_retrieval/data/test/oxford5k/jpg/oxford_002584.jpg', '/content/UAP_retrieval/data/test/oxford5k/jpg/magdalen_000736.jpg', '/content/UAP_retrieval/data/test/oxford5k/jpg/oxford_003367.jpg', '/content/UAP_retrieval/data/test/oxford5k/jpg/christ_church_000403.jpg', '/content/UAP_retrieval/data/test/oxford5k/jpg/magdalen_000971.jpg', '/content/UAP_retrieval/data/test/oxford5k/jpg/oxford_000015.jpg', '/content/UAP_retrieval/data/test/oxford5k/jpg/magdalen_000639.jpg', '/content/UAP_retrieval/data/test/oxford5k/jpg/christ_church_000067.jpg', '/content/UAP_retrieval/data/test/oxford5k/jpg/oxford_000203.jpg', '/content/UAP_retrieval/data/test/oxford5k/jpg/oxford_001962.jpg', '/content/UAP_retrieval/data/test/oxford5k/jpg/keble_000079.jpg', '/content/UAP_retrieval/data/test/oxford5k/jpg/trinity_000066.jpg', '/content/UAP_retrieval/data/test/oxford5k/jpg/new_000723.jpg', '/content/UAP_retrieval/data/test/oxford5k/jpg/magdalen_000222.jpg', '/content/UAP_retrieval/data/test/oxford5k/jpg/oxford_000334.jpg', '/content/UAP_retrieval/data/test/oxford5k/jpg/oxford_001437.jpg', '/content/UAP_retrieval/data/test/oxford5k/jpg/trinity_000139.jpg', '/content/UAP_retrieval/data/test/oxford5k/jpg/ashmolean_000314.jpg', '/content/UAP_retrieval/data/test/oxford5k/jpg/bodleian_000430.jpg', '/content/UAP_retrieval/data/test/oxford5k/jpg/radcliffe_camera_000397.jpg', '/content/UAP_retrieval/data/test/oxford5k/jpg/christ_church_001063.jpg', '/content/UAP_retrieval/data/test/oxford5k/jpg/radcliffe_camera_000433.jpg', '/content/UAP_retrieval/data/test/oxford5k/jpg/bodleian_000073.jpg', '/content/UAP_retrieval/data/test/oxford5k/jpg/magdalen_000302.jpg', '/content/UAP_retrieval/data/test/oxford5k/jpg/magdalen_000531.jpg', '/content/UAP_retrieval/data/test/oxford5k/jpg/new_000335.jpg', '/content/UAP_retrieval/data/test/oxford5k/jpg/radcliffe_camera_000038.jpg', '/content/UAP_retrieval/data/test/oxford5k/jpg/oxford_001150.jpg', '/content/UAP_retrieval/data/test/oxford5k/jpg/magdalen_000128.jpg', '/content/UAP_retrieval/data/test/oxford5k/jpg/oxford_002496.jpg', '/content/UAP_retrieval/data/test/oxford5k/jpg/oxford_002553.jpg', '/content/UAP_retrieval/data/test/oxford5k/jpg/new_000791.jpg', '/content/UAP_retrieval/data/test/oxford5k/jpg/magdalen_000726.jpg', '/content/UAP_retrieval/data/test/oxford5k/jpg/balliol_000197.jpg', '/content/UAP_retrieval/data/test/oxford5k/jpg/all_souls_000192.jpg', '/content/UAP_retrieval/data/test/oxford5k/jpg/radcliffe_camera_000290.jpg', '/content/UAP_retrieval/data/test/oxford5k/jpg/magdalen_000991.jpg', '/content/UAP_retrieval/data/test/oxford5k/jpg/worcester_000180.jpg', '/content/UAP_retrieval/data/test/oxford5k/jpg/oxford_002881.jpg', '/content/UAP_retrieval/data/test/oxford5k/jpg/trinity_000367.jpg', '/content/UAP_retrieval/data/test/oxford5k/jpg/magdalen_001010.jpg', '/content/UAP_retrieval/data/test/oxford5k/jpg/new_000388.jpg', '/content/UAP_retrieval/data/test/oxford5k/jpg/balliol_000058.jpg', '/content/UAP_retrieval/data/test/oxford5k/jpg/trinity_000299.jpg', '/content/UAP_retrieval/data/test/oxford5k/jpg/oxford_003266.jpg', '/content/UAP_retrieval/data/test/oxford5k/jpg/new_000839.jpg', '/content/UAP_retrieval/data/test/oxford5k/jpg/bodleian_000192.jpg', '/content/UAP_retrieval/data/test/oxford5k/jpg/oxford_002502.jpg', '/content/UAP_retrieval/data/test/oxford5k/jpg/new_001003.jpg', '/content/UAP_retrieval/data/test/oxford5k/jpg/oxford_002400.jpg', '/content/UAP_retrieval/data/test/oxford5k/jpg/new_000226.jpg', '/content/UAP_retrieval/data/test/oxford5k/jpg/radcliffe_camera_000022.jpg', '/content/UAP_retrieval/data/test/oxford5k/jpg/oxford_001452.jpg', '/content/UAP_retrieval/data/test/oxford5k/jpg/oxford_002131.jpg', '/content/UAP_retrieval/data/test/oxford5k/jpg/oxford_003528.jpg', '/content/UAP_retrieval/data/test/oxford5k/jpg/trinity_000200.jpg', '/content/UAP_retrieval/data/test/oxford5k/jpg/christ_church_000803.jpg', '/content/UAP_retrieval/data/test/oxford5k/jpg/all_souls_000016.jpg', '/content/UAP_retrieval/data/test/oxford5k/jpg/cornmarket_000055.jpg', '/content/UAP_retrieval/data/test/oxford5k/jpg/magdalen_000522.jpg', '/content/UAP_retrieval/data/test/oxford5k/jpg/radcliffe_camera_000360.jpg', '/content/UAP_retrieval/data/test/oxford5k/jpg/oxford_002403.jpg', '/content/UAP_retrieval/data/test/oxford5k/jpg/radcliffe_camera_000552.jpg', '/content/UAP_retrieval/data/test/oxford5k/jpg/trinity_000341.jpg', '/content/UAP_retrieval/data/test/oxford5k/jpg/oriel_000042.jpg', '/content/UAP_retrieval/data/test/oxford5k/jpg/oxford_002596.jpg', '/content/UAP_retrieval/data/test/oxford5k/jpg/jesus_000281.jpg', '/content/UAP_retrieval/data/test/oxford5k/jpg/bodleian_000400.jpg', '/content/UAP_retrieval/data/test/oxford5k/jpg/magdalen_000744.jpg', '/content/UAP_retrieval/data/test/oxford5k/jpg/new_000707.jpg', '/content/UAP_retrieval/data/test/oxford5k/jpg/new_000002.jpg', '/content/UAP_retrieval/data/test/oxford5k/jpg/balliol_000078.jpg', '/content/UAP_retrieval/data/test/oxford5k/jpg/christ_church_000071.jpg', '/content/UAP_retrieval/data/test/oxford5k/jpg/jesus_000326.jpg', '/content/UAP_retrieval/data/test/oxford5k/jpg/keble_000208.jpg', '/content/UAP_retrieval/data/test/oxford5k/jpg/magdalen_000513.jpg', '/content/UAP_retrieval/data/test/oxford5k/jpg/oxford_003428.jpg', '/content/UAP_retrieval/data/test/oxford5k/jpg/ashmolean_000059.jpg', '/content/UAP_retrieval/data/test/oxford5k/jpg/magdalen_000965.jpg', '/content/UAP_retrieval/data/test/oxford5k/jpg/jesus_000062.jpg', '/content/UAP_retrieval/data/test/oxford5k/jpg/oxford_000493.jpg', '/content/UAP_retrieval/data/test/oxford5k/jpg/magdalen_000213.jpg', '/content/UAP_retrieval/data/test/oxford5k/jpg/balliol_000135.jpg', '/content/UAP_retrieval/data/test/oxford5k/jpg/trinity_000270.jpg', '/content/UAP_retrieval/data/test/oxford5k/jpg/oxford_002172.jpg', '/content/UAP_retrieval/data/test/oxford5k/jpg/ashmolean_000285.jpg', '/content/UAP_retrieval/data/test/oxford5k/jpg/bodleian_000376.jpg', '/content/UAP_retrieval/data/test/oxford5k/jpg/oxford_001491.jpg', '/content/UAP_retrieval/data/test/oxford5k/jpg/oriel_000095.jpg', '/content/UAP_retrieval/data/test/oxford5k/jpg/magdalen_000866.jpg', '/content/UAP_retrieval/data/test/oxford5k/jpg/ashmolean_000123.jpg', '/content/UAP_retrieval/data/test/oxford5k/jpg/christ_church_000736.jpg', '/content/UAP_retrieval/data/test/oxford5k/jpg/christ_church_000289.jpg', '/content/UAP_retrieval/data/test/oxford5k/jpg/balliol_000192.jpg', '/content/UAP_retrieval/data/test/oxford5k/jpg/new_000952.jpg', '/content/UAP_retrieval/data/test/oxford5k/jpg/oxford_001440.jpg', '/content/UAP_retrieval/data/test/oxford5k/jpg/balliol_000112.jpg', '/content/UAP_retrieval/data/test/oxford5k/jpg/bodleian_000398.jpg', '/content/UAP_retrieval/data/test/oxford5k/jpg/balliol_000017.jpg', '/content/UAP_retrieval/data/test/oxford5k/jpg/oxford_001911.jpg', '/content/UAP_retrieval/data/test/oxford5k/jpg/christ_church_000392.jpg', '/content/UAP_retrieval/data/test/oxford5k/jpg/ashmolean_000221.jpg', '/content/UAP_retrieval/data/test/oxford5k/jpg/magdalen_000146.jpg', '/content/UAP_retrieval/data/test/oxford5k/jpg/jesus_000369.jpg', '/content/UAP_retrieval/data/test/oxford5k/jpg/oxford_001216.jpg', '/content/UAP_retrieval/data/test/oxford5k/jpg/bodleian_000300.jpg', '/content/UAP_retrieval/data/test/oxford5k/jpg/keble_000243.jpg', '/content/UAP_retrieval/data/test/oxford5k/jpg/oxford_000562.jpg', '/content/UAP_retrieval/data/test/oxford5k/jpg/pitt_rivers_000113.jpg', '/content/UAP_retrieval/data/test/oxford5k/jpg/trinity_000327.jpg', '/content/UAP_retrieval/data/test/oxford5k/jpg/new_000418.jpg', '/content/UAP_retrieval/data/test/oxford5k/jpg/ashmolean_000063.jpg', '/content/UAP_retrieval/data/test/oxford5k/jpg/radcliffe_camera_000086.jpg', '/content/UAP_retrieval/data/test/oxford5k/jpg/bodleian_000361.jpg', '/content/UAP_retrieval/data/test/oxford5k/jpg/worcester_000061.jpg', '/content/UAP_retrieval/data/test/oxford5k/jpg/oxford_003373.jpg', '/content/UAP_retrieval/data/test/oxford5k/jpg/magdalen_000651.jpg', '/content/UAP_retrieval/data/test/oxford5k/jpg/christ_church_000974.jpg', '/content/UAP_retrieval/data/test/oxford5k/jpg/jesus_000319.jpg', '/content/UAP_retrieval/data/test/oxford5k/jpg/new_000301.jpg', '/content/UAP_retrieval/data/test/oxford5k/jpg/radcliffe_camera_000031.jpg', '/content/UAP_retrieval/data/test/oxford5k/jpg/all_souls_000047.jpg', '/content/UAP_retrieval/data/test/oxford5k/jpg/cornmarket_000079.jpg', '/content/UAP_retrieval/data/test/oxford5k/jpg/oxford_003056.jpg', '/content/UAP_retrieval/data/test/oxford5k/jpg/magdalen_000423.jpg', '/content/UAP_retrieval/data/test/oxford5k/jpg/balliol_000188.jpg', '/content/UAP_retrieval/data/test/oxford5k/jpg/christ_church_001048.jpg', '/content/UAP_retrieval/data/test/oxford5k/jpg/oxford_001188.jpg', '/content/UAP_retrieval/data/test/oxford5k/jpg/jesus_000272.jpg', '/content/UAP_retrieval/data/test/oxford5k/jpg/new_000771.jpg', '/content/UAP_retrieval/data/test/oxford5k/jpg/oxford_003069.jpg', '/content/UAP_retrieval/data/test/oxford5k/jpg/christ_church_000977.jpg', '/content/UAP_retrieval/data/test/oxford5k/jpg/new_000678.jpg', '/content/UAP_retrieval/data/test/oxford5k/jpg/christ_church_000537.jpg', '/content/UAP_retrieval/data/test/oxford5k/jpg/oxford_003046.jpg', '/content/UAP_retrieval/data/test/oxford5k/jpg/bodleian_000356.jpg', '/content/UAP_retrieval/data/test/oxford5k/jpg/christ_church_000828.jpg', '/content/UAP_retrieval/data/test/oxford5k/jpg/magdalen_000843.jpg', '/content/UAP_retrieval/data/test/oxford5k/jpg/magdalen_000585.jpg', '/content/UAP_retrieval/data/test/oxford5k/jpg/christ_church_000360.jpg', '/content/UAP_retrieval/data/test/oxford5k/jpg/magdalen_000855.jpg', '/content/UAP_retrieval/data/test/oxford5k/jpg/magdalen_000605.jpg', '/content/UAP_retrieval/data/test/oxford5k/jpg/new_000603.jpg', '/content/UAP_retrieval/data/test/oxford5k/jpg/oxford_002155.jpg', '/content/UAP_retrieval/data/test/oxford5k/jpg/all_souls_000031.jpg', '/content/UAP_retrieval/data/test/oxford5k/jpg/christ_church_000852.jpg', '/content/UAP_retrieval/data/test/oxford5k/jpg/jesus_000293.jpg', '/content/UAP_retrieval/data/test/oxford5k/jpg/oriel_000005.jpg', '/content/UAP_retrieval/data/test/oxford5k/jpg/oxford_003111.jpg', '/content/UAP_retrieval/data/test/oxford5k/jpg/magdalen_000080.jpg', '/content/UAP_retrieval/data/test/oxford5k/jpg/new_000447.jpg', '/content/UAP_retrieval/data/test/oxford5k/jpg/ashmolean_000296.jpg', '/content/UAP_retrieval/data/test/oxford5k/jpg/oxford_000575.jpg', '/content/UAP_retrieval/data/test/oxford5k/jpg/oriel_000006.jpg', '/content/UAP_retrieval/data/test/oxford5k/jpg/radcliffe_camera_000361.jpg', '/content/UAP_retrieval/data/test/oxford5k/jpg/new_000123.jpg', '/content/UAP_retrieval/data/test/oxford5k/jpg/keble_000169.jpg', '/content/UAP_retrieval/data/test/oxford5k/jpg/christ_church_000958.jpg', '/content/UAP_retrieval/data/test/oxford5k/jpg/new_000259.jpg', '/content/UAP_retrieval/data/test/oxford5k/jpg/christ_church_000181.jpg', '/content/UAP_retrieval/data/test/oxford5k/jpg/magdalen_000191.jpg', '/content/UAP_retrieval/data/test/oxford5k/jpg/bodleian_000150.jpg', '/content/UAP_retrieval/data/test/oxford5k/jpg/christ_church_000933.jpg', '/content/UAP_retrieval/data/test/oxford5k/jpg/pitt_rivers_000117.jpg', '/content/UAP_retrieval/data/test/oxford5k/jpg/jesus_000260.jpg', '/content/UAP_retrieval/data/test/oxford5k/jpg/oxford_002594.jpg', '/content/UAP_retrieval/data/test/oxford5k/jpg/christ_church_000081.jpg', '/content/UAP_retrieval/data/test/oxford5k/jpg/trinity_000328.jpg', '/content/UAP_retrieval/data/test/oxford5k/jpg/christ_church_000228.jpg', '/content/UAP_retrieval/data/test/oxford5k/jpg/magdalen_000079.jpg', '/content/UAP_retrieval/data/test/oxford5k/jpg/oxford_003041.jpg', '/content/UAP_retrieval/data/test/oxford5k/jpg/oxford_000677.jpg', '/content/UAP_retrieval/data/test/oxford5k/jpg/oxford_001523.jpg', '/content/UAP_retrieval/data/test/oxford5k/jpg/oxford_000730.jpg', '/content/UAP_retrieval/data/test/oxford5k/jpg/oxford_002133.jpg', '/content/UAP_retrieval/data/test/oxford5k/jpg/bodleian_000298.jpg', '/content/UAP_retrieval/data/test/oxford5k/jpg/bodleian_000366.jpg', '/content/UAP_retrieval/data/test/oxford5k/jpg/radcliffe_camera_000096.jpg', '/content/UAP_retrieval/data/test/oxford5k/jpg/oxford_000695.jpg', '/content/UAP_retrieval/data/test/oxford5k/jpg/magdalen_000503.jpg', '/content/UAP_retrieval/data/test/oxford5k/jpg/radcliffe_camera_000050.jpg', '/content/UAP_retrieval/data/test/oxford5k/jpg/bodleian_000038.jpg', '/content/UAP_retrieval/data/test/oxford5k/jpg/oriel_000062.jpg', '/content/UAP_retrieval/data/test/oxford5k/jpg/oxford_002551.jpg', '/content/UAP_retrieval/data/test/oxford5k/jpg/new_000488.jpg', '/content/UAP_retrieval/data/test/oxford5k/jpg/new_000800.jpg', '/content/UAP_retrieval/data/test/oxford5k/jpg/new_000755.jpg', '/content/UAP_retrieval/data/test/oxford5k/jpg/keble_000251.jpg', '/content/UAP_retrieval/data/test/oxford5k/jpg/bodleian_000371.jpg', '/content/UAP_retrieval/data/test/oxford5k/jpg/oxford_000525.jpg', '/content/UAP_retrieval/data/test/oxford5k/jpg/new_000485.jpg', '/content/UAP_retrieval/data/test/oxford5k/jpg/oxford_002038.jpg', '/content/UAP_retrieval/data/test/oxford5k/jpg/new_000236.jpg', '/content/UAP_retrieval/data/test/oxford5k/jpg/new_000331.jpg', '/content/UAP_retrieval/data/test/oxford5k/jpg/balliol_000080.jpg', '/content/UAP_retrieval/data/test/oxford5k/jpg/keble_000237.jpg', '/content/UAP_retrieval/data/test/oxford5k/jpg/christ_church_000814.jpg', '/content/UAP_retrieval/data/test/oxford5k/jpg/oxford_003543.jpg', '/content/UAP_retrieval/data/test/oxford5k/jpg/magdalen_000231.jpg', '/content/UAP_retrieval/data/test/oxford5k/jpg/oxford_002537.jpg', '/content/UAP_retrieval/data/test/oxford5k/jpg/magdalen_000477.jpg', '/content/UAP_retrieval/data/test/oxford5k/jpg/oxford_003249.jpg', '/content/UAP_retrieval/data/test/oxford5k/jpg/oxford_003456.jpg', '/content/UAP_retrieval/data/test/oxford5k/jpg/radcliffe_camera_000297.jpg', '/content/UAP_retrieval/data/test/oxford5k/jpg/pitt_rivers_000195.jpg', '/content/UAP_retrieval/data/test/oxford5k/jpg/ashmolean_000200.jpg', '/content/UAP_retrieval/data/test/oxford5k/jpg/oxford_002597.jpg', '/content/UAP_retrieval/data/test/oxford5k/jpg/magdalen_000674.jpg', '/content/UAP_retrieval/data/test/oxford5k/jpg/radcliffe_camera_000063.jpg', '/content/UAP_retrieval/data/test/oxford5k/jpg/radcliffe_camera_000468.jpg', '/content/UAP_retrieval/data/test/oxford5k/jpg/balliol_000196.jpg', '/content/UAP_retrieval/data/test/oxford5k/jpg/oxford_002701.jpg', '/content/UAP_retrieval/data/test/oxford5k/jpg/new_000962.jpg', '/content/UAP_retrieval/data/test/oxford5k/jpg/oxford_003672.jpg', '/content/UAP_retrieval/data/test/oxford5k/jpg/hertford_000064.jpg', '/content/UAP_retrieval/data/test/oxford5k/jpg/new_000070.jpg', '/content/UAP_retrieval/data/test/oxford5k/jpg/christ_church_000752.jpg', '/content/UAP_retrieval/data/test/oxford5k/jpg/new_000118.jpg', '/content/UAP_retrieval/data/test/oxford5k/jpg/oxford_002006.jpg', '/content/UAP_retrieval/data/test/oxford5k/jpg/magdalen_001148.jpg', '/content/UAP_retrieval/data/test/oxford5k/jpg/ashmolean_000223.jpg', '/content/UAP_retrieval/data/test/oxford5k/jpg/christ_church_001016.jpg', '/content/UAP_retrieval/data/test/oxford5k/jpg/christ_church_000811.jpg', '/content/UAP_retrieval/data/test/oxford5k/jpg/christ_church_000003.jpg', '/content/UAP_retrieval/data/test/oxford5k/jpg/radcliffe_camera_000047.jpg', '/content/UAP_retrieval/data/test/oxford5k/jpg/magdalen_000023.jpg', '/content/UAP_retrieval/data/test/oxford5k/jpg/bodleian_000061.jpg', '/content/UAP_retrieval/data/test/oxford5k/jpg/bodleian_000002.jpg', '/content/UAP_retrieval/data/test/oxford5k/jpg/all_souls_000003.jpg', '/content/UAP_retrieval/data/test/oxford5k/jpg/oxford_002670.jpg', '/content/UAP_retrieval/data/test/oxford5k/jpg/ashmolean_000129.jpg', '/content/UAP_retrieval/data/test/oxford5k/jpg/christ_church_000198.jpg', '/content/UAP_retrieval/data/test/oxford5k/jpg/christ_church_000372.jpg', '/content/UAP_retrieval/data/test/oxford5k/jpg/oxford_001868.jpg', '/content/UAP_retrieval/data/test/oxford5k/jpg/oxford_003269.jpg', '/content/UAP_retrieval/data/test/oxford5k/jpg/radcliffe_camera_000163.jpg', '/content/UAP_retrieval/data/test/oxford5k/jpg/oxford_002336.jpg', '/content/UAP_retrieval/data/test/oxford5k/jpg/bodleian_000013.jpg', '/content/UAP_retrieval/data/test/oxford5k/jpg/trinity_000079.jpg', '/content/UAP_retrieval/data/test/oxford5k/jpg/hertford_000086.jpg', '/content/UAP_retrieval/data/test/oxford5k/jpg/trinity_000071.jpg', '/content/UAP_retrieval/data/test/oxford5k/jpg/christ_church_000157.jpg', '/content/UAP_retrieval/data/test/oxford5k/jpg/balliol_000015.jpg', '/content/UAP_retrieval/data/test/oxford5k/jpg/oxford_000388.jpg', '/content/UAP_retrieval/data/test/oxford5k/jpg/new_000172.jpg', '/content/UAP_retrieval/data/test/oxford5k/jpg/christ_church_001035.jpg', '/content/UAP_retrieval/data/test/oxford5k/jpg/pitt_rivers_000127.jpg', '/content/UAP_retrieval/data/test/oxford5k/jpg/pitt_rivers_000008.jpg', '/content/UAP_retrieval/data/test/oxford5k/jpg/jesus_000382.jpg', '/content/UAP_retrieval/data/test/oxford5k/jpg/magdalen_000004.jpg', '/content/UAP_retrieval/data/test/oxford5k/jpg/oxford_002359.jpg', '/content/UAP_retrieval/data/test/oxford5k/jpg/balliol_000109.jpg', '/content/UAP_retrieval/data/test/oxford5k/jpg/oxford_000341.jpg', '/content/UAP_retrieval/data/test/oxford5k/jpg/magdalen_001013.jpg', '/content/UAP_retrieval/data/test/oxford5k/jpg/trinity_000108.jpg', '/content/UAP_retrieval/data/test/oxford5k/jpg/bodleian_000275.jpg', '/content/UAP_retrieval/data/test/oxford5k/jpg/bodleian_000249.jpg', '/content/UAP_retrieval/data/test/oxford5k/jpg/new_000040.jpg', '/content/UAP_retrieval/data/test/oxford5k/jpg/magdalen_000155.jpg', '/content/UAP_retrieval/data/test/oxford5k/jpg/radcliffe_camera_000004.jpg', '/content/UAP_retrieval/data/test/oxford5k/jpg/magdalen_000783.jpg', '/content/UAP_retrieval/data/test/oxford5k/jpg/christ_church_001001.jpg', '/content/UAP_retrieval/data/test/oxford5k/jpg/oxford_000985.jpg', '/content/UAP_retrieval/data/test/oxford5k/jpg/jesus_000356.jpg', '/content/UAP_retrieval/data/test/oxford5k/jpg/oxford_000095.jpg', '/content/UAP_retrieval/data/test/oxford5k/jpg/oxford_003577.jpg', '/content/UAP_retrieval/data/test/oxford5k/jpg/new_000867.jpg', '/content/UAP_retrieval/data/test/oxford5k/jpg/trinity_000340.jpg', '/content/UAP_retrieval/data/test/oxford5k/jpg/oxford_002295.jpg', '/content/UAP_retrieval/data/test/oxford5k/jpg/magdalen_000104.jpg', '/content/UAP_retrieval/data/test/oxford5k/jpg/oxford_002719.jpg', '/content/UAP_retrieval/data/test/oxford5k/jpg/all_souls_000017.jpg', '/content/UAP_retrieval/data/test/oxford5k/jpg/oxford_003596.jpg', '/content/UAP_retrieval/data/test/oxford5k/jpg/oxford_002010.jpg', '/content/UAP_retrieval/data/test/oxford5k/jpg/new_000420.jpg', '/content/UAP_retrieval/data/test/oxford5k/jpg/oxford_003036.jpg', '/content/UAP_retrieval/data/test/oxford5k/jpg/balliol_000011.jpg', '/content/UAP_retrieval/data/test/oxford5k/jpg/balliol_000046.jpg', '/content/UAP_retrieval/data/test/oxford5k/jpg/magdalen_000031.jpg', '/content/UAP_retrieval/data/test/oxford5k/jpg/trinity_000110.jpg', '/content/UAP_retrieval/data/test/oxford5k/jpg/bodleian_000083.jpg', '/content/UAP_retrieval/data/test/oxford5k/jpg/all_souls_000143.jpg', '/content/UAP_retrieval/data/test/oxford5k/jpg/new_001063.jpg', '/content/UAP_retrieval/data/test/oxford5k/jpg/christ_church_000308.jpg', '/content/UAP_retrieval/data/test/oxford5k/jpg/oxford_002675.jpg', '/content/UAP_retrieval/data/test/oxford5k/jpg/oxford_000904.jpg', '/content/UAP_retrieval/data/test/oxford5k/jpg/new_000476.jpg', '/content/UAP_retrieval/data/test/oxford5k/jpg/new_001018.jpg', '/content/UAP_retrieval/data/test/oxford5k/jpg/oxford_003193.jpg', '/content/UAP_retrieval/data/test/oxford5k/jpg/oxford_001787.jpg', '/content/UAP_retrieval/data/test/oxford5k/jpg/magdalen_000611.jpg', '/content/UAP_retrieval/data/test/oxford5k/jpg/radcliffe_camera_000151.jpg', '/content/UAP_retrieval/data/test/oxford5k/jpg/oxford_003094.jpg', '/content/UAP_retrieval/data/test/oxford5k/jpg/oxford_002944.jpg', '/content/UAP_retrieval/data/test/oxford5k/jpg/magdalen_001030.jpg', '/content/UAP_retrieval/data/test/oxford5k/jpg/oxford_002624.jpg', '/content/UAP_retrieval/data/test/oxford5k/jpg/radcliffe_camera_000254.jpg', '/content/UAP_retrieval/data/test/oxford5k/jpg/oxford_000476.jpg', '/content/UAP_retrieval/data/test/oxford5k/jpg/oxford_001723.jpg', '/content/UAP_retrieval/data/test/oxford5k/jpg/oxford_001114.jpg', '/content/UAP_retrieval/data/test/oxford5k/jpg/christ_church_000912.jpg', '/content/UAP_retrieval/data/test/oxford5k/jpg/ashmolean_000094.jpg', '/content/UAP_retrieval/data/test/oxford5k/jpg/oxford_000766.jpg', '/content/UAP_retrieval/data/test/oxford5k/jpg/oxford_003275.jpg', '/content/UAP_retrieval/data/test/oxford5k/jpg/jesus_000317.jpg', '/content/UAP_retrieval/data/test/oxford5k/jpg/christ_church_000089.jpg', '/content/UAP_retrieval/data/test/oxford5k/jpg/trinity_000091.jpg', '/content/UAP_retrieval/data/test/oxford5k/jpg/magdalen_001026.jpg', '/content/UAP_retrieval/data/test/oxford5k/jpg/magdalen_000734.jpg', '/content/UAP_retrieval/data/test/oxford5k/jpg/ashmolean_000241.jpg', '/content/UAP_retrieval/data/test/oxford5k/jpg/radcliffe_camera_000403.jpg', '/content/UAP_retrieval/data/test/oxford5k/jpg/christ_church_000983.jpg', '/content/UAP_retrieval/data/test/oxford5k/jpg/christ_church_000351.jpg', '/content/UAP_retrieval/data/test/oxford5k/jpg/ashmolean_000322.jpg', '/content/UAP_retrieval/data/test/oxford5k/jpg/oxford_000409.jpg', '/content/UAP_retrieval/data/test/oxford5k/jpg/oxford_002885.jpg', '/content/UAP_retrieval/data/test/oxford5k/jpg/christ_church_000830.jpg', '/content/UAP_retrieval/data/test/oxford5k/jpg/all_souls_000097.jpg', '/content/UAP_retrieval/data/test/oxford5k/jpg/oxford_001044.jpg', '/content/UAP_retrieval/data/test/oxford5k/jpg/all_souls_000136.jpg', '/content/UAP_retrieval/data/test/oxford5k/jpg/jesus_000047.jpg', '/content/UAP_retrieval/data/test/oxford5k/jpg/christ_church_000354.jpg', '/content/UAP_retrieval/data/test/oxford5k/jpg/christ_church_000358.jpg', '/content/UAP_retrieval/data/test/oxford5k/jpg/oxford_000380.jpg', '/content/UAP_retrieval/data/test/oxford5k/jpg/oxford_000402.jpg', '/content/UAP_retrieval/data/test/oxford5k/jpg/new_000082.jpg', '/content/UAP_retrieval/data/test/oxford5k/jpg/balliol_000033.jpg', '/content/UAP_retrieval/data/test/oxford5k/jpg/magdalen_000688.jpg', '/content/UAP_retrieval/data/test/oxford5k/jpg/magdalen_000412.jpg', '/content/UAP_retrieval/data/test/oxford5k/jpg/ashmolean_000233.jpg', '/content/UAP_retrieval/data/test/oxford5k/jpg/magdalen_000818.jpg', '/content/UAP_retrieval/data/test/oxford5k/jpg/magdalen_000328.jpg', '/content/UAP_retrieval/data/test/oxford5k/jpg/new_000001.jpg', '/content/UAP_retrieval/data/test/oxford5k/jpg/magdalen_001072.jpg', '/content/UAP_retrieval/data/test/oxford5k/jpg/oxford_002167.jpg', '/content/UAP_retrieval/data/test/oxford5k/jpg/radcliffe_camera_000372.jpg', '/content/UAP_retrieval/data/test/oxford5k/jpg/oxford_002103.jpg', '/content/UAP_retrieval/data/test/oxford5k/jpg/all_souls_000205.jpg', '/content/UAP_retrieval/data/test/oxford5k/jpg/trinity_000135.jpg', '/content/UAP_retrieval/data/test/oxford5k/jpg/oxford_001353.jpg', '/content/UAP_retrieval/data/test/oxford5k/jpg/new_000903.jpg', '/content/UAP_retrieval/data/test/oxford5k/jpg/oxford_002266.jpg', '/content/UAP_retrieval/data/test/oxford5k/jpg/trinity_000294.jpg', '/content/UAP_retrieval/data/test/oxford5k/jpg/radcliffe_camera_000112.jpg', '/content/UAP_retrieval/data/test/oxford5k/jpg/magdalen_001065.jpg', '/content/UAP_retrieval/data/test/oxford5k/jpg/new_000285.jpg', '/content/UAP_retrieval/data/test/oxford5k/jpg/christ_church_001060.jpg', '/content/UAP_retrieval/data/test/oxford5k/jpg/magdalen_001151.jpg', '/content/UAP_retrieval/data/test/oxford5k/jpg/ashmolean_000109.jpg', '/content/UAP_retrieval/data/test/oxford5k/jpg/oxford_002707.jpg', '/content/UAP_retrieval/data/test/oxford5k/jpg/oxford_001900.jpg', '/content/UAP_retrieval/data/test/oxford5k/jpg/bodleian_000167.jpg', '/content/UAP_retrieval/data/test/oxford5k/jpg/keble_000209.jpg', '/content/UAP_retrieval/data/test/oxford5k/jpg/magdalen_000120.jpg', '/content/UAP_retrieval/data/test/oxford5k/jpg/radcliffe_camera_000563.jpg', '/content/UAP_retrieval/data/test/oxford5k/jpg/hertford_000103.jpg', '/content/UAP_retrieval/data/test/oxford5k/jpg/magdalen_000719.jpg', '/content/UAP_retrieval/data/test/oxford5k/jpg/magdalen_000563.jpg', '/content/UAP_retrieval/data/test/oxford5k/jpg/oxford_003047.jpg', '/content/UAP_retrieval/data/test/oxford5k/jpg/balliol_000101.jpg', '/content/UAP_retrieval/data/test/oxford5k/jpg/oxford_000906.jpg', '/content/UAP_retrieval/data/test/oxford5k/jpg/magdalen_000729.jpg', '/content/UAP_retrieval/data/test/oxford5k/jpg/ashmolean_000106.jpg', '/content/UAP_retrieval/data/test/oxford5k/jpg/trinity_000076.jpg', '/content/UAP_retrieval/data/test/oxford5k/jpg/magdalen_000001.jpg', '/content/UAP_retrieval/data/test/oxford5k/jpg/christ_church_000327.jpg', '/content/UAP_retrieval/data/test/oxford5k/jpg/trinity_000373.jpg', '/content/UAP_retrieval/data/test/oxford5k/jpg/oxford_002164.jpg', '/content/UAP_retrieval/data/test/oxford5k/jpg/new_000738.jpg', '/content/UAP_retrieval/data/test/oxford5k/jpg/oxford_002703.jpg', '/content/UAP_retrieval/data/test/oxford5k/jpg/pitt_rivers_000038.jpg', '/content/UAP_retrieval/data/test/oxford5k/jpg/magdalen_001038.jpg', '/content/UAP_retrieval/data/test/oxford5k/jpg/christ_church_000212.jpg', '/content/UAP_retrieval/data/test/oxford5k/jpg/oxford_001241.jpg', '/content/UAP_retrieval/data/test/oxford5k/jpg/oxford_001940.jpg', '/content/UAP_retrieval/data/test/oxford5k/jpg/trinity_000077.jpg', '/content/UAP_retrieval/data/test/oxford5k/jpg/hertford_000089.jpg', '/content/UAP_retrieval/data/test/oxford5k/jpg/cornmarket_000131.jpg', '/content/UAP_retrieval/data/test/oxford5k/jpg/christ_church_000156.jpg', '/content/UAP_retrieval/data/test/oxford5k/jpg/christ_church_000128.jpg', '/content/UAP_retrieval/data/test/oxford5k/jpg/bodleian_000095.jpg', '/content/UAP_retrieval/data/test/oxford5k/jpg/jesus_000129.jpg', '/content/UAP_retrieval/data/test/oxford5k/jpg/worcester_000197.jpg', '/content/UAP_retrieval/data/test/oxford5k/jpg/bodleian_000128.jpg', '/content/UAP_retrieval/data/test/oxford5k/jpg/hertford_000087.jpg', '/content/UAP_retrieval/data/test/oxford5k/jpg/christ_church_000985.jpg', '/content/UAP_retrieval/data/test/oxford5k/jpg/oxford_000298.jpg', '/content/UAP_retrieval/data/test/oxford5k/jpg/radcliffe_camera_000122.jpg', '/content/UAP_retrieval/data/test/oxford5k/jpg/pitt_rivers_000006.jpg', '/content/UAP_retrieval/data/test/oxford5k/jpg/balliol_000064.jpg', '/content/UAP_retrieval/data/test/oxford5k/jpg/ashmolean_000147.jpg', '/content/UAP_retrieval/data/test/oxford5k/jpg/worcester_000058.jpg', '/content/UAP_retrieval/data/test/oxford5k/jpg/oxford_001365.jpg', '/content/UAP_retrieval/data/test/oxford5k/jpg/magdalen_000814.jpg', '/content/UAP_retrieval/data/test/oxford5k/jpg/oxford_003319.jpg', '/content/UAP_retrieval/data/test/oxford5k/jpg/trinity_000374.jpg', '/content/UAP_retrieval/data/test/oxford5k/jpg/oxford_000308.jpg', '/content/UAP_retrieval/data/test/oxford5k/jpg/oxford_002328.jpg', '/content/UAP_retrieval/data/test/oxford5k/jpg/trinity_000114.jpg', '/content/UAP_retrieval/data/test/oxford5k/jpg/magdalen_000737.jpg', '/content/UAP_retrieval/data/test/oxford5k/jpg/keble_000036.jpg', '/content/UAP_retrieval/data/test/oxford5k/jpg/bodleian_000129.jpg', '/content/UAP_retrieval/data/test/oxford5k/jpg/oxford_000135.jpg', '/content/UAP_retrieval/data/test/oxford5k/jpg/oxford_000399.jpg', '/content/UAP_retrieval/data/test/oxford5k/jpg/oxford_002469.jpg', '/content/UAP_retrieval/data/test/oxford5k/jpg/oxford_000991.jpg', '/content/UAP_retrieval/data/test/oxford5k/jpg/new_000361.jpg', '/content/UAP_retrieval/data/test/oxford5k/jpg/oxford_000036.jpg', '/content/UAP_retrieval/data/test/oxford5k/jpg/oxford_002188.jpg', '/content/UAP_retrieval/data/test/oxford5k/jpg/all_souls_000084.jpg', '/content/UAP_retrieval/data/test/oxford5k/jpg/oxford_001950.jpg', '/content/UAP_retrieval/data/test/oxford5k/jpg/new_000724.jpg', '/content/UAP_retrieval/data/test/oxford5k/jpg/oxford_000358.jpg', '/content/UAP_retrieval/data/test/oxford5k/jpg/oxford_003306.jpg', '/content/UAP_retrieval/data/test/oxford5k/jpg/oxford_003252.jpg', '/content/UAP_retrieval/data/test/oxford5k/jpg/oxford_000750.jpg', '/content/UAP_retrieval/data/test/oxford5k/jpg/trinity_000224.jpg', '/content/UAP_retrieval/data/test/oxford5k/jpg/radcliffe_camera_000556.jpg', '/content/UAP_retrieval/data/test/oxford5k/jpg/radcliffe_camera_000440.jpg', '/content/UAP_retrieval/data/test/oxford5k/jpg/magdalen_000607.jpg', '/content/UAP_retrieval/data/test/oxford5k/jpg/bodleian_000007.jpg', '/content/UAP_retrieval/data/test/oxford5k/jpg/oxford_002055.jpg', '/content/UAP_retrieval/data/test/oxford5k/jpg/oxford_000190.jpg', '/content/UAP_retrieval/data/test/oxford5k/jpg/oxford_001192.jpg', '/content/UAP_retrieval/data/test/oxford5k/jpg/magdalen_000649.jpg', '/content/UAP_retrieval/data/test/oxford5k/jpg/christ_church_000443.jpg', '/content/UAP_retrieval/data/test/oxford5k/jpg/christ_church_000072.jpg', '/content/UAP_retrieval/data/test/oxford5k/jpg/christ_church_000546.jpg', '/content/UAP_retrieval/data/test/oxford5k/jpg/trinity_000213.jpg', '/content/UAP_retrieval/data/test/oxford5k/jpg/magdalen_000662.jpg', '/content/UAP_retrieval/data/test/oxford5k/jpg/new_000827.jpg', '/content/UAP_retrieval/data/test/oxford5k/jpg/oriel_000023.jpg', '/content/UAP_retrieval/data/test/oxford5k/jpg/oxford_001754.jpg', '/content/UAP_retrieval/data/test/oxford5k/jpg/keble_000205.jpg', '/content/UAP_retrieval/data/test/oxford5k/jpg/oxford_001111.jpg', '/content/UAP_retrieval/data/test/oxford5k/jpg/new_000922.jpg', '/content/UAP_retrieval/data/test/oxford5k/jpg/magdalen_000119.jpg', '/content/UAP_retrieval/data/test/oxford5k/jpg/new_000242.jpg', '/content/UAP_retrieval/data/test/oxford5k/jpg/christ_church_000586.jpg', '/content/UAP_retrieval/data/test/oxford5k/jpg/magdalen_000273.jpg', '/content/UAP_retrieval/data/test/oxford5k/jpg/trinity_000010.jpg', '/content/UAP_retrieval/data/test/oxford5k/jpg/christ_church_000901.jpg', '/content/UAP_retrieval/data/test/oxford5k/jpg/magdalen_000690.jpg', '/content/UAP_retrieval/data/test/oxford5k/jpg/worcester_000111.jpg', '/content/UAP_retrieval/data/test/oxford5k/jpg/oxford_002120.jpg', '/content/UAP_retrieval/data/test/oxford5k/jpg/worcester_000115.jpg', '/content/UAP_retrieval/data/test/oxford5k/jpg/oxford_001521.jpg', '/content/UAP_retrieval/data/test/oxford5k/jpg/oxford_003016.jpg', '/content/UAP_retrieval/data/test/oxford5k/jpg/magdalen_000190.jpg', '/content/UAP_retrieval/data/test/oxford5k/jpg/radcliffe_camera_000233.jpg', '/content/UAP_retrieval/data/test/oxford5k/jpg/christ_church_000802.jpg', '/content/UAP_retrieval/data/test/oxford5k/jpg/oxford_000989.jpg', '/content/UAP_retrieval/data/test/oxford5k/jpg/worcester_000088.jpg', '/content/UAP_retrieval/data/test/oxford5k/jpg/magdalen_000757.jpg', '/content/UAP_retrieval/data/test/oxford5k/jpg/worcester_000060.jpg', '/content/UAP_retrieval/data/test/oxford5k/jpg/christ_church_000291.jpg', '/content/UAP_retrieval/data/test/oxford5k/jpg/magdalen_000490.jpg', '/content/UAP_retrieval/data/test/oxford5k/jpg/cornmarket_000104.jpg', '/content/UAP_retrieval/data/test/oxford5k/jpg/trinity_000365.jpg', '/content/UAP_retrieval/data/test/oxford5k/jpg/christ_church_000344.jpg', '/content/UAP_retrieval/data/test/oxford5k/jpg/ashmolean_000107.jpg', '/content/UAP_retrieval/data/test/oxford5k/jpg/oxford_001631.jpg', '/content/UAP_retrieval/data/test/oxford5k/jpg/magdalen_000999.jpg', '/content/UAP_retrieval/data/test/oxford5k/jpg/christ_church_001054.jpg', '/content/UAP_retrieval/data/test/oxford5k/jpg/magdalen_000265.jpg', '/content/UAP_retrieval/data/test/oxford5k/jpg/jesus_000042.jpg', '/content/UAP_retrieval/data/test/oxford5k/jpg/balliol_000090.jpg', '/content/UAP_retrieval/data/test/oxford5k/jpg/magdalen_001114.jpg', '/content/UAP_retrieval/data/test/oxford5k/jpg/cornmarket_000016.jpg', '/content/UAP_retrieval/data/test/oxford5k/jpg/hertford_000108.jpg', '/content/UAP_retrieval/data/test/oxford5k/jpg/christ_church_001030.jpg', '/content/UAP_retrieval/data/test/oxford5k/jpg/oxford_000916.jpg', '/content/UAP_retrieval/data/test/oxford5k/jpg/magdalen_000127.jpg', '/content/UAP_retrieval/data/test/oxford5k/jpg/oxford_000655.jpg', '/content/UAP_retrieval/data/test/oxford5k/jpg/magdalen_000160.jpg', '/content/UAP_retrieval/data/test/oxford5k/jpg/christ_church_000693.jpg', '/content/UAP_retrieval/data/test/oxford5k/jpg/magdalen_000164.jpg', '/content/UAP_retrieval/data/test/oxford5k/jpg/oriel_000040.jpg', '/content/UAP_retrieval/data/test/oxford5k/jpg/ashmolean_000331.jpg', '/content/UAP_retrieval/data/test/oxford5k/jpg/oxford_001779.jpg', '/content/UAP_retrieval/data/test/oxford5k/jpg/new_000988.jpg', '/content/UAP_retrieval/data/test/oxford5k/jpg/christ_church_000531.jpg', '/content/UAP_retrieval/data/test/oxford5k/jpg/radcliffe_camera_000093.jpg', '/content/UAP_retrieval/data/test/oxford5k/jpg/oxford_001239.jpg', '/content/UAP_retrieval/data/test/oxford5k/jpg/magdalen_000743.jpg', '/content/UAP_retrieval/data/test/oxford5k/jpg/new_000134.jpg', '/content/UAP_retrieval/data/test/oxford5k/jpg/oxford_000918.jpg', '/content/UAP_retrieval/data/test/oxford5k/jpg/new_000891.jpg', '/content/UAP_retrieval/data/test/oxford5k/jpg/new_000405.jpg', '/content/UAP_retrieval/data/test/oxford5k/jpg/bodleian_000412.jpg', '/content/UAP_retrieval/data/test/oxford5k/jpg/oxford_000623.jpg', '/content/UAP_retrieval/data/test/oxford5k/jpg/christ_church_000283.jpg', '/content/UAP_retrieval/data/test/oxford5k/jpg/keble_000182.jpg', '/content/UAP_retrieval/data/test/oxford5k/jpg/radcliffe_camera_000370.jpg', '/content/UAP_retrieval/data/test/oxford5k/jpg/hertford_000008.jpg', '/content/UAP_retrieval/data/test/oxford5k/jpg/bodleian_000447.jpg', '/content/UAP_retrieval/data/test/oxford5k/jpg/trinity_000375.jpg', '/content/UAP_retrieval/data/test/oxford5k/jpg/oxford_001928.jpg', '/content/UAP_retrieval/data/test/oxford5k/jpg/magdalen_000658.jpg', '/content/UAP_retrieval/data/test/oxford5k/jpg/oriel_000070.jpg', '/content/UAP_retrieval/data/test/oxford5k/jpg/new_001015.jpg', '/content/UAP_retrieval/data/test/oxford5k/jpg/oxford_002952.jpg', '/content/UAP_retrieval/data/test/oxford5k/jpg/christ_church_000320.jpg', '/content/UAP_retrieval/data/test/oxford5k/jpg/christ_church_000323.jpg', '/content/UAP_retrieval/data/test/oxford5k/jpg/oxford_003555.jpg', '/content/UAP_retrieval/data/test/oxford5k/jpg/oxford_000435.jpg', '/content/UAP_retrieval/data/test/oxford5k/jpg/oriel_000019.jpg', '/content/UAP_retrieval/data/test/oxford5k/jpg/oxford_002579.jpg', '/content/UAP_retrieval/data/test/oxford5k/jpg/pitt_rivers_000032.jpg', '/content/UAP_retrieval/data/test/oxford5k/jpg/bodleian_000237.jpg', '/content/UAP_retrieval/data/test/oxford5k/jpg/magdalen_000786.jpg', '/content/UAP_retrieval/data/test/oxford5k/jpg/oxford_003282.jpg', '/content/UAP_retrieval/data/test/oxford5k/jpg/new_000859.jpg', '/content/UAP_retrieval/data/test/oxford5k/jpg/oriel_000035.jpg', '/content/UAP_retrieval/data/test/oxford5k/jpg/oxford_000582.jpg', '/content/UAP_retrieval/data/test/oxford5k/jpg/all_souls_000029.jpg', '/content/UAP_retrieval/data/test/oxford5k/jpg/new_001019.jpg', '/content/UAP_retrieval/data/test/oxford5k/jpg/oxford_002804.jpg', '/content/UAP_retrieval/data/test/oxford5k/jpg/new_001072.jpg', '/content/UAP_retrieval/data/test/oxford5k/jpg/christ_church_000580.jpg', '/content/UAP_retrieval/data/test/oxford5k/jpg/oxford_003228.jpg', '/content/UAP_retrieval/data/test/oxford5k/jpg/new_000150.jpg', '/content/UAP_retrieval/data/test/oxford5k/jpg/christ_church_001056.jpg', '/content/UAP_retrieval/data/test/oxford5k/jpg/new_000883.jpg', '/content/UAP_retrieval/data/test/oxford5k/jpg/oxford_000099.jpg', '/content/UAP_retrieval/data/test/oxford5k/jpg/new_000419.jpg', '/content/UAP_retrieval/data/test/oxford5k/jpg/ashmolean_000281.jpg', '/content/UAP_retrieval/data/test/oxford5k/jpg/magdalen_000672.jpg', '/content/UAP_retrieval/data/test/oxford5k/jpg/christ_church_000227.jpg', '/content/UAP_retrieval/data/test/oxford5k/jpg/radcliffe_camera_000461.jpg', '/content/UAP_retrieval/data/test/oxford5k/jpg/magdalen_001150.jpg', '/content/UAP_retrieval/data/test/oxford5k/jpg/oxford_001906.jpg', '/content/UAP_retrieval/data/test/oxford5k/jpg/keble_000213.jpg', '/content/UAP_retrieval/data/test/oxford5k/jpg/oxford_000836.jpg', '/content/UAP_retrieval/data/test/oxford5k/jpg/oxford_003022.jpg', '/content/UAP_retrieval/data/test/oxford5k/jpg/jesus_000040.jpg', '/content/UAP_retrieval/data/test/oxford5k/jpg/christ_church_000631.jpg', '/content/UAP_retrieval/data/test/oxford5k/jpg/ashmolean_000184.jpg', '/content/UAP_retrieval/data/test/oxford5k/jpg/radcliffe_camera_000293.jpg', '/content/UAP_retrieval/data/test/oxford5k/jpg/oxford_001354.jpg', '/content/UAP_retrieval/data/test/oxford5k/jpg/radcliffe_camera_000264.jpg', '/content/UAP_retrieval/data/test/oxford5k/jpg/oxford_002335.jpg', '/content/UAP_retrieval/data/test/oxford5k/jpg/magdalen_000123.jpg', '/content/UAP_retrieval/data/test/oxford5k/jpg/trinity_000097.jpg', '/content/UAP_retrieval/data/test/oxford5k/jpg/christ_church_000413.jpg', '/content/UAP_retrieval/data/test/oxford5k/jpg/balliol_000047.jpg', '/content/UAP_retrieval/data/test/oxford5k/jpg/christ_church_000187.jpg', '/content/UAP_retrieval/data/test/oxford5k/jpg/bodleian_000417.jpg', '/content/UAP_retrieval/data/test/oxford5k/jpg/trinity_000337.jpg', '/content/UAP_retrieval/data/test/oxford5k/jpg/ashmolean_000173.jpg', '/content/UAP_retrieval/data/test/oxford5k/jpg/oxford_002711.jpg', '/content/UAP_retrieval/data/test/oxford5k/jpg/balliol_000073.jpg', '/content/UAP_retrieval/data/test/oxford5k/jpg/oxford_000461.jpg', '/content/UAP_retrieval/data/test/oxford5k/jpg/balliol_000040.jpg', '/content/UAP_retrieval/data/test/oxford5k/jpg/magdalen_000844.jpg', '/content/UAP_retrieval/data/test/oxford5k/jpg/oxford_000400.jpg', '/content/UAP_retrieval/data/test/oxford5k/jpg/magdalen_000699.jpg', '/content/UAP_retrieval/data/test/oxford5k/jpg/new_000368.jpg', '/content/UAP_retrieval/data/test/oxford5k/jpg/trinity_000107.jpg', '/content/UAP_retrieval/data/test/oxford5k/jpg/christ_church_000483.jpg', '/content/UAP_retrieval/data/test/oxford5k/jpg/oxford_003305.jpg', '/content/UAP_retrieval/data/test/oxford5k/jpg/christ_church_000423.jpg', '/content/UAP_retrieval/data/test/oxford5k/jpg/oxford_000815.jpg', '/content/UAP_retrieval/data/test/oxford5k/jpg/bodleian_000311.jpg', '/content/UAP_retrieval/data/test/oxford5k/jpg/oxford_002583.jpg', '/content/UAP_retrieval/data/test/oxford5k/jpg/new_000462.jpg', '/content/UAP_retrieval/data/test/oxford5k/jpg/magdalen_000486.jpg', '/content/UAP_retrieval/data/test/oxford5k/jpg/oxford_001191.jpg', '/content/UAP_retrieval/data/test/oxford5k/jpg/magdalen_000124.jpg', '/content/UAP_retrieval/data/test/oxford5k/jpg/radcliffe_camera_000232.jpg', '/content/UAP_retrieval/data/test/oxford5k/jpg/pitt_rivers_000012.jpg', '/content/UAP_retrieval/data/test/oxford5k/jpg/oxford_000974.jpg', '/content/UAP_retrieval/data/test/oxford5k/jpg/magdalen_000339.jpg', '/content/UAP_retrieval/data/test/oxford5k/jpg/magdalen_000018.jpg', '/content/UAP_retrieval/data/test/oxford5k/jpg/oxford_000106.jpg', '/content/UAP_retrieval/data/test/oxford5k/jpg/oxford_001046.jpg', '/content/UAP_retrieval/data/test/oxford5k/jpg/balliol_000042.jpg', '/content/UAP_retrieval/data/test/oxford5k/jpg/keble_000018.jpg', '/content/UAP_retrieval/data/test/oxford5k/jpg/oxford_002650.jpg', '/content/UAP_retrieval/data/test/oxford5k/jpg/magdalen_000183.jpg', '/content/UAP_retrieval/data/test/oxford5k/jpg/oxford_003271.jpg', '/content/UAP_retrieval/data/test/oxford5k/jpg/oxford_003098.jpg', '/content/UAP_retrieval/data/test/oxford5k/jpg/balliol_000171.jpg', '/content/UAP_retrieval/data/test/oxford5k/jpg/magdalen_000253.jpg', '/content/UAP_retrieval/data/test/oxford5k/jpg/oxford_001668.jpg', '/content/UAP_retrieval/data/test/oxford5k/jpg/new_000298.jpg', '/content/UAP_retrieval/data/test/oxford5k/jpg/christ_church_000856.jpg', '/content/UAP_retrieval/data/test/oxford5k/jpg/cornmarket_000030.jpg', '/content/UAP_retrieval/data/test/oxford5k/jpg/keble_000214.jpg', '/content/UAP_retrieval/data/test/oxford5k/jpg/oxford_002045.jpg', '/content/UAP_retrieval/data/test/oxford5k/jpg/oxford_002320.jpg', '/content/UAP_retrieval/data/test/oxford5k/jpg/oxford_003068.jpg', '/content/UAP_retrieval/data/test/oxford5k/jpg/bodleian_000370.jpg', '/content/UAP_retrieval/data/test/oxford5k/jpg/magdalen_000300.jpg', '/content/UAP_retrieval/data/test/oxford5k/jpg/oriel_000065.jpg', '/content/UAP_retrieval/data/test/oxford5k/jpg/christ_church_000294.jpg', '/content/UAP_retrieval/data/test/oxford5k/jpg/oxford_003270.jpg', '/content/UAP_retrieval/data/test/oxford5k/jpg/radcliffe_camera_000351.jpg', '/content/UAP_retrieval/data/test/oxford5k/jpg/ashmolean_000112.jpg', '/content/UAP_retrieval/data/test/oxford5k/jpg/all_souls_000159.jpg', '/content/UAP_retrieval/data/test/oxford5k/jpg/christ_church_000260.jpg', '/content/UAP_retrieval/data/test/oxford5k/jpg/bodleian_000379.jpg', '/content/UAP_retrieval/data/test/oxford5k/jpg/balliol_000019.jpg', '/content/UAP_retrieval/data/test/oxford5k/jpg/radcliffe_camera_000169.jpg', '/content/UAP_retrieval/data/test/oxford5k/jpg/cornmarket_000110.jpg', '/content/UAP_retrieval/data/test/oxford5k/jpg/bodleian_000226.jpg', '/content/UAP_retrieval/data/test/oxford5k/jpg/keble_000248.jpg', '/content/UAP_retrieval/data/test/oxford5k/jpg/christ_church_000062.jpg', '/content/UAP_retrieval/data/test/oxford5k/jpg/oxford_001231.jpg', '/content/UAP_retrieval/data/test/oxford5k/jpg/christ_church_000329.jpg', '/content/UAP_retrieval/data/test/oxford5k/jpg/christ_church_000934.jpg', '/content/UAP_retrieval/data/test/oxford5k/jpg/cornmarket_000085.jpg', '/content/UAP_retrieval/data/test/oxford5k/jpg/magdalen_000830.jpg', '/content/UAP_retrieval/data/test/oxford5k/jpg/jesus_000083.jpg', '/content/UAP_retrieval/data/test/oxford5k/jpg/oxford_000856.jpg', '/content/UAP_retrieval/data/test/oxford5k/jpg/new_000290.jpg', '/content/UAP_retrieval/data/test/oxford5k/jpg/new_000234.jpg', '/content/UAP_retrieval/data/test/oxford5k/jpg/oxford_001127.jpg', '/content/UAP_retrieval/data/test/oxford5k/jpg/trinity_000235.jpg', '/content/UAP_retrieval/data/test/oxford5k/jpg/oxford_003164.jpg', '/content/UAP_retrieval/data/test/oxford5k/jpg/christ_church_001126.jpg', '/content/UAP_retrieval/data/test/oxford5k/jpg/oxford_002818.jpg', '/content/UAP_retrieval/data/test/oxford5k/jpg/oxford_000499.jpg', '/content/UAP_retrieval/data/test/oxford5k/jpg/oxford_001806.jpg', '/content/UAP_retrieval/data/test/oxford5k/jpg/balliol_000102.jpg', '/content/UAP_retrieval/data/test/oxford5k/jpg/bodleian_000115.jpg', '/content/UAP_retrieval/data/test/oxford5k/jpg/christ_church_000127.jpg', '/content/UAP_retrieval/data/test/oxford5k/jpg/christ_church_000449.jpg', '/content/UAP_retrieval/data/test/oxford5k/jpg/oxford_001486.jpg', '/content/UAP_retrieval/data/test/oxford5k/jpg/oxford_003410.jpg', '/content/UAP_retrieval/data/test/oxford5k/jpg/keble_000204.jpg', '/content/UAP_retrieval/data/test/oxford5k/jpg/oxford_003032.jpg', '/content/UAP_retrieval/data/test/oxford5k/jpg/christ_church_000907.jpg']\n"
          ]
        }
      ],
      "source": [
        "# Grab Ground Truths Based on Dataset (Paris6k/Oxford5k)\n",
        "\n",
        "cfg = configdataset(\"oxford5k\", os.path.join(get_data_root(), \"test\"))\n",
        "dbimages = [cfg[\"im_fname\"](cfg, i) for i in range(cfg[\"n\"])]\n",
        "print(dbimages)"
      ]
    },
    {
      "cell_type": "markdown",
      "source": [
        "# Initialize Image Retrieval Models"
      ],
      "metadata": {
        "id": "mFwBDu9AN6cI"
      }
    },
    {
      "cell_type": "code",
      "execution_count": null,
      "metadata": {
        "id": "C1ORxqGhVisU",
        "colab": {
          "base_uri": "https://localhost:8080/"
        },
        "outputId": "dd582428-d346-45cf-d97d-b802ad18855e"
      },
      "outputs": [
        {
          "output_type": "stream",
          "name": "stderr",
          "text": [
            "/usr/local/lib/python3.7/dist-packages/torch/utils/data/dataloader.py:560: UserWarning: This DataLoader will create 8 worker processes in total. Our suggested max number of worker in current system is 4, which is smaller than what this DataLoader is going to create. Please be aware that excessive worker creation might get DataLoader running slow or even freeze, lower the worker number to avoid potential slowness/freeze if necessary.\n",
            "  cpuset_checked))\n"
          ]
        },
        {
          "output_type": "stream",
          "name": "stdout",
          "text": [
            ">>>> 5063/5063 done...\n"
          ]
        }
      ],
      "source": [
        "# Initialize IR System Models\n",
        "ir_system_vgem = ImageRetrievalSystem(vgem, dbimages, 1024)\n",
        "ir_system_rgem = ImageRetrievalSystem(rgem, dbimages, 1024)\n",
        "ir_system_agem = ImageRetrievalSystem(agem, dbimages, 1024)\n",
        "ir_system_vmac = ImageRetrievalSystem(vmac, dbimages, 1024)\n",
        "ir_system_rmac = ImageRetrievalSystem(rmac, dbimages, 1024)\n",
        "ir_system_amac = ImageRetrievalSystem(amac, dbimages, 1024)"
      ]
    },
    {
      "cell_type": "code",
      "execution_count": null,
      "metadata": {
        "colab": {
          "base_uri": "https://localhost:8080/"
        },
        "id": "BytVkdYvVetg",
        "outputId": "22f97ee2-b66a-40c3-9096-c32ae62e2317"
      },
      "outputs": [
        {
          "output_type": "stream",
          "name": "stderr",
          "text": [
            "/usr/local/lib/python3.7/dist-packages/torch/utils/data/dataloader.py:560: UserWarning: This DataLoader will create 8 worker processes in total. Our suggested max number of worker in current system is 4, which is smaller than what this DataLoader is going to create. Please be aware that excessive worker creation might get DataLoader running slow or even freeze, lower the worker number to avoid potential slowness/freeze if necessary.\n",
            "  cpuset_checked))\n"
          ]
        },
        {
          "output_type": "stream",
          "name": "stdout",
          "text": [
            ">>>> 55/55 done...\n"
          ]
        }
      ],
      "source": [
        "# Dataset to Iterate over Query Images\n",
        "dataset = BlackBoxAttackDataset(vgem, 1024, 10, \"oxford5k\", ir_system_vgem.vecs_lw)"
      ]
    },
    {
      "cell_type": "markdown",
      "source": [
        "# Visualizations for IR Results"
      ],
      "metadata": {
        "id": "dbSdcKPhN-74"
      }
    },
    {
      "cell_type": "code",
      "execution_count": null,
      "metadata": {
        "id": "Khljcg7iVuZA"
      },
      "outputs": [],
      "source": [
        "# Create Query Image => 10 Returned Images Visualizations\n",
        "def visualize_IR_results( query_image, retrieved_images, filename, transpose_order = (1, 2, 0)):\n",
        "    fig3 = plt.figure(constrained_layout=True)\n",
        "    gs = fig3.add_gridspec(6, 7)\n",
        "    f3_ax1 = fig3.add_subplot(gs[:, :5])\n",
        "    f3_ax1.axis(\"off\")\n",
        "    query_image = query_image.squeeze(0)\n",
        "    f3_ax1.imshow(query_image.detach().cpu().numpy().transpose(transpose_order))\n",
        "    for i in range(len(retrieved_images[0])):\n",
        "      if i % 2 == 0:\n",
        "        f3_ax = fig3.add_subplot(gs[int(i / 2), 5])\n",
        "        f3_ax.axis(\"off\")\n",
        "        f3_ax.imshow(retrieved_images[0][i].detach().squeeze(0).cpu().numpy().transpose(transpose_order))\n",
        "      else:\n",
        "        f3_ax = fig3.add_subplot(gs[int(i / 2), 6])\n",
        "        f3_ax.axis(\"off\")\n",
        "        f3_ax.imshow(retrieved_images[0][i].detach().squeeze(0).cpu().numpy().transpose(transpose_order))\n",
        "    \n",
        "    fig3.savefig(filename + \".jpg\")"
      ]
    },
    {
      "cell_type": "markdown",
      "source": [
        "# ZQBA Attack"
      ],
      "metadata": {
        "id": "7yyG8PI9OECP"
      }
    },
    {
      "cell_type": "markdown",
      "source": [
        "# Initialize Surrogate Models"
      ],
      "metadata": {
        "id": "76cU_mI-OSEY"
      }
    },
    {
      "cell_type": "code",
      "execution_count": null,
      "metadata": {
        "colab": {
          "base_uri": "https://localhost:8080/",
          "height": 501,
          "referenced_widgets": [
            "ca9f98208ad44740b4efaa6338d98b4a",
            "42440e623e0d4c029e52abeb6bc64c31",
            "d6c3ee99fafd4b1d95c955839f6def8c",
            "6ae1bb9875d34c1491f032f907ac9db2",
            "f79d5fc18af94487a1efe45a5103bdad",
            "9920d2171ee84cdba29050cab18d7a7d",
            "f62b8cb3616c474d8dc658942db0b714",
            "6b4a3d5eb5b246f6941f989fb9ec7a2b",
            "150f74d7c1bc451694916c71eb9338f5",
            "97fdf7c4719446888a41322450fd8c09",
            "fbfc35f9c16941e8bf9f91ccfdf24f7c",
            "58e6380e50b74a628625552b54a42f92",
            "21cac9b128ff455e9d48a46e94a75c4c",
            "5b2addf5ec98464ab1ec981a43acb32b",
            "7aae1542b08242d8adbbc0359133d0c1",
            "a905059464414e73b75cb5cc374cdc53",
            "123d51530f8c4975bb58c6d8dc477c59",
            "79c662df1de1400691c53eb078265e56",
            "34b84454a9984d59a114bc30a2e29e40",
            "66e2a9f917de40a4a080bf591a555334",
            "1c797cdc6208408fb88002284b6a3c1c",
            "7f328f1758c7461f932f5c50bb9d7c60",
            "ecd49d878557496cb54b03e4648bf79d",
            "930950676fce41679a29a958db755742",
            "5dee9bd819e944cc9f5c64f0d121c7d8",
            "7a63292e7a8f4eaf815047ec17811f31",
            "ba8b1e88a88d47c986c7209576dd0643",
            "3c4f729da7d844a7a941e4b4df63a045",
            "b9a68188c76e43eab82703f3384578d3",
            "b0673b28965341719ed53a946e96e07f",
            "b98f57f3a4404079bee00c406b41539a",
            "9b08464734be4a70bb46a17fedc60b6a",
            "c93c56cc31874063b2832cd54eaf2569",
            "d0646e7db4284363a06fc6a6d32a26ac",
            "55d0f491b1b54865957d1cddb94d8b77",
            "c9b54b4283534eba80b73b8f1cf64ad3",
            "591ac829ea4f4876b952794776fca2f0",
            "f71c52d00288428d919063daa13b3b64",
            "f7683167df3c423eb07bac601141f81e",
            "cc1f13805f584d9f9dda6d4d52ee1c75",
            "f9df71b6ece548f6aecc486be0373b20",
            "b4e5f6831f3c4b4396cf12ad2ce9ac74",
            "6303e0001d14493aa90eccc6d545aa14",
            "e507b44415b44827a9886cff67a5d6b8",
            "e2ca20e2d98842fb930062e5a2d17909",
            "d693d2e75ada4accad09db3e48702ad6",
            "1f849774908b4949b24fe6df94cec9e9",
            "51f0aa5e6d3242e0b396938a75a41758",
            "29399630792548bea0538b909c5cf7ca",
            "365027bbb48b40ddb4111dd30005fef0",
            "ae269b65db5849fe8e5d2600a0d7faea",
            "c540ba73857b4728a94d217058e67309",
            "d5f37165e17e4400b20a4625c59b0434",
            "871f805555654a25bf0f4c32f91aed49",
            "cd68ccff4f234491baaa51f8bc518376"
          ]
        },
        "id": "JWazQ4z9q_B1",
        "outputId": "ea101ba6-6c15-4d7f-8d4d-2babeaf34ff6"
      },
      "outputs": [
        {
          "output_type": "stream",
          "name": "stderr",
          "text": [
            "/usr/local/lib/python3.7/dist-packages/torchvision/models/_utils.py:209: UserWarning: The parameter 'pretrained' is deprecated since 0.13 and will be removed in 0.15, please use 'weights' instead.\n",
            "  f\"The parameter '{pretrained_param}' is deprecated since 0.13 and will be removed in 0.15, \"\n",
            "/usr/local/lib/python3.7/dist-packages/torchvision/models/_utils.py:223: UserWarning: Arguments other than a weight enum or `None` for 'weights' are deprecated since 0.13 and will be removed in 0.15. The current behavior is equivalent to passing `weights=GoogLeNet_Weights.IMAGENET1K_V1`. You can also use `weights=GoogLeNet_Weights.DEFAULT` to get the most up-to-date weights.\n",
            "  warnings.warn(msg)\n",
            "Downloading: \"https://download.pytorch.org/models/googlenet-1378be20.pth\" to /root/.cache/torch/hub/checkpoints/googlenet-1378be20.pth\n"
          ]
        },
        {
          "output_type": "display_data",
          "data": {
            "text/plain": [
              "  0%|          | 0.00/49.7M [00:00<?, ?B/s]"
            ],
            "application/vnd.jupyter.widget-view+json": {
              "version_major": 2,
              "version_minor": 0,
              "model_id": "ca9f98208ad44740b4efaa6338d98b4a"
            }
          },
          "metadata": {}
        },
        {
          "output_type": "stream",
          "name": "stderr",
          "text": [
            "/usr/local/lib/python3.7/dist-packages/torchvision/models/_utils.py:223: UserWarning: Arguments other than a weight enum or `None` for 'weights' are deprecated since 0.13 and will be removed in 0.15. The current behavior is equivalent to passing `weights=DenseNet121_Weights.IMAGENET1K_V1`. You can also use `weights=DenseNet121_Weights.DEFAULT` to get the most up-to-date weights.\n",
            "  warnings.warn(msg)\n",
            "Downloading: \"https://download.pytorch.org/models/densenet121-a639ec97.pth\" to /root/.cache/torch/hub/checkpoints/densenet121-a639ec97.pth\n"
          ]
        },
        {
          "output_type": "display_data",
          "data": {
            "text/plain": [
              "  0%|          | 0.00/30.8M [00:00<?, ?B/s]"
            ],
            "application/vnd.jupyter.widget-view+json": {
              "version_major": 2,
              "version_minor": 0,
              "model_id": "58e6380e50b74a628625552b54a42f92"
            }
          },
          "metadata": {}
        },
        {
          "output_type": "stream",
          "name": "stderr",
          "text": [
            "/usr/local/lib/python3.7/dist-packages/torchvision/models/_utils.py:223: UserWarning: Arguments other than a weight enum or `None` for 'weights' are deprecated since 0.13 and will be removed in 0.15. The current behavior is equivalent to passing `weights=EfficientNet_V2_S_Weights.IMAGENET1K_V1`. You can also use `weights=EfficientNet_V2_S_Weights.DEFAULT` to get the most up-to-date weights.\n",
            "  warnings.warn(msg)\n",
            "Downloading: \"https://download.pytorch.org/models/efficientnet_v2_s-dd5fe13b.pth\" to /root/.cache/torch/hub/checkpoints/efficientnet_v2_s-dd5fe13b.pth\n"
          ]
        },
        {
          "output_type": "display_data",
          "data": {
            "text/plain": [
              "  0%|          | 0.00/82.7M [00:00<?, ?B/s]"
            ],
            "application/vnd.jupyter.widget-view+json": {
              "version_major": 2,
              "version_minor": 0,
              "model_id": "ecd49d878557496cb54b03e4648bf79d"
            }
          },
          "metadata": {}
        },
        {
          "output_type": "stream",
          "name": "stderr",
          "text": [
            "/usr/local/lib/python3.7/dist-packages/torchvision/models/_utils.py:223: UserWarning: Arguments other than a weight enum or `None` for 'weights' are deprecated since 0.13 and will be removed in 0.15. The current behavior is equivalent to passing `weights=Inception_V3_Weights.IMAGENET1K_V1`. You can also use `weights=Inception_V3_Weights.DEFAULT` to get the most up-to-date weights.\n",
            "  warnings.warn(msg)\n",
            "Downloading: \"https://download.pytorch.org/models/inception_v3_google-0cc3c7bd.pth\" to /root/.cache/torch/hub/checkpoints/inception_v3_google-0cc3c7bd.pth\n"
          ]
        },
        {
          "output_type": "display_data",
          "data": {
            "text/plain": [
              "  0%|          | 0.00/104M [00:00<?, ?B/s]"
            ],
            "application/vnd.jupyter.widget-view+json": {
              "version_major": 2,
              "version_minor": 0,
              "model_id": "d0646e7db4284363a06fc6a6d32a26ac"
            }
          },
          "metadata": {}
        },
        {
          "output_type": "stream",
          "name": "stderr",
          "text": [
            "/usr/local/lib/python3.7/dist-packages/torchvision/models/_utils.py:223: UserWarning: Arguments other than a weight enum or `None` for 'weights' are deprecated since 0.13 and will be removed in 0.15. The current behavior is equivalent to passing `weights=ConvNeXt_Small_Weights.IMAGENET1K_V1`. You can also use `weights=ConvNeXt_Small_Weights.DEFAULT` to get the most up-to-date weights.\n",
            "  warnings.warn(msg)\n",
            "Downloading: \"https://download.pytorch.org/models/convnext_small-0c510722.pth\" to /root/.cache/torch/hub/checkpoints/convnext_small-0c510722.pth\n"
          ]
        },
        {
          "output_type": "display_data",
          "data": {
            "text/plain": [
              "  0%|          | 0.00/192M [00:00<?, ?B/s]"
            ],
            "application/vnd.jupyter.widget-view+json": {
              "version_major": 2,
              "version_minor": 0,
              "model_id": "e2ca20e2d98842fb930062e5a2d17909"
            }
          },
          "metadata": {}
        }
      ],
      "source": [
        "from torch.nn.modules.pooling import AdaptiveAvgPool2d\n",
        "\n",
        "# Initialize Surrogate Models\n",
        "\n",
        "device = torch.device(\"cuda\")\n",
        "googleNet = torchvision.models.googlenet(pretrained=True)\n",
        "features = list(googleNet.children())[:-1]\n",
        "features.append(nn.AdaptiveAvgPool2d(output_size=(1, 1)))\n",
        "googleNet = nn.Sequential(*features)\n",
        "googleNet.eval()\n",
        "googleNet = googleNet.to(device)\n",
        "googleNetPreprocess = transforms.Compose([transforms.Normalize(mean=[0.485, 0.456, 0.406], std=[0.229, 0.224, 0.225])])\n",
        "for p in googleNet.parameters():\n",
        "  p.requires_grad = False\n",
        "\n",
        "\n",
        "swin_t = torchvision.models.swin_t()\n",
        "swin_t.head = nn.ReLU(inplace=True)\n",
        "swin_t.eval()\n",
        "swin_t = swin_t.to(device)\n",
        "swin_t_preprocess = transforms.Compose([transforms.Normalize(mean=[0.485, 0.456, 0.406], std=[0.229, 0.224, 0.225])])\n",
        "for p in swin_t.parameters():\n",
        "  p.requires_grad = False\n",
        "\n",
        "regNet = torchvision.models.regnet_x_3_2gf()\n",
        "regNet = torchvision.models.swin_t()\n",
        "regNet.fc = nn.ReLU(inplace=True)\n",
        "regNet.eval()\n",
        "regNet = regNet.to(device)\n",
        "regNetPreprocess = transforms.Compose([transforms.Normalize(mean=[0.485, 0.456, 0.406], std=[0.229, 0.224, 0.225])])\n",
        "for p in regNet.parameters():\n",
        "  p.requires_grad = False\n",
        "\n",
        "\n",
        "\n",
        "mnasNet = torchvision.models.mnasnet1_3()\n",
        "mnasNet.classifier = nn.ReLU(inplace=True)\n",
        "mnasNet.eval()\n",
        "mnasNet = mnasNet.to(device)\n",
        "mnasPreprocess = transforms.Compose([transforms.Normalize(mean=[0.485, 0.456, 0.406], std=[0.229, 0.224, 0.225])])\n",
        "for p in mnasNet.parameters():\n",
        "  p.requires_grad = False\n",
        "\n",
        "mobileNet = torchvision.models.mobilenet_v3_large()\n",
        "mobileNet.classifier = nn.ReLU(inplace=True)\n",
        "mobileNet.eval()\n",
        "mobileNet = mobileNet.to(device)\n",
        "mobilePreprocess = transforms.Compose([transforms.Normalize(mean=[0.485, 0.456, 0.406], std=[0.229, 0.224, 0.225])])\n",
        "for p in mobileNet.parameters():\n",
        "  p.requires_grad = False\n",
        "\n",
        "\n",
        "squeezeNet = torchvision.models.squeezenet1_1()\n",
        "squeezeNet.classifier = nn.Sequential(*[nn.AdaptiveAvgPool2d(output_size=(1, 1)), nn.ReLU(inplace=True) ])\n",
        "squeezeNet.eval()\n",
        "squeezeNet = mnasNet.to(device)\n",
        "squeezePreprocess = transforms.Compose([transforms.Normalize(mean=[0.485, 0.456, 0.406], std=[0.229, 0.224, 0.225])])\n",
        "for p in squeezeNet.parameters():\n",
        "  p.requires_grad = False\n",
        "\n",
        "\n",
        "\n",
        "denseNet = torchvision.models.densenet121(pretrained=True)\n",
        "denseNet.classifier = nn.ReLU(inplace=True)\n",
        "denseNet.eval()\n",
        "denseNet = denseNet.to(device)\n",
        "denseNetPreprocess = transforms.Compose([transforms.Normalize(mean=[0.485, 0.456, 0.406], std=[0.229, 0.224, 0.225])])\n",
        "for p in denseNet.parameters():\n",
        "  p.requires_grad = False\n",
        "\n",
        "efficientNet = torchvision.models.efficientnet_v2_s(pretrained=True)\n",
        "efficientNet.classifier = nn.ReLU(inplace=True)\n",
        "efficientNet.eval()\n",
        "efficientNet = efficientNet.to(device)\n",
        "efficientNetPreprocess = transforms.Compose([transforms.Normalize(mean=[0.485, 0.456, 0.406],\n",
        "                                     std=[0.229, 0.224, 0.225])])\n",
        "for p in efficientNet.parameters():\n",
        "  p.requires_grad = False\n",
        "\n",
        "inceptionV3 = torchvision.models.inception_v3(pretrained=True)\n",
        "inceptionV3.fc = nn.ReLU(inplace=True)\n",
        "inceptionV3.eval()\n",
        "inceptionV3 = inceptionV3.to(device)\n",
        "inceptionV3Preprocess = transforms.Compose([transforms.Normalize(mean=[0.485, 0.456, 0.406],\n",
        "                                     std=[0.229, 0.224, 0.225])])\n",
        "for p in inceptionV3.parameters():\n",
        "  p.requires_grad = False\n",
        "\n",
        "convNext = torchvision.models.convnext_small(pretrained=True)\n",
        "convNext.classifier = nn.ReLU(inplace=True)\n",
        "convNext.eval()\n",
        "convNext = convNext.to(device)\n",
        "convNextPreprocess = transforms.Compose([transforms.Normalize(mean=[0.485, 0.456, 0.406],\n",
        "                                     std=[0.229, 0.224, 0.225])])\n",
        "for p in convNext.parameters():\n",
        "  p.requires_grad = False\n",
        "\n",
        "\n"
      ]
    },
    {
      "cell_type": "markdown",
      "source": [
        "# NDCG and Relevance Based Loss Function from QAIR"
      ],
      "metadata": {
        "id": "Ry4-pMAYOLzW"
      }
    },
    {
      "cell_type": "code",
      "execution_count": null,
      "metadata": {
        "id": "u7tpKMalV9R0"
      },
      "outputs": [],
      "source": [
        "import math\n",
        "\n",
        "\n",
        "# QAIR NDCD Using 1.2 as Base Exponent rather than 2 and multiplying by 10\n",
        "def ndcg(img_list):\n",
        "  sum_exponential = 0\n",
        "  probability_list = []\n",
        "  for i in range(1, len(img_list) + 1):\n",
        "    relevance = len(img_list) + 1 - i\n",
        "    exponential = math.pow(1.2, relevance) - 1\n",
        "    sum_exponential += exponential\n",
        "    probability_list.append(exponential)\n",
        "  probability_tensor = torch.tensor(probability_list)\n",
        "  probability_tensor /= sum_exponential\n",
        "  probability_tensor *= 10\n",
        "  return probability_tensor\n",
        "\n",
        "\n",
        "\n",
        "# Calculates if Image Tensor in List of Image Tensors\n",
        "def containsImage(listOfImages, image):\n",
        "  for i in listOfImages:\n",
        "    if (torch.equal(i, image)):\n",
        "      return True\n",
        "  return False\n",
        "\n",
        "\n",
        "# Calculates the intersection of two image tensor lists\n",
        "def intersectionOfImageLists(img_list1, img_list2):\n",
        "  intersection_list = []\n",
        "  for i in range(len(img_list1)):\n",
        "    for j in range(len(img_list2)):\n",
        "      if torch.equal(img_list1[i], img_list2[j]):\n",
        "        intersection_list.append(img_list1[i])\n",
        "  return intersection_list\n",
        "\n",
        "\n",
        "# Based of QAIR\n",
        "def relevanceBasedLossFunction(clean_results, perturbed_results):\n",
        "  clean_prob = ndcg(clean_results)\n",
        "  perturbed_prob = ndcg(perturbed_results)\n",
        "  print(perturbed_prob)\n",
        "\n",
        "  img_intersection = intersectionOfImageLists(clean_results, perturbed_results) \n",
        "  print(len(img_intersection)) \n",
        "  attack_failure_probability = torch.zeros(clean_prob.size())\n",
        "\n",
        "  for i in range(len(perturbed_results)):\n",
        "    if containsImage(img_intersection, perturbed_results[i]):\n",
        "      attack_failure_probability[i] = perturbed_prob[i]\n",
        "  \n",
        "\n",
        "  loss = torch.dot(clean_prob, attack_failure_probability)\n",
        "\n",
        "  return loss\n",
        "\n",
        "\n",
        "\n",
        "\n",
        "\n",
        "\n",
        "\n",
        "\n",
        "\n",
        "\n"
      ]
    },
    {
      "cell_type": "markdown",
      "source": [
        "# Main Train Loop"
      ],
      "metadata": {
        "id": "NPc0FSX8OYbS"
      }
    },
    {
      "cell_type": "code",
      "execution_count": null,
      "metadata": {
        "colab": {
          "base_uri": "https://localhost:8080/",
          "height": 1000
        },
        "id": "n-XuKApkV2sk",
        "outputId": "422dc466-45bd-4272-cc1e-9baf7567b176"
      },
      "outputs": [
        {
          "output_type": "stream",
          "name": "stdout",
          "text": [
            "Image 0\n",
            "tensor(423.9276, device='cuda:0', grad_fn=<SumBackward0>)\n",
            "tensor(1270.4910, device='cuda:0', grad_fn=<SumBackward0>)\n",
            "tensor(2190.3318, device='cuda:0', grad_fn=<SumBackward0>)\n",
            "tensor(3224.8279, device='cuda:0', grad_fn=<SumBackward0>)\n",
            "tensor(4083.2607, device='cuda:0', grad_fn=<SumBackward0>)\n",
            "tensor(4941.0732, device='cuda:0', grad_fn=<SumBackward0>)\n",
            "tensor(5601.6577, device='cuda:0', grad_fn=<SumBackward0>)\n",
            "tensor(6104.2217, device='cuda:0', grad_fn=<SumBackward0>)\n",
            "tensor(6863.9873, device='cuda:0', grad_fn=<SumBackward0>)\n",
            "tensor(7545.8115, device='cuda:0', grad_fn=<SumBackward0>)\n",
            "tensor(8150.2061, device='cuda:0', grad_fn=<SumBackward0>)\n",
            "tensor(8614.6826, device='cuda:0', grad_fn=<SumBackward0>)\n",
            "tensor(9016.8369, device='cuda:0', grad_fn=<SumBackward0>)\n",
            "tensor(9617.2090, device='cuda:0', grad_fn=<SumBackward0>)\n",
            "tensor(10498.4707, device='cuda:0', grad_fn=<SumBackward0>)\n",
            "tensor(12627.8848, device='cuda:0', grad_fn=<SumBackward0>)\n",
            "tensor(14680.8545, device='cuda:0', grad_fn=<SumBackward0>)\n",
            "tensor(16033.9414, device='cuda:0', grad_fn=<SumBackward0>)\n",
            "tensor([2.4547, 1.9668, 1.5602, 1.2213, 0.9390, 0.7037, 0.5076, 0.3442, 0.2080,\n",
            "        0.0946])\n",
            "0\n",
            "VGEM tensor(0.)\n",
            "tensor([2.4547, 1.9668, 1.5602, 1.2213, 0.9390, 0.7037, 0.5076, 0.3442, 0.2080,\n",
            "        0.0946])\n",
            "0\n",
            "VGEM\n"
          ]
        },
        {
          "output_type": "stream",
          "name": "stderr",
          "text": [
            "/usr/local/lib/python3.7/dist-packages/ipykernel_launcher.py:2: RuntimeWarning: More than 20 figures have been opened. Figures created through the pyplot interface (`matplotlib.pyplot.figure`) are retained until explicitly closed and may consume too much memory. (To control this warning, see the rcParam `figure.max_open_warning`).\n",
            "  \n"
          ]
        },
        {
          "output_type": "stream",
          "name": "stdout",
          "text": [
            "tensor([2.4547, 1.9668, 1.5602, 1.2213, 0.9390, 0.7037, 0.5076, 0.3442, 0.2080,\n",
            "        0.0946])\n",
            "1\n",
            "VMAC tensor(0.1185)\n",
            "tensor([2.4547, 1.9668, 1.5602, 1.2213, 0.9390, 0.7037, 0.5076, 0.3442, 0.2080,\n",
            "        0.0946])\n",
            "1\n",
            "VMAC\n",
            "tensor([2.4547, 1.9668, 1.5602, 1.2213, 0.9390, 0.7037, 0.5076, 0.3442, 0.2080,\n",
            "        0.0946])\n",
            "0\n",
            "AGEM tensor(0.)\n",
            "tensor([2.4547, 1.9668, 1.5602, 1.2213, 0.9390, 0.7037, 0.5076, 0.3442, 0.2080,\n",
            "        0.0946])\n",
            "0\n",
            "AGEM\n",
            "tensor([2.4547, 1.9668, 1.5602, 1.2213, 0.9390, 0.7037, 0.5076, 0.3442, 0.2080,\n",
            "        0.0946])\n",
            "0\n",
            "AMAC tensor(0.)\n",
            "tensor([2.4547, 1.9668, 1.5602, 1.2213, 0.9390, 0.7037, 0.5076, 0.3442, 0.2080,\n",
            "        0.0946])\n",
            "0\n",
            "AMAC\n",
            "tensor([2.4547, 1.9668, 1.5602, 1.2213, 0.9390, 0.7037, 0.5076, 0.3442, 0.2080,\n",
            "        0.0946])\n",
            "1\n",
            "RGEM tensor(1.4917)\n",
            "tensor([2.4547, 1.9668, 1.5602, 1.2213, 0.9390, 0.7037, 0.5076, 0.3442, 0.2080,\n",
            "        0.0946])\n",
            "1\n",
            "RGEM\n",
            "tensor([2.4547, 1.9668, 1.5602, 1.2213, 0.9390, 0.7037, 0.5076, 0.3442, 0.2080,\n",
            "        0.0946])\n",
            "1\n",
            "RMAC tensor(3.8681)\n",
            "tensor([2.4547, 1.9668, 1.5602, 1.2213, 0.9390, 0.7037, 0.5076, 0.3442, 0.2080,\n",
            "        0.0946])\n",
            "1\n",
            "RMAC\n",
            "Image 1\n",
            "tensor(539.0668, device='cuda:0', grad_fn=<SumBackward0>)\n",
            "tensor(1386.2573, device='cuda:0', grad_fn=<SumBackward0>)\n",
            "tensor(2109.6909, device='cuda:0', grad_fn=<SumBackward0>)\n",
            "tensor(2814.2192, device='cuda:0', grad_fn=<SumBackward0>)\n",
            "tensor(3460.2029, device='cuda:0', grad_fn=<SumBackward0>)\n",
            "tensor(4012.2678, device='cuda:0', grad_fn=<SumBackward0>)\n",
            "tensor(4536.6660, device='cuda:0', grad_fn=<SumBackward0>)\n",
            "tensor(5017.5742, device='cuda:0', grad_fn=<SumBackward0>)\n",
            "tensor(5510.8711, device='cuda:0', grad_fn=<SumBackward0>)\n"
          ]
        },
        {
          "output_type": "error",
          "ename": "KeyboardInterrupt",
          "evalue": "ignored",
          "traceback": [
            "\u001b[0;31m---------------------------------------------------------------------------\u001b[0m",
            "\u001b[0;31mKeyboardInterrupt\u001b[0m                         Traceback (most recent call last)",
            "\u001b[0;32m<ipython-input-103-1790adc9342a>\u001b[0m in \u001b[0;36m<module>\u001b[0;34m()\u001b[0m\n\u001b[1;32m     47\u001b[0m           \u001b[0mtarget_features\u001b[0m \u001b[0;34m=\u001b[0m \u001b[0mmodels\u001b[0m\u001b[0;34m[\u001b[0m\u001b[0midx\u001b[0m\u001b[0;34m]\u001b[0m\u001b[0;34m(\u001b[0m\u001b[0mpreprocess\u001b[0m\u001b[0;34m(\u001b[0m\u001b[0mtarget\u001b[0m\u001b[0;34m)\u001b[0m\u001b[0;34m.\u001b[0m\u001b[0munsqueeze\u001b[0m\u001b[0;34m(\u001b[0m\u001b[0;36m0\u001b[0m\u001b[0;34m)\u001b[0m\u001b[0;34m)\u001b[0m\u001b[0;34m\u001b[0m\u001b[0;34m\u001b[0m\u001b[0m\n\u001b[1;32m     48\u001b[0m           \u001b[0membedding_mse\u001b[0m \u001b[0;34m=\u001b[0m \u001b[0mF\u001b[0m\u001b[0;34m.\u001b[0m\u001b[0mmse_loss\u001b[0m\u001b[0;34m(\u001b[0m\u001b[0madv_features\u001b[0m\u001b[0;34m,\u001b[0m \u001b[0mtarget_features\u001b[0m\u001b[0;34m)\u001b[0m\u001b[0;34m\u001b[0m\u001b[0;34m\u001b[0m\u001b[0m\n\u001b[0;32m---> 49\u001b[0;31m           \u001b[0md\u001b[0m \u001b[0;34m=\u001b[0m  \u001b[0mtorch\u001b[0m\u001b[0;34m.\u001b[0m\u001b[0msum\u001b[0m\u001b[0;34m(\u001b[0m\u001b[0;34m(\u001b[0m\u001b[0mdataset\u001b[0m\u001b[0;34m[\u001b[0m\u001b[0mi\u001b[0m\u001b[0;34m]\u001b[0m\u001b[0;34m[\u001b[0m\u001b[0;36m0\u001b[0m\u001b[0;34m]\u001b[0m\u001b[0;34m.\u001b[0m\u001b[0mcuda\u001b[0m\u001b[0;34m(\u001b[0m\u001b[0;34m)\u001b[0m \u001b[0;34m-\u001b[0m \u001b[0mimg\u001b[0m\u001b[0;34m)\u001b[0m \u001b[0;34m**\u001b[0m \u001b[0;36m2\u001b[0m\u001b[0;34m)\u001b[0m\u001b[0;34m\u001b[0m\u001b[0;34m\u001b[0m\u001b[0m\n\u001b[0m\u001b[1;32m     50\u001b[0m \u001b[0;34m\u001b[0m\u001b[0m\n\u001b[1;32m     51\u001b[0m           \u001b[0mloss\u001b[0m \u001b[0;34m=\u001b[0m \u001b[0mLAMBDA\u001b[0m \u001b[0;34m*\u001b[0m \u001b[0membedding_mse\u001b[0m\u001b[0;34m\u001b[0m\u001b[0;34m\u001b[0m\u001b[0m\n",
            "\u001b[0;32m<ipython-input-16-8271e3acea4b>\u001b[0m in \u001b[0;36m__getitem__\u001b[0;34m(self, idx)\u001b[0m\n\u001b[1;32m     94\u001b[0m \u001b[0;34m\u001b[0m\u001b[0m\n\u001b[1;32m     95\u001b[0m   \u001b[0;32mdef\u001b[0m \u001b[0m__getitem__\u001b[0m\u001b[0;34m(\u001b[0m\u001b[0mself\u001b[0m\u001b[0;34m,\u001b[0m \u001b[0midx\u001b[0m\u001b[0;34m)\u001b[0m\u001b[0;34m:\u001b[0m\u001b[0;34m\u001b[0m\u001b[0;34m\u001b[0m\u001b[0m\n\u001b[0;32m---> 96\u001b[0;31m     \u001b[0mqueryimgs\u001b[0m\u001b[0;34m,\u001b[0m \u001b[0mretrievedresults\u001b[0m \u001b[0;34m=\u001b[0m \u001b[0mself\u001b[0m\u001b[0;34m.\u001b[0m\u001b[0mretrieve_relevant_images_from_lists\u001b[0m\u001b[0;34m(\u001b[0m\u001b[0midx\u001b[0m\u001b[0;34m,\u001b[0m \u001b[0mself\u001b[0m\u001b[0;34m.\u001b[0m\u001b[0mmodel\u001b[0m\u001b[0;34m,\u001b[0m \u001b[0mself\u001b[0m\u001b[0;34m.\u001b[0m\u001b[0mvecs_lw\u001b[0m\u001b[0;34m,\u001b[0m \u001b[0mself\u001b[0m\u001b[0;34m.\u001b[0m\u001b[0mqvecs_lw\u001b[0m\u001b[0;34m[\u001b[0m\u001b[0;34m:\u001b[0m\u001b[0;34m,\u001b[0m \u001b[0midx\u001b[0m\u001b[0;34m]\u001b[0m\u001b[0;34m,\u001b[0m \u001b[0;34m[\u001b[0m\u001b[0mself\u001b[0m\u001b[0;34m.\u001b[0m\u001b[0mqimages\u001b[0m\u001b[0;34m[\u001b[0m\u001b[0midx\u001b[0m\u001b[0;34m]\u001b[0m\u001b[0;34m]\u001b[0m\u001b[0;34m,\u001b[0m \u001b[0mself\u001b[0m\u001b[0;34m.\u001b[0m\u001b[0mdbimages\u001b[0m\u001b[0;34m,\u001b[0m \u001b[0mself\u001b[0m\u001b[0;34m.\u001b[0m\u001b[0mimg_size\u001b[0m\u001b[0;34m,\u001b[0m \u001b[0mself\u001b[0m\u001b[0;34m.\u001b[0m\u001b[0mnumreturnedimgs\u001b[0m\u001b[0;34m,\u001b[0m \u001b[0mself\u001b[0m\u001b[0;34m.\u001b[0m\u001b[0mtransform\u001b[0m\u001b[0;34m)\u001b[0m\u001b[0;34m\u001b[0m\u001b[0;34m\u001b[0m\u001b[0m\n\u001b[0m\u001b[1;32m     97\u001b[0m     \u001b[0;32mreturn\u001b[0m \u001b[0mqueryimgs\u001b[0m\u001b[0;34m,\u001b[0m \u001b[0mretrievedresults\u001b[0m\u001b[0;34m\u001b[0m\u001b[0;34m\u001b[0m\u001b[0m\n\u001b[1;32m     98\u001b[0m \u001b[0;34m\u001b[0m\u001b[0m\n",
            "\u001b[0;32m<ipython-input-16-8271e3acea4b>\u001b[0m in \u001b[0;36mretrieve_relevant_images_from_lists\u001b[0;34m(self, idx, net, vecs_lw, qvecs_lw, qimages, images, image_size, num_returned_images, transform, bbxs, ms, msp, print_freq)\u001b[0m\n\u001b[1;32m    136\u001b[0m                               bbxs=None, transform=transforms.ToTensor())\n\u001b[1;32m    137\u001b[0m       \u001b[0;31m# Add the List of Images\u001b[0m\u001b[0;34m\u001b[0m\u001b[0;34m\u001b[0m\u001b[0;34m\u001b[0m\u001b[0m\n\u001b[0;32m--> 138\u001b[0;31m       \u001b[0mfinal_img_list\u001b[0m\u001b[0;34m.\u001b[0m\u001b[0mappend\u001b[0m\u001b[0;34m(\u001b[0m\u001b[0;34m[\u001b[0m\u001b[0mretrieved_imgs_concat_list\u001b[0m\u001b[0;34m[\u001b[0m\u001b[0mx\u001b[0m\u001b[0;34m]\u001b[0m\u001b[0;34m.\u001b[0m\u001b[0msqueeze\u001b[0m\u001b[0;34m(\u001b[0m\u001b[0;36m0\u001b[0m\u001b[0;34m)\u001b[0m \u001b[0;32mfor\u001b[0m \u001b[0mx\u001b[0m \u001b[0;32min\u001b[0m \u001b[0mrange\u001b[0m\u001b[0;34m(\u001b[0m\u001b[0mlen\u001b[0m\u001b[0;34m(\u001b[0m\u001b[0mretrieved_imgs_concat_list\u001b[0m\u001b[0;34m)\u001b[0m\u001b[0;34m)\u001b[0m\u001b[0;34m]\u001b[0m\u001b[0;34m)\u001b[0m\u001b[0;34m\u001b[0m\u001b[0;34m\u001b[0m\u001b[0m\n\u001b[0m\u001b[1;32m    139\u001b[0m \u001b[0;34m\u001b[0m\u001b[0m\n\u001b[1;32m    140\u001b[0m     \u001b[0;31m# To \"squeeze\"\u001b[0m\u001b[0;34m\u001b[0m\u001b[0;34m\u001b[0m\u001b[0;34m\u001b[0m\u001b[0m\n",
            "\u001b[0;32m<ipython-input-16-8271e3acea4b>\u001b[0m in \u001b[0;36m<listcomp>\u001b[0;34m(.0)\u001b[0m\n\u001b[1;32m    136\u001b[0m                               bbxs=None, transform=transforms.ToTensor())\n\u001b[1;32m    137\u001b[0m       \u001b[0;31m# Add the List of Images\u001b[0m\u001b[0;34m\u001b[0m\u001b[0;34m\u001b[0m\u001b[0;34m\u001b[0m\u001b[0m\n\u001b[0;32m--> 138\u001b[0;31m       \u001b[0mfinal_img_list\u001b[0m\u001b[0;34m.\u001b[0m\u001b[0mappend\u001b[0m\u001b[0;34m(\u001b[0m\u001b[0;34m[\u001b[0m\u001b[0mretrieved_imgs_concat_list\u001b[0m\u001b[0;34m[\u001b[0m\u001b[0mx\u001b[0m\u001b[0;34m]\u001b[0m\u001b[0;34m.\u001b[0m\u001b[0msqueeze\u001b[0m\u001b[0;34m(\u001b[0m\u001b[0;36m0\u001b[0m\u001b[0;34m)\u001b[0m \u001b[0;32mfor\u001b[0m \u001b[0mx\u001b[0m \u001b[0;32min\u001b[0m \u001b[0mrange\u001b[0m\u001b[0;34m(\u001b[0m\u001b[0mlen\u001b[0m\u001b[0;34m(\u001b[0m\u001b[0mretrieved_imgs_concat_list\u001b[0m\u001b[0;34m)\u001b[0m\u001b[0;34m)\u001b[0m\u001b[0;34m]\u001b[0m\u001b[0;34m)\u001b[0m\u001b[0;34m\u001b[0m\u001b[0;34m\u001b[0m\u001b[0m\n\u001b[0m\u001b[1;32m    139\u001b[0m \u001b[0;34m\u001b[0m\u001b[0m\n\u001b[1;32m    140\u001b[0m     \u001b[0;31m# To \"squeeze\"\u001b[0m\u001b[0;34m\u001b[0m\u001b[0;34m\u001b[0m\u001b[0;34m\u001b[0m\u001b[0m\n",
            "\u001b[0;32m/content/UAP_retrieval/cirtorch/datasets/genericdataset.py\u001b[0m in \u001b[0;36m__getitem__\u001b[0;34m(self, index)\u001b[0m\n\u001b[1;32m     59\u001b[0m         \"\"\"\n\u001b[1;32m     60\u001b[0m         \u001b[0mpath\u001b[0m \u001b[0;34m=\u001b[0m \u001b[0mself\u001b[0m\u001b[0;34m.\u001b[0m\u001b[0mimages_fn\u001b[0m\u001b[0;34m[\u001b[0m\u001b[0mindex\u001b[0m\u001b[0;34m]\u001b[0m\u001b[0;34m\u001b[0m\u001b[0;34m\u001b[0m\u001b[0m\n\u001b[0;32m---> 61\u001b[0;31m         \u001b[0mimg\u001b[0m \u001b[0;34m=\u001b[0m \u001b[0mself\u001b[0m\u001b[0;34m.\u001b[0m\u001b[0mloader\u001b[0m\u001b[0;34m(\u001b[0m\u001b[0mpath\u001b[0m\u001b[0;34m)\u001b[0m\u001b[0;34m\u001b[0m\u001b[0;34m\u001b[0m\u001b[0m\n\u001b[0m\u001b[1;32m     62\u001b[0m         \u001b[0;32mif\u001b[0m \u001b[0mself\u001b[0m\u001b[0;34m.\u001b[0m\u001b[0mbbxs\u001b[0m\u001b[0;34m:\u001b[0m\u001b[0;34m\u001b[0m\u001b[0;34m\u001b[0m\u001b[0m\n\u001b[1;32m     63\u001b[0m             \u001b[0mimg\u001b[0m \u001b[0;34m=\u001b[0m \u001b[0mimg\u001b[0m\u001b[0;34m.\u001b[0m\u001b[0mcrop\u001b[0m\u001b[0;34m(\u001b[0m\u001b[0mself\u001b[0m\u001b[0;34m.\u001b[0m\u001b[0mbbxs\u001b[0m\u001b[0;34m[\u001b[0m\u001b[0mindex\u001b[0m\u001b[0;34m]\u001b[0m\u001b[0;34m)\u001b[0m\u001b[0;34m\u001b[0m\u001b[0;34m\u001b[0m\u001b[0m\n",
            "\u001b[0;32m/content/UAP_retrieval/cirtorch/datasets/datahelpers.py\u001b[0m in \u001b[0;36mdefault_loader\u001b[0;34m(path)\u001b[0m\n\u001b[1;32m     38\u001b[0m         \u001b[0;32mreturn\u001b[0m \u001b[0maccimage_loader\u001b[0m\u001b[0;34m(\u001b[0m\u001b[0mpath\u001b[0m\u001b[0;34m)\u001b[0m\u001b[0;34m\u001b[0m\u001b[0;34m\u001b[0m\u001b[0m\n\u001b[1;32m     39\u001b[0m     \u001b[0;32melse\u001b[0m\u001b[0;34m:\u001b[0m\u001b[0;34m\u001b[0m\u001b[0;34m\u001b[0m\u001b[0m\n\u001b[0;32m---> 40\u001b[0;31m         \u001b[0;32mreturn\u001b[0m \u001b[0mpil_loader\u001b[0m\u001b[0;34m(\u001b[0m\u001b[0mpath\u001b[0m\u001b[0;34m)\u001b[0m\u001b[0;34m\u001b[0m\u001b[0;34m\u001b[0m\u001b[0m\n\u001b[0m\u001b[1;32m     41\u001b[0m \u001b[0;34m\u001b[0m\u001b[0m\n\u001b[1;32m     42\u001b[0m \u001b[0;32mdef\u001b[0m \u001b[0mimresize\u001b[0m\u001b[0;34m(\u001b[0m\u001b[0mimg\u001b[0m\u001b[0;34m,\u001b[0m \u001b[0mimsize\u001b[0m\u001b[0;34m)\u001b[0m\u001b[0;34m:\u001b[0m\u001b[0;34m\u001b[0m\u001b[0;34m\u001b[0m\u001b[0m\n",
            "\u001b[0;32m/content/UAP_retrieval/cirtorch/datasets/datahelpers.py\u001b[0m in \u001b[0;36mpil_loader\u001b[0;34m(path)\u001b[0m\n\u001b[1;32m     23\u001b[0m     \u001b[0;32mwith\u001b[0m \u001b[0mopen\u001b[0m\u001b[0;34m(\u001b[0m\u001b[0mpath\u001b[0m\u001b[0;34m,\u001b[0m \u001b[0;34m'rb'\u001b[0m\u001b[0;34m)\u001b[0m \u001b[0;32mas\u001b[0m \u001b[0mf\u001b[0m\u001b[0;34m:\u001b[0m\u001b[0;34m\u001b[0m\u001b[0;34m\u001b[0m\u001b[0m\n\u001b[1;32m     24\u001b[0m         \u001b[0mimg\u001b[0m \u001b[0;34m=\u001b[0m \u001b[0mImage\u001b[0m\u001b[0;34m.\u001b[0m\u001b[0mopen\u001b[0m\u001b[0;34m(\u001b[0m\u001b[0mf\u001b[0m\u001b[0;34m)\u001b[0m\u001b[0;34m\u001b[0m\u001b[0;34m\u001b[0m\u001b[0m\n\u001b[0;32m---> 25\u001b[0;31m         \u001b[0;32mreturn\u001b[0m \u001b[0mimg\u001b[0m\u001b[0;34m.\u001b[0m\u001b[0mconvert\u001b[0m\u001b[0;34m(\u001b[0m\u001b[0;34m'RGB'\u001b[0m\u001b[0;34m)\u001b[0m\u001b[0;34m\u001b[0m\u001b[0;34m\u001b[0m\u001b[0m\n\u001b[0m\u001b[1;32m     26\u001b[0m \u001b[0;34m\u001b[0m\u001b[0m\n\u001b[1;32m     27\u001b[0m \u001b[0;32mdef\u001b[0m \u001b[0maccimage_loader\u001b[0m\u001b[0;34m(\u001b[0m\u001b[0mpath\u001b[0m\u001b[0;34m)\u001b[0m\u001b[0;34m:\u001b[0m\u001b[0;34m\u001b[0m\u001b[0;34m\u001b[0m\u001b[0m\n",
            "\u001b[0;32m/usr/local/lib/python3.7/dist-packages/PIL/Image.py\u001b[0m in \u001b[0;36mconvert\u001b[0;34m(self, mode, matrix, dither, palette, colors)\u001b[0m\n\u001b[1;32m    899\u001b[0m         \"\"\"\n\u001b[1;32m    900\u001b[0m \u001b[0;34m\u001b[0m\u001b[0m\n\u001b[0;32m--> 901\u001b[0;31m         \u001b[0mself\u001b[0m\u001b[0;34m.\u001b[0m\u001b[0mload\u001b[0m\u001b[0;34m(\u001b[0m\u001b[0;34m)\u001b[0m\u001b[0;34m\u001b[0m\u001b[0;34m\u001b[0m\u001b[0m\n\u001b[0m\u001b[1;32m    902\u001b[0m \u001b[0;34m\u001b[0m\u001b[0m\n\u001b[1;32m    903\u001b[0m         \u001b[0;32mif\u001b[0m \u001b[0;32mnot\u001b[0m \u001b[0mmode\u001b[0m \u001b[0;32mand\u001b[0m \u001b[0mself\u001b[0m\u001b[0;34m.\u001b[0m\u001b[0mmode\u001b[0m \u001b[0;34m==\u001b[0m \u001b[0;34m\"P\"\u001b[0m\u001b[0;34m:\u001b[0m\u001b[0;34m\u001b[0m\u001b[0;34m\u001b[0m\u001b[0m\n",
            "\u001b[0;32m/usr/local/lib/python3.7/dist-packages/PIL/ImageFile.py\u001b[0m in \u001b[0;36mload\u001b[0;34m(self)\u001b[0m\n\u001b[1;32m    205\u001b[0m                     \u001b[0mself\u001b[0m\u001b[0;34m.\u001b[0m\u001b[0mmap\u001b[0m \u001b[0;34m=\u001b[0m \u001b[0;32mNone\u001b[0m\u001b[0;34m\u001b[0m\u001b[0;34m\u001b[0m\u001b[0m\n\u001b[1;32m    206\u001b[0m \u001b[0;34m\u001b[0m\u001b[0m\n\u001b[0;32m--> 207\u001b[0;31m         \u001b[0mself\u001b[0m\u001b[0;34m.\u001b[0m\u001b[0mload_prepare\u001b[0m\u001b[0;34m(\u001b[0m\u001b[0;34m)\u001b[0m\u001b[0;34m\u001b[0m\u001b[0;34m\u001b[0m\u001b[0m\n\u001b[0m\u001b[1;32m    208\u001b[0m         \u001b[0merr_code\u001b[0m \u001b[0;34m=\u001b[0m \u001b[0;34m-\u001b[0m\u001b[0;36m3\u001b[0m  \u001b[0;31m# initialize to unknown error\u001b[0m\u001b[0;34m\u001b[0m\u001b[0;34m\u001b[0m\u001b[0m\n\u001b[1;32m    209\u001b[0m         \u001b[0;32mif\u001b[0m \u001b[0;32mnot\u001b[0m \u001b[0mself\u001b[0m\u001b[0;34m.\u001b[0m\u001b[0mmap\u001b[0m\u001b[0;34m:\u001b[0m\u001b[0;34m\u001b[0m\u001b[0;34m\u001b[0m\u001b[0m\n",
            "\u001b[0;32m/usr/local/lib/python3.7/dist-packages/PIL/ImageFile.py\u001b[0m in \u001b[0;36mload_prepare\u001b[0;34m(self)\u001b[0m\n\u001b[1;32m    275\u001b[0m         \u001b[0;31m# create image memory if necessary\u001b[0m\u001b[0;34m\u001b[0m\u001b[0;34m\u001b[0m\u001b[0;34m\u001b[0m\u001b[0m\n\u001b[1;32m    276\u001b[0m         \u001b[0;32mif\u001b[0m \u001b[0;32mnot\u001b[0m \u001b[0mself\u001b[0m\u001b[0;34m.\u001b[0m\u001b[0mim\u001b[0m \u001b[0;32mor\u001b[0m \u001b[0mself\u001b[0m\u001b[0;34m.\u001b[0m\u001b[0mim\u001b[0m\u001b[0;34m.\u001b[0m\u001b[0mmode\u001b[0m \u001b[0;34m!=\u001b[0m \u001b[0mself\u001b[0m\u001b[0;34m.\u001b[0m\u001b[0mmode\u001b[0m \u001b[0;32mor\u001b[0m \u001b[0mself\u001b[0m\u001b[0;34m.\u001b[0m\u001b[0mim\u001b[0m\u001b[0;34m.\u001b[0m\u001b[0msize\u001b[0m \u001b[0;34m!=\u001b[0m \u001b[0mself\u001b[0m\u001b[0;34m.\u001b[0m\u001b[0msize\u001b[0m\u001b[0;34m:\u001b[0m\u001b[0;34m\u001b[0m\u001b[0;34m\u001b[0m\u001b[0m\n\u001b[0;32m--> 277\u001b[0;31m             \u001b[0mself\u001b[0m\u001b[0;34m.\u001b[0m\u001b[0mim\u001b[0m \u001b[0;34m=\u001b[0m \u001b[0mImage\u001b[0m\u001b[0;34m.\u001b[0m\u001b[0mcore\u001b[0m\u001b[0;34m.\u001b[0m\u001b[0mnew\u001b[0m\u001b[0;34m(\u001b[0m\u001b[0mself\u001b[0m\u001b[0;34m.\u001b[0m\u001b[0mmode\u001b[0m\u001b[0;34m,\u001b[0m \u001b[0mself\u001b[0m\u001b[0;34m.\u001b[0m\u001b[0msize\u001b[0m\u001b[0;34m)\u001b[0m\u001b[0;34m\u001b[0m\u001b[0;34m\u001b[0m\u001b[0m\n\u001b[0m\u001b[1;32m    278\u001b[0m         \u001b[0;31m# create palette (optional)\u001b[0m\u001b[0;34m\u001b[0m\u001b[0;34m\u001b[0m\u001b[0;34m\u001b[0m\u001b[0m\n\u001b[1;32m    279\u001b[0m         \u001b[0;32mif\u001b[0m \u001b[0mself\u001b[0m\u001b[0;34m.\u001b[0m\u001b[0mmode\u001b[0m \u001b[0;34m==\u001b[0m \u001b[0;34m\"P\"\u001b[0m\u001b[0;34m:\u001b[0m\u001b[0;34m\u001b[0m\u001b[0;34m\u001b[0m\u001b[0m\n",
            "\u001b[0;31mKeyboardInterrupt\u001b[0m: "
          ]
        },
        {
          "output_type": "stream",
          "name": "stdout",
          "text": [
            "Error in callback <function install_repl_displayhook.<locals>.post_execute at 0x7fde85b997a0> (for post_execute):\n"
          ]
        },
        {
          "output_type": "error",
          "ename": "KeyboardInterrupt",
          "evalue": "ignored",
          "traceback": [
            "\u001b[0;31m---------------------------------------------------------------------------\u001b[0m",
            "\u001b[0;31mKeyboardInterrupt\u001b[0m                         Traceback (most recent call last)",
            "\u001b[0;32m/usr/local/lib/python3.7/dist-packages/matplotlib/pyplot.py\u001b[0m in \u001b[0;36mpost_execute\u001b[0;34m()\u001b[0m\n\u001b[1;32m    107\u001b[0m             \u001b[0;32mdef\u001b[0m \u001b[0mpost_execute\u001b[0m\u001b[0;34m(\u001b[0m\u001b[0;34m)\u001b[0m\u001b[0;34m:\u001b[0m\u001b[0;34m\u001b[0m\u001b[0;34m\u001b[0m\u001b[0m\n\u001b[1;32m    108\u001b[0m                 \u001b[0;32mif\u001b[0m \u001b[0mmatplotlib\u001b[0m\u001b[0;34m.\u001b[0m\u001b[0mis_interactive\u001b[0m\u001b[0;34m(\u001b[0m\u001b[0;34m)\u001b[0m\u001b[0;34m:\u001b[0m\u001b[0;34m\u001b[0m\u001b[0;34m\u001b[0m\u001b[0m\n\u001b[0;32m--> 109\u001b[0;31m                     \u001b[0mdraw_all\u001b[0m\u001b[0;34m(\u001b[0m\u001b[0;34m)\u001b[0m\u001b[0;34m\u001b[0m\u001b[0;34m\u001b[0m\u001b[0m\n\u001b[0m\u001b[1;32m    110\u001b[0m \u001b[0;34m\u001b[0m\u001b[0m\n\u001b[1;32m    111\u001b[0m             \u001b[0;31m# IPython >= 2\u001b[0m\u001b[0;34m\u001b[0m\u001b[0;34m\u001b[0m\u001b[0;34m\u001b[0m\u001b[0m\n",
            "\u001b[0;32m/usr/local/lib/python3.7/dist-packages/matplotlib/_pylab_helpers.py\u001b[0m in \u001b[0;36mdraw_all\u001b[0;34m(cls, force)\u001b[0m\n\u001b[1;32m    125\u001b[0m         \u001b[0;32mfor\u001b[0m \u001b[0mf_mgr\u001b[0m \u001b[0;32min\u001b[0m \u001b[0mcls\u001b[0m\u001b[0;34m.\u001b[0m\u001b[0mget_all_fig_managers\u001b[0m\u001b[0;34m(\u001b[0m\u001b[0;34m)\u001b[0m\u001b[0;34m:\u001b[0m\u001b[0;34m\u001b[0m\u001b[0;34m\u001b[0m\u001b[0m\n\u001b[1;32m    126\u001b[0m             \u001b[0;32mif\u001b[0m \u001b[0mforce\u001b[0m \u001b[0;32mor\u001b[0m \u001b[0mf_mgr\u001b[0m\u001b[0;34m.\u001b[0m\u001b[0mcanvas\u001b[0m\u001b[0;34m.\u001b[0m\u001b[0mfigure\u001b[0m\u001b[0;34m.\u001b[0m\u001b[0mstale\u001b[0m\u001b[0;34m:\u001b[0m\u001b[0;34m\u001b[0m\u001b[0;34m\u001b[0m\u001b[0m\n\u001b[0;32m--> 127\u001b[0;31m                 \u001b[0mf_mgr\u001b[0m\u001b[0;34m.\u001b[0m\u001b[0mcanvas\u001b[0m\u001b[0;34m.\u001b[0m\u001b[0mdraw_idle\u001b[0m\u001b[0;34m(\u001b[0m\u001b[0;34m)\u001b[0m\u001b[0;34m\u001b[0m\u001b[0;34m\u001b[0m\u001b[0m\n\u001b[0m\u001b[1;32m    128\u001b[0m \u001b[0;34m\u001b[0m\u001b[0m\n\u001b[1;32m    129\u001b[0m \u001b[0matexit\u001b[0m\u001b[0;34m.\u001b[0m\u001b[0mregister\u001b[0m\u001b[0;34m(\u001b[0m\u001b[0mGcf\u001b[0m\u001b[0;34m.\u001b[0m\u001b[0mdestroy_all\u001b[0m\u001b[0;34m)\u001b[0m\u001b[0;34m\u001b[0m\u001b[0;34m\u001b[0m\u001b[0m\n",
            "\u001b[0;32m/usr/local/lib/python3.7/dist-packages/matplotlib/backend_bases.py\u001b[0m in \u001b[0;36mdraw_idle\u001b[0;34m(self, *args, **kwargs)\u001b[0m\n\u001b[1;32m   1945\u001b[0m         \u001b[0;32mif\u001b[0m \u001b[0;32mnot\u001b[0m \u001b[0mself\u001b[0m\u001b[0;34m.\u001b[0m\u001b[0m_is_idle_drawing\u001b[0m\u001b[0;34m:\u001b[0m\u001b[0;34m\u001b[0m\u001b[0;34m\u001b[0m\u001b[0m\n\u001b[1;32m   1946\u001b[0m             \u001b[0;32mwith\u001b[0m \u001b[0mself\u001b[0m\u001b[0;34m.\u001b[0m\u001b[0m_idle_draw_cntx\u001b[0m\u001b[0;34m(\u001b[0m\u001b[0;34m)\u001b[0m\u001b[0;34m:\u001b[0m\u001b[0;34m\u001b[0m\u001b[0;34m\u001b[0m\u001b[0m\n\u001b[0;32m-> 1947\u001b[0;31m                 \u001b[0mself\u001b[0m\u001b[0;34m.\u001b[0m\u001b[0mdraw\u001b[0m\u001b[0;34m(\u001b[0m\u001b[0;34m*\u001b[0m\u001b[0margs\u001b[0m\u001b[0;34m,\u001b[0m \u001b[0;34m**\u001b[0m\u001b[0mkwargs\u001b[0m\u001b[0;34m)\u001b[0m\u001b[0;34m\u001b[0m\u001b[0;34m\u001b[0m\u001b[0m\n\u001b[0m\u001b[1;32m   1948\u001b[0m \u001b[0;34m\u001b[0m\u001b[0m\n\u001b[1;32m   1949\u001b[0m     \u001b[0;34m@\u001b[0m\u001b[0mcbook\u001b[0m\u001b[0;34m.\u001b[0m\u001b[0mdeprecated\u001b[0m\u001b[0;34m(\u001b[0m\u001b[0;34m\"3.2\"\u001b[0m\u001b[0;34m)\u001b[0m\u001b[0;34m\u001b[0m\u001b[0;34m\u001b[0m\u001b[0m\n",
            "\u001b[0;32m/usr/local/lib/python3.7/dist-packages/matplotlib/backends/backend_agg.py\u001b[0m in \u001b[0;36mdraw\u001b[0;34m(self)\u001b[0m\n\u001b[1;32m    391\u001b[0m              (self.toolbar._wait_cursor_for_draw_cm() if self.toolbar\n\u001b[1;32m    392\u001b[0m               else nullcontext()):\n\u001b[0;32m--> 393\u001b[0;31m             \u001b[0mself\u001b[0m\u001b[0;34m.\u001b[0m\u001b[0mfigure\u001b[0m\u001b[0;34m.\u001b[0m\u001b[0mdraw\u001b[0m\u001b[0;34m(\u001b[0m\u001b[0mself\u001b[0m\u001b[0;34m.\u001b[0m\u001b[0mrenderer\u001b[0m\u001b[0;34m)\u001b[0m\u001b[0;34m\u001b[0m\u001b[0;34m\u001b[0m\u001b[0m\n\u001b[0m\u001b[1;32m    394\u001b[0m             \u001b[0;31m# A GUI class may be need to update a window using this draw, so\u001b[0m\u001b[0;34m\u001b[0m\u001b[0;34m\u001b[0m\u001b[0;34m\u001b[0m\u001b[0m\n\u001b[1;32m    395\u001b[0m             \u001b[0;31m# don't forget to call the superclass.\u001b[0m\u001b[0;34m\u001b[0m\u001b[0;34m\u001b[0m\u001b[0;34m\u001b[0m\u001b[0m\n",
            "\u001b[0;32m/usr/local/lib/python3.7/dist-packages/matplotlib/artist.py\u001b[0m in \u001b[0;36mdraw_wrapper\u001b[0;34m(artist, renderer, *args, **kwargs)\u001b[0m\n\u001b[1;32m     36\u001b[0m                 \u001b[0mrenderer\u001b[0m\u001b[0;34m.\u001b[0m\u001b[0mstart_filter\u001b[0m\u001b[0;34m(\u001b[0m\u001b[0;34m)\u001b[0m\u001b[0;34m\u001b[0m\u001b[0;34m\u001b[0m\u001b[0m\n\u001b[1;32m     37\u001b[0m \u001b[0;34m\u001b[0m\u001b[0m\n\u001b[0;32m---> 38\u001b[0;31m             \u001b[0;32mreturn\u001b[0m \u001b[0mdraw\u001b[0m\u001b[0;34m(\u001b[0m\u001b[0martist\u001b[0m\u001b[0;34m,\u001b[0m \u001b[0mrenderer\u001b[0m\u001b[0;34m,\u001b[0m \u001b[0;34m*\u001b[0m\u001b[0margs\u001b[0m\u001b[0;34m,\u001b[0m \u001b[0;34m**\u001b[0m\u001b[0mkwargs\u001b[0m\u001b[0;34m)\u001b[0m\u001b[0;34m\u001b[0m\u001b[0;34m\u001b[0m\u001b[0m\n\u001b[0m\u001b[1;32m     39\u001b[0m         \u001b[0;32mfinally\u001b[0m\u001b[0;34m:\u001b[0m\u001b[0;34m\u001b[0m\u001b[0;34m\u001b[0m\u001b[0m\n\u001b[1;32m     40\u001b[0m             \u001b[0;32mif\u001b[0m \u001b[0martist\u001b[0m\u001b[0;34m.\u001b[0m\u001b[0mget_agg_filter\u001b[0m\u001b[0;34m(\u001b[0m\u001b[0;34m)\u001b[0m \u001b[0;32mis\u001b[0m \u001b[0;32mnot\u001b[0m \u001b[0;32mNone\u001b[0m\u001b[0;34m:\u001b[0m\u001b[0;34m\u001b[0m\u001b[0;34m\u001b[0m\u001b[0m\n",
            "\u001b[0;32m/usr/local/lib/python3.7/dist-packages/matplotlib/figure.py\u001b[0m in \u001b[0;36mdraw\u001b[0;34m(self, renderer)\u001b[0m\n\u001b[1;32m   1734\u001b[0m             \u001b[0mself\u001b[0m\u001b[0;34m.\u001b[0m\u001b[0mpatch\u001b[0m\u001b[0;34m.\u001b[0m\u001b[0mdraw\u001b[0m\u001b[0;34m(\u001b[0m\u001b[0mrenderer\u001b[0m\u001b[0;34m)\u001b[0m\u001b[0;34m\u001b[0m\u001b[0;34m\u001b[0m\u001b[0m\n\u001b[1;32m   1735\u001b[0m             mimage._draw_list_compositing_images(\n\u001b[0;32m-> 1736\u001b[0;31m                 renderer, self, artists, self.suppressComposite)\n\u001b[0m\u001b[1;32m   1737\u001b[0m \u001b[0;34m\u001b[0m\u001b[0m\n\u001b[1;32m   1738\u001b[0m             \u001b[0mrenderer\u001b[0m\u001b[0;34m.\u001b[0m\u001b[0mclose_group\u001b[0m\u001b[0;34m(\u001b[0m\u001b[0;34m'figure'\u001b[0m\u001b[0;34m)\u001b[0m\u001b[0;34m\u001b[0m\u001b[0;34m\u001b[0m\u001b[0m\n",
            "\u001b[0;32m/usr/local/lib/python3.7/dist-packages/matplotlib/image.py\u001b[0m in \u001b[0;36m_draw_list_compositing_images\u001b[0;34m(renderer, parent, artists, suppress_composite)\u001b[0m\n\u001b[1;32m    135\u001b[0m     \u001b[0;32mif\u001b[0m \u001b[0mnot_composite\u001b[0m \u001b[0;32mor\u001b[0m \u001b[0;32mnot\u001b[0m \u001b[0mhas_images\u001b[0m\u001b[0;34m:\u001b[0m\u001b[0;34m\u001b[0m\u001b[0;34m\u001b[0m\u001b[0m\n\u001b[1;32m    136\u001b[0m         \u001b[0;32mfor\u001b[0m \u001b[0ma\u001b[0m \u001b[0;32min\u001b[0m \u001b[0martists\u001b[0m\u001b[0;34m:\u001b[0m\u001b[0;34m\u001b[0m\u001b[0;34m\u001b[0m\u001b[0m\n\u001b[0;32m--> 137\u001b[0;31m             \u001b[0ma\u001b[0m\u001b[0;34m.\u001b[0m\u001b[0mdraw\u001b[0m\u001b[0;34m(\u001b[0m\u001b[0mrenderer\u001b[0m\u001b[0;34m)\u001b[0m\u001b[0;34m\u001b[0m\u001b[0;34m\u001b[0m\u001b[0m\n\u001b[0m\u001b[1;32m    138\u001b[0m     \u001b[0;32melse\u001b[0m\u001b[0;34m:\u001b[0m\u001b[0;34m\u001b[0m\u001b[0;34m\u001b[0m\u001b[0m\n\u001b[1;32m    139\u001b[0m         \u001b[0;31m# Composite any adjacent images together\u001b[0m\u001b[0;34m\u001b[0m\u001b[0;34m\u001b[0m\u001b[0;34m\u001b[0m\u001b[0m\n",
            "\u001b[0;32m/usr/local/lib/python3.7/dist-packages/matplotlib/artist.py\u001b[0m in \u001b[0;36mdraw_wrapper\u001b[0;34m(artist, renderer, *args, **kwargs)\u001b[0m\n\u001b[1;32m     36\u001b[0m                 \u001b[0mrenderer\u001b[0m\u001b[0;34m.\u001b[0m\u001b[0mstart_filter\u001b[0m\u001b[0;34m(\u001b[0m\u001b[0;34m)\u001b[0m\u001b[0;34m\u001b[0m\u001b[0;34m\u001b[0m\u001b[0m\n\u001b[1;32m     37\u001b[0m \u001b[0;34m\u001b[0m\u001b[0m\n\u001b[0;32m---> 38\u001b[0;31m             \u001b[0;32mreturn\u001b[0m \u001b[0mdraw\u001b[0m\u001b[0;34m(\u001b[0m\u001b[0martist\u001b[0m\u001b[0;34m,\u001b[0m \u001b[0mrenderer\u001b[0m\u001b[0;34m,\u001b[0m \u001b[0;34m*\u001b[0m\u001b[0margs\u001b[0m\u001b[0;34m,\u001b[0m \u001b[0;34m**\u001b[0m\u001b[0mkwargs\u001b[0m\u001b[0;34m)\u001b[0m\u001b[0;34m\u001b[0m\u001b[0;34m\u001b[0m\u001b[0m\n\u001b[0m\u001b[1;32m     39\u001b[0m         \u001b[0;32mfinally\u001b[0m\u001b[0;34m:\u001b[0m\u001b[0;34m\u001b[0m\u001b[0;34m\u001b[0m\u001b[0m\n\u001b[1;32m     40\u001b[0m             \u001b[0;32mif\u001b[0m \u001b[0martist\u001b[0m\u001b[0;34m.\u001b[0m\u001b[0mget_agg_filter\u001b[0m\u001b[0;34m(\u001b[0m\u001b[0;34m)\u001b[0m \u001b[0;32mis\u001b[0m \u001b[0;32mnot\u001b[0m \u001b[0;32mNone\u001b[0m\u001b[0;34m:\u001b[0m\u001b[0;34m\u001b[0m\u001b[0;34m\u001b[0m\u001b[0m\n",
            "\u001b[0;32m/usr/local/lib/python3.7/dist-packages/matplotlib/axes/_base.py\u001b[0m in \u001b[0;36mdraw\u001b[0;34m(self, renderer, inframe)\u001b[0m\n\u001b[1;32m   2628\u001b[0m             \u001b[0mrenderer\u001b[0m\u001b[0;34m.\u001b[0m\u001b[0mstop_rasterizing\u001b[0m\u001b[0;34m(\u001b[0m\u001b[0;34m)\u001b[0m\u001b[0;34m\u001b[0m\u001b[0;34m\u001b[0m\u001b[0m\n\u001b[1;32m   2629\u001b[0m \u001b[0;34m\u001b[0m\u001b[0m\n\u001b[0;32m-> 2630\u001b[0;31m         \u001b[0mmimage\u001b[0m\u001b[0;34m.\u001b[0m\u001b[0m_draw_list_compositing_images\u001b[0m\u001b[0;34m(\u001b[0m\u001b[0mrenderer\u001b[0m\u001b[0;34m,\u001b[0m \u001b[0mself\u001b[0m\u001b[0;34m,\u001b[0m \u001b[0martists\u001b[0m\u001b[0;34m)\u001b[0m\u001b[0;34m\u001b[0m\u001b[0;34m\u001b[0m\u001b[0m\n\u001b[0m\u001b[1;32m   2631\u001b[0m \u001b[0;34m\u001b[0m\u001b[0m\n\u001b[1;32m   2632\u001b[0m         \u001b[0mrenderer\u001b[0m\u001b[0;34m.\u001b[0m\u001b[0mclose_group\u001b[0m\u001b[0;34m(\u001b[0m\u001b[0;34m'axes'\u001b[0m\u001b[0;34m)\u001b[0m\u001b[0;34m\u001b[0m\u001b[0;34m\u001b[0m\u001b[0m\n",
            "\u001b[0;32m/usr/local/lib/python3.7/dist-packages/matplotlib/image.py\u001b[0m in \u001b[0;36m_draw_list_compositing_images\u001b[0;34m(renderer, parent, artists, suppress_composite)\u001b[0m\n\u001b[1;32m    135\u001b[0m     \u001b[0;32mif\u001b[0m \u001b[0mnot_composite\u001b[0m \u001b[0;32mor\u001b[0m \u001b[0;32mnot\u001b[0m \u001b[0mhas_images\u001b[0m\u001b[0;34m:\u001b[0m\u001b[0;34m\u001b[0m\u001b[0;34m\u001b[0m\u001b[0m\n\u001b[1;32m    136\u001b[0m         \u001b[0;32mfor\u001b[0m \u001b[0ma\u001b[0m \u001b[0;32min\u001b[0m \u001b[0martists\u001b[0m\u001b[0;34m:\u001b[0m\u001b[0;34m\u001b[0m\u001b[0;34m\u001b[0m\u001b[0m\n\u001b[0;32m--> 137\u001b[0;31m             \u001b[0ma\u001b[0m\u001b[0;34m.\u001b[0m\u001b[0mdraw\u001b[0m\u001b[0;34m(\u001b[0m\u001b[0mrenderer\u001b[0m\u001b[0;34m)\u001b[0m\u001b[0;34m\u001b[0m\u001b[0;34m\u001b[0m\u001b[0m\n\u001b[0m\u001b[1;32m    138\u001b[0m     \u001b[0;32melse\u001b[0m\u001b[0;34m:\u001b[0m\u001b[0;34m\u001b[0m\u001b[0;34m\u001b[0m\u001b[0m\n\u001b[1;32m    139\u001b[0m         \u001b[0;31m# Composite any adjacent images together\u001b[0m\u001b[0;34m\u001b[0m\u001b[0;34m\u001b[0m\u001b[0;34m\u001b[0m\u001b[0m\n",
            "\u001b[0;32m/usr/local/lib/python3.7/dist-packages/matplotlib/artist.py\u001b[0m in \u001b[0;36mdraw_wrapper\u001b[0;34m(artist, renderer, *args, **kwargs)\u001b[0m\n\u001b[1;32m     36\u001b[0m                 \u001b[0mrenderer\u001b[0m\u001b[0;34m.\u001b[0m\u001b[0mstart_filter\u001b[0m\u001b[0;34m(\u001b[0m\u001b[0;34m)\u001b[0m\u001b[0;34m\u001b[0m\u001b[0;34m\u001b[0m\u001b[0m\n\u001b[1;32m     37\u001b[0m \u001b[0;34m\u001b[0m\u001b[0m\n\u001b[0;32m---> 38\u001b[0;31m             \u001b[0;32mreturn\u001b[0m \u001b[0mdraw\u001b[0m\u001b[0;34m(\u001b[0m\u001b[0martist\u001b[0m\u001b[0;34m,\u001b[0m \u001b[0mrenderer\u001b[0m\u001b[0;34m,\u001b[0m \u001b[0;34m*\u001b[0m\u001b[0margs\u001b[0m\u001b[0;34m,\u001b[0m \u001b[0;34m**\u001b[0m\u001b[0mkwargs\u001b[0m\u001b[0;34m)\u001b[0m\u001b[0;34m\u001b[0m\u001b[0;34m\u001b[0m\u001b[0m\n\u001b[0m\u001b[1;32m     39\u001b[0m         \u001b[0;32mfinally\u001b[0m\u001b[0;34m:\u001b[0m\u001b[0;34m\u001b[0m\u001b[0;34m\u001b[0m\u001b[0m\n\u001b[1;32m     40\u001b[0m             \u001b[0;32mif\u001b[0m \u001b[0martist\u001b[0m\u001b[0;34m.\u001b[0m\u001b[0mget_agg_filter\u001b[0m\u001b[0;34m(\u001b[0m\u001b[0;34m)\u001b[0m \u001b[0;32mis\u001b[0m \u001b[0;32mnot\u001b[0m \u001b[0;32mNone\u001b[0m\u001b[0;34m:\u001b[0m\u001b[0;34m\u001b[0m\u001b[0;34m\u001b[0m\u001b[0m\n",
            "\u001b[0;32m/usr/local/lib/python3.7/dist-packages/matplotlib/image.py\u001b[0m in \u001b[0;36mdraw\u001b[0;34m(self, renderer, *args, **kwargs)\u001b[0m\n\u001b[1;32m    624\u001b[0m         \u001b[0;32melse\u001b[0m\u001b[0;34m:\u001b[0m\u001b[0;34m\u001b[0m\u001b[0;34m\u001b[0m\u001b[0m\n\u001b[1;32m    625\u001b[0m             im, l, b, trans = self.make_image(\n\u001b[0;32m--> 626\u001b[0;31m                 renderer, renderer.get_image_magnification())\n\u001b[0m\u001b[1;32m    627\u001b[0m             \u001b[0;32mif\u001b[0m \u001b[0mim\u001b[0m \u001b[0;32mis\u001b[0m \u001b[0;32mnot\u001b[0m \u001b[0;32mNone\u001b[0m\u001b[0;34m:\u001b[0m\u001b[0;34m\u001b[0m\u001b[0;34m\u001b[0m\u001b[0m\n\u001b[1;32m    628\u001b[0m                 \u001b[0mrenderer\u001b[0m\u001b[0;34m.\u001b[0m\u001b[0mdraw_image\u001b[0m\u001b[0;34m(\u001b[0m\u001b[0mgc\u001b[0m\u001b[0;34m,\u001b[0m \u001b[0ml\u001b[0m\u001b[0;34m,\u001b[0m \u001b[0mb\u001b[0m\u001b[0;34m,\u001b[0m \u001b[0mim\u001b[0m\u001b[0;34m)\u001b[0m\u001b[0;34m\u001b[0m\u001b[0;34m\u001b[0m\u001b[0m\n",
            "\u001b[0;32m/usr/local/lib/python3.7/dist-packages/matplotlib/image.py\u001b[0m in \u001b[0;36mmake_image\u001b[0;34m(self, renderer, magnification, unsampled)\u001b[0m\n\u001b[1;32m    915\u001b[0m             \u001b[0mself\u001b[0m\u001b[0;34m.\u001b[0m\u001b[0m_A\u001b[0m\u001b[0;34m,\u001b[0m \u001b[0mbbox\u001b[0m\u001b[0;34m,\u001b[0m \u001b[0mtransformed_bbox\u001b[0m\u001b[0;34m,\u001b[0m\u001b[0;34m\u001b[0m\u001b[0;34m\u001b[0m\u001b[0m\n\u001b[1;32m    916\u001b[0m             \u001b[0mself\u001b[0m\u001b[0;34m.\u001b[0m\u001b[0mget_clip_box\u001b[0m\u001b[0;34m(\u001b[0m\u001b[0;34m)\u001b[0m \u001b[0;32mor\u001b[0m \u001b[0mself\u001b[0m\u001b[0;34m.\u001b[0m\u001b[0maxes\u001b[0m\u001b[0;34m.\u001b[0m\u001b[0mbbox\u001b[0m\u001b[0;34m,\u001b[0m\u001b[0;34m\u001b[0m\u001b[0;34m\u001b[0m\u001b[0m\n\u001b[0;32m--> 917\u001b[0;31m             magnification, unsampled=unsampled)\n\u001b[0m\u001b[1;32m    918\u001b[0m \u001b[0;34m\u001b[0m\u001b[0m\n\u001b[1;32m    919\u001b[0m     \u001b[0;32mdef\u001b[0m \u001b[0m_check_unsampled_image\u001b[0m\u001b[0;34m(\u001b[0m\u001b[0mself\u001b[0m\u001b[0;34m,\u001b[0m \u001b[0mrenderer\u001b[0m\u001b[0;34m)\u001b[0m\u001b[0;34m:\u001b[0m\u001b[0;34m\u001b[0m\u001b[0;34m\u001b[0m\u001b[0m\n",
            "\u001b[0;32m/usr/local/lib/python3.7/dist-packages/matplotlib/image.py\u001b[0m in \u001b[0;36m_make_image\u001b[0;34m(self, A, in_bbox, out_bbox, clip_bbox, magnification, unsampled, round_to_pixel_border)\u001b[0m\n\u001b[1;32m    522\u001b[0m                     self, A[..., 3], out_shape, t, alpha=alpha)\n\u001b[1;32m    523\u001b[0m                 output = _resample(  # resample rgb channels\n\u001b[0;32m--> 524\u001b[0;31m                     self, _rgb_to_rgba(A[..., :3]), out_shape, t, alpha=alpha)\n\u001b[0m\u001b[1;32m    525\u001b[0m                 \u001b[0moutput\u001b[0m\u001b[0;34m[\u001b[0m\u001b[0;34m...\u001b[0m\u001b[0;34m,\u001b[0m \u001b[0;36m3\u001b[0m\u001b[0;34m]\u001b[0m \u001b[0;34m=\u001b[0m \u001b[0moutput_alpha\u001b[0m  \u001b[0;31m# recombine rgb and alpha\u001b[0m\u001b[0;34m\u001b[0m\u001b[0;34m\u001b[0m\u001b[0m\n\u001b[1;32m    526\u001b[0m \u001b[0;34m\u001b[0m\u001b[0m\n",
            "\u001b[0;32m/usr/local/lib/python3.7/dist-packages/matplotlib/image.py\u001b[0m in \u001b[0;36m_rgb_to_rgba\u001b[0;34m(A)\u001b[0m\n\u001b[1;32m    210\u001b[0m     \"\"\"\n\u001b[1;32m    211\u001b[0m     \u001b[0mrgba\u001b[0m \u001b[0;34m=\u001b[0m \u001b[0mnp\u001b[0m\u001b[0;34m.\u001b[0m\u001b[0mzeros\u001b[0m\u001b[0;34m(\u001b[0m\u001b[0;34m(\u001b[0m\u001b[0mA\u001b[0m\u001b[0;34m.\u001b[0m\u001b[0mshape\u001b[0m\u001b[0;34m[\u001b[0m\u001b[0;36m0\u001b[0m\u001b[0;34m]\u001b[0m\u001b[0;34m,\u001b[0m \u001b[0mA\u001b[0m\u001b[0;34m.\u001b[0m\u001b[0mshape\u001b[0m\u001b[0;34m[\u001b[0m\u001b[0;36m1\u001b[0m\u001b[0;34m]\u001b[0m\u001b[0;34m,\u001b[0m \u001b[0;36m4\u001b[0m\u001b[0;34m)\u001b[0m\u001b[0;34m,\u001b[0m \u001b[0mdtype\u001b[0m\u001b[0;34m=\u001b[0m\u001b[0mA\u001b[0m\u001b[0;34m.\u001b[0m\u001b[0mdtype\u001b[0m\u001b[0;34m)\u001b[0m\u001b[0;34m\u001b[0m\u001b[0;34m\u001b[0m\u001b[0m\n\u001b[0;32m--> 212\u001b[0;31m     \u001b[0mrgba\u001b[0m\u001b[0;34m[\u001b[0m\u001b[0;34m:\u001b[0m\u001b[0;34m,\u001b[0m \u001b[0;34m:\u001b[0m\u001b[0;34m,\u001b[0m \u001b[0;34m:\u001b[0m\u001b[0;36m3\u001b[0m\u001b[0;34m]\u001b[0m \u001b[0;34m=\u001b[0m \u001b[0mA\u001b[0m\u001b[0;34m\u001b[0m\u001b[0;34m\u001b[0m\u001b[0m\n\u001b[0m\u001b[1;32m    213\u001b[0m     \u001b[0;32mif\u001b[0m \u001b[0mrgba\u001b[0m\u001b[0;34m.\u001b[0m\u001b[0mdtype\u001b[0m \u001b[0;34m==\u001b[0m \u001b[0mnp\u001b[0m\u001b[0;34m.\u001b[0m\u001b[0muint8\u001b[0m\u001b[0;34m:\u001b[0m\u001b[0;34m\u001b[0m\u001b[0;34m\u001b[0m\u001b[0m\n\u001b[1;32m    214\u001b[0m         \u001b[0mrgba\u001b[0m\u001b[0;34m[\u001b[0m\u001b[0;34m:\u001b[0m\u001b[0;34m,\u001b[0m \u001b[0;34m:\u001b[0m\u001b[0;34m,\u001b[0m \u001b[0;36m3\u001b[0m\u001b[0;34m]\u001b[0m \u001b[0;34m=\u001b[0m \u001b[0;36m255\u001b[0m\u001b[0;34m\u001b[0m\u001b[0;34m\u001b[0m\u001b[0m\n",
            "\u001b[0;31mKeyboardInterrupt\u001b[0m: "
          ]
        }
      ],
      "source": [
        "import pickle\n",
        "from torch.optim import Adam\n",
        "import torch\n",
        "\n",
        "# Initialize Surrogate Models\n",
        "models = [googleNet, swin_t, squeezeNet, denseNet, mobileNet, mnasNet, convNext, regNet]\n",
        "\n",
        "# Experiment Constants\n",
        "NUM_ITERS = 20\n",
        "NUM_META_TRAIN_STEPS = 8\n",
        "preprocess = denseNetPreprocess\n",
        "target = torch.zeros((3, 1000, 1000)).to(device)\n",
        "LAMBDA = 1.0\n",
        "EPSILON = 0.4\n",
        "NUM_QUERY_IMAGES = 55\n",
        "LR = 0.00625\n",
        "\n",
        "\n",
        "# Metrics Dictionary\n",
        "metrics = {}\n",
        "for model_name in model_to_pretrained_checkpoint.keys():\n",
        "  metrics[model_name] = {\"Number Successful 5 out of 10\": 0.0, \"Number Successful Top 10\" : 0.0, \"Number Successful Top 5\" : 0.0, \"Total Relevance Based Loss\" : 0.0, \"Full Clean Ranks\" : torch.zeros((5063, 55)), \"Full Dirty Ranks\" : torch.zeros((5063, 55))}\n",
        "\n",
        "\n",
        "# Method to Update Metrics\n",
        "def updateMetrics(clean_img_list, full_clean_ranks, dirty_img_list, full_dirty_ranks, model_name, idx):\n",
        "  metrics[model_name][\"Total Relevance Based Loss\"] += relevanceBasedLossFunction(clean_img_list[0], dirty_img_list[0])\n",
        "  print(model_name)\n",
        "  metrics[model_name][\"Full Dirty Ranks\"][:, idx] = torch.from_numpy(full_dirty_ranks.squeeze())\n",
        "  metrics[model_name][\"Full Clean Ranks\"][:, idx] = torch.from_numpy(full_clean_ranks.squeeze())\n",
        "  \n",
        "  if len(np.intersect1d(full_clean_ranks[:5].squeeze(), full_dirty_ranks[:5].squeeze())) == 0:\n",
        "    metrics[model_name][\"Number Successful Top 5\"] += 1\n",
        "  if len(intersectionOfImageLists(clean_img_list[0], dirty_img_list[0])) <= 5:\n",
        "    metrics[model_name][\"Number Successful 5 out of 10\"] += 1\n",
        "  if len(intersectionOfImageLists(clean_img_list[0], dirty_img_list[0])) == 0:\n",
        "    metrics[model_name][\"Number Successful Top 10\"] += 1\n",
        "\n",
        "\n",
        "\n",
        "\n",
        "\n",
        "for i in range(NUM_QUERY_IMAGES):\n",
        "\n",
        "  # Initialize with original query Image\n",
        "  img = dataset[i][0].cuda()\n",
        "  img = Variable(img, requires_grad=True)\n",
        "  optimizer = Adam([img], lr=LR)\n",
        "\n",
        "  # Total Iterations\n",
        "  for iteration in range(NUM_ITERS):\n",
        "    img.requires_grad_(True)\n",
        "\n",
        "    # Set Aside MOdels for Ensemble Optimization and Ensemble Refinement\n",
        "    train_index = random.sample(range(len(models)), 6)\n",
        "    test_index = train_index.pop()\n",
        "\n",
        "    # Ensemble Optimization Iterations\n",
        "    for meta_train_step in range(NUM_META_TRAIN_STEPS):\n",
        "        # Start Total Loss at Zero\n",
        "        total_loss = 0\n",
        "        for idx in train_index:\n",
        "          # Get Feature Vectors for Adversarial Image and Target Image\n",
        "          adv_features = models[idx](preprocess(img).unsqueeze(0))\n",
        "          target_features = models[idx](preprocess(target).unsqueeze(0))\n",
        "\n",
        "          # Get MSE between Feature Vectors\n",
        "          embedding_mse = F.mse_loss(adv_features, target_features)\n",
        "          d =  torch.sum((dataset[i][0].cuda() - img) ** 2)\n",
        "          \n",
        "          # Store Loss\n",
        "          loss = LAMBDA * embedding_mse\n",
        "\n",
        "          # Fuse Loss Across n modesls\n",
        "          total_loss += (1 / len(train_index)) * loss\n",
        "\n",
        "        # BackProp Loss\n",
        "        img.retain_grad()\n",
        "        total_loss.backward(retain_graph=True)\n",
        "\n",
        "        # Optimizer Steps\n",
        "        optimizer.step()\n",
        "        optimizer.zero_grad()\n",
        "\n",
        "    # Get Feature Vectors for Adversarial Image and Target Image for Held-Out Model\n",
        "    adv_features = models[test_index](preprocess(img).unsqueeze(0))\n",
        "    target_features = models[test_index](preprocess(target).unsqueeze(0))\n",
        "\n",
        "    # Calculate MSE\n",
        "    embedding_mse =  F.mse_loss(adv_features, target_features)\n",
        "\n",
        "    d =  torch.sum((dataset[i][0].cuda() - img) ** 2)\n",
        "\n",
        "    # Calculate Loss\n",
        "    loss = LAMBDA * embedding_mse\n",
        "\n",
        "\n",
        "    # Backpropagate\n",
        "    loss.backward(retain_graph=True)\n",
        "    optimizer.step()\n",
        "\n",
        "    # Escape if Image Distance greater than 15000\n",
        "    if (d > 15000):\n",
        "      break\n",
        "    a = transforms.ToPILImage() (torch.clamp((img), 0, 1))\n",
        "    a.save(str(iteration) + \"Adam.jpg\")\n",
        "\n",
        "  pert = img - dataset[i][0].cuda()\n",
        "\n",
        "  # Scale by 2 due to less computational resources\n",
        "  pert = torch.clamp(pert * 2, -EPSILON, EPSILON)\n",
        "  new_adv_image = torch.clamp(dataset[i][0].cuda() + pert, 0, 1)\n",
        "\n",
        "  # Check IR Results across all 6 models\n",
        "  clean_img_list, full_clean_ranks_vgem = ir_system_vgem.retrieve_images(torch.clamp(dataset[i][0], 0, 1), 10)\n",
        "  dirty_img_list, full_dirty_ranks_vgem = ir_system_vgem.retrieve_images(torch.clamp(new_adv_image, 0, 1), 10)\n",
        "  print(\"VGEM\", relevanceBasedLossFunction(clean_img_list[0], dirty_img_list[0]))\n",
        "  updateMetrics(clean_img_list, full_clean_ranks_vgem, dirty_img_list, full_dirty_ranks_vgem, \"VGEM\", i)\n",
        "  visualize_IR_results(new_adv_image, dirty_img_list, \"/content/drive/MyDrive/AdversarialAttackResearch/VGEM/dirtyVGEMNew\" + str(i))\n",
        "\n",
        "  clean_img_list, full_clean_ranks_vmac = ir_system_vmac.retrieve_images(torch.clamp(dataset[i][0], 0, 1), 10)\n",
        "  dirty_img_list, full_dirty_ranks_vmac = ir_system_vmac.retrieve_images(torch.clamp(new_adv_image, 0, 1), 10)\n",
        "  print(\"VMAC\", relevanceBasedLossFunction(clean_img_list[0], dirty_img_list[0]))\n",
        "  visualize_IR_results(new_adv_image, dirty_img_list, \"/content/drive/MyDrive/AdversarialAttackResearch/VMAC/dirtyVMACNew\" + str(i))\n",
        "  updateMetrics(clean_img_list, full_clean_ranks_vmac, dirty_img_list, full_dirty_ranks_vmac, \"VMAC\", i)\n",
        "\n",
        "\n",
        "\n",
        "  clean_img_list, full_clean_ranks_agem = ir_system_agem.retrieve_images(torch.clamp(dataset[i][0], 0, 1), 10)\n",
        "  dirty_img_list, full_dirty_ranks_agem  = ir_system_agem.retrieve_images(torch.clamp(new_adv_image, 0, 1), 10)\n",
        "  print(\"AGEM\", relevanceBasedLossFunction(clean_img_list[0], dirty_img_list[0]))\n",
        "  visualize_IR_results(new_adv_image, dirty_img_list, \"/content/drive/MyDrive/AdversarialAttackResearch/AGEM/dirtyAGEMNew\" + str(i))\n",
        "  updateMetrics(clean_img_list, full_clean_ranks_agem, dirty_img_list, full_dirty_ranks_agem, \"AGEM\", i)\n",
        "\n",
        "\n",
        "\n",
        "  clean_img_list, full_clean_ranks_amac = ir_system_amac.retrieve_images(torch.clamp(dataset[i][0], 0, 1), 10)\n",
        "  dirty_img_list, full_dirty_ranks_amac  = ir_system_amac.retrieve_images(torch.clamp(new_adv_image, 0, 1), 10)\n",
        "  print(\"AMAC\", relevanceBasedLossFunction(clean_img_list[0], dirty_img_list[0]))\n",
        "  visualize_IR_results(new_adv_image, dirty_img_list, \"/content/drive/MyDrive/AdversarialAttackResearch/AMAC/dirtyAMACNew\" + str(i))\n",
        "  updateMetrics(clean_img_list, full_clean_ranks_amac, dirty_img_list, full_dirty_ranks_amac, \"AMAC\", i)\n",
        "\n",
        "\n",
        "  clean_img_list, full_clean_ranks_rgem  = ir_system_rgem.retrieve_images(torch.clamp(dataset[i][0], 0, 1), 10)\n",
        "  dirty_img_list, full_dirty_ranks_rgem = ir_system_rgem.retrieve_images(torch.clamp(new_adv_image, 0, 1), 10)\n",
        "  print(\"RGEM\", relevanceBasedLossFunction(clean_img_list[0], dirty_img_list[0]))\n",
        "  visualize_IR_results(new_adv_image, dirty_img_list, \"/content/drive/MyDrive/AdversarialAttackResearch/RGEM/dirtyRGEMNew\" + str(i))\n",
        "  updateMetrics(clean_img_list, full_clean_ranks_rgem, dirty_img_list, full_dirty_ranks_rgem, \"RGEM\", i)\n",
        "\n",
        "\n",
        "\n",
        "  clean_img_list, full_clean_ranks_rmac = ir_system_rmac.retrieve_images(torch.clamp(dataset[i][0], 0, 1), 10)\n",
        "  dirty_img_list, full_dirty_ranks_rmac = ir_system_rmac.retrieve_images(torch.clamp(new_adv_image, 0, 1), 10)\n",
        "  print(\"RMAC\", relevanceBasedLossFunction(clean_img_list[0], dirty_img_list[0]))\n",
        "  visualize_IR_results(new_adv_image, dirty_img_list, \"/content/drive/MyDrive/AdversarialAttackResearch/RMAC/dirtyRMACNew\" + str(i))\n",
        "  updateMetrics(clean_img_list, full_clean_ranks_rmac, dirty_img_list, full_dirty_ranks_rmac, \"RMAC\", i)\n",
        "\n",
        "\n",
        "  visualize_IR_results(dataset[i][0], clean_img_list, \"/content/drive/MyDrive/AdversarialAttackResearch/Clean/cleanNew\" + str(i))\n",
        "\n",
        "  full_img = transforms.ToPILImage() (new_adv_image)\n",
        "  full_img.save(\"/content/drive/MyDrive/AdversarialAttackResearch/Full Images/imgNew\" + str(i) + \".jpg\")\n",
        "\n",
        "\n",
        "  # Dump Metrics\n",
        "  with open('/content/drive/MyDrive/AdversarialAttackResearch/results_progress_new.pkl', 'wb') as f:\n",
        "    pickle.dump(metrics, f)\n",
        "\n",
        "\n",
        "\n",
        "\n",
        "\n",
        "\n",
        "\n",
        "\n",
        "\n",
        "\n",
        "\n"
      ]
    }
  ],
  "metadata": {
    "accelerator": "GPU",
    "colab": {
      "machine_shape": "hm",
      "provenance": []
    },
    "gpuClass": "standard",
    "kernelspec": {
      "display_name": "Python 3",
      "name": "python3"
    },
    "language_info": {
      "name": "python"
    },
    "widgets": {
      "application/vnd.jupyter.widget-state+json": {
        "ca9f98208ad44740b4efaa6338d98b4a": {
          "model_module": "@jupyter-widgets/controls",
          "model_name": "HBoxModel",
          "model_module_version": "1.5.0",
          "state": {
            "_dom_classes": [],
            "_model_module": "@jupyter-widgets/controls",
            "_model_module_version": "1.5.0",
            "_model_name": "HBoxModel",
            "_view_count": null,
            "_view_module": "@jupyter-widgets/controls",
            "_view_module_version": "1.5.0",
            "_view_name": "HBoxView",
            "box_style": "",
            "children": [
              "IPY_MODEL_42440e623e0d4c029e52abeb6bc64c31",
              "IPY_MODEL_d6c3ee99fafd4b1d95c955839f6def8c",
              "IPY_MODEL_6ae1bb9875d34c1491f032f907ac9db2"
            ],
            "layout": "IPY_MODEL_f79d5fc18af94487a1efe45a5103bdad"
          }
        },
        "42440e623e0d4c029e52abeb6bc64c31": {
          "model_module": "@jupyter-widgets/controls",
          "model_name": "HTMLModel",
          "model_module_version": "1.5.0",
          "state": {
            "_dom_classes": [],
            "_model_module": "@jupyter-widgets/controls",
            "_model_module_version": "1.5.0",
            "_model_name": "HTMLModel",
            "_view_count": null,
            "_view_module": "@jupyter-widgets/controls",
            "_view_module_version": "1.5.0",
            "_view_name": "HTMLView",
            "description": "",
            "description_tooltip": null,
            "layout": "IPY_MODEL_9920d2171ee84cdba29050cab18d7a7d",
            "placeholder": "​",
            "style": "IPY_MODEL_f62b8cb3616c474d8dc658942db0b714",
            "value": "100%"
          }
        },
        "d6c3ee99fafd4b1d95c955839f6def8c": {
          "model_module": "@jupyter-widgets/controls",
          "model_name": "FloatProgressModel",
          "model_module_version": "1.5.0",
          "state": {
            "_dom_classes": [],
            "_model_module": "@jupyter-widgets/controls",
            "_model_module_version": "1.5.0",
            "_model_name": "FloatProgressModel",
            "_view_count": null,
            "_view_module": "@jupyter-widgets/controls",
            "_view_module_version": "1.5.0",
            "_view_name": "ProgressView",
            "bar_style": "success",
            "description": "",
            "description_tooltip": null,
            "layout": "IPY_MODEL_6b4a3d5eb5b246f6941f989fb9ec7a2b",
            "max": 52147035,
            "min": 0,
            "orientation": "horizontal",
            "style": "IPY_MODEL_150f74d7c1bc451694916c71eb9338f5",
            "value": 52147035
          }
        },
        "6ae1bb9875d34c1491f032f907ac9db2": {
          "model_module": "@jupyter-widgets/controls",
          "model_name": "HTMLModel",
          "model_module_version": "1.5.0",
          "state": {
            "_dom_classes": [],
            "_model_module": "@jupyter-widgets/controls",
            "_model_module_version": "1.5.0",
            "_model_name": "HTMLModel",
            "_view_count": null,
            "_view_module": "@jupyter-widgets/controls",
            "_view_module_version": "1.5.0",
            "_view_name": "HTMLView",
            "description": "",
            "description_tooltip": null,
            "layout": "IPY_MODEL_97fdf7c4719446888a41322450fd8c09",
            "placeholder": "​",
            "style": "IPY_MODEL_fbfc35f9c16941e8bf9f91ccfdf24f7c",
            "value": " 49.7M/49.7M [00:01&lt;00:00, 22.8MB/s]"
          }
        },
        "f79d5fc18af94487a1efe45a5103bdad": {
          "model_module": "@jupyter-widgets/base",
          "model_name": "LayoutModel",
          "model_module_version": "1.2.0",
          "state": {
            "_model_module": "@jupyter-widgets/base",
            "_model_module_version": "1.2.0",
            "_model_name": "LayoutModel",
            "_view_count": null,
            "_view_module": "@jupyter-widgets/base",
            "_view_module_version": "1.2.0",
            "_view_name": "LayoutView",
            "align_content": null,
            "align_items": null,
            "align_self": null,
            "border": null,
            "bottom": null,
            "display": null,
            "flex": null,
            "flex_flow": null,
            "grid_area": null,
            "grid_auto_columns": null,
            "grid_auto_flow": null,
            "grid_auto_rows": null,
            "grid_column": null,
            "grid_gap": null,
            "grid_row": null,
            "grid_template_areas": null,
            "grid_template_columns": null,
            "grid_template_rows": null,
            "height": null,
            "justify_content": null,
            "justify_items": null,
            "left": null,
            "margin": null,
            "max_height": null,
            "max_width": null,
            "min_height": null,
            "min_width": null,
            "object_fit": null,
            "object_position": null,
            "order": null,
            "overflow": null,
            "overflow_x": null,
            "overflow_y": null,
            "padding": null,
            "right": null,
            "top": null,
            "visibility": null,
            "width": null
          }
        },
        "9920d2171ee84cdba29050cab18d7a7d": {
          "model_module": "@jupyter-widgets/base",
          "model_name": "LayoutModel",
          "model_module_version": "1.2.0",
          "state": {
            "_model_module": "@jupyter-widgets/base",
            "_model_module_version": "1.2.0",
            "_model_name": "LayoutModel",
            "_view_count": null,
            "_view_module": "@jupyter-widgets/base",
            "_view_module_version": "1.2.0",
            "_view_name": "LayoutView",
            "align_content": null,
            "align_items": null,
            "align_self": null,
            "border": null,
            "bottom": null,
            "display": null,
            "flex": null,
            "flex_flow": null,
            "grid_area": null,
            "grid_auto_columns": null,
            "grid_auto_flow": null,
            "grid_auto_rows": null,
            "grid_column": null,
            "grid_gap": null,
            "grid_row": null,
            "grid_template_areas": null,
            "grid_template_columns": null,
            "grid_template_rows": null,
            "height": null,
            "justify_content": null,
            "justify_items": null,
            "left": null,
            "margin": null,
            "max_height": null,
            "max_width": null,
            "min_height": null,
            "min_width": null,
            "object_fit": null,
            "object_position": null,
            "order": null,
            "overflow": null,
            "overflow_x": null,
            "overflow_y": null,
            "padding": null,
            "right": null,
            "top": null,
            "visibility": null,
            "width": null
          }
        },
        "f62b8cb3616c474d8dc658942db0b714": {
          "model_module": "@jupyter-widgets/controls",
          "model_name": "DescriptionStyleModel",
          "model_module_version": "1.5.0",
          "state": {
            "_model_module": "@jupyter-widgets/controls",
            "_model_module_version": "1.5.0",
            "_model_name": "DescriptionStyleModel",
            "_view_count": null,
            "_view_module": "@jupyter-widgets/base",
            "_view_module_version": "1.2.0",
            "_view_name": "StyleView",
            "description_width": ""
          }
        },
        "6b4a3d5eb5b246f6941f989fb9ec7a2b": {
          "model_module": "@jupyter-widgets/base",
          "model_name": "LayoutModel",
          "model_module_version": "1.2.0",
          "state": {
            "_model_module": "@jupyter-widgets/base",
            "_model_module_version": "1.2.0",
            "_model_name": "LayoutModel",
            "_view_count": null,
            "_view_module": "@jupyter-widgets/base",
            "_view_module_version": "1.2.0",
            "_view_name": "LayoutView",
            "align_content": null,
            "align_items": null,
            "align_self": null,
            "border": null,
            "bottom": null,
            "display": null,
            "flex": null,
            "flex_flow": null,
            "grid_area": null,
            "grid_auto_columns": null,
            "grid_auto_flow": null,
            "grid_auto_rows": null,
            "grid_column": null,
            "grid_gap": null,
            "grid_row": null,
            "grid_template_areas": null,
            "grid_template_columns": null,
            "grid_template_rows": null,
            "height": null,
            "justify_content": null,
            "justify_items": null,
            "left": null,
            "margin": null,
            "max_height": null,
            "max_width": null,
            "min_height": null,
            "min_width": null,
            "object_fit": null,
            "object_position": null,
            "order": null,
            "overflow": null,
            "overflow_x": null,
            "overflow_y": null,
            "padding": null,
            "right": null,
            "top": null,
            "visibility": null,
            "width": null
          }
        },
        "150f74d7c1bc451694916c71eb9338f5": {
          "model_module": "@jupyter-widgets/controls",
          "model_name": "ProgressStyleModel",
          "model_module_version": "1.5.0",
          "state": {
            "_model_module": "@jupyter-widgets/controls",
            "_model_module_version": "1.5.0",
            "_model_name": "ProgressStyleModel",
            "_view_count": null,
            "_view_module": "@jupyter-widgets/base",
            "_view_module_version": "1.2.0",
            "_view_name": "StyleView",
            "bar_color": null,
            "description_width": ""
          }
        },
        "97fdf7c4719446888a41322450fd8c09": {
          "model_module": "@jupyter-widgets/base",
          "model_name": "LayoutModel",
          "model_module_version": "1.2.0",
          "state": {
            "_model_module": "@jupyter-widgets/base",
            "_model_module_version": "1.2.0",
            "_model_name": "LayoutModel",
            "_view_count": null,
            "_view_module": "@jupyter-widgets/base",
            "_view_module_version": "1.2.0",
            "_view_name": "LayoutView",
            "align_content": null,
            "align_items": null,
            "align_self": null,
            "border": null,
            "bottom": null,
            "display": null,
            "flex": null,
            "flex_flow": null,
            "grid_area": null,
            "grid_auto_columns": null,
            "grid_auto_flow": null,
            "grid_auto_rows": null,
            "grid_column": null,
            "grid_gap": null,
            "grid_row": null,
            "grid_template_areas": null,
            "grid_template_columns": null,
            "grid_template_rows": null,
            "height": null,
            "justify_content": null,
            "justify_items": null,
            "left": null,
            "margin": null,
            "max_height": null,
            "max_width": null,
            "min_height": null,
            "min_width": null,
            "object_fit": null,
            "object_position": null,
            "order": null,
            "overflow": null,
            "overflow_x": null,
            "overflow_y": null,
            "padding": null,
            "right": null,
            "top": null,
            "visibility": null,
            "width": null
          }
        },
        "fbfc35f9c16941e8bf9f91ccfdf24f7c": {
          "model_module": "@jupyter-widgets/controls",
          "model_name": "DescriptionStyleModel",
          "model_module_version": "1.5.0",
          "state": {
            "_model_module": "@jupyter-widgets/controls",
            "_model_module_version": "1.5.0",
            "_model_name": "DescriptionStyleModel",
            "_view_count": null,
            "_view_module": "@jupyter-widgets/base",
            "_view_module_version": "1.2.0",
            "_view_name": "StyleView",
            "description_width": ""
          }
        },
        "58e6380e50b74a628625552b54a42f92": {
          "model_module": "@jupyter-widgets/controls",
          "model_name": "HBoxModel",
          "model_module_version": "1.5.0",
          "state": {
            "_dom_classes": [],
            "_model_module": "@jupyter-widgets/controls",
            "_model_module_version": "1.5.0",
            "_model_name": "HBoxModel",
            "_view_count": null,
            "_view_module": "@jupyter-widgets/controls",
            "_view_module_version": "1.5.0",
            "_view_name": "HBoxView",
            "box_style": "",
            "children": [
              "IPY_MODEL_21cac9b128ff455e9d48a46e94a75c4c",
              "IPY_MODEL_5b2addf5ec98464ab1ec981a43acb32b",
              "IPY_MODEL_7aae1542b08242d8adbbc0359133d0c1"
            ],
            "layout": "IPY_MODEL_a905059464414e73b75cb5cc374cdc53"
          }
        },
        "21cac9b128ff455e9d48a46e94a75c4c": {
          "model_module": "@jupyter-widgets/controls",
          "model_name": "HTMLModel",
          "model_module_version": "1.5.0",
          "state": {
            "_dom_classes": [],
            "_model_module": "@jupyter-widgets/controls",
            "_model_module_version": "1.5.0",
            "_model_name": "HTMLModel",
            "_view_count": null,
            "_view_module": "@jupyter-widgets/controls",
            "_view_module_version": "1.5.0",
            "_view_name": "HTMLView",
            "description": "",
            "description_tooltip": null,
            "layout": "IPY_MODEL_123d51530f8c4975bb58c6d8dc477c59",
            "placeholder": "​",
            "style": "IPY_MODEL_79c662df1de1400691c53eb078265e56",
            "value": "100%"
          }
        },
        "5b2addf5ec98464ab1ec981a43acb32b": {
          "model_module": "@jupyter-widgets/controls",
          "model_name": "FloatProgressModel",
          "model_module_version": "1.5.0",
          "state": {
            "_dom_classes": [],
            "_model_module": "@jupyter-widgets/controls",
            "_model_module_version": "1.5.0",
            "_model_name": "FloatProgressModel",
            "_view_count": null,
            "_view_module": "@jupyter-widgets/controls",
            "_view_module_version": "1.5.0",
            "_view_name": "ProgressView",
            "bar_style": "success",
            "description": "",
            "description_tooltip": null,
            "layout": "IPY_MODEL_34b84454a9984d59a114bc30a2e29e40",
            "max": 32342954,
            "min": 0,
            "orientation": "horizontal",
            "style": "IPY_MODEL_66e2a9f917de40a4a080bf591a555334",
            "value": 32342954
          }
        },
        "7aae1542b08242d8adbbc0359133d0c1": {
          "model_module": "@jupyter-widgets/controls",
          "model_name": "HTMLModel",
          "model_module_version": "1.5.0",
          "state": {
            "_dom_classes": [],
            "_model_module": "@jupyter-widgets/controls",
            "_model_module_version": "1.5.0",
            "_model_name": "HTMLModel",
            "_view_count": null,
            "_view_module": "@jupyter-widgets/controls",
            "_view_module_version": "1.5.0",
            "_view_name": "HTMLView",
            "description": "",
            "description_tooltip": null,
            "layout": "IPY_MODEL_1c797cdc6208408fb88002284b6a3c1c",
            "placeholder": "​",
            "style": "IPY_MODEL_7f328f1758c7461f932f5c50bb9d7c60",
            "value": " 30.8M/30.8M [00:01&lt;00:00, 23.0MB/s]"
          }
        },
        "a905059464414e73b75cb5cc374cdc53": {
          "model_module": "@jupyter-widgets/base",
          "model_name": "LayoutModel",
          "model_module_version": "1.2.0",
          "state": {
            "_model_module": "@jupyter-widgets/base",
            "_model_module_version": "1.2.0",
            "_model_name": "LayoutModel",
            "_view_count": null,
            "_view_module": "@jupyter-widgets/base",
            "_view_module_version": "1.2.0",
            "_view_name": "LayoutView",
            "align_content": null,
            "align_items": null,
            "align_self": null,
            "border": null,
            "bottom": null,
            "display": null,
            "flex": null,
            "flex_flow": null,
            "grid_area": null,
            "grid_auto_columns": null,
            "grid_auto_flow": null,
            "grid_auto_rows": null,
            "grid_column": null,
            "grid_gap": null,
            "grid_row": null,
            "grid_template_areas": null,
            "grid_template_columns": null,
            "grid_template_rows": null,
            "height": null,
            "justify_content": null,
            "justify_items": null,
            "left": null,
            "margin": null,
            "max_height": null,
            "max_width": null,
            "min_height": null,
            "min_width": null,
            "object_fit": null,
            "object_position": null,
            "order": null,
            "overflow": null,
            "overflow_x": null,
            "overflow_y": null,
            "padding": null,
            "right": null,
            "top": null,
            "visibility": null,
            "width": null
          }
        },
        "123d51530f8c4975bb58c6d8dc477c59": {
          "model_module": "@jupyter-widgets/base",
          "model_name": "LayoutModel",
          "model_module_version": "1.2.0",
          "state": {
            "_model_module": "@jupyter-widgets/base",
            "_model_module_version": "1.2.0",
            "_model_name": "LayoutModel",
            "_view_count": null,
            "_view_module": "@jupyter-widgets/base",
            "_view_module_version": "1.2.0",
            "_view_name": "LayoutView",
            "align_content": null,
            "align_items": null,
            "align_self": null,
            "border": null,
            "bottom": null,
            "display": null,
            "flex": null,
            "flex_flow": null,
            "grid_area": null,
            "grid_auto_columns": null,
            "grid_auto_flow": null,
            "grid_auto_rows": null,
            "grid_column": null,
            "grid_gap": null,
            "grid_row": null,
            "grid_template_areas": null,
            "grid_template_columns": null,
            "grid_template_rows": null,
            "height": null,
            "justify_content": null,
            "justify_items": null,
            "left": null,
            "margin": null,
            "max_height": null,
            "max_width": null,
            "min_height": null,
            "min_width": null,
            "object_fit": null,
            "object_position": null,
            "order": null,
            "overflow": null,
            "overflow_x": null,
            "overflow_y": null,
            "padding": null,
            "right": null,
            "top": null,
            "visibility": null,
            "width": null
          }
        },
        "79c662df1de1400691c53eb078265e56": {
          "model_module": "@jupyter-widgets/controls",
          "model_name": "DescriptionStyleModel",
          "model_module_version": "1.5.0",
          "state": {
            "_model_module": "@jupyter-widgets/controls",
            "_model_module_version": "1.5.0",
            "_model_name": "DescriptionStyleModel",
            "_view_count": null,
            "_view_module": "@jupyter-widgets/base",
            "_view_module_version": "1.2.0",
            "_view_name": "StyleView",
            "description_width": ""
          }
        },
        "34b84454a9984d59a114bc30a2e29e40": {
          "model_module": "@jupyter-widgets/base",
          "model_name": "LayoutModel",
          "model_module_version": "1.2.0",
          "state": {
            "_model_module": "@jupyter-widgets/base",
            "_model_module_version": "1.2.0",
            "_model_name": "LayoutModel",
            "_view_count": null,
            "_view_module": "@jupyter-widgets/base",
            "_view_module_version": "1.2.0",
            "_view_name": "LayoutView",
            "align_content": null,
            "align_items": null,
            "align_self": null,
            "border": null,
            "bottom": null,
            "display": null,
            "flex": null,
            "flex_flow": null,
            "grid_area": null,
            "grid_auto_columns": null,
            "grid_auto_flow": null,
            "grid_auto_rows": null,
            "grid_column": null,
            "grid_gap": null,
            "grid_row": null,
            "grid_template_areas": null,
            "grid_template_columns": null,
            "grid_template_rows": null,
            "height": null,
            "justify_content": null,
            "justify_items": null,
            "left": null,
            "margin": null,
            "max_height": null,
            "max_width": null,
            "min_height": null,
            "min_width": null,
            "object_fit": null,
            "object_position": null,
            "order": null,
            "overflow": null,
            "overflow_x": null,
            "overflow_y": null,
            "padding": null,
            "right": null,
            "top": null,
            "visibility": null,
            "width": null
          }
        },
        "66e2a9f917de40a4a080bf591a555334": {
          "model_module": "@jupyter-widgets/controls",
          "model_name": "ProgressStyleModel",
          "model_module_version": "1.5.0",
          "state": {
            "_model_module": "@jupyter-widgets/controls",
            "_model_module_version": "1.5.0",
            "_model_name": "ProgressStyleModel",
            "_view_count": null,
            "_view_module": "@jupyter-widgets/base",
            "_view_module_version": "1.2.0",
            "_view_name": "StyleView",
            "bar_color": null,
            "description_width": ""
          }
        },
        "1c797cdc6208408fb88002284b6a3c1c": {
          "model_module": "@jupyter-widgets/base",
          "model_name": "LayoutModel",
          "model_module_version": "1.2.0",
          "state": {
            "_model_module": "@jupyter-widgets/base",
            "_model_module_version": "1.2.0",
            "_model_name": "LayoutModel",
            "_view_count": null,
            "_view_module": "@jupyter-widgets/base",
            "_view_module_version": "1.2.0",
            "_view_name": "LayoutView",
            "align_content": null,
            "align_items": null,
            "align_self": null,
            "border": null,
            "bottom": null,
            "display": null,
            "flex": null,
            "flex_flow": null,
            "grid_area": null,
            "grid_auto_columns": null,
            "grid_auto_flow": null,
            "grid_auto_rows": null,
            "grid_column": null,
            "grid_gap": null,
            "grid_row": null,
            "grid_template_areas": null,
            "grid_template_columns": null,
            "grid_template_rows": null,
            "height": null,
            "justify_content": null,
            "justify_items": null,
            "left": null,
            "margin": null,
            "max_height": null,
            "max_width": null,
            "min_height": null,
            "min_width": null,
            "object_fit": null,
            "object_position": null,
            "order": null,
            "overflow": null,
            "overflow_x": null,
            "overflow_y": null,
            "padding": null,
            "right": null,
            "top": null,
            "visibility": null,
            "width": null
          }
        },
        "7f328f1758c7461f932f5c50bb9d7c60": {
          "model_module": "@jupyter-widgets/controls",
          "model_name": "DescriptionStyleModel",
          "model_module_version": "1.5.0",
          "state": {
            "_model_module": "@jupyter-widgets/controls",
            "_model_module_version": "1.5.0",
            "_model_name": "DescriptionStyleModel",
            "_view_count": null,
            "_view_module": "@jupyter-widgets/base",
            "_view_module_version": "1.2.0",
            "_view_name": "StyleView",
            "description_width": ""
          }
        },
        "ecd49d878557496cb54b03e4648bf79d": {
          "model_module": "@jupyter-widgets/controls",
          "model_name": "HBoxModel",
          "model_module_version": "1.5.0",
          "state": {
            "_dom_classes": [],
            "_model_module": "@jupyter-widgets/controls",
            "_model_module_version": "1.5.0",
            "_model_name": "HBoxModel",
            "_view_count": null,
            "_view_module": "@jupyter-widgets/controls",
            "_view_module_version": "1.5.0",
            "_view_name": "HBoxView",
            "box_style": "",
            "children": [
              "IPY_MODEL_930950676fce41679a29a958db755742",
              "IPY_MODEL_5dee9bd819e944cc9f5c64f0d121c7d8",
              "IPY_MODEL_7a63292e7a8f4eaf815047ec17811f31"
            ],
            "layout": "IPY_MODEL_ba8b1e88a88d47c986c7209576dd0643"
          }
        },
        "930950676fce41679a29a958db755742": {
          "model_module": "@jupyter-widgets/controls",
          "model_name": "HTMLModel",
          "model_module_version": "1.5.0",
          "state": {
            "_dom_classes": [],
            "_model_module": "@jupyter-widgets/controls",
            "_model_module_version": "1.5.0",
            "_model_name": "HTMLModel",
            "_view_count": null,
            "_view_module": "@jupyter-widgets/controls",
            "_view_module_version": "1.5.0",
            "_view_name": "HTMLView",
            "description": "",
            "description_tooltip": null,
            "layout": "IPY_MODEL_3c4f729da7d844a7a941e4b4df63a045",
            "placeholder": "​",
            "style": "IPY_MODEL_b9a68188c76e43eab82703f3384578d3",
            "value": "100%"
          }
        },
        "5dee9bd819e944cc9f5c64f0d121c7d8": {
          "model_module": "@jupyter-widgets/controls",
          "model_name": "FloatProgressModel",
          "model_module_version": "1.5.0",
          "state": {
            "_dom_classes": [],
            "_model_module": "@jupyter-widgets/controls",
            "_model_module_version": "1.5.0",
            "_model_name": "FloatProgressModel",
            "_view_count": null,
            "_view_module": "@jupyter-widgets/controls",
            "_view_module_version": "1.5.0",
            "_view_name": "ProgressView",
            "bar_style": "success",
            "description": "",
            "description_tooltip": null,
            "layout": "IPY_MODEL_b0673b28965341719ed53a946e96e07f",
            "max": 86721253,
            "min": 0,
            "orientation": "horizontal",
            "style": "IPY_MODEL_b98f57f3a4404079bee00c406b41539a",
            "value": 86721253
          }
        },
        "7a63292e7a8f4eaf815047ec17811f31": {
          "model_module": "@jupyter-widgets/controls",
          "model_name": "HTMLModel",
          "model_module_version": "1.5.0",
          "state": {
            "_dom_classes": [],
            "_model_module": "@jupyter-widgets/controls",
            "_model_module_version": "1.5.0",
            "_model_name": "HTMLModel",
            "_view_count": null,
            "_view_module": "@jupyter-widgets/controls",
            "_view_module_version": "1.5.0",
            "_view_name": "HTMLView",
            "description": "",
            "description_tooltip": null,
            "layout": "IPY_MODEL_9b08464734be4a70bb46a17fedc60b6a",
            "placeholder": "​",
            "style": "IPY_MODEL_c93c56cc31874063b2832cd54eaf2569",
            "value": " 82.7M/82.7M [00:02&lt;00:00, 36.8MB/s]"
          }
        },
        "ba8b1e88a88d47c986c7209576dd0643": {
          "model_module": "@jupyter-widgets/base",
          "model_name": "LayoutModel",
          "model_module_version": "1.2.0",
          "state": {
            "_model_module": "@jupyter-widgets/base",
            "_model_module_version": "1.2.0",
            "_model_name": "LayoutModel",
            "_view_count": null,
            "_view_module": "@jupyter-widgets/base",
            "_view_module_version": "1.2.0",
            "_view_name": "LayoutView",
            "align_content": null,
            "align_items": null,
            "align_self": null,
            "border": null,
            "bottom": null,
            "display": null,
            "flex": null,
            "flex_flow": null,
            "grid_area": null,
            "grid_auto_columns": null,
            "grid_auto_flow": null,
            "grid_auto_rows": null,
            "grid_column": null,
            "grid_gap": null,
            "grid_row": null,
            "grid_template_areas": null,
            "grid_template_columns": null,
            "grid_template_rows": null,
            "height": null,
            "justify_content": null,
            "justify_items": null,
            "left": null,
            "margin": null,
            "max_height": null,
            "max_width": null,
            "min_height": null,
            "min_width": null,
            "object_fit": null,
            "object_position": null,
            "order": null,
            "overflow": null,
            "overflow_x": null,
            "overflow_y": null,
            "padding": null,
            "right": null,
            "top": null,
            "visibility": null,
            "width": null
          }
        },
        "3c4f729da7d844a7a941e4b4df63a045": {
          "model_module": "@jupyter-widgets/base",
          "model_name": "LayoutModel",
          "model_module_version": "1.2.0",
          "state": {
            "_model_module": "@jupyter-widgets/base",
            "_model_module_version": "1.2.0",
            "_model_name": "LayoutModel",
            "_view_count": null,
            "_view_module": "@jupyter-widgets/base",
            "_view_module_version": "1.2.0",
            "_view_name": "LayoutView",
            "align_content": null,
            "align_items": null,
            "align_self": null,
            "border": null,
            "bottom": null,
            "display": null,
            "flex": null,
            "flex_flow": null,
            "grid_area": null,
            "grid_auto_columns": null,
            "grid_auto_flow": null,
            "grid_auto_rows": null,
            "grid_column": null,
            "grid_gap": null,
            "grid_row": null,
            "grid_template_areas": null,
            "grid_template_columns": null,
            "grid_template_rows": null,
            "height": null,
            "justify_content": null,
            "justify_items": null,
            "left": null,
            "margin": null,
            "max_height": null,
            "max_width": null,
            "min_height": null,
            "min_width": null,
            "object_fit": null,
            "object_position": null,
            "order": null,
            "overflow": null,
            "overflow_x": null,
            "overflow_y": null,
            "padding": null,
            "right": null,
            "top": null,
            "visibility": null,
            "width": null
          }
        },
        "b9a68188c76e43eab82703f3384578d3": {
          "model_module": "@jupyter-widgets/controls",
          "model_name": "DescriptionStyleModel",
          "model_module_version": "1.5.0",
          "state": {
            "_model_module": "@jupyter-widgets/controls",
            "_model_module_version": "1.5.0",
            "_model_name": "DescriptionStyleModel",
            "_view_count": null,
            "_view_module": "@jupyter-widgets/base",
            "_view_module_version": "1.2.0",
            "_view_name": "StyleView",
            "description_width": ""
          }
        },
        "b0673b28965341719ed53a946e96e07f": {
          "model_module": "@jupyter-widgets/base",
          "model_name": "LayoutModel",
          "model_module_version": "1.2.0",
          "state": {
            "_model_module": "@jupyter-widgets/base",
            "_model_module_version": "1.2.0",
            "_model_name": "LayoutModel",
            "_view_count": null,
            "_view_module": "@jupyter-widgets/base",
            "_view_module_version": "1.2.0",
            "_view_name": "LayoutView",
            "align_content": null,
            "align_items": null,
            "align_self": null,
            "border": null,
            "bottom": null,
            "display": null,
            "flex": null,
            "flex_flow": null,
            "grid_area": null,
            "grid_auto_columns": null,
            "grid_auto_flow": null,
            "grid_auto_rows": null,
            "grid_column": null,
            "grid_gap": null,
            "grid_row": null,
            "grid_template_areas": null,
            "grid_template_columns": null,
            "grid_template_rows": null,
            "height": null,
            "justify_content": null,
            "justify_items": null,
            "left": null,
            "margin": null,
            "max_height": null,
            "max_width": null,
            "min_height": null,
            "min_width": null,
            "object_fit": null,
            "object_position": null,
            "order": null,
            "overflow": null,
            "overflow_x": null,
            "overflow_y": null,
            "padding": null,
            "right": null,
            "top": null,
            "visibility": null,
            "width": null
          }
        },
        "b98f57f3a4404079bee00c406b41539a": {
          "model_module": "@jupyter-widgets/controls",
          "model_name": "ProgressStyleModel",
          "model_module_version": "1.5.0",
          "state": {
            "_model_module": "@jupyter-widgets/controls",
            "_model_module_version": "1.5.0",
            "_model_name": "ProgressStyleModel",
            "_view_count": null,
            "_view_module": "@jupyter-widgets/base",
            "_view_module_version": "1.2.0",
            "_view_name": "StyleView",
            "bar_color": null,
            "description_width": ""
          }
        },
        "9b08464734be4a70bb46a17fedc60b6a": {
          "model_module": "@jupyter-widgets/base",
          "model_name": "LayoutModel",
          "model_module_version": "1.2.0",
          "state": {
            "_model_module": "@jupyter-widgets/base",
            "_model_module_version": "1.2.0",
            "_model_name": "LayoutModel",
            "_view_count": null,
            "_view_module": "@jupyter-widgets/base",
            "_view_module_version": "1.2.0",
            "_view_name": "LayoutView",
            "align_content": null,
            "align_items": null,
            "align_self": null,
            "border": null,
            "bottom": null,
            "display": null,
            "flex": null,
            "flex_flow": null,
            "grid_area": null,
            "grid_auto_columns": null,
            "grid_auto_flow": null,
            "grid_auto_rows": null,
            "grid_column": null,
            "grid_gap": null,
            "grid_row": null,
            "grid_template_areas": null,
            "grid_template_columns": null,
            "grid_template_rows": null,
            "height": null,
            "justify_content": null,
            "justify_items": null,
            "left": null,
            "margin": null,
            "max_height": null,
            "max_width": null,
            "min_height": null,
            "min_width": null,
            "object_fit": null,
            "object_position": null,
            "order": null,
            "overflow": null,
            "overflow_x": null,
            "overflow_y": null,
            "padding": null,
            "right": null,
            "top": null,
            "visibility": null,
            "width": null
          }
        },
        "c93c56cc31874063b2832cd54eaf2569": {
          "model_module": "@jupyter-widgets/controls",
          "model_name": "DescriptionStyleModel",
          "model_module_version": "1.5.0",
          "state": {
            "_model_module": "@jupyter-widgets/controls",
            "_model_module_version": "1.5.0",
            "_model_name": "DescriptionStyleModel",
            "_view_count": null,
            "_view_module": "@jupyter-widgets/base",
            "_view_module_version": "1.2.0",
            "_view_name": "StyleView",
            "description_width": ""
          }
        },
        "d0646e7db4284363a06fc6a6d32a26ac": {
          "model_module": "@jupyter-widgets/controls",
          "model_name": "HBoxModel",
          "model_module_version": "1.5.0",
          "state": {
            "_dom_classes": [],
            "_model_module": "@jupyter-widgets/controls",
            "_model_module_version": "1.5.0",
            "_model_name": "HBoxModel",
            "_view_count": null,
            "_view_module": "@jupyter-widgets/controls",
            "_view_module_version": "1.5.0",
            "_view_name": "HBoxView",
            "box_style": "",
            "children": [
              "IPY_MODEL_55d0f491b1b54865957d1cddb94d8b77",
              "IPY_MODEL_c9b54b4283534eba80b73b8f1cf64ad3",
              "IPY_MODEL_591ac829ea4f4876b952794776fca2f0"
            ],
            "layout": "IPY_MODEL_f71c52d00288428d919063daa13b3b64"
          }
        },
        "55d0f491b1b54865957d1cddb94d8b77": {
          "model_module": "@jupyter-widgets/controls",
          "model_name": "HTMLModel",
          "model_module_version": "1.5.0",
          "state": {
            "_dom_classes": [],
            "_model_module": "@jupyter-widgets/controls",
            "_model_module_version": "1.5.0",
            "_model_name": "HTMLModel",
            "_view_count": null,
            "_view_module": "@jupyter-widgets/controls",
            "_view_module_version": "1.5.0",
            "_view_name": "HTMLView",
            "description": "",
            "description_tooltip": null,
            "layout": "IPY_MODEL_f7683167df3c423eb07bac601141f81e",
            "placeholder": "​",
            "style": "IPY_MODEL_cc1f13805f584d9f9dda6d4d52ee1c75",
            "value": "100%"
          }
        },
        "c9b54b4283534eba80b73b8f1cf64ad3": {
          "model_module": "@jupyter-widgets/controls",
          "model_name": "FloatProgressModel",
          "model_module_version": "1.5.0",
          "state": {
            "_dom_classes": [],
            "_model_module": "@jupyter-widgets/controls",
            "_model_module_version": "1.5.0",
            "_model_name": "FloatProgressModel",
            "_view_count": null,
            "_view_module": "@jupyter-widgets/controls",
            "_view_module_version": "1.5.0",
            "_view_name": "ProgressView",
            "bar_style": "success",
            "description": "",
            "description_tooltip": null,
            "layout": "IPY_MODEL_f9df71b6ece548f6aecc486be0373b20",
            "max": 108949747,
            "min": 0,
            "orientation": "horizontal",
            "style": "IPY_MODEL_b4e5f6831f3c4b4396cf12ad2ce9ac74",
            "value": 108949747
          }
        },
        "591ac829ea4f4876b952794776fca2f0": {
          "model_module": "@jupyter-widgets/controls",
          "model_name": "HTMLModel",
          "model_module_version": "1.5.0",
          "state": {
            "_dom_classes": [],
            "_model_module": "@jupyter-widgets/controls",
            "_model_module_version": "1.5.0",
            "_model_name": "HTMLModel",
            "_view_count": null,
            "_view_module": "@jupyter-widgets/controls",
            "_view_module_version": "1.5.0",
            "_view_name": "HTMLView",
            "description": "",
            "description_tooltip": null,
            "layout": "IPY_MODEL_6303e0001d14493aa90eccc6d545aa14",
            "placeholder": "​",
            "style": "IPY_MODEL_e507b44415b44827a9886cff67a5d6b8",
            "value": " 104M/104M [00:02&lt;00:00, 39.6MB/s]"
          }
        },
        "f71c52d00288428d919063daa13b3b64": {
          "model_module": "@jupyter-widgets/base",
          "model_name": "LayoutModel",
          "model_module_version": "1.2.0",
          "state": {
            "_model_module": "@jupyter-widgets/base",
            "_model_module_version": "1.2.0",
            "_model_name": "LayoutModel",
            "_view_count": null,
            "_view_module": "@jupyter-widgets/base",
            "_view_module_version": "1.2.0",
            "_view_name": "LayoutView",
            "align_content": null,
            "align_items": null,
            "align_self": null,
            "border": null,
            "bottom": null,
            "display": null,
            "flex": null,
            "flex_flow": null,
            "grid_area": null,
            "grid_auto_columns": null,
            "grid_auto_flow": null,
            "grid_auto_rows": null,
            "grid_column": null,
            "grid_gap": null,
            "grid_row": null,
            "grid_template_areas": null,
            "grid_template_columns": null,
            "grid_template_rows": null,
            "height": null,
            "justify_content": null,
            "justify_items": null,
            "left": null,
            "margin": null,
            "max_height": null,
            "max_width": null,
            "min_height": null,
            "min_width": null,
            "object_fit": null,
            "object_position": null,
            "order": null,
            "overflow": null,
            "overflow_x": null,
            "overflow_y": null,
            "padding": null,
            "right": null,
            "top": null,
            "visibility": null,
            "width": null
          }
        },
        "f7683167df3c423eb07bac601141f81e": {
          "model_module": "@jupyter-widgets/base",
          "model_name": "LayoutModel",
          "model_module_version": "1.2.0",
          "state": {
            "_model_module": "@jupyter-widgets/base",
            "_model_module_version": "1.2.0",
            "_model_name": "LayoutModel",
            "_view_count": null,
            "_view_module": "@jupyter-widgets/base",
            "_view_module_version": "1.2.0",
            "_view_name": "LayoutView",
            "align_content": null,
            "align_items": null,
            "align_self": null,
            "border": null,
            "bottom": null,
            "display": null,
            "flex": null,
            "flex_flow": null,
            "grid_area": null,
            "grid_auto_columns": null,
            "grid_auto_flow": null,
            "grid_auto_rows": null,
            "grid_column": null,
            "grid_gap": null,
            "grid_row": null,
            "grid_template_areas": null,
            "grid_template_columns": null,
            "grid_template_rows": null,
            "height": null,
            "justify_content": null,
            "justify_items": null,
            "left": null,
            "margin": null,
            "max_height": null,
            "max_width": null,
            "min_height": null,
            "min_width": null,
            "object_fit": null,
            "object_position": null,
            "order": null,
            "overflow": null,
            "overflow_x": null,
            "overflow_y": null,
            "padding": null,
            "right": null,
            "top": null,
            "visibility": null,
            "width": null
          }
        },
        "cc1f13805f584d9f9dda6d4d52ee1c75": {
          "model_module": "@jupyter-widgets/controls",
          "model_name": "DescriptionStyleModel",
          "model_module_version": "1.5.0",
          "state": {
            "_model_module": "@jupyter-widgets/controls",
            "_model_module_version": "1.5.0",
            "_model_name": "DescriptionStyleModel",
            "_view_count": null,
            "_view_module": "@jupyter-widgets/base",
            "_view_module_version": "1.2.0",
            "_view_name": "StyleView",
            "description_width": ""
          }
        },
        "f9df71b6ece548f6aecc486be0373b20": {
          "model_module": "@jupyter-widgets/base",
          "model_name": "LayoutModel",
          "model_module_version": "1.2.0",
          "state": {
            "_model_module": "@jupyter-widgets/base",
            "_model_module_version": "1.2.0",
            "_model_name": "LayoutModel",
            "_view_count": null,
            "_view_module": "@jupyter-widgets/base",
            "_view_module_version": "1.2.0",
            "_view_name": "LayoutView",
            "align_content": null,
            "align_items": null,
            "align_self": null,
            "border": null,
            "bottom": null,
            "display": null,
            "flex": null,
            "flex_flow": null,
            "grid_area": null,
            "grid_auto_columns": null,
            "grid_auto_flow": null,
            "grid_auto_rows": null,
            "grid_column": null,
            "grid_gap": null,
            "grid_row": null,
            "grid_template_areas": null,
            "grid_template_columns": null,
            "grid_template_rows": null,
            "height": null,
            "justify_content": null,
            "justify_items": null,
            "left": null,
            "margin": null,
            "max_height": null,
            "max_width": null,
            "min_height": null,
            "min_width": null,
            "object_fit": null,
            "object_position": null,
            "order": null,
            "overflow": null,
            "overflow_x": null,
            "overflow_y": null,
            "padding": null,
            "right": null,
            "top": null,
            "visibility": null,
            "width": null
          }
        },
        "b4e5f6831f3c4b4396cf12ad2ce9ac74": {
          "model_module": "@jupyter-widgets/controls",
          "model_name": "ProgressStyleModel",
          "model_module_version": "1.5.0",
          "state": {
            "_model_module": "@jupyter-widgets/controls",
            "_model_module_version": "1.5.0",
            "_model_name": "ProgressStyleModel",
            "_view_count": null,
            "_view_module": "@jupyter-widgets/base",
            "_view_module_version": "1.2.0",
            "_view_name": "StyleView",
            "bar_color": null,
            "description_width": ""
          }
        },
        "6303e0001d14493aa90eccc6d545aa14": {
          "model_module": "@jupyter-widgets/base",
          "model_name": "LayoutModel",
          "model_module_version": "1.2.0",
          "state": {
            "_model_module": "@jupyter-widgets/base",
            "_model_module_version": "1.2.0",
            "_model_name": "LayoutModel",
            "_view_count": null,
            "_view_module": "@jupyter-widgets/base",
            "_view_module_version": "1.2.0",
            "_view_name": "LayoutView",
            "align_content": null,
            "align_items": null,
            "align_self": null,
            "border": null,
            "bottom": null,
            "display": null,
            "flex": null,
            "flex_flow": null,
            "grid_area": null,
            "grid_auto_columns": null,
            "grid_auto_flow": null,
            "grid_auto_rows": null,
            "grid_column": null,
            "grid_gap": null,
            "grid_row": null,
            "grid_template_areas": null,
            "grid_template_columns": null,
            "grid_template_rows": null,
            "height": null,
            "justify_content": null,
            "justify_items": null,
            "left": null,
            "margin": null,
            "max_height": null,
            "max_width": null,
            "min_height": null,
            "min_width": null,
            "object_fit": null,
            "object_position": null,
            "order": null,
            "overflow": null,
            "overflow_x": null,
            "overflow_y": null,
            "padding": null,
            "right": null,
            "top": null,
            "visibility": null,
            "width": null
          }
        },
        "e507b44415b44827a9886cff67a5d6b8": {
          "model_module": "@jupyter-widgets/controls",
          "model_name": "DescriptionStyleModel",
          "model_module_version": "1.5.0",
          "state": {
            "_model_module": "@jupyter-widgets/controls",
            "_model_module_version": "1.5.0",
            "_model_name": "DescriptionStyleModel",
            "_view_count": null,
            "_view_module": "@jupyter-widgets/base",
            "_view_module_version": "1.2.0",
            "_view_name": "StyleView",
            "description_width": ""
          }
        },
        "e2ca20e2d98842fb930062e5a2d17909": {
          "model_module": "@jupyter-widgets/controls",
          "model_name": "HBoxModel",
          "model_module_version": "1.5.0",
          "state": {
            "_dom_classes": [],
            "_model_module": "@jupyter-widgets/controls",
            "_model_module_version": "1.5.0",
            "_model_name": "HBoxModel",
            "_view_count": null,
            "_view_module": "@jupyter-widgets/controls",
            "_view_module_version": "1.5.0",
            "_view_name": "HBoxView",
            "box_style": "",
            "children": [
              "IPY_MODEL_d693d2e75ada4accad09db3e48702ad6",
              "IPY_MODEL_1f849774908b4949b24fe6df94cec9e9",
              "IPY_MODEL_51f0aa5e6d3242e0b396938a75a41758"
            ],
            "layout": "IPY_MODEL_29399630792548bea0538b909c5cf7ca"
          }
        },
        "d693d2e75ada4accad09db3e48702ad6": {
          "model_module": "@jupyter-widgets/controls",
          "model_name": "HTMLModel",
          "model_module_version": "1.5.0",
          "state": {
            "_dom_classes": [],
            "_model_module": "@jupyter-widgets/controls",
            "_model_module_version": "1.5.0",
            "_model_name": "HTMLModel",
            "_view_count": null,
            "_view_module": "@jupyter-widgets/controls",
            "_view_module_version": "1.5.0",
            "_view_name": "HTMLView",
            "description": "",
            "description_tooltip": null,
            "layout": "IPY_MODEL_365027bbb48b40ddb4111dd30005fef0",
            "placeholder": "​",
            "style": "IPY_MODEL_ae269b65db5849fe8e5d2600a0d7faea",
            "value": "100%"
          }
        },
        "1f849774908b4949b24fe6df94cec9e9": {
          "model_module": "@jupyter-widgets/controls",
          "model_name": "FloatProgressModel",
          "model_module_version": "1.5.0",
          "state": {
            "_dom_classes": [],
            "_model_module": "@jupyter-widgets/controls",
            "_model_module_version": "1.5.0",
            "_model_name": "FloatProgressModel",
            "_view_count": null,
            "_view_module": "@jupyter-widgets/controls",
            "_view_module_version": "1.5.0",
            "_view_name": "ProgressView",
            "bar_style": "success",
            "description": "",
            "description_tooltip": null,
            "layout": "IPY_MODEL_c540ba73857b4728a94d217058e67309",
            "max": 201014929,
            "min": 0,
            "orientation": "horizontal",
            "style": "IPY_MODEL_d5f37165e17e4400b20a4625c59b0434",
            "value": 201014929
          }
        },
        "51f0aa5e6d3242e0b396938a75a41758": {
          "model_module": "@jupyter-widgets/controls",
          "model_name": "HTMLModel",
          "model_module_version": "1.5.0",
          "state": {
            "_dom_classes": [],
            "_model_module": "@jupyter-widgets/controls",
            "_model_module_version": "1.5.0",
            "_model_name": "HTMLModel",
            "_view_count": null,
            "_view_module": "@jupyter-widgets/controls",
            "_view_module_version": "1.5.0",
            "_view_name": "HTMLView",
            "description": "",
            "description_tooltip": null,
            "layout": "IPY_MODEL_871f805555654a25bf0f4c32f91aed49",
            "placeholder": "​",
            "style": "IPY_MODEL_cd68ccff4f234491baaa51f8bc518376",
            "value": " 192M/192M [00:05&lt;00:00, 41.4MB/s]"
          }
        },
        "29399630792548bea0538b909c5cf7ca": {
          "model_module": "@jupyter-widgets/base",
          "model_name": "LayoutModel",
          "model_module_version": "1.2.0",
          "state": {
            "_model_module": "@jupyter-widgets/base",
            "_model_module_version": "1.2.0",
            "_model_name": "LayoutModel",
            "_view_count": null,
            "_view_module": "@jupyter-widgets/base",
            "_view_module_version": "1.2.0",
            "_view_name": "LayoutView",
            "align_content": null,
            "align_items": null,
            "align_self": null,
            "border": null,
            "bottom": null,
            "display": null,
            "flex": null,
            "flex_flow": null,
            "grid_area": null,
            "grid_auto_columns": null,
            "grid_auto_flow": null,
            "grid_auto_rows": null,
            "grid_column": null,
            "grid_gap": null,
            "grid_row": null,
            "grid_template_areas": null,
            "grid_template_columns": null,
            "grid_template_rows": null,
            "height": null,
            "justify_content": null,
            "justify_items": null,
            "left": null,
            "margin": null,
            "max_height": null,
            "max_width": null,
            "min_height": null,
            "min_width": null,
            "object_fit": null,
            "object_position": null,
            "order": null,
            "overflow": null,
            "overflow_x": null,
            "overflow_y": null,
            "padding": null,
            "right": null,
            "top": null,
            "visibility": null,
            "width": null
          }
        },
        "365027bbb48b40ddb4111dd30005fef0": {
          "model_module": "@jupyter-widgets/base",
          "model_name": "LayoutModel",
          "model_module_version": "1.2.0",
          "state": {
            "_model_module": "@jupyter-widgets/base",
            "_model_module_version": "1.2.0",
            "_model_name": "LayoutModel",
            "_view_count": null,
            "_view_module": "@jupyter-widgets/base",
            "_view_module_version": "1.2.0",
            "_view_name": "LayoutView",
            "align_content": null,
            "align_items": null,
            "align_self": null,
            "border": null,
            "bottom": null,
            "display": null,
            "flex": null,
            "flex_flow": null,
            "grid_area": null,
            "grid_auto_columns": null,
            "grid_auto_flow": null,
            "grid_auto_rows": null,
            "grid_column": null,
            "grid_gap": null,
            "grid_row": null,
            "grid_template_areas": null,
            "grid_template_columns": null,
            "grid_template_rows": null,
            "height": null,
            "justify_content": null,
            "justify_items": null,
            "left": null,
            "margin": null,
            "max_height": null,
            "max_width": null,
            "min_height": null,
            "min_width": null,
            "object_fit": null,
            "object_position": null,
            "order": null,
            "overflow": null,
            "overflow_x": null,
            "overflow_y": null,
            "padding": null,
            "right": null,
            "top": null,
            "visibility": null,
            "width": null
          }
        },
        "ae269b65db5849fe8e5d2600a0d7faea": {
          "model_module": "@jupyter-widgets/controls",
          "model_name": "DescriptionStyleModel",
          "model_module_version": "1.5.0",
          "state": {
            "_model_module": "@jupyter-widgets/controls",
            "_model_module_version": "1.5.0",
            "_model_name": "DescriptionStyleModel",
            "_view_count": null,
            "_view_module": "@jupyter-widgets/base",
            "_view_module_version": "1.2.0",
            "_view_name": "StyleView",
            "description_width": ""
          }
        },
        "c540ba73857b4728a94d217058e67309": {
          "model_module": "@jupyter-widgets/base",
          "model_name": "LayoutModel",
          "model_module_version": "1.2.0",
          "state": {
            "_model_module": "@jupyter-widgets/base",
            "_model_module_version": "1.2.0",
            "_model_name": "LayoutModel",
            "_view_count": null,
            "_view_module": "@jupyter-widgets/base",
            "_view_module_version": "1.2.0",
            "_view_name": "LayoutView",
            "align_content": null,
            "align_items": null,
            "align_self": null,
            "border": null,
            "bottom": null,
            "display": null,
            "flex": null,
            "flex_flow": null,
            "grid_area": null,
            "grid_auto_columns": null,
            "grid_auto_flow": null,
            "grid_auto_rows": null,
            "grid_column": null,
            "grid_gap": null,
            "grid_row": null,
            "grid_template_areas": null,
            "grid_template_columns": null,
            "grid_template_rows": null,
            "height": null,
            "justify_content": null,
            "justify_items": null,
            "left": null,
            "margin": null,
            "max_height": null,
            "max_width": null,
            "min_height": null,
            "min_width": null,
            "object_fit": null,
            "object_position": null,
            "order": null,
            "overflow": null,
            "overflow_x": null,
            "overflow_y": null,
            "padding": null,
            "right": null,
            "top": null,
            "visibility": null,
            "width": null
          }
        },
        "d5f37165e17e4400b20a4625c59b0434": {
          "model_module": "@jupyter-widgets/controls",
          "model_name": "ProgressStyleModel",
          "model_module_version": "1.5.0",
          "state": {
            "_model_module": "@jupyter-widgets/controls",
            "_model_module_version": "1.5.0",
            "_model_name": "ProgressStyleModel",
            "_view_count": null,
            "_view_module": "@jupyter-widgets/base",
            "_view_module_version": "1.2.0",
            "_view_name": "StyleView",
            "bar_color": null,
            "description_width": ""
          }
        },
        "871f805555654a25bf0f4c32f91aed49": {
          "model_module": "@jupyter-widgets/base",
          "model_name": "LayoutModel",
          "model_module_version": "1.2.0",
          "state": {
            "_model_module": "@jupyter-widgets/base",
            "_model_module_version": "1.2.0",
            "_model_name": "LayoutModel",
            "_view_count": null,
            "_view_module": "@jupyter-widgets/base",
            "_view_module_version": "1.2.0",
            "_view_name": "LayoutView",
            "align_content": null,
            "align_items": null,
            "align_self": null,
            "border": null,
            "bottom": null,
            "display": null,
            "flex": null,
            "flex_flow": null,
            "grid_area": null,
            "grid_auto_columns": null,
            "grid_auto_flow": null,
            "grid_auto_rows": null,
            "grid_column": null,
            "grid_gap": null,
            "grid_row": null,
            "grid_template_areas": null,
            "grid_template_columns": null,
            "grid_template_rows": null,
            "height": null,
            "justify_content": null,
            "justify_items": null,
            "left": null,
            "margin": null,
            "max_height": null,
            "max_width": null,
            "min_height": null,
            "min_width": null,
            "object_fit": null,
            "object_position": null,
            "order": null,
            "overflow": null,
            "overflow_x": null,
            "overflow_y": null,
            "padding": null,
            "right": null,
            "top": null,
            "visibility": null,
            "width": null
          }
        },
        "cd68ccff4f234491baaa51f8bc518376": {
          "model_module": "@jupyter-widgets/controls",
          "model_name": "DescriptionStyleModel",
          "model_module_version": "1.5.0",
          "state": {
            "_model_module": "@jupyter-widgets/controls",
            "_model_module_version": "1.5.0",
            "_model_name": "DescriptionStyleModel",
            "_view_count": null,
            "_view_module": "@jupyter-widgets/base",
            "_view_module_version": "1.2.0",
            "_view_name": "StyleView",
            "description_width": ""
          }
        }
      }
    }
  },
  "nbformat": 4,
  "nbformat_minor": 0
}